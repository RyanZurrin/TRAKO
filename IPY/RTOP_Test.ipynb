{
 "cells": [
  {
   "cell_type": "code",
   "execution_count": 1,
   "metadata": {},
   "outputs": [
    {
     "name": "stdout",
     "output_type": "stream",
     "text": [
      "Populating the interactive namespace from numpy and matplotlib\n"
     ]
    }
   ],
   "source": [
    "%pylab inline\n",
    "import os, sys, glob\n",
    "%load_ext autoreload\n",
    "%autoreload 2"
   ]
  },
  {
   "cell_type": "code",
   "execution_count": 2,
   "metadata": {},
   "outputs": [],
   "source": [
    "import trako as TKO\n",
    "sys.path.append('MICCAI/')\n",
    "import runner, sprinter\n",
    "from prettytable import PrettyTable"
   ]
  },
  {
   "cell_type": "code",
   "execution_count": 3,
   "metadata": {},
   "outputs": [],
   "source": [
    "DATA_FOLDER = '/home/d/Dropbox/TRAKODATA/RTOP_Test/'\n",
    "OUT_FOLDER = '/home/d/Dropbox/TRAKODATA/RTOP_Test_Out/'\n",
    "FILES = os.listdir(DATA_FOLDER)"
   ]
  },
  {
   "cell_type": "code",
   "execution_count": 4,
   "metadata": {
    "scrolled": false
   },
   "outputs": [
    {
     "name": "stdout",
     "output_type": "stream",
     "text": [
      "-\n",
      "cluster_00008.vtp\n",
      "/home/d/Dropbox/TRAKODATA/RTOP_Test_Out/cluster_00008._default.tko\n",
      "/home/d/Dropbox/TRAKODATA/RTOP_Test_Out/cluster_00008._default.tko\n"
     ]
    },
    {
     "name": "stderr",
     "output_type": "stream",
     "text": [
      "/home/d/miniconda3/envs/TRAKODEV/lib/python3.6/site-packages/vtk-8.1.2-py3.6-linux-x86_64.egg/vtk/util/numpy_support.py:137: FutureWarning:\n",
      "\n",
      "Conversion of the second argument of issubdtype from `complex` to `np.complexfloating` is deprecated. In future, it will be treated as `np.complex128 == np.dtype(complex).type`.\n",
      "\n"
     ]
    },
    {
     "name": "stdout",
     "output_type": "stream",
     "text": [
      "/home/d/Dropbox/TRAKODATA/RTOP_Test_Out/cluster_00008._default_restored.vtp\n",
      "RTOP1\n",
      "min 0.0\n",
      "max 0.31598377\n",
      "mean 0.1564017\n",
      "std 0.09122079\n",
      "RTOP2\n",
      "min 0.0\n",
      "max 0.31598282\n",
      "mean 0.1562101\n",
      "std 0.09114937\n"
     ]
    }
   ],
   "source": [
    "config = {\n",
    "    'name':'default'\n",
    "}\n",
    "\n",
    "for f in FILES:\n",
    "    \n",
    "    if not f.endswith('vtp'):\n",
    "        continue\n",
    "    \n",
    "    print('-')\n",
    "    print(f)\n",
    "    input = f\n",
    "    compressed = input.replace('vtp','_'+config['name']+'.tko')\n",
    "    restored = input.replace('vtp','_'+config['name']+'_restored.vtp')\n",
    "    stats = runner.Runner.tko(DATA_FOLDER, input, \n",
    "                              compressed=os.path.join(OUT_FOLDER,compressed), \n",
    "                              restored=os.path.join(OUT_FOLDER,restored), config=config, force=True)\n",
    "    \n",
    "    i_poly = TKO.Util.loadvtp(os.path.join(DATA_FOLDER, input))\n",
    "    i_scalars = i_poly['scalars']\n",
    "    i_nscalars = i_poly['scalar_names']\n",
    "    i_properties = i_poly['properties']\n",
    "    i_nproperties = i_poly['property_names']\n",
    "\n",
    "    r_poly = TKO.Util.loadvtp(os.path.join(OUT_FOLDER, restored))\n",
    "    r_scalars = r_poly['scalars']\n",
    "    r_properties = r_poly['properties']\n",
    "\n",
    "    for i,j in enumerate(i_nscalars):\n",
    "        if j.startswith('RTOP'):\n",
    "            print(j)\n",
    "            stats = TKO.Util.error(i_scalars[i], r_scalars[i])\n",
    "            print('min', stats[0][0])\n",
    "            print('max', stats[0][1])\n",
    "            print('mean', stats[0][2])\n",
    "            print('std', stats[0][3])"
   ]
  },
  {
   "cell_type": "code",
   "execution_count": 5,
   "metadata": {},
   "outputs": [
    {
     "name": "stdout",
     "output_type": "stream",
     "text": [
      "-\n",
      "cluster_00008.vtp\n",
      "/home/d/Dropbox/TRAKODATA/RTOP_Test_Out/cluster_00008._10bit.tko\n",
      "/home/d/Dropbox/TRAKODATA/RTOP_Test_Out/cluster_00008._10bit.tko\n"
     ]
    },
    {
     "name": "stderr",
     "output_type": "stream",
     "text": [
      "/home/d/miniconda3/envs/TRAKODEV/lib/python3.6/site-packages/vtk-8.1.2-py3.6-linux-x86_64.egg/vtk/util/numpy_support.py:137: FutureWarning:\n",
      "\n",
      "Conversion of the second argument of issubdtype from `complex` to `np.complexfloating` is deprecated. In future, it will be treated as `np.complex128 == np.dtype(complex).type`.\n",
      "\n"
     ]
    },
    {
     "name": "stdout",
     "output_type": "stream",
     "text": [
      "/home/d/Dropbox/TRAKODATA/RTOP_Test_Out/cluster_00008._10bit_restored.vtp\n",
      "-\n",
      "cluster_00008.vtp\n",
      "/home/d/Dropbox/TRAKODATA/RTOP_Test_Out/cluster_00008._11bit.tko\n",
      "/home/d/Dropbox/TRAKODATA/RTOP_Test_Out/cluster_00008._11bit.tko\n"
     ]
    },
    {
     "name": "stderr",
     "output_type": "stream",
     "text": [
      "/home/d/miniconda3/envs/TRAKODEV/lib/python3.6/site-packages/vtk-8.1.2-py3.6-linux-x86_64.egg/vtk/util/numpy_support.py:137: FutureWarning:\n",
      "\n",
      "Conversion of the second argument of issubdtype from `complex` to `np.complexfloating` is deprecated. In future, it will be treated as `np.complex128 == np.dtype(complex).type`.\n",
      "\n"
     ]
    },
    {
     "name": "stdout",
     "output_type": "stream",
     "text": [
      "/home/d/Dropbox/TRAKODATA/RTOP_Test_Out/cluster_00008._11bit_restored.vtp\n",
      "-\n",
      "cluster_00008.vtp\n",
      "/home/d/Dropbox/TRAKODATA/RTOP_Test_Out/cluster_00008._12bit.tko\n",
      "/home/d/Dropbox/TRAKODATA/RTOP_Test_Out/cluster_00008._12bit.tko\n"
     ]
    },
    {
     "name": "stderr",
     "output_type": "stream",
     "text": [
      "/home/d/miniconda3/envs/TRAKODEV/lib/python3.6/site-packages/vtk-8.1.2-py3.6-linux-x86_64.egg/vtk/util/numpy_support.py:137: FutureWarning:\n",
      "\n",
      "Conversion of the second argument of issubdtype from `complex` to `np.complexfloating` is deprecated. In future, it will be treated as `np.complex128 == np.dtype(complex).type`.\n",
      "\n"
     ]
    },
    {
     "name": "stdout",
     "output_type": "stream",
     "text": [
      "/home/d/Dropbox/TRAKODATA/RTOP_Test_Out/cluster_00008._12bit_restored.vtp\n",
      "-\n",
      "cluster_00008.vtp\n",
      "/home/d/Dropbox/TRAKODATA/RTOP_Test_Out/cluster_00008._13bit.tko\n",
      "/home/d/Dropbox/TRAKODATA/RTOP_Test_Out/cluster_00008._13bit.tko\n"
     ]
    },
    {
     "name": "stderr",
     "output_type": "stream",
     "text": [
      "/home/d/miniconda3/envs/TRAKODEV/lib/python3.6/site-packages/vtk-8.1.2-py3.6-linux-x86_64.egg/vtk/util/numpy_support.py:137: FutureWarning:\n",
      "\n",
      "Conversion of the second argument of issubdtype from `complex` to `np.complexfloating` is deprecated. In future, it will be treated as `np.complex128 == np.dtype(complex).type`.\n",
      "\n"
     ]
    },
    {
     "name": "stdout",
     "output_type": "stream",
     "text": [
      "/home/d/Dropbox/TRAKODATA/RTOP_Test_Out/cluster_00008._13bit_restored.vtp\n",
      "-\n",
      "cluster_00008.vtp\n",
      "/home/d/Dropbox/TRAKODATA/RTOP_Test_Out/cluster_00008._14bit.tko\n",
      "/home/d/Dropbox/TRAKODATA/RTOP_Test_Out/cluster_00008._14bit.tko\n"
     ]
    },
    {
     "name": "stderr",
     "output_type": "stream",
     "text": [
      "/home/d/miniconda3/envs/TRAKODEV/lib/python3.6/site-packages/vtk-8.1.2-py3.6-linux-x86_64.egg/vtk/util/numpy_support.py:137: FutureWarning:\n",
      "\n",
      "Conversion of the second argument of issubdtype from `complex` to `np.complexfloating` is deprecated. In future, it will be treated as `np.complex128 == np.dtype(complex).type`.\n",
      "\n"
     ]
    },
    {
     "name": "stdout",
     "output_type": "stream",
     "text": [
      "/home/d/Dropbox/TRAKODATA/RTOP_Test_Out/cluster_00008._14bit_restored.vtp\n",
      "-\n",
      "cluster_00008.vtp\n",
      "/home/d/Dropbox/TRAKODATA/RTOP_Test_Out/cluster_00008._15bit.tko\n",
      "/home/d/Dropbox/TRAKODATA/RTOP_Test_Out/cluster_00008._15bit.tko\n"
     ]
    },
    {
     "name": "stderr",
     "output_type": "stream",
     "text": [
      "/home/d/miniconda3/envs/TRAKODEV/lib/python3.6/site-packages/vtk-8.1.2-py3.6-linux-x86_64.egg/vtk/util/numpy_support.py:137: FutureWarning:\n",
      "\n",
      "Conversion of the second argument of issubdtype from `complex` to `np.complexfloating` is deprecated. In future, it will be treated as `np.complex128 == np.dtype(complex).type`.\n",
      "\n"
     ]
    },
    {
     "name": "stdout",
     "output_type": "stream",
     "text": [
      "/home/d/Dropbox/TRAKODATA/RTOP_Test_Out/cluster_00008._15bit_restored.vtp\n",
      "-\n",
      "cluster_00008.vtp\n",
      "/home/d/Dropbox/TRAKODATA/RTOP_Test_Out/cluster_00008._16bit.tko\n",
      "/home/d/Dropbox/TRAKODATA/RTOP_Test_Out/cluster_00008._16bit.tko\n"
     ]
    },
    {
     "name": "stderr",
     "output_type": "stream",
     "text": [
      "/home/d/miniconda3/envs/TRAKODEV/lib/python3.6/site-packages/vtk-8.1.2-py3.6-linux-x86_64.egg/vtk/util/numpy_support.py:137: FutureWarning:\n",
      "\n",
      "Conversion of the second argument of issubdtype from `complex` to `np.complexfloating` is deprecated. In future, it will be treated as `np.complex128 == np.dtype(complex).type`.\n",
      "\n"
     ]
    },
    {
     "name": "stdout",
     "output_type": "stream",
     "text": [
      "/home/d/Dropbox/TRAKODATA/RTOP_Test_Out/cluster_00008._16bit_restored.vtp\n",
      "-\n",
      "cluster_00008.vtp\n",
      "/home/d/Dropbox/TRAKODATA/RTOP_Test_Out/cluster_00008._17bit.tko\n",
      "/home/d/Dropbox/TRAKODATA/RTOP_Test_Out/cluster_00008._17bit.tko\n"
     ]
    },
    {
     "name": "stderr",
     "output_type": "stream",
     "text": [
      "/home/d/miniconda3/envs/TRAKODEV/lib/python3.6/site-packages/vtk-8.1.2-py3.6-linux-x86_64.egg/vtk/util/numpy_support.py:137: FutureWarning:\n",
      "\n",
      "Conversion of the second argument of issubdtype from `complex` to `np.complexfloating` is deprecated. In future, it will be treated as `np.complex128 == np.dtype(complex).type`.\n",
      "\n"
     ]
    },
    {
     "name": "stdout",
     "output_type": "stream",
     "text": [
      "/home/d/Dropbox/TRAKODATA/RTOP_Test_Out/cluster_00008._17bit_restored.vtp\n",
      "-\n",
      "cluster_00008.vtp\n",
      "/home/d/Dropbox/TRAKODATA/RTOP_Test_Out/cluster_00008._18bit.tko\n",
      "/home/d/Dropbox/TRAKODATA/RTOP_Test_Out/cluster_00008._18bit.tko\n"
     ]
    },
    {
     "name": "stderr",
     "output_type": "stream",
     "text": [
      "/home/d/miniconda3/envs/TRAKODEV/lib/python3.6/site-packages/vtk-8.1.2-py3.6-linux-x86_64.egg/vtk/util/numpy_support.py:137: FutureWarning:\n",
      "\n",
      "Conversion of the second argument of issubdtype from `complex` to `np.complexfloating` is deprecated. In future, it will be treated as `np.complex128 == np.dtype(complex).type`.\n",
      "\n"
     ]
    },
    {
     "name": "stdout",
     "output_type": "stream",
     "text": [
      "/home/d/Dropbox/TRAKODATA/RTOP_Test_Out/cluster_00008._18bit_restored.vtp\n",
      "-\n",
      "cluster_00008.vtp\n",
      "/home/d/Dropbox/TRAKODATA/RTOP_Test_Out/cluster_00008._19bit.tko\n",
      "/home/d/Dropbox/TRAKODATA/RTOP_Test_Out/cluster_00008._19bit.tko\n"
     ]
    },
    {
     "name": "stderr",
     "output_type": "stream",
     "text": [
      "/home/d/miniconda3/envs/TRAKODEV/lib/python3.6/site-packages/vtk-8.1.2-py3.6-linux-x86_64.egg/vtk/util/numpy_support.py:137: FutureWarning:\n",
      "\n",
      "Conversion of the second argument of issubdtype from `complex` to `np.complexfloating` is deprecated. In future, it will be treated as `np.complex128 == np.dtype(complex).type`.\n",
      "\n"
     ]
    },
    {
     "name": "stdout",
     "output_type": "stream",
     "text": [
      "/home/d/Dropbox/TRAKODATA/RTOP_Test_Out/cluster_00008._19bit_restored.vtp\n",
      "-\n",
      "cluster_00008.vtp\n",
      "/home/d/Dropbox/TRAKODATA/RTOP_Test_Out/cluster_00008._20bit.tko\n",
      "/home/d/Dropbox/TRAKODATA/RTOP_Test_Out/cluster_00008._20bit.tko\n"
     ]
    },
    {
     "name": "stderr",
     "output_type": "stream",
     "text": [
      "/home/d/miniconda3/envs/TRAKODEV/lib/python3.6/site-packages/vtk-8.1.2-py3.6-linux-x86_64.egg/vtk/util/numpy_support.py:137: FutureWarning:\n",
      "\n",
      "Conversion of the second argument of issubdtype from `complex` to `np.complexfloating` is deprecated. In future, it will be treated as `np.complex128 == np.dtype(complex).type`.\n",
      "\n"
     ]
    },
    {
     "name": "stdout",
     "output_type": "stream",
     "text": [
      "/home/d/Dropbox/TRAKODATA/RTOP_Test_Out/cluster_00008._20bit_restored.vtp\n"
     ]
    }
   ],
   "source": [
    "bitrates = [10,11,12,13,14,15,16,17,18,19,20]\n",
    "# bitrates = [16]\n",
    "\n",
    "results = {}\n",
    "\n",
    "for b in bitrates:\n",
    "\n",
    "    config = {\n",
    "        'name':str(b)+'bit',\n",
    "        'RTOP1': {\n",
    "            'position':False,\n",
    "            'sequential':True,\n",
    "            'quantization_bits': b,\n",
    "            'compression_level':1,\n",
    "            'quantization_range':-1,\n",
    "            'quantization_origin':None\n",
    "          },\n",
    "        'RTOP2': {\n",
    "            'position':False,\n",
    "            'sequential':True,\n",
    "            'quantization_bits': b,\n",
    "            'compression_level':1,\n",
    "            'quantization_range':-1,\n",
    "            'quantization_origin':None\n",
    "          }\n",
    "    }\n",
    "\n",
    "    for f in FILES:\n",
    "        if not f.endswith('vtp'):\n",
    "            continue\n",
    "\n",
    "        print('-')\n",
    "        print(f)\n",
    "        input = f\n",
    "        \n",
    "        origsize = os.path.getsize(os.path.join(DATA_FOLDER, input))\n",
    "        \n",
    "        compressed = input.replace('vtp','_'+config['name']+'.tko')\n",
    "        \n",
    "        \n",
    "        restored = input.replace('vtp','_'+config['name']+'_restored.vtp')\n",
    "        stats = runner.Runner.tko(DATA_FOLDER, input, \n",
    "                                  compressed=os.path.join(OUT_FOLDER,compressed), \n",
    "                                  restored=os.path.join(OUT_FOLDER,restored), config=config, force=True)\n",
    "\n",
    "\n",
    "        compressedsize = os.path.getsize(os.path.join(OUT_FOLDER, compressed))\n",
    "        \n",
    "        \n",
    "        i_poly = TKO.Util.loadvtp(os.path.join(DATA_FOLDER, input))\n",
    "        i_scalars = i_poly['scalars']\n",
    "        i_nscalars = i_poly['scalar_names']\n",
    "        i_properties = i_poly['properties']\n",
    "        i_nproperties = i_poly['property_names']\n",
    "\n",
    "        r_poly = TKO.Util.loadvtp(os.path.join(OUT_FOLDER, restored))\n",
    "        r_scalars = r_poly['scalars']\n",
    "        r_properties = r_poly['properties']\n",
    "\n",
    "        rtop1_stats = []\n",
    "        rtop2_stats = []\n",
    "        \n",
    "        for i,j in enumerate(i_nscalars):\n",
    "            if j == 'RTOP1':\n",
    "#                 print(j)\n",
    "                stats = TKO.Util.error(i_scalars[i], r_scalars[i])\n",
    "                rtop1_stats.append(stats[0][0])\n",
    "                rtop1_stats.append(stats[0][1])\n",
    "                rtop1_stats.append(stats[0][2])\n",
    "                rtop1_stats.append(stats[0][3])\n",
    "            if j == 'RTOP2':\n",
    "#                 print(j)\n",
    "                stats = TKO.Util.error(i_scalars[i], r_scalars[i])\n",
    "                rtop2_stats.append(stats[0][0])\n",
    "                rtop2_stats.append(stats[0][1])\n",
    "                rtop2_stats.append(stats[0][2])\n",
    "                rtop2_stats.append(stats[0][3])\n",
    "#                 print('min', stats[0][0])\n",
    "#                 print('max', stats[0][1])\n",
    "#                 print('mean', stats[0][2])\n",
    "#                 print('std', stats[0][3])\n",
    "\n",
    "        results[str(b)] = (origsize, compressedsize, rtop1_stats, rtop2_stats)\n",
    "    \n",
    "    "
   ]
  },
  {
   "cell_type": "code",
   "execution_count": 6,
   "metadata": {},
   "outputs": [
    {
     "name": "stdout",
     "output_type": "stream",
     "text": [
      "+---------+-------+--------+--------+-------------+--------------+--------------+\n",
      "| Bitrate | Ratio | Scalar | Min E. |    Max E.   |   Mean E.    |     Std      |\n",
      "+---------+-------+--------+--------+-------------+--------------+--------------+\n",
      "|    10   |  3.96 | RTOP1  |  0.0   |  5.0603385  |  2.3118043   |  1.2815335   |\n",
      "|    10   |  3.96 | RTOP2  |  0.0   |  5.0602746  |  2.3561974   |  1.2993739   |\n",
      "|    11   | 3.949 | RTOP1  |  0.0   |   2.528954  |  1.4011843   |  0.64512956  |\n",
      "|    11   | 3.949 | RTOP2  |  0.0   |   2.528934  |  1.3928688   |  0.65272945  |\n",
      "|    12   | 3.933 | RTOP1  |  0.0   |  1.2641507  |  0.7091389   |  0.35582724  |\n",
      "|    12   | 3.933 | RTOP2  |  0.0   |  1.2641519  |  0.7018979   |  0.3552348   |\n",
      "|    13   | 3.908 | RTOP1  |  0.0   |  0.6319876  |  0.3177925   |  0.18381558  |\n",
      "|    13   | 3.908 | RTOP2  |  0.0   |  0.63200426 |  0.3202178   |  0.18390785  |\n",
      "|    14   | 3.869 | RTOP1  |  0.0   |  0.31598377 |  0.1564017   |  0.09122079  |\n",
      "|    14   | 3.869 | RTOP2  |  0.0   |  0.31598282 |  0.1562101   |  0.09114937  |\n",
      "|    15   | 3.814 | RTOP1  |  0.0   |  0.15798545 | 0.078877315  |  0.04544085  |\n",
      "|    15   | 3.814 | RTOP2  |  0.0   |  0.15798497 |  0.0790135   | 0.045544732  |\n",
      "|    16   | 3.745 | RTOP1  |  0.0   |  0.07899189 | 0.039724413  |  0.0228656   |\n",
      "|    16   | 3.745 | RTOP2  |  0.0   |  0.07899189 | 0.039619662  | 0.022892622  |\n",
      "|    17   | 3.665 | RTOP1  |  0.0   | 0.039495945 | 0.019684223  | 0.011417529  |\n",
      "|    17   | 3.665 | RTOP2  |  0.0   | 0.039494038 | 0.019653192  | 0.011416278  |\n",
      "|    18   | 3.577 | RTOP1  |  0.0   | 0.019747257 | 0.009855761  | 0.0057014474 |\n",
      "|    18   | 3.577 | RTOP2  |  0.0   | 0.019747734 | 0.009858078  | 0.005703707  |\n",
      "|    19   | 3.483 | RTOP1  |  0.0   | 0.009873629 | 0.0049376697 | 0.0028531502 |\n",
      "|    19   | 3.483 | RTOP2  |  0.0   | 0.009874344 | 0.0049341666 | 0.0028517423 |\n",
      "|    20   | 3.378 | RTOP1  |  0.0   | 0.004937172 | 0.0024677461 | 0.0014294204 |\n",
      "|    20   | 3.378 | RTOP2  |  0.0   | 0.004937172 | 0.0024664483 | 0.0014243978 |\n",
      "+---------+-------+--------+--------+-------------+--------------+--------------+\n"
     ]
    }
   ],
   "source": [
    "x = PrettyTable()\n",
    "x.field_names  = [\"Bitrate\", \"Ratio\", \"Scalar\", \"Min E.\", \"Max E.\", \"Mean E.\", \"Std\"]\n",
    "\n",
    "for r in results.keys():\n",
    "    \n",
    "    x.add_row([r, np.round(results[r][0]/results[r][1],3), \"RTOP1\", results[r][2][0], \n",
    "                                                       results[r][2][1], \n",
    "                                                       results[r][2][2], results[r][2][3]])\n",
    "    x.add_row([r, np.round(results[r][0]/results[r][1],3), \"RTOP2\", results[r][3][0], \n",
    "                                                   results[r][3][1], \n",
    "                                                   results[r][3][2], results[r][3][3]])\n",
    "    \n",
    "print(x)"
   ]
  },
  {
   "cell_type": "code",
   "execution_count": null,
   "metadata": {},
   "outputs": [],
   "source": []
  }
 ],
 "metadata": {
  "kernelspec": {
   "display_name": "Python 3",
   "language": "python",
   "name": "python3"
  },
  "language_info": {
   "codemirror_mode": {
    "name": "ipython",
    "version": 3
   },
   "file_extension": ".py",
   "mimetype": "text/x-python",
   "name": "python",
   "nbconvert_exporter": "python",
   "pygments_lexer": "ipython3",
   "version": "3.6.9"
  }
 },
 "nbformat": 4,
 "nbformat_minor": 2
}
