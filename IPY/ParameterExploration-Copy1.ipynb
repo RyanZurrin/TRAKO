{
 "cells": [
  {
   "cell_type": "code",
   "execution_count": 1,
   "metadata": {},
   "outputs": [],
   "source": [
    "import optuna\n",
    "import os\n",
    "import trako as TKO\n",
    "import numpy as np\n",
    "\n",
    "%load_ext autoreload\n",
    "%autoreload 2"
   ]
  },
  {
   "cell_type": "code",
   "execution_count": 2,
   "metadata": {},
   "outputs": [],
   "source": [
    "DATASETNAME = 'ADHD_STFC_diff_for_Daniel'\n",
    "DATADIR = '/home/d/DATA/Dropbox/TRAKODATA/'+DATASETNAME+'/'\n",
    "SUBJECTS = ['101','201']\n",
    "GROUP = ['tracts_left_hemisphere']"
   ]
  },
  {
   "cell_type": "code",
   "execution_count": 3,
   "metadata": {},
   "outputs": [],
   "source": [
    "import sys\n",
    "sys.path.append('../trako')\n",
    "import tuner"
   ]
  },
  {
   "cell_type": "code",
   "execution_count": null,
   "metadata": {
    "scrolled": false
   },
   "outputs": [
    {
     "name": "stdout",
     "output_type": "stream",
     "text": [
      "VTP size 1172155\n",
      "TKO default size 377009\n"
     ]
    },
    {
     "name": "stderr",
     "output_type": "stream",
     "text": [
      "[I 2020-01-30 10:27:10,092] Setting status of trial#0 as TrialState.PRUNED. \n",
      "[I 2020-01-30 10:27:12,184] Setting status of trial#1 as TrialState.PRUNED. \n",
      "[I 2020-01-30 10:27:12,554] Setting status of trial#2 as TrialState.PRUNED. \n",
      "[I 2020-01-30 10:27:16,263] Finished trial#3 resulted in value: 786391.0. Current best value is 786391.0 with parameters: {'position': False, 'sequential': True, 'quantization_bits': 21, 'compression_level': 6}.\n",
      "[I 2020-01-30 10:27:16,503] Setting status of trial#4 as TrialState.PRUNED. \n",
      "[I 2020-01-30 10:27:20,964] Finished trial#5 resulted in value: 922591.0. Current best value is 786391.0 with parameters: {'position': False, 'sequential': True, 'quantization_bits': 21, 'compression_level': 6}.\n",
      "[I 2020-01-30 10:27:22,295] Setting status of trial#6 as TrialState.PRUNED. \n",
      "[I 2020-01-30 10:27:26,075] Finished trial#7 resulted in value: 740855.0. Current best value is 740855.0 with parameters: {'position': False, 'sequential': True, 'quantization_bits': 20, 'compression_level': 3}.\n",
      "[I 2020-01-30 10:27:26,361] Setting status of trial#8 as TrialState.PRUNED. \n",
      "[I 2020-01-30 10:27:30,111] Finished trial#9 resulted in value: 786391.0. Current best value is 740855.0 with parameters: {'position': False, 'sequential': True, 'quantization_bits': 20, 'compression_level': 3}.\n",
      "[I 2020-01-30 10:27:33,789] Finished trial#10 resulted in value: 831843.0. Current best value is 740855.0 with parameters: {'position': False, 'sequential': True, 'quantization_bits': 20, 'compression_level': 3}.\n",
      "[I 2020-01-30 10:27:34,023] Setting status of trial#11 as TrialState.PRUNED. \n",
      "[I 2020-01-30 10:27:34,409] Setting status of trial#12 as TrialState.PRUNED. \n",
      "[I 2020-01-30 10:27:35,803] Setting status of trial#13 as TrialState.PRUNED. \n",
      "[I 2020-01-30 10:27:37,307] Setting status of trial#14 as TrialState.PRUNED. \n",
      "[I 2020-01-30 10:27:37,678] Setting status of trial#15 as TrialState.PRUNED. \n",
      "[I 2020-01-30 10:27:38,037] Setting status of trial#16 as TrialState.PRUNED. \n",
      "[I 2020-01-30 10:27:38,390] Setting status of trial#17 as TrialState.PRUNED. \n",
      "[I 2020-01-30 10:27:39,762] Setting status of trial#18 as TrialState.PRUNED. \n",
      "[I 2020-01-30 10:27:41,803] Setting status of trial#19 as TrialState.PRUNED. \n",
      "[I 2020-01-30 10:27:45,498] Finished trial#20 resulted in value: 649395.0. Current best value is 649395.0 with parameters: {'position': False, 'sequential': True, 'quantization_bits': 18, 'compression_level': 6}.\n",
      "[I 2020-01-30 10:27:45,734] Setting status of trial#21 as TrialState.PRUNED. \n",
      "[I 2020-01-30 10:27:47,773] Setting status of trial#22 as TrialState.PRUNED. \n",
      "[I 2020-01-30 10:27:48,206] Setting status of trial#23 as TrialState.PRUNED. \n",
      "[I 2020-01-30 10:27:48,908] Setting status of trial#24 as TrialState.PRUNED. \n",
      "[I 2020-01-30 10:27:53,660] Finished trial#25 resulted in value: 922591.0. Current best value is 649395.0 with parameters: {'position': False, 'sequential': True, 'quantization_bits': 18, 'compression_level': 6}.\n",
      "[I 2020-01-30 10:27:55,133] Setting status of trial#26 as TrialState.PRUNED. \n",
      "[I 2020-01-30 10:27:56,570] Setting status of trial#27 as TrialState.PRUNED. \n",
      "[I 2020-01-30 10:27:57,056] Setting status of trial#28 as TrialState.PRUNED. \n",
      "[I 2020-01-30 10:27:59,179] Setting status of trial#29 as TrialState.PRUNED. \n",
      "[I 2020-01-30 10:27:59,570] Setting status of trial#30 as TrialState.PRUNED. \n",
      "[I 2020-01-30 10:27:59,960] Setting status of trial#31 as TrialState.PRUNED. \n",
      "[I 2020-01-30 10:28:00,377] Setting status of trial#32 as TrialState.PRUNED. \n",
      "[I 2020-01-30 10:28:00,758] Setting status of trial#33 as TrialState.PRUNED. \n",
      "[I 2020-01-30 10:28:01,164] Setting status of trial#34 as TrialState.PRUNED. \n",
      "[I 2020-01-30 10:28:03,265] Setting status of trial#35 as TrialState.PRUNED. \n",
      "[I 2020-01-30 10:28:07,111] Finished trial#36 resulted in value: 649395.0. Current best value is 649395.0 with parameters: {'position': False, 'sequential': True, 'quantization_bits': 18, 'compression_level': 6}.\n",
      "[I 2020-01-30 10:28:07,362] Setting status of trial#37 as TrialState.PRUNED. \n"
     ]
    }
   ],
   "source": [
    "OUTPUTDIR = '/tmp/TRAKO_OPTUNA1/'\n",
    "vtpsizes = []\n",
    "tkosizes = []\n",
    "for S in SUBJECTS[0:1]:\n",
    "    for G in GROUP[0:1]:\n",
    "        CURRENTDIR = os.path.join(DATADIR, S, G)\n",
    "        CURRENTOUTDIR = os.path.join(OUTPUTDIR, S, G)\n",
    "        files = os.listdir(CURRENTDIR)[0:1]\n",
    "        \n",
    "        if not os.path.exists(CURRENTOUTDIR):\n",
    "            os.makedirs(CURRENTOUTDIR)\n",
    "        \n",
    "        for f in files:\n",
    "            if not f.endswith('vtp'):\n",
    "                continue\n",
    "            \n",
    "            vtpfile = os.path.join(CURRENTDIR, f)\n",
    "\n",
    "            search_space = {\n",
    "             'position': [True,False],\n",
    "             'sequential': [True,False],\n",
    "             'quantization_bits': list(range(15,25)),\n",
    "             'compression_level': list(range(3,7))\n",
    "            }\n",
    "            \n",
    "            tuner.Tuner.tune(vtpfile, search_space, maxdelta=0.01)"
   ]
  },
  {
   "cell_type": "code",
   "execution_count": 15,
   "metadata": {},
   "outputs": [
    {
     "data": {
      "text/plain": [
       "FrozenTrial(number=6, state=TrialState.COMPLETE, value=111336.0, datetime_start=datetime.datetime(2020, 1, 30, 8, 50, 20, 536952), datetime_complete=datetime.datetime(2020, 1, 30, 8, 50, 20, 921601), params={'position': False, 'sequential': True, 'quantization_bits': 6, 'compression_level': 0}, distributions={'position': CategoricalDistribution(choices=(True, False)), 'sequential': CategoricalDistribution(choices=(True, False)), 'quantization_bits': IntUniformDistribution(high=31, low=0), 'compression_level': IntUniformDistribution(high=10, low=0)}, user_attrs={}, system_attrs={'_number': 6}, intermediate_values={}, trial_id=6)"
      ]
     },
     "execution_count": 15,
     "metadata": {},
     "output_type": "execute_result"
    }
   ],
   "source": [
    "study.best_trial"
   ]
  },
  {
   "cell_type": "code",
   "execution_count": 16,
   "metadata": {},
   "outputs": [
    {
     "data": {
      "text/plain": [
       "{'position': False,\n",
       " 'sequential': True,\n",
       " 'quantization_bits': 6,\n",
       " 'compression_level': 0}"
      ]
     },
     "execution_count": 16,
     "metadata": {},
     "output_type": "execute_result"
    }
   ],
   "source": [
    "study.best_trial.params"
   ]
  },
  {
   "cell_type": "code",
   "execution_count": 18,
   "metadata": {},
   "outputs": [
    {
     "name": "stdout",
     "output_type": "stream",
     "text": [
      "+-------------------+---------+-------------+\n",
      "|        File       |  Bytes  | Streamlines |\n",
      "+-------------------+---------+-------------+\n",
      "| cluster_00616.vtp | 1172155 |     190     |\n",
      "|    restored.vtp   |  974914 |     190     |\n",
      "+-------------------+---------+-------------+\n",
      "+--------------+------------+------------+-------------+----------+\n",
      "|   Geometry   | Min. Delta | Max. Delta | Mean. Delta | StdDev.  |\n",
      "+--------------+------------+------------+-------------+----------+\n",
      "|  XYZ Points  |  36.01881  | 121.135544 |   66.63499  | 14.55739 |\n",
      "| Line Indices |    0.0     |    0.0     |     0.0     |   0.0    |\n",
      "+--------------+------------+------------+-------------+----------+\n",
      "+---------------------------------+------------+------------+-------------+-----------+\n",
      "|             Scalars             | Min. Delta | Max. Delta | Mean. Delta |  StdDev.  |\n",
      "+---------------------------------+------------+------------+-------------+-----------+\n",
      "| NormalizedSignalEstimationError |    0.0     |  0.049699  |   0.007262  |  0.005921 |\n",
      "|       EstimatedUncertainty      |    0.0     | 13834.904  |   3345.544  | 2350.3135 |\n",
      "|              RTOP1              |    0.0     | 108.134995 |   2.833546  |  3.126929 |\n",
      "|              RTOP2              |   2e-06    |  2832.742  |   5.75169   | 30.145191 |\n",
      "|              RTAP1              |  3.9e-05   |  35.09629  |   2.279153  |  2.256563 |\n",
      "|              RTAP2              |    0.0     | 2320.7205  |   5.209144  |  25.05163 |\n",
      "|              RTPP1              |    0.0     |  3.823631  |   0.191685  |  0.237758 |\n",
      "|              RTPP2              |    0.0     |  6.146398  |   0.187542  |  0.32661  |\n",
      "|            SignalMean           |    0.0     |  0.034772  |   0.004579  |  0.005455 |\n",
      "+---------------------------------+------------+------------+-------------+-----------+\n",
      "+-------------------------+------------+------------+-------------+-----------+\n",
      "|        Properties       | Min. Delta | Max. Delta | Mean. Delta |  StdDev.  |\n",
      "+-------------------------+------------+------------+-------------+-----------+\n",
      "|   EmbeddingCoordinate   |  2.377431  |  6.11956   |   3.671435  |  1.007745 |\n",
      "|      ClusterNumber      |    0.0     |    0.0     |     0.0     |    0.0    |\n",
      "|      EmbeddingColor     |  125.004   | 346.809746 |  228.293948 | 54.811155 |\n",
      "|   TotalFiberSimilarity  |    0.0     | 370519.44  |  138325.16  |  89085.36 |\n",
      "| MeasuredFiberSimilarity |    0.0     |  0.000351  |   8.3e-05   |  6.3e-05  |\n",
      "+-------------------------+------------+------------+-------------+-----------+\n"
     ]
    }
   ],
   "source": [
    "import imp, os\n",
    "tkompare = imp.load_source('tkompare', '../tkompare')\n",
    "\n",
    "config = {\n",
    "  '*': { \n",
    "    'position':study.best_trial.params['position'],\n",
    "    'sequential':study.best_trial.params['sequential'],\n",
    "    'quantization_bits':study.best_trial.params['quantization_bits'],\n",
    "    'compression_level':study.best_trial.params['compression_level'],\n",
    "    'quantization_range':-1,\n",
    "    'quantization_origin':None\n",
    "  }\n",
    "\n",
    "}\n",
    "\n",
    "\n",
    "\n",
    "tkompare.compare(vtpfile, '/tmp/restored.vtp')"
   ]
  },
  {
   "cell_type": "code",
   "execution_count": null,
   "metadata": {},
   "outputs": [],
   "source": []
  },
  {
   "cell_type": "code",
   "execution_count": null,
   "metadata": {},
   "outputs": [],
   "source": []
  }
 ],
 "metadata": {
  "kernelspec": {
   "display_name": "Python 3",
   "language": "python",
   "name": "python3"
  },
  "language_info": {
   "codemirror_mode": {
    "name": "ipython",
    "version": 3
   },
   "file_extension": ".py",
   "mimetype": "text/x-python",
   "name": "python",
   "nbconvert_exporter": "python",
   "pygments_lexer": "ipython3",
   "version": "3.6.9"
  }
 },
 "nbformat": 4,
 "nbformat_minor": 2
}
