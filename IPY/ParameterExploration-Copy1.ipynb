{
 "cells": [
  {
   "cell_type": "code",
   "execution_count": 1,
   "metadata": {},
   "outputs": [],
   "source": [
    "import optuna\n",
    "import os\n",
    "import trako as TKO\n",
    "import numpy as np\n",
    "\n",
    "%load_ext autoreload\n",
    "%autoreload 2"
   ]
  },
  {
   "cell_type": "code",
   "execution_count": 2,
   "metadata": {},
   "outputs": [],
   "source": [
    "DATASETNAME = 'ADHD_STFC_diff_for_Daniel'\n",
    "DATADIR = '/home/d/DATA/Dropbox/TRAKODATA/'+DATASETNAME+'/'\n",
    "SUBJECTS = ['101','201']\n",
    "GROUP = ['tracts_left_hemisphere']"
   ]
  },
  {
   "cell_type": "code",
   "execution_count": 3,
   "metadata": {},
   "outputs": [],
   "source": [
    "import sys\n",
    "sys.path.append('../trako')\n",
    "import tuner"
   ]
  },
  {
   "cell_type": "code",
   "execution_count": null,
   "metadata": {
    "scrolled": false
   },
   "outputs": [
    {
     "name": "stdout",
     "output_type": "stream",
     "text": [
      "VTP size 1172155\n",
      "TKO default size 377009\n"
     ]
    },
    {
     "name": "stderr",
     "output_type": "stream",
     "text": [
      "[I 2020-01-30 10:20:56,070] Setting status of trial#1 as TrialState.PRUNED. \n",
      "[I 2020-01-30 10:20:56,387] Setting status of trial#0 as TrialState.PRUNED. \n",
      "[I 2020-01-30 10:20:56,545] Setting status of trial#3 as TrialState.PRUNED. \n",
      "[I 2020-01-30 10:20:56,545] Setting status of trial#2 as TrialState.PRUNED. \n",
      "[I 2020-01-30 10:20:57,837] Setting status of trial#4 as TrialState.PRUNED. \n",
      "[I 2020-01-30 10:20:58,320] Setting status of trial#6 as TrialState.PRUNED. \n",
      "[I 2020-01-30 10:20:58,520] Setting status of trial#7 as TrialState.PRUNED. \n",
      "[I 2020-01-30 10:20:58,650] Setting status of trial#5 as TrialState.PRUNED. \n"
     ]
    }
   ],
   "source": [
    "OUTPUTDIR = '/tmp/TRAKO_OPTUNA1/'\n",
    "vtpsizes = []\n",
    "tkosizes = []\n",
    "for S in SUBJECTS[0:1]:\n",
    "    for G in GROUP[0:1]:\n",
    "        CURRENTDIR = os.path.join(DATADIR, S, G)\n",
    "        CURRENTOUTDIR = os.path.join(OUTPUTDIR, S, G)\n",
    "        files = os.listdir(CURRENTDIR)[0:1]\n",
    "        \n",
    "        if not os.path.exists(CURRENTOUTDIR):\n",
    "            os.makedirs(CURRENTOUTDIR)\n",
    "        \n",
    "        for f in files:\n",
    "            if not f.endswith('vtp'):\n",
    "                continue\n",
    "            \n",
    "            vtpfile = os.path.join(CURRENTDIR, f)\n",
    "            \n",
    "            tuner.Tuner.tune(vtpfile, 0.005)"
   ]
  },
  {
   "cell_type": "code",
   "execution_count": 15,
   "metadata": {},
   "outputs": [
    {
     "data": {
      "text/plain": [
       "FrozenTrial(number=6, state=TrialState.COMPLETE, value=111336.0, datetime_start=datetime.datetime(2020, 1, 30, 8, 50, 20, 536952), datetime_complete=datetime.datetime(2020, 1, 30, 8, 50, 20, 921601), params={'position': False, 'sequential': True, 'quantization_bits': 6, 'compression_level': 0}, distributions={'position': CategoricalDistribution(choices=(True, False)), 'sequential': CategoricalDistribution(choices=(True, False)), 'quantization_bits': IntUniformDistribution(high=31, low=0), 'compression_level': IntUniformDistribution(high=10, low=0)}, user_attrs={}, system_attrs={'_number': 6}, intermediate_values={}, trial_id=6)"
      ]
     },
     "execution_count": 15,
     "metadata": {},
     "output_type": "execute_result"
    }
   ],
   "source": [
    "study.best_trial"
   ]
  },
  {
   "cell_type": "code",
   "execution_count": 16,
   "metadata": {},
   "outputs": [
    {
     "data": {
      "text/plain": [
       "{'position': False,\n",
       " 'sequential': True,\n",
       " 'quantization_bits': 6,\n",
       " 'compression_level': 0}"
      ]
     },
     "execution_count": 16,
     "metadata": {},
     "output_type": "execute_result"
    }
   ],
   "source": [
    "study.best_trial.params"
   ]
  },
  {
   "cell_type": "code",
   "execution_count": 18,
   "metadata": {},
   "outputs": [
    {
     "name": "stdout",
     "output_type": "stream",
     "text": [
      "+-------------------+---------+-------------+\n",
      "|        File       |  Bytes  | Streamlines |\n",
      "+-------------------+---------+-------------+\n",
      "| cluster_00616.vtp | 1172155 |     190     |\n",
      "|    restored.vtp   |  974914 |     190     |\n",
      "+-------------------+---------+-------------+\n",
      "+--------------+------------+------------+-------------+----------+\n",
      "|   Geometry   | Min. Delta | Max. Delta | Mean. Delta | StdDev.  |\n",
      "+--------------+------------+------------+-------------+----------+\n",
      "|  XYZ Points  |  36.01881  | 121.135544 |   66.63499  | 14.55739 |\n",
      "| Line Indices |    0.0     |    0.0     |     0.0     |   0.0    |\n",
      "+--------------+------------+------------+-------------+----------+\n",
      "+---------------------------------+------------+------------+-------------+-----------+\n",
      "|             Scalars             | Min. Delta | Max. Delta | Mean. Delta |  StdDev.  |\n",
      "+---------------------------------+------------+------------+-------------+-----------+\n",
      "| NormalizedSignalEstimationError |    0.0     |  0.049699  |   0.007262  |  0.005921 |\n",
      "|       EstimatedUncertainty      |    0.0     | 13834.904  |   3345.544  | 2350.3135 |\n",
      "|              RTOP1              |    0.0     | 108.134995 |   2.833546  |  3.126929 |\n",
      "|              RTOP2              |   2e-06    |  2832.742  |   5.75169   | 30.145191 |\n",
      "|              RTAP1              |  3.9e-05   |  35.09629  |   2.279153  |  2.256563 |\n",
      "|              RTAP2              |    0.0     | 2320.7205  |   5.209144  |  25.05163 |\n",
      "|              RTPP1              |    0.0     |  3.823631  |   0.191685  |  0.237758 |\n",
      "|              RTPP2              |    0.0     |  6.146398  |   0.187542  |  0.32661  |\n",
      "|            SignalMean           |    0.0     |  0.034772  |   0.004579  |  0.005455 |\n",
      "+---------------------------------+------------+------------+-------------+-----------+\n",
      "+-------------------------+------------+------------+-------------+-----------+\n",
      "|        Properties       | Min. Delta | Max. Delta | Mean. Delta |  StdDev.  |\n",
      "+-------------------------+------------+------------+-------------+-----------+\n",
      "|   EmbeddingCoordinate   |  2.377431  |  6.11956   |   3.671435  |  1.007745 |\n",
      "|      ClusterNumber      |    0.0     |    0.0     |     0.0     |    0.0    |\n",
      "|      EmbeddingColor     |  125.004   | 346.809746 |  228.293948 | 54.811155 |\n",
      "|   TotalFiberSimilarity  |    0.0     | 370519.44  |  138325.16  |  89085.36 |\n",
      "| MeasuredFiberSimilarity |    0.0     |  0.000351  |   8.3e-05   |  6.3e-05  |\n",
      "+-------------------------+------------+------------+-------------+-----------+\n"
     ]
    }
   ],
   "source": [
    "import imp, os\n",
    "tkompare = imp.load_source('tkompare', '../tkompare')\n",
    "\n",
    "config = {\n",
    "  '*': { \n",
    "    'position':study.best_trial.params['position'],\n",
    "    'sequential':study.best_trial.params['sequential'],\n",
    "    'quantization_bits':study.best_trial.params['quantization_bits'],\n",
    "    'compression_level':study.best_trial.params['compression_level'],\n",
    "    'quantization_range':-1,\n",
    "    'quantization_origin':None\n",
    "  }\n",
    "\n",
    "}\n",
    "\n",
    "\n",
    "\n",
    "tkompare.compare(vtpfile, '/tmp/restored.vtp')"
   ]
  },
  {
   "cell_type": "code",
   "execution_count": null,
   "metadata": {},
   "outputs": [],
   "source": []
  },
  {
   "cell_type": "code",
   "execution_count": null,
   "metadata": {},
   "outputs": [],
   "source": []
  }
 ],
 "metadata": {
  "kernelspec": {
   "display_name": "Python 3",
   "language": "python",
   "name": "python3"
  },
  "language_info": {
   "codemirror_mode": {
    "name": "ipython",
    "version": 3
   },
   "file_extension": ".py",
   "mimetype": "text/x-python",
   "name": "python",
   "nbconvert_exporter": "python",
   "pygments_lexer": "ipython3",
   "version": "3.6.9"
  }
 },
 "nbformat": 4,
 "nbformat_minor": 2
}
