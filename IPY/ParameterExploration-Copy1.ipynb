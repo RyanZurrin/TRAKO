{
 "cells": [
  {
   "cell_type": "code",
   "execution_count": 1,
   "metadata": {},
   "outputs": [],
   "source": [
    "import optuna\n",
    "import os\n",
    "import trako as TKO\n",
    "import numpy as np\n",
    "\n",
    "%load_ext autoreload\n",
    "%autoreload 2"
   ]
  },
  {
   "cell_type": "code",
   "execution_count": 2,
   "metadata": {},
   "outputs": [],
   "source": [
    "DATASETNAME = 'ADHD_STFC_diff_for_Daniel'\n",
    "DATADIR = '/home/d/DATA/Dropbox/TRAKODATA/'+DATASETNAME+'/'\n",
    "SUBJECTS = ['101','201']\n",
    "GROUP = ['tracts_left_hemisphere']"
   ]
  },
  {
   "cell_type": "code",
   "execution_count": 3,
   "metadata": {},
   "outputs": [],
   "source": [
    "import sys\n",
    "sys.path.append('../trako')\n",
    "import tuner"
   ]
  },
  {
   "cell_type": "code",
   "execution_count": 4,
   "metadata": {
    "scrolled": false
   },
   "outputs": [
    {
     "name": "stdout",
     "output_type": "stream",
     "text": [
      "VTP size 1172155\n",
      "TKO default size 377009\n"
     ]
    },
    {
     "name": "stderr",
     "output_type": "stream",
     "text": [
      "[I 2020-01-30 10:27:10,092] Setting status of trial#0 as TrialState.PRUNED. \n",
      "[I 2020-01-30 10:27:12,184] Setting status of trial#1 as TrialState.PRUNED. \n",
      "[I 2020-01-30 10:27:12,554] Setting status of trial#2 as TrialState.PRUNED. \n",
      "[I 2020-01-30 10:27:16,263] Finished trial#3 resulted in value: 786391.0. Current best value is 786391.0 with parameters: {'position': False, 'sequential': True, 'quantization_bits': 21, 'compression_level': 6}.\n",
      "[I 2020-01-30 10:27:16,503] Setting status of trial#4 as TrialState.PRUNED. \n",
      "[I 2020-01-30 10:27:20,964] Finished trial#5 resulted in value: 922591.0. Current best value is 786391.0 with parameters: {'position': False, 'sequential': True, 'quantization_bits': 21, 'compression_level': 6}.\n",
      "[I 2020-01-30 10:27:22,295] Setting status of trial#6 as TrialState.PRUNED. \n",
      "[I 2020-01-30 10:27:26,075] Finished trial#7 resulted in value: 740855.0. Current best value is 740855.0 with parameters: {'position': False, 'sequential': True, 'quantization_bits': 20, 'compression_level': 3}.\n",
      "[I 2020-01-30 10:27:26,361] Setting status of trial#8 as TrialState.PRUNED. \n",
      "[I 2020-01-30 10:27:30,111] Finished trial#9 resulted in value: 786391.0. Current best value is 740855.0 with parameters: {'position': False, 'sequential': True, 'quantization_bits': 20, 'compression_level': 3}.\n",
      "[I 2020-01-30 10:27:33,789] Finished trial#10 resulted in value: 831843.0. Current best value is 740855.0 with parameters: {'position': False, 'sequential': True, 'quantization_bits': 20, 'compression_level': 3}.\n",
      "[I 2020-01-30 10:27:34,023] Setting status of trial#11 as TrialState.PRUNED. \n",
      "[I 2020-01-30 10:27:34,409] Setting status of trial#12 as TrialState.PRUNED. \n",
      "[I 2020-01-30 10:27:35,803] Setting status of trial#13 as TrialState.PRUNED. \n",
      "[I 2020-01-30 10:27:37,307] Setting status of trial#14 as TrialState.PRUNED. \n",
      "[I 2020-01-30 10:27:37,678] Setting status of trial#15 as TrialState.PRUNED. \n",
      "[I 2020-01-30 10:27:38,037] Setting status of trial#16 as TrialState.PRUNED. \n",
      "[I 2020-01-30 10:27:38,390] Setting status of trial#17 as TrialState.PRUNED. \n",
      "[I 2020-01-30 10:27:39,762] Setting status of trial#18 as TrialState.PRUNED. \n",
      "[I 2020-01-30 10:27:41,803] Setting status of trial#19 as TrialState.PRUNED. \n",
      "[I 2020-01-30 10:27:45,498] Finished trial#20 resulted in value: 649395.0. Current best value is 649395.0 with parameters: {'position': False, 'sequential': True, 'quantization_bits': 18, 'compression_level': 6}.\n",
      "[I 2020-01-30 10:27:45,734] Setting status of trial#21 as TrialState.PRUNED. \n",
      "[I 2020-01-30 10:27:47,773] Setting status of trial#22 as TrialState.PRUNED. \n",
      "[I 2020-01-30 10:27:48,206] Setting status of trial#23 as TrialState.PRUNED. \n",
      "[I 2020-01-30 10:27:48,908] Setting status of trial#24 as TrialState.PRUNED. \n",
      "[I 2020-01-30 10:27:53,660] Finished trial#25 resulted in value: 922591.0. Current best value is 649395.0 with parameters: {'position': False, 'sequential': True, 'quantization_bits': 18, 'compression_level': 6}.\n",
      "[I 2020-01-30 10:27:55,133] Setting status of trial#26 as TrialState.PRUNED. \n",
      "[I 2020-01-30 10:27:56,570] Setting status of trial#27 as TrialState.PRUNED. \n",
      "[I 2020-01-30 10:27:57,056] Setting status of trial#28 as TrialState.PRUNED. \n",
      "[I 2020-01-30 10:27:59,179] Setting status of trial#29 as TrialState.PRUNED. \n",
      "[I 2020-01-30 10:27:59,570] Setting status of trial#30 as TrialState.PRUNED. \n",
      "[I 2020-01-30 10:27:59,960] Setting status of trial#31 as TrialState.PRUNED. \n",
      "[I 2020-01-30 10:28:00,377] Setting status of trial#32 as TrialState.PRUNED. \n",
      "[I 2020-01-30 10:28:00,758] Setting status of trial#33 as TrialState.PRUNED. \n",
      "[I 2020-01-30 10:28:01,164] Setting status of trial#34 as TrialState.PRUNED. \n",
      "[I 2020-01-30 10:28:03,265] Setting status of trial#35 as TrialState.PRUNED. \n",
      "[I 2020-01-30 10:28:07,111] Finished trial#36 resulted in value: 649395.0. Current best value is 649395.0 with parameters: {'position': False, 'sequential': True, 'quantization_bits': 18, 'compression_level': 6}.\n",
      "[I 2020-01-30 10:28:07,362] Setting status of trial#37 as TrialState.PRUNED. \n",
      "[I 2020-01-30 10:28:07,749] Setting status of trial#38 as TrialState.PRUNED. \n",
      "[I 2020-01-30 10:28:08,473] Setting status of trial#39 as TrialState.PRUNED. \n",
      "[I 2020-01-30 10:28:08,886] Setting status of trial#40 as TrialState.PRUNED. \n",
      "[I 2020-01-30 10:28:10,430] Setting status of trial#41 as TrialState.PRUNED. \n",
      "[I 2020-01-30 10:28:14,230] Finished trial#42 resulted in value: 740855.0. Current best value is 649395.0 with parameters: {'position': False, 'sequential': True, 'quantization_bits': 18, 'compression_level': 6}.\n",
      "[I 2020-01-30 10:28:15,537] Setting status of trial#43 as TrialState.PRUNED. \n",
      "[I 2020-01-30 10:28:17,636] Setting status of trial#44 as TrialState.PRUNED. \n",
      "[I 2020-01-30 10:28:18,904] Setting status of trial#45 as TrialState.PRUNED. \n",
      "[I 2020-01-30 10:28:20,324] Setting status of trial#46 as TrialState.PRUNED. \n",
      "[I 2020-01-30 10:28:20,694] Setting status of trial#47 as TrialState.PRUNED. \n",
      "[I 2020-01-30 10:28:21,063] Setting status of trial#48 as TrialState.PRUNED. \n",
      "[I 2020-01-30 10:28:23,123] Setting status of trial#49 as TrialState.PRUNED. \n",
      "[I 2020-01-30 10:28:23,727] Setting status of trial#50 as TrialState.PRUNED. \n",
      "[I 2020-01-30 10:28:24,151] Setting status of trial#51 as TrialState.PRUNED. \n",
      "[I 2020-01-30 10:28:28,011] Finished trial#52 resulted in value: 695199.0. Current best value is 649395.0 with parameters: {'position': False, 'sequential': True, 'quantization_bits': 18, 'compression_level': 6}.\n",
      "[I 2020-01-30 10:28:28,380] Setting status of trial#53 as TrialState.PRUNED. \n",
      "[I 2020-01-30 10:28:28,795] Setting status of trial#54 as TrialState.PRUNED. \n",
      "[I 2020-01-30 10:28:29,235] Setting status of trial#55 as TrialState.PRUNED. \n",
      "[I 2020-01-30 10:28:30,685] Setting status of trial#56 as TrialState.PRUNED. \n",
      "[I 2020-01-30 10:28:32,279] Setting status of trial#57 as TrialState.PRUNED. \n",
      "[I 2020-01-30 10:28:32,675] Setting status of trial#58 as TrialState.PRUNED. \n",
      "[I 2020-01-30 10:28:37,208] Finished trial#59 resulted in value: 922591.0. Current best value is 649395.0 with parameters: {'position': False, 'sequential': True, 'quantization_bits': 18, 'compression_level': 6}.\n",
      "[I 2020-01-30 10:28:38,569] Setting status of trial#60 as TrialState.PRUNED. \n",
      "[I 2020-01-30 10:28:40,172] Setting status of trial#61 as TrialState.PRUNED. \n",
      "[I 2020-01-30 10:28:40,549] Setting status of trial#62 as TrialState.PRUNED. \n",
      "[I 2020-01-30 10:28:42,003] Setting status of trial#63 as TrialState.PRUNED. \n",
      "[I 2020-01-30 10:28:43,495] Setting status of trial#64 as TrialState.PRUNED. \n",
      "[I 2020-01-30 10:28:43,880] Setting status of trial#65 as TrialState.PRUNED. \n",
      "[I 2020-01-30 10:28:44,279] Setting status of trial#66 as TrialState.PRUNED. \n",
      "[I 2020-01-30 10:28:44,662] Setting status of trial#67 as TrialState.PRUNED. \n",
      "[I 2020-01-30 10:28:48,347] Finished trial#68 resulted in value: 649395.0. Current best value is 649395.0 with parameters: {'position': False, 'sequential': True, 'quantization_bits': 18, 'compression_level': 6}.\n",
      "[I 2020-01-30 10:28:49,690] Setting status of trial#69 as TrialState.PRUNED. \n",
      "[I 2020-01-30 10:28:50,065] Setting status of trial#70 as TrialState.PRUNED. \n",
      "[I 2020-01-30 10:28:50,440] Setting status of trial#71 as TrialState.PRUNED. \n",
      "[I 2020-01-30 10:28:50,818] Setting status of trial#72 as TrialState.PRUNED. \n",
      "[I 2020-01-30 10:28:52,220] Setting status of trial#73 as TrialState.PRUNED. \n",
      "[I 2020-01-30 10:28:52,617] Setting status of trial#74 as TrialState.PRUNED. \n",
      "[I 2020-01-30 10:28:52,988] Setting status of trial#75 as TrialState.PRUNED. \n",
      "[I 2020-01-30 10:28:54,479] Setting status of trial#76 as TrialState.PRUNED. \n",
      "[I 2020-01-30 10:28:56,522] Setting status of trial#77 as TrialState.PRUNED. \n",
      "[I 2020-01-30 10:28:56,906] Setting status of trial#78 as TrialState.PRUNED. \n",
      "[I 2020-01-30 10:29:00,918] Finished trial#79 resulted in value: 877227.0. Current best value is 649395.0 with parameters: {'position': False, 'sequential': True, 'quantization_bits': 18, 'compression_level': 6}.\n",
      "[I 2020-01-30 10:29:01,236] Setting status of trial#80 as TrialState.PRUNED. \n",
      "[I 2020-01-30 10:29:01,644] Setting status of trial#81 as TrialState.PRUNED. \n"
     ]
    },
    {
     "name": "stderr",
     "output_type": "stream",
     "text": [
      "[I 2020-01-30 10:29:02,032] Setting status of trial#82 as TrialState.PRUNED. \n",
      "[I 2020-01-30 10:29:03,483] Setting status of trial#83 as TrialState.PRUNED. \n",
      "[I 2020-01-30 10:29:04,030] Setting status of trial#84 as TrialState.PRUNED. \n",
      "[I 2020-01-30 10:29:04,421] Setting status of trial#85 as TrialState.PRUNED. \n",
      "[I 2020-01-30 10:29:05,897] Setting status of trial#86 as TrialState.PRUNED. \n",
      "[I 2020-01-30 10:29:06,287] Setting status of trial#87 as TrialState.PRUNED. \n",
      "[I 2020-01-30 10:29:07,706] Setting status of trial#88 as TrialState.PRUNED. \n",
      "[I 2020-01-30 10:29:09,132] Setting status of trial#89 as TrialState.PRUNED. \n",
      "[I 2020-01-30 10:29:09,568] Setting status of trial#90 as TrialState.PRUNED. \n",
      "[I 2020-01-30 10:29:13,461] Finished trial#91 resulted in value: 831843.0. Current best value is 649395.0 with parameters: {'position': False, 'sequential': True, 'quantization_bits': 18, 'compression_level': 6}.\n",
      "[I 2020-01-30 10:29:13,720] Setting status of trial#92 as TrialState.PRUNED. \n",
      "[I 2020-01-30 10:29:15,754] Setting status of trial#93 as TrialState.PRUNED. \n",
      "[I 2020-01-30 10:29:17,804] Setting status of trial#94 as TrialState.PRUNED. \n",
      "[I 2020-01-30 10:29:19,278] Setting status of trial#95 as TrialState.PRUNED. \n",
      "[I 2020-01-30 10:29:19,983] Setting status of trial#96 as TrialState.PRUNED. \n",
      "[I 2020-01-30 10:29:20,361] Setting status of trial#97 as TrialState.PRUNED. \n",
      "[I 2020-01-30 10:29:21,783] Setting status of trial#98 as TrialState.PRUNED. \n",
      "[I 2020-01-30 10:29:23,178] Setting status of trial#99 as TrialState.PRUNED. \n",
      "[I 2020-01-30 10:29:23,564] Setting status of trial#100 as TrialState.PRUNED. \n",
      "[I 2020-01-30 10:29:25,065] Setting status of trial#101 as TrialState.PRUNED. \n",
      "[I 2020-01-30 10:29:26,325] Setting status of trial#102 as TrialState.PRUNED. \n",
      "[I 2020-01-30 10:29:26,779] Setting status of trial#103 as TrialState.PRUNED. \n",
      "[I 2020-01-30 10:29:27,157] Setting status of trial#104 as TrialState.PRUNED. \n",
      "[I 2020-01-30 10:29:28,528] Setting status of trial#105 as TrialState.PRUNED. \n",
      "[I 2020-01-30 10:29:29,987] Setting status of trial#106 as TrialState.PRUNED. \n",
      "[I 2020-01-30 10:29:31,396] Setting status of trial#107 as TrialState.PRUNED. \n",
      "[I 2020-01-30 10:29:33,446] Setting status of trial#108 as TrialState.PRUNED. \n",
      "[I 2020-01-30 10:29:33,840] Setting status of trial#109 as TrialState.PRUNED. \n",
      "[I 2020-01-30 10:29:37,717] Finished trial#110 resulted in value: 831843.0. Current best value is 649395.0 with parameters: {'position': False, 'sequential': True, 'quantization_bits': 18, 'compression_level': 6}.\n",
      "[I 2020-01-30 10:29:37,985] Setting status of trial#111 as TrialState.PRUNED. \n",
      "[I 2020-01-30 10:29:38,462] Setting status of trial#112 as TrialState.PRUNED. \n",
      "[I 2020-01-30 10:29:39,896] Setting status of trial#113 as TrialState.PRUNED. \n",
      "[I 2020-01-30 10:29:41,351] Setting status of trial#114 as TrialState.PRUNED. \n",
      "[I 2020-01-30 10:29:41,813] Setting status of trial#115 as TrialState.PRUNED. \n",
      "[I 2020-01-30 10:29:42,207] Setting status of trial#116 as TrialState.PRUNED. \n",
      "[I 2020-01-30 10:29:42,604] Setting status of trial#117 as TrialState.PRUNED. \n",
      "[I 2020-01-30 10:29:43,027] Setting status of trial#118 as TrialState.PRUNED. \n",
      "[I 2020-01-30 10:29:46,772] Finished trial#119 resulted in value: 695199.0. Current best value is 649395.0 with parameters: {'position': False, 'sequential': True, 'quantization_bits': 18, 'compression_level': 6}.\n",
      "[I 2020-01-30 10:29:47,044] Setting status of trial#120 as TrialState.PRUNED. \n",
      "[I 2020-01-30 10:29:47,428] Setting status of trial#121 as TrialState.PRUNED. \n",
      "[I 2020-01-30 10:29:51,408] Finished trial#122 resulted in value: 877227.0. Current best value is 649395.0 with parameters: {'position': False, 'sequential': True, 'quantization_bits': 18, 'compression_level': 6}.\n",
      "[I 2020-01-30 10:29:52,747] Setting status of trial#123 as TrialState.PRUNED. \n",
      "[I 2020-01-30 10:29:56,512] Finished trial#124 resulted in value: 740855.0. Current best value is 649395.0 with parameters: {'position': False, 'sequential': True, 'quantization_bits': 18, 'compression_level': 6}.\n",
      "[I 2020-01-30 10:29:56,932] Setting status of trial#125 as TrialState.PRUNED. \n",
      "[I 2020-01-30 10:30:00,778] Finished trial#126 resulted in value: 786391.0. Current best value is 649395.0 with parameters: {'position': False, 'sequential': True, 'quantization_bits': 18, 'compression_level': 6}.\n",
      "[I 2020-01-30 10:30:04,395] Finished trial#127 resulted in value: 695199.0. Current best value is 649395.0 with parameters: {'position': False, 'sequential': True, 'quantization_bits': 18, 'compression_level': 6}.\n",
      "[I 2020-01-30 10:30:06,323] Setting status of trial#128 as TrialState.PRUNED. \n",
      "[I 2020-01-30 10:30:07,773] Setting status of trial#129 as TrialState.PRUNED. \n",
      "[I 2020-01-30 10:30:09,015] Setting status of trial#130 as TrialState.PRUNED. \n",
      "[I 2020-01-30 10:30:09,419] Setting status of trial#131 as TrialState.PRUNED. \n",
      "[I 2020-01-30 10:30:09,922] Setting status of trial#132 as TrialState.PRUNED. \n",
      "[I 2020-01-30 10:30:10,317] Setting status of trial#133 as TrialState.PRUNED. \n",
      "[I 2020-01-30 10:30:14,027] Finished trial#134 resulted in value: 740855.0. Current best value is 649395.0 with parameters: {'position': False, 'sequential': True, 'quantization_bits': 18, 'compression_level': 6}.\n",
      "[I 2020-01-30 10:30:17,751] Finished trial#135 resulted in value: 831843.0. Current best value is 649395.0 with parameters: {'position': False, 'sequential': True, 'quantization_bits': 18, 'compression_level': 6}.\n",
      "[I 2020-01-30 10:30:18,027] Setting status of trial#136 as TrialState.PRUNED. \n",
      "[I 2020-01-30 10:30:18,412] Setting status of trial#137 as TrialState.PRUNED. \n",
      "[I 2020-01-30 10:30:18,817] Setting status of trial#138 as TrialState.PRUNED. \n",
      "[I 2020-01-30 10:30:20,074] Setting status of trial#139 as TrialState.PRUNED. \n",
      "[I 2020-01-30 10:30:21,503] Setting status of trial#140 as TrialState.PRUNED. \n",
      "[I 2020-01-30 10:30:25,201] Finished trial#141 resulted in value: 649395.0. Current best value is 649395.0 with parameters: {'position': False, 'sequential': True, 'quantization_bits': 18, 'compression_level': 6}.\n",
      "[I 2020-01-30 10:30:29,746] Finished trial#142 resulted in value: 922591.0. Current best value is 649395.0 with parameters: {'position': False, 'sequential': True, 'quantization_bits': 18, 'compression_level': 6}.\n",
      "[I 2020-01-30 10:30:31,088] Setting status of trial#143 as TrialState.PRUNED. \n",
      "[I 2020-01-30 10:30:34,848] Finished trial#144 resulted in value: 695199.0. Current best value is 649395.0 with parameters: {'position': False, 'sequential': True, 'quantization_bits': 18, 'compression_level': 6}.\n",
      "[I 2020-01-30 10:30:35,120] Setting status of trial#145 as TrialState.PRUNED. \n",
      "[I 2020-01-30 10:30:36,613] Setting status of trial#146 as TrialState.PRUNED. \n",
      "[I 2020-01-30 10:30:37,164] Setting status of trial#147 as TrialState.PRUNED. \n",
      "[I 2020-01-30 10:30:38,654] Setting status of trial#148 as TrialState.PRUNED. \n",
      "[I 2020-01-30 10:30:39,037] Setting status of trial#149 as TrialState.PRUNED. \n",
      "[I 2020-01-30 10:30:42,837] Finished trial#150 resulted in value: 786391.0. Current best value is 649395.0 with parameters: {'position': False, 'sequential': True, 'quantization_bits': 18, 'compression_level': 6}.\n",
      "[I 2020-01-30 10:30:43,425] Setting status of trial#151 as TrialState.PRUNED. \n",
      "[I 2020-01-30 10:30:43,885] Setting status of trial#152 as TrialState.PRUNED. \n",
      "[I 2020-01-30 10:30:47,933] Finished trial#153 resulted in value: 877227.0. Current best value is 649395.0 with parameters: {'position': False, 'sequential': True, 'quantization_bits': 18, 'compression_level': 6}.\n",
      "[I 2020-01-30 10:30:48,255] Setting status of trial#154 as TrialState.PRUNED. \n",
      "[I 2020-01-30 10:30:52,302] Finished trial#155 resulted in value: 877227.0. Current best value is 649395.0 with parameters: {'position': False, 'sequential': True, 'quantization_bits': 18, 'compression_level': 6}.\n",
      "[I 2020-01-30 10:30:53,661] Setting status of trial#156 as TrialState.PRUNED. \n",
      "[I 2020-01-30 10:30:54,093] Setting status of trial#157 as TrialState.PRUNED. \n",
      "[I 2020-01-30 10:30:55,535] Setting status of trial#158 as TrialState.PRUNED. \n",
      "[I 2020-01-30 10:30:55,962] Setting status of trial#159 as TrialState.PRUNED. \n"
     ]
    },
    {
     "ename": "ValueError",
     "evalue": "All grids have been evaluated. If you want to avoid this error, please make sure that unnecessary trials do not run during optimization by properly setting `n_trials` in `study.optimize`.",
     "output_type": "error",
     "traceback": [
      "\u001b[0;31m---------------------------------------------------------------------------\u001b[0m",
      "\u001b[0;31mValueError\u001b[0m                                Traceback (most recent call last)",
      "\u001b[0;32m<ipython-input-4-085582fb7f3a>\u001b[0m in \u001b[0;36m<module>\u001b[0;34m\u001b[0m\n\u001b[1;32m     24\u001b[0m             }\n\u001b[1;32m     25\u001b[0m \u001b[0;34m\u001b[0m\u001b[0m\n\u001b[0;32m---> 26\u001b[0;31m             \u001b[0mtuner\u001b[0m\u001b[0;34m.\u001b[0m\u001b[0mTuner\u001b[0m\u001b[0;34m.\u001b[0m\u001b[0mtune\u001b[0m\u001b[0;34m(\u001b[0m\u001b[0mvtpfile\u001b[0m\u001b[0;34m,\u001b[0m \u001b[0msearch_space\u001b[0m\u001b[0;34m,\u001b[0m \u001b[0mmaxdelta\u001b[0m\u001b[0;34m=\u001b[0m\u001b[0;36m0.01\u001b[0m\u001b[0;34m)\u001b[0m\u001b[0;34m\u001b[0m\u001b[0;34m\u001b[0m\u001b[0m\n\u001b[0m",
      "\u001b[0;32m~/Projects/TRAKO/trako/tuner.py\u001b[0m in \u001b[0;36mtune\u001b[0;34m(vtpfile, search_space, maxdelta)\u001b[0m\n\u001b[1;32m     49\u001b[0m     \u001b[0;31m# while unique_trials > len(set(str(t.params) for t in study.trials)):\u001b[0m\u001b[0;34m\u001b[0m\u001b[0;34m\u001b[0m\u001b[0;34m\u001b[0m\u001b[0m\n\u001b[1;32m     50\u001b[0m     \u001b[0;31m#   # study.optimize(objective, n_trials=1)\u001b[0m\u001b[0;34m\u001b[0m\u001b[0;34m\u001b[0m\u001b[0;34m\u001b[0m\u001b[0m\n\u001b[0;32m---> 51\u001b[0;31m     \u001b[0mstudy\u001b[0m\u001b[0;34m.\u001b[0m\u001b[0moptimize\u001b[0m\u001b[0;34m(\u001b[0m\u001b[0mTuner\u001b[0m\u001b[0;34m.\u001b[0m\u001b[0mrun\u001b[0m\u001b[0;34m,\u001b[0m \u001b[0mn_trials\u001b[0m\u001b[0;34m=\u001b[0m\u001b[0;36m1000\u001b[0m\u001b[0;34m)\u001b[0m\u001b[0;31m#, n_jobs=4)\u001b[0m\u001b[0;34m\u001b[0m\u001b[0;34m\u001b[0m\u001b[0m\n\u001b[0m\u001b[1;32m     52\u001b[0m \u001b[0;34m\u001b[0m\u001b[0m\n\u001b[1;32m     53\u001b[0m \u001b[0;34m\u001b[0m\u001b[0m\n",
      "\u001b[0;32m~/miniconda3/envs/TRAKODEV/lib/python3.6/site-packages/optuna/study.py\u001b[0m in \u001b[0;36moptimize\u001b[0;34m(self, func, n_trials, timeout, n_jobs, catch, callbacks, gc_after_trial)\u001b[0m\n\u001b[1;32m    259\u001b[0m             \u001b[0;32mif\u001b[0m \u001b[0mn_jobs\u001b[0m \u001b[0;34m==\u001b[0m \u001b[0;36m1\u001b[0m\u001b[0;34m:\u001b[0m\u001b[0;34m\u001b[0m\u001b[0;34m\u001b[0m\u001b[0m\n\u001b[1;32m    260\u001b[0m                 self._optimize_sequential(func, n_trials, timeout, catch, callbacks,\n\u001b[0;32m--> 261\u001b[0;31m                                           gc_after_trial)\n\u001b[0m\u001b[1;32m    262\u001b[0m             \u001b[0;32melse\u001b[0m\u001b[0;34m:\u001b[0m\u001b[0;34m\u001b[0m\u001b[0;34m\u001b[0m\u001b[0m\n\u001b[1;32m    263\u001b[0m                 self._optimize_parallel(func, n_trials, timeout, n_jobs, catch, callbacks,\n",
      "\u001b[0;32m~/miniconda3/envs/TRAKODEV/lib/python3.6/site-packages/optuna/study.py\u001b[0m in \u001b[0;36m_optimize_sequential\u001b[0;34m(self, func, n_trials, timeout, catch, callbacks, gc_after_trial)\u001b[0m\n\u001b[1;32m    441\u001b[0m                     \u001b[0;32mbreak\u001b[0m\u001b[0;34m\u001b[0m\u001b[0;34m\u001b[0m\u001b[0m\n\u001b[1;32m    442\u001b[0m \u001b[0;34m\u001b[0m\u001b[0m\n\u001b[0;32m--> 443\u001b[0;31m             \u001b[0mself\u001b[0m\u001b[0;34m.\u001b[0m\u001b[0m_run_trial_and_callbacks\u001b[0m\u001b[0;34m(\u001b[0m\u001b[0mfunc\u001b[0m\u001b[0;34m,\u001b[0m \u001b[0mcatch\u001b[0m\u001b[0;34m,\u001b[0m \u001b[0mcallbacks\u001b[0m\u001b[0;34m,\u001b[0m \u001b[0mgc_after_trial\u001b[0m\u001b[0;34m)\u001b[0m\u001b[0;34m\u001b[0m\u001b[0;34m\u001b[0m\u001b[0m\n\u001b[0m\u001b[1;32m    444\u001b[0m \u001b[0;34m\u001b[0m\u001b[0m\n\u001b[1;32m    445\u001b[0m     def _optimize_parallel(\n",
      "\u001b[0;32m~/miniconda3/envs/TRAKODEV/lib/python3.6/site-packages/optuna/study.py\u001b[0m in \u001b[0;36m_run_trial_and_callbacks\u001b[0;34m(self, func, catch, callbacks, gc_after_trial)\u001b[0m\n\u001b[1;32m    518\u001b[0m         \u001b[0;31m# type: (...) -> None\u001b[0m\u001b[0;34m\u001b[0m\u001b[0;34m\u001b[0m\u001b[0;34m\u001b[0m\u001b[0m\n\u001b[1;32m    519\u001b[0m \u001b[0;34m\u001b[0m\u001b[0m\n\u001b[0;32m--> 520\u001b[0;31m         \u001b[0mtrial\u001b[0m \u001b[0;34m=\u001b[0m \u001b[0mself\u001b[0m\u001b[0;34m.\u001b[0m\u001b[0m_run_trial\u001b[0m\u001b[0;34m(\u001b[0m\u001b[0mfunc\u001b[0m\u001b[0;34m,\u001b[0m \u001b[0mcatch\u001b[0m\u001b[0;34m,\u001b[0m \u001b[0mgc_after_trial\u001b[0m\u001b[0;34m)\u001b[0m\u001b[0;34m\u001b[0m\u001b[0;34m\u001b[0m\u001b[0m\n\u001b[0m\u001b[1;32m    521\u001b[0m         \u001b[0;32mif\u001b[0m \u001b[0mcallbacks\u001b[0m \u001b[0;32mis\u001b[0m \u001b[0;32mnot\u001b[0m \u001b[0;32mNone\u001b[0m\u001b[0;34m:\u001b[0m\u001b[0;34m\u001b[0m\u001b[0;34m\u001b[0m\u001b[0m\n\u001b[1;32m    522\u001b[0m             \u001b[0mfrozen_trial\u001b[0m \u001b[0;34m=\u001b[0m \u001b[0mself\u001b[0m\u001b[0;34m.\u001b[0m\u001b[0m_storage\u001b[0m\u001b[0;34m.\u001b[0m\u001b[0mget_trial\u001b[0m\u001b[0;34m(\u001b[0m\u001b[0mtrial\u001b[0m\u001b[0;34m.\u001b[0m\u001b[0m_trial_id\u001b[0m\u001b[0;34m)\u001b[0m\u001b[0;34m\u001b[0m\u001b[0;34m\u001b[0m\u001b[0m\n",
      "\u001b[0;32m~/miniconda3/envs/TRAKODEV/lib/python3.6/site-packages/optuna/study.py\u001b[0m in \u001b[0;36m_run_trial\u001b[0;34m(self, func, catch, gc_after_trial)\u001b[0m\n\u001b[1;32m    533\u001b[0m \u001b[0;34m\u001b[0m\u001b[0m\n\u001b[1;32m    534\u001b[0m         \u001b[0mtrial_id\u001b[0m \u001b[0;34m=\u001b[0m \u001b[0mself\u001b[0m\u001b[0;34m.\u001b[0m\u001b[0m_storage\u001b[0m\u001b[0;34m.\u001b[0m\u001b[0mcreate_new_trial\u001b[0m\u001b[0;34m(\u001b[0m\u001b[0mself\u001b[0m\u001b[0;34m.\u001b[0m\u001b[0mstudy_id\u001b[0m\u001b[0;34m)\u001b[0m\u001b[0;34m\u001b[0m\u001b[0;34m\u001b[0m\u001b[0m\n\u001b[0;32m--> 535\u001b[0;31m         \u001b[0mtrial\u001b[0m \u001b[0;34m=\u001b[0m \u001b[0mtrial_module\u001b[0m\u001b[0;34m.\u001b[0m\u001b[0mTrial\u001b[0m\u001b[0;34m(\u001b[0m\u001b[0mself\u001b[0m\u001b[0;34m,\u001b[0m \u001b[0mtrial_id\u001b[0m\u001b[0;34m)\u001b[0m\u001b[0;34m\u001b[0m\u001b[0;34m\u001b[0m\u001b[0m\n\u001b[0m\u001b[1;32m    536\u001b[0m         \u001b[0mtrial_number\u001b[0m \u001b[0;34m=\u001b[0m \u001b[0mtrial\u001b[0m\u001b[0;34m.\u001b[0m\u001b[0mnumber\u001b[0m\u001b[0;34m\u001b[0m\u001b[0;34m\u001b[0m\u001b[0m\n\u001b[1;32m    537\u001b[0m \u001b[0;34m\u001b[0m\u001b[0m\n",
      "\u001b[0;32m~/miniconda3/envs/TRAKODEV/lib/python3.6/site-packages/optuna/trial.py\u001b[0m in \u001b[0;36m__init__\u001b[0;34m(self, study, trial_id)\u001b[0m\n\u001b[1;32m    138\u001b[0m         \u001b[0mself\u001b[0m\u001b[0;34m.\u001b[0m\u001b[0mlogger\u001b[0m \u001b[0;34m=\u001b[0m \u001b[0mlogging\u001b[0m\u001b[0;34m.\u001b[0m\u001b[0mget_logger\u001b[0m\u001b[0;34m(\u001b[0m\u001b[0m__name__\u001b[0m\u001b[0;34m)\u001b[0m\u001b[0;34m\u001b[0m\u001b[0;34m\u001b[0m\u001b[0m\n\u001b[1;32m    139\u001b[0m \u001b[0;34m\u001b[0m\u001b[0m\n\u001b[0;32m--> 140\u001b[0;31m         \u001b[0mself\u001b[0m\u001b[0;34m.\u001b[0m\u001b[0m_init_relative_params\u001b[0m\u001b[0;34m(\u001b[0m\u001b[0;34m)\u001b[0m\u001b[0;34m\u001b[0m\u001b[0;34m\u001b[0m\u001b[0m\n\u001b[0m\u001b[1;32m    141\u001b[0m \u001b[0;34m\u001b[0m\u001b[0m\n\u001b[1;32m    142\u001b[0m     \u001b[0;32mdef\u001b[0m \u001b[0m_init_relative_params\u001b[0m\u001b[0;34m(\u001b[0m\u001b[0mself\u001b[0m\u001b[0;34m)\u001b[0m\u001b[0;34m:\u001b[0m\u001b[0;34m\u001b[0m\u001b[0;34m\u001b[0m\u001b[0m\n",
      "\u001b[0;32m~/miniconda3/envs/TRAKODEV/lib/python3.6/site-packages/optuna/trial.py\u001b[0m in \u001b[0;36m_init_relative_params\u001b[0;34m(self)\u001b[0m\n\u001b[1;32m    148\u001b[0m             self.study, trial)\n\u001b[1;32m    149\u001b[0m         self.relative_params = self.study.sampler.sample_relative(self.study, trial,\n\u001b[0;32m--> 150\u001b[0;31m                                                                   self.relative_search_space)\n\u001b[0m\u001b[1;32m    151\u001b[0m \u001b[0;34m\u001b[0m\u001b[0m\n\u001b[1;32m    152\u001b[0m     \u001b[0;32mdef\u001b[0m \u001b[0msuggest_uniform\u001b[0m\u001b[0;34m(\u001b[0m\u001b[0mself\u001b[0m\u001b[0;34m,\u001b[0m \u001b[0mname\u001b[0m\u001b[0;34m,\u001b[0m \u001b[0mlow\u001b[0m\u001b[0;34m,\u001b[0m \u001b[0mhigh\u001b[0m\u001b[0;34m)\u001b[0m\u001b[0;34m:\u001b[0m\u001b[0;34m\u001b[0m\u001b[0;34m\u001b[0m\u001b[0m\n",
      "\u001b[0;32m~/Projects/TRAKO/trako/tuner.py\u001b[0m in \u001b[0;36msample_relative\u001b[0;34m(self, study, trial, search_space)\u001b[0m\n\u001b[1;32m    293\u001b[0m \u001b[0;34m\u001b[0m\u001b[0m\n\u001b[1;32m    294\u001b[0m         \u001b[0;32mif\u001b[0m \u001b[0mlen\u001b[0m\u001b[0;34m(\u001b[0m\u001b[0munvisited_grids\u001b[0m\u001b[0;34m)\u001b[0m \u001b[0;34m==\u001b[0m \u001b[0;36m0\u001b[0m\u001b[0;34m:\u001b[0m\u001b[0;34m\u001b[0m\u001b[0;34m\u001b[0m\u001b[0m\n\u001b[0;32m--> 295\u001b[0;31m             raise ValueError('All grids have been evaluated. If you want to avoid this error, '\n\u001b[0m\u001b[1;32m    296\u001b[0m                              \u001b[0;34m'please make sure that unnecessary trials do not run during '\u001b[0m\u001b[0;34m\u001b[0m\u001b[0;34m\u001b[0m\u001b[0m\n\u001b[1;32m    297\u001b[0m                              'optimization by properly setting `n_trials` in `study.optimize`.')\n",
      "\u001b[0;31mValueError\u001b[0m: All grids have been evaluated. If you want to avoid this error, please make sure that unnecessary trials do not run during optimization by properly setting `n_trials` in `study.optimize`."
     ]
    }
   ],
   "source": [
    "OUTPUTDIR = '/tmp/TRAKO_OPTUNA1/'\n",
    "vtpsizes = []\n",
    "tkosizes = []\n",
    "for S in SUBJECTS[0:1]:\n",
    "    for G in GROUP[0:1]:\n",
    "        CURRENTDIR = os.path.join(DATADIR, S, G)\n",
    "        CURRENTOUTDIR = os.path.join(OUTPUTDIR, S, G)\n",
    "        files = os.listdir(CURRENTDIR)[0:1]\n",
    "        \n",
    "        if not os.path.exists(CURRENTOUTDIR):\n",
    "            os.makedirs(CURRENTOUTDIR)\n",
    "        \n",
    "        for f in files:\n",
    "            if not f.endswith('vtp'):\n",
    "                continue\n",
    "            \n",
    "            vtpfile = os.path.join(CURRENTDIR, f)\n",
    "\n",
    "            search_space = {\n",
    "             'position': [True,False],\n",
    "             'sequential': [True,False],\n",
    "             'quantization_bits': list(range(15,25)),\n",
    "             'compression_level': list(range(3,7))\n",
    "            }\n",
    "            \n",
    "            tuner.Tuner.tune(vtpfile, search_space, maxdelta=0.01)"
   ]
  },
  {
   "cell_type": "code",
   "execution_count": 15,
   "metadata": {},
   "outputs": [
    {
     "data": {
      "text/plain": [
       "FrozenTrial(number=6, state=TrialState.COMPLETE, value=111336.0, datetime_start=datetime.datetime(2020, 1, 30, 8, 50, 20, 536952), datetime_complete=datetime.datetime(2020, 1, 30, 8, 50, 20, 921601), params={'position': False, 'sequential': True, 'quantization_bits': 6, 'compression_level': 0}, distributions={'position': CategoricalDistribution(choices=(True, False)), 'sequential': CategoricalDistribution(choices=(True, False)), 'quantization_bits': IntUniformDistribution(high=31, low=0), 'compression_level': IntUniformDistribution(high=10, low=0)}, user_attrs={}, system_attrs={'_number': 6}, intermediate_values={}, trial_id=6)"
      ]
     },
     "execution_count": 15,
     "metadata": {},
     "output_type": "execute_result"
    }
   ],
   "source": [
    "study.best_trial"
   ]
  },
  {
   "cell_type": "code",
   "execution_count": 16,
   "metadata": {},
   "outputs": [
    {
     "data": {
      "text/plain": [
       "{'position': False,\n",
       " 'sequential': True,\n",
       " 'quantization_bits': 6,\n",
       " 'compression_level': 0}"
      ]
     },
     "execution_count": 16,
     "metadata": {},
     "output_type": "execute_result"
    }
   ],
   "source": [
    "study.best_trial.params"
   ]
  },
  {
   "cell_type": "code",
   "execution_count": 18,
   "metadata": {},
   "outputs": [
    {
     "name": "stdout",
     "output_type": "stream",
     "text": [
      "+-------------------+---------+-------------+\n",
      "|        File       |  Bytes  | Streamlines |\n",
      "+-------------------+---------+-------------+\n",
      "| cluster_00616.vtp | 1172155 |     190     |\n",
      "|    restored.vtp   |  974914 |     190     |\n",
      "+-------------------+---------+-------------+\n",
      "+--------------+------------+------------+-------------+----------+\n",
      "|   Geometry   | Min. Delta | Max. Delta | Mean. Delta | StdDev.  |\n",
      "+--------------+------------+------------+-------------+----------+\n",
      "|  XYZ Points  |  36.01881  | 121.135544 |   66.63499  | 14.55739 |\n",
      "| Line Indices |    0.0     |    0.0     |     0.0     |   0.0    |\n",
      "+--------------+------------+------------+-------------+----------+\n",
      "+---------------------------------+------------+------------+-------------+-----------+\n",
      "|             Scalars             | Min. Delta | Max. Delta | Mean. Delta |  StdDev.  |\n",
      "+---------------------------------+------------+------------+-------------+-----------+\n",
      "| NormalizedSignalEstimationError |    0.0     |  0.049699  |   0.007262  |  0.005921 |\n",
      "|       EstimatedUncertainty      |    0.0     | 13834.904  |   3345.544  | 2350.3135 |\n",
      "|              RTOP1              |    0.0     | 108.134995 |   2.833546  |  3.126929 |\n",
      "|              RTOP2              |   2e-06    |  2832.742  |   5.75169   | 30.145191 |\n",
      "|              RTAP1              |  3.9e-05   |  35.09629  |   2.279153  |  2.256563 |\n",
      "|              RTAP2              |    0.0     | 2320.7205  |   5.209144  |  25.05163 |\n",
      "|              RTPP1              |    0.0     |  3.823631  |   0.191685  |  0.237758 |\n",
      "|              RTPP2              |    0.0     |  6.146398  |   0.187542  |  0.32661  |\n",
      "|            SignalMean           |    0.0     |  0.034772  |   0.004579  |  0.005455 |\n",
      "+---------------------------------+------------+------------+-------------+-----------+\n",
      "+-------------------------+------------+------------+-------------+-----------+\n",
      "|        Properties       | Min. Delta | Max. Delta | Mean. Delta |  StdDev.  |\n",
      "+-------------------------+------------+------------+-------------+-----------+\n",
      "|   EmbeddingCoordinate   |  2.377431  |  6.11956   |   3.671435  |  1.007745 |\n",
      "|      ClusterNumber      |    0.0     |    0.0     |     0.0     |    0.0    |\n",
      "|      EmbeddingColor     |  125.004   | 346.809746 |  228.293948 | 54.811155 |\n",
      "|   TotalFiberSimilarity  |    0.0     | 370519.44  |  138325.16  |  89085.36 |\n",
      "| MeasuredFiberSimilarity |    0.0     |  0.000351  |   8.3e-05   |  6.3e-05  |\n",
      "+-------------------------+------------+------------+-------------+-----------+\n"
     ]
    }
   ],
   "source": [
    "import imp, os\n",
    "tkompare = imp.load_source('tkompare', '../tkompare')\n",
    "\n",
    "config = {\n",
    "  '*': { \n",
    "    'position':study.best_trial.params['position'],\n",
    "    'sequential':study.best_trial.params['sequential'],\n",
    "    'quantization_bits':study.best_trial.params['quantization_bits'],\n",
    "    'compression_level':study.best_trial.params['compression_level'],\n",
    "    'quantization_range':-1,\n",
    "    'quantization_origin':None\n",
    "  }\n",
    "\n",
    "}\n",
    "\n",
    "\n",
    "\n",
    "tkompare.compare(vtpfile, '/tmp/restored.vtp')"
   ]
  },
  {
   "cell_type": "code",
   "execution_count": null,
   "metadata": {},
   "outputs": [],
   "source": []
  },
  {
   "cell_type": "code",
   "execution_count": null,
   "metadata": {},
   "outputs": [],
   "source": []
  }
 ],
 "metadata": {
  "kernelspec": {
   "display_name": "Python 3",
   "language": "python",
   "name": "python3"
  },
  "language_info": {
   "codemirror_mode": {
    "name": "ipython",
    "version": 3
   },
   "file_extension": ".py",
   "mimetype": "text/x-python",
   "name": "python",
   "nbconvert_exporter": "python",
   "pygments_lexer": "ipython3",
   "version": "3.6.9"
  }
 },
 "nbformat": 4,
 "nbformat_minor": 2
}
