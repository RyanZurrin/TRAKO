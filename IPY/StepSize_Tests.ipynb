{
 "cells": [
  {
   "cell_type": "code",
   "execution_count": 27,
   "metadata": {},
   "outputs": [
    {
     "name": "stdout",
     "output_type": "stream",
     "text": [
      "Populating the interactive namespace from numpy and matplotlib\n"
     ]
    }
   ],
   "source": [
    "%pylab inline\n",
    "import os, sys, glob\n",
    "%load_ext autoreload\n",
    "%autoreload 2"
   ]
  },
  {
   "cell_type": "code",
   "execution_count": 28,
   "metadata": {},
   "outputs": [],
   "source": [
    "import trako as TKO\n",
    "sys.path.append('MICCAI/')\n",
    "import runner, sprinter"
   ]
  },
  {
   "cell_type": "code",
   "execution_count": 40,
   "metadata": {},
   "outputs": [],
   "source": [
    "DATA_FOLDER = '/home/d/Dropbox/TRAKODATA/UKF-multiple-steplength/VTK/'\n",
    "FILES = os.listdir(DATA_FOLDER)"
   ]
  },
  {
   "cell_type": "code",
   "execution_count": 60,
   "metadata": {
    "scrolled": false
   },
   "outputs": [
    {
     "name": "stdout",
     "output_type": "stream",
     "text": [
      "-\n",
      "100307-CC-0p3.vtk\n"
     ]
    },
    {
     "name": "stderr",
     "output_type": "stream",
     "text": [
      "/home/d/miniconda3/envs/TRAKODEV/lib/python3.6/site-packages/vtk-8.1.2-py3.6-linux-x86_64.egg/vtk/util/numpy_support.py:137: FutureWarning:\n",
      "\n",
      "Conversion of the second argument of issubdtype from `complex` to `np.complexfloating` is deprecated. In future, it will be treated as `np.complex128 == np.dtype(complex).type`.\n",
      "\n"
     ]
    },
    {
     "name": "stdout",
     "output_type": "stream",
     "text": [
      "FreeWater\n",
      "min 0.0\n",
      "max 2.2828579e-05\n",
      "mean 1.071504e-05\n",
      "std 6.839988e-06\n",
      "tensor2\n",
      "min 2.4127242e-08\n",
      "max 1.386046e-07\n",
      "mean 8.838364e-08\n",
      "std 1.775362e-08\n",
      "tensor1\n",
      "min 1.3594694e-08\n",
      "max 1.04649494e-07\n",
      "mean 6.708967e-08\n",
      "std 1.4018392e-08\n",
      "EstimatedUncertainty\n",
      "min 0.0\n",
      "max 0.29614258\n",
      "mean 0.14757754\n",
      "std 0.086643234\n",
      "FA1\n",
      "min 0.0\n",
      "max 2.425909e-05\n",
      "mean 1.1983918e-05\n",
      "std 6.9870994e-06\n",
      "FA2\n",
      "min 0.0\n",
      "max 2.9563904e-05\n",
      "mean 1.4892932e-05\n",
      "std 8.561149e-06\n",
      "trace1\n",
      "min 0.0\n",
      "max 1.0186341e-08\n",
      "mean 5.06063e-09\n",
      "std 2.933349e-09\n",
      "trace2\n",
      "min 0.0\n",
      "max 8.8475645e-09\n",
      "mean 4.4215893e-09\n",
      "std 2.5636784e-09\n",
      "-\n",
      "100307-CC-0p6.vtk\n"
     ]
    },
    {
     "name": "stderr",
     "output_type": "stream",
     "text": [
      "/home/d/miniconda3/envs/TRAKODEV/lib/python3.6/site-packages/vtk-8.1.2-py3.6-linux-x86_64.egg/vtk/util/numpy_support.py:137: FutureWarning:\n",
      "\n",
      "Conversion of the second argument of issubdtype from `complex` to `np.complexfloating` is deprecated. In future, it will be treated as `np.complex128 == np.dtype(complex).type`.\n",
      "\n"
     ]
    },
    {
     "name": "stdout",
     "output_type": "stream",
     "text": [
      "FreeWater\n",
      "min 1.013279e-06\n",
      "max 0.74448067\n",
      "mean 0.17960268\n",
      "std 0.16238199\n",
      "tensor2\n",
      "min 8.4188514e-08\n",
      "max 0.0014529909\n",
      "mean 0.00073443924\n",
      "std 0.0003779412\n",
      "tensor1\n",
      "min 6.031561e-08\n",
      "max 0.0010708517\n",
      "mean 0.00047856275\n",
      "std 0.00025096114\n",
      "EstimatedUncertainty\n",
      "min 0.10864258\n",
      "max 9088.5625\n",
      "mean 1895.9542\n",
      "std 1511.6075\n",
      "FA1\n",
      "min 9.953976e-06\n",
      "max 0.64679503\n",
      "mean 0.13365833\n",
      "std 0.10685545\n",
      "FA2\n",
      "min 1.7523766e-05\n",
      "max 0.88614994\n",
      "mean 0.15362827\n",
      "std 0.14876151\n",
      "trace1\n",
      "min 2.6775524e-09\n",
      "max 0.00021602938\n",
      "mean 5.424623e-05\n",
      "std 4.5143075e-05\n",
      "trace2\n",
      "min 7.3341653e-09\n",
      "max 0.00023788319\n",
      "mean 5.0246024e-05\n",
      "std 4.83091e-05\n",
      "-\n",
      "100307-CC-0p9.vtk\n"
     ]
    },
    {
     "name": "stderr",
     "output_type": "stream",
     "text": [
      "/home/d/miniconda3/envs/TRAKODEV/lib/python3.6/site-packages/vtk-8.1.2-py3.6-linux-x86_64.egg/vtk/util/numpy_support.py:137: FutureWarning:\n",
      "\n",
      "Conversion of the second argument of issubdtype from `complex` to `np.complexfloating` is deprecated. In future, it will be treated as `np.complex128 == np.dtype(complex).type`.\n",
      "\n"
     ]
    },
    {
     "name": "stdout",
     "output_type": "stream",
     "text": [
      "FreeWater\n",
      "min 0.0\n",
      "max 0.7297782\n",
      "mean 0.1820362\n",
      "std 0.16444817\n",
      "tensor2\n",
      "min 1.4946238e-05\n",
      "max 0.0014167917\n",
      "mean 0.0006856075\n",
      "std 0.00034693166\n",
      "tensor1\n",
      "min 2.1363003e-05\n",
      "max 0.001070184\n",
      "mean 0.0004518276\n",
      "std 0.00025411005\n",
      "EstimatedUncertainty\n",
      "min 0.17593384\n",
      "max 7141.9014\n",
      "mean 1966.155\n",
      "std 1590.4636\n",
      "FA1\n",
      "min 3.9339066e-05\n",
      "max 0.62027985\n",
      "mean 0.127447\n",
      "std 0.11703972\n",
      "FA2\n",
      "min 0.0005246997\n",
      "max 0.92835236\n",
      "mean 0.16226545\n",
      "std 0.1655579\n",
      "trace1\n",
      "min 1.4551915e-08\n",
      "max 0.00020887222\n",
      "mean 4.982582e-05\n",
      "std 4.3868677e-05\n",
      "trace2\n",
      "min 7.9744495e-08\n",
      "max 0.00021752363\n",
      "mean 4.510381e-05\n",
      "std 4.2532796e-05\n"
     ]
    }
   ],
   "source": [
    "config = {\n",
    "    'name':'default'\n",
    "}\n",
    "\n",
    "for f in FILES:\n",
    "    print('-')\n",
    "    print(f)\n",
    "    input = f\n",
    "    compressed = input.replace('vtk','_'+config['name']+'.tko')\n",
    "    restored = input.replace('vtk','_'+config['name']+'_restored.vtp')\n",
    "    stats = runner.Runner.tko(DATA_FOLDER, FILES[0], compressed=compressed, restored=restored, config=config, force=True)\n",
    "\n",
    "    i_poly = TKO.Util.loadvtp(os.path.join(DATA_FOLDER, input))\n",
    "    i_scalars = i_poly['scalars']\n",
    "    i_nscalars = i_poly['scalar_names']\n",
    "    i_properties = i_poly['properties']\n",
    "    i_nproperties = i_poly['property_names']\n",
    "\n",
    "    r_poly = TKO.Util.loadvtp(os.path.join(DATA_FOLDER, restored))\n",
    "    r_scalars = r_poly['scalars']\n",
    "    r_properties = r_poly['properties']\n",
    "\n",
    "    for i,j in enumerate(i_nscalars):\n",
    "        \n",
    "        print(j)\n",
    "        stats = TKO.Util.error(i_scalars[i], r_scalars[i])\n",
    "        print('min', stats[0][0])\n",
    "        print('max', stats[0][1])\n",
    "        print('mean', stats[0][2])\n",
    "        print('std', stats[0][3])"
   ]
  },
  {
   "cell_type": "code",
   "execution_count": null,
   "metadata": {},
   "outputs": [],
   "source": []
  }
 ],
 "metadata": {
  "kernelspec": {
   "display_name": "Python 3",
   "language": "python",
   "name": "python3"
  },
  "language_info": {
   "codemirror_mode": {
    "name": "ipython",
    "version": 3
   },
   "file_extension": ".py",
   "mimetype": "text/x-python",
   "name": "python",
   "nbconvert_exporter": "python",
   "pygments_lexer": "ipython3",
   "version": "3.6.9"
  }
 },
 "nbformat": 4,
 "nbformat_minor": 2
}
