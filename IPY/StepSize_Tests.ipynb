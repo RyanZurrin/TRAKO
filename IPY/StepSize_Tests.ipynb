{
 "cells": [
  {
   "cell_type": "code",
   "execution_count": 1,
   "metadata": {},
   "outputs": [
    {
     "name": "stdout",
     "output_type": "stream",
     "text": [
      "Populating the interactive namespace from numpy and matplotlib\n"
     ]
    }
   ],
   "source": [
    "%pylab inline\n",
    "import os, sys, glob\n",
    "%load_ext autoreload\n",
    "%autoreload 2"
   ]
  },
  {
   "cell_type": "code",
   "execution_count": 2,
   "metadata": {},
   "outputs": [],
   "source": [
    "import trako as TKO\n",
    "sys.path.append('MICCAI/')\n",
    "import runner, sprinter"
   ]
  },
  {
   "cell_type": "code",
   "execution_count": 13,
   "metadata": {},
   "outputs": [],
   "source": [
    "DATA_FOLDER = '/home/d/Dropbox/TRAKODATA/UKF-multiple-steplength_11/'\n",
    "FILES = os.listdir(DATA_FOLDER)"
   ]
  },
  {
   "cell_type": "code",
   "execution_count": 19,
   "metadata": {
    "scrolled": false
   },
   "outputs": [
    {
     "name": "stdout",
     "output_type": "stream",
     "text": [
      "-\n",
      "100307-CC-0p3.vtk\n",
      "100307-CC-0p3._default.tko\n",
      "/home/d/Dropbox/TRAKODATA/UKF-multiple-steplength_11/100307-CC-0p3._default.tko\n"
     ]
    },
    {
     "name": "stderr",
     "output_type": "stream",
     "text": [
      "/home/d/miniconda3/envs/TRAKODEV/lib/python3.6/site-packages/vtk-8.1.2-py3.6-linux-x86_64.egg/vtk/util/numpy_support.py:137: FutureWarning:\n",
      "\n",
      "Conversion of the second argument of issubdtype from `complex` to `np.complexfloating` is deprecated. In future, it will be treated as `np.complex128 == np.dtype(complex).type`.\n",
      "\n"
     ]
    },
    {
     "name": "stdout",
     "output_type": "stream",
     "text": [
      "/home/d/Dropbox/TRAKODATA/UKF-multiple-steplength_11/100307-CC-0p3._default_restored.vtp\n"
     ]
    },
    {
     "ename": "AttributeError",
     "evalue": "'NoneType' object has no attribute 'GetData'",
     "output_type": "error",
     "traceback": [
      "\u001b[0;31m---------------------------------------------------------------------------\u001b[0m",
      "\u001b[0;31mAttributeError\u001b[0m                            Traceback (most recent call last)",
      "\u001b[0;32m<ipython-input-19-7e3c4a1162a6>\u001b[0m in \u001b[0;36m<module>\u001b[0;34m\u001b[0m\n\u001b[1;32m     23\u001b[0m     stats = runner.Runner.tko(DATA_FOLDER, input, \n\u001b[1;32m     24\u001b[0m                               \u001b[0mcompressed\u001b[0m\u001b[0;34m=\u001b[0m\u001b[0mcompressed\u001b[0m\u001b[0;34m,\u001b[0m\u001b[0;34m\u001b[0m\u001b[0;34m\u001b[0m\u001b[0m\n\u001b[0;32m---> 25\u001b[0;31m                               restored=restored, config=config, force=True)\n\u001b[0m\u001b[1;32m     26\u001b[0m \u001b[0;34m\u001b[0m\u001b[0m\n\u001b[1;32m     27\u001b[0m     \u001b[0mi_poly\u001b[0m \u001b[0;34m=\u001b[0m \u001b[0mTKO\u001b[0m\u001b[0;34m.\u001b[0m\u001b[0mUtil\u001b[0m\u001b[0;34m.\u001b[0m\u001b[0mloadvtp\u001b[0m\u001b[0;34m(\u001b[0m\u001b[0mos\u001b[0m\u001b[0;34m.\u001b[0m\u001b[0mpath\u001b[0m\u001b[0;34m.\u001b[0m\u001b[0mjoin\u001b[0m\u001b[0;34m(\u001b[0m\u001b[0mDATA_FOLDER\u001b[0m\u001b[0;34m,\u001b[0m \u001b[0minput\u001b[0m\u001b[0;34m)\u001b[0m\u001b[0;34m)\u001b[0m\u001b[0;34m\u001b[0m\u001b[0;34m\u001b[0m\u001b[0m\n",
      "\u001b[0;32m~/Projects/TRAKO/IPY/MICCAI/runner.py\u001b[0m in \u001b[0;36mtko\u001b[0;34m(workingdir, input, compressed, restored, config, force, binary, coords_only, verbose)\u001b[0m\n\u001b[1;32m    292\u001b[0m \u001b[0;34m\u001b[0m\u001b[0m\n\u001b[1;32m    293\u001b[0m       \u001b[0mprint\u001b[0m\u001b[0;34m(\u001b[0m\u001b[0mos\u001b[0m\u001b[0;34m.\u001b[0m\u001b[0mpath\u001b[0m\u001b[0;34m.\u001b[0m\u001b[0mjoin\u001b[0m\u001b[0;34m(\u001b[0m\u001b[0mworkingdir\u001b[0m\u001b[0;34m,\u001b[0m \u001b[0mrestored\u001b[0m\u001b[0;34m)\u001b[0m\u001b[0;34m)\u001b[0m\u001b[0;34m\u001b[0m\u001b[0;34m\u001b[0m\u001b[0m\n\u001b[0;32m--> 294\u001b[0;31m       \u001b[0mrestored_data\u001b[0m \u001b[0;34m=\u001b[0m \u001b[0mTKO\u001b[0m\u001b[0;34m.\u001b[0m\u001b[0mUtil\u001b[0m\u001b[0;34m.\u001b[0m\u001b[0mloadvtp\u001b[0m\u001b[0;34m(\u001b[0m\u001b[0mos\u001b[0m\u001b[0;34m.\u001b[0m\u001b[0mpath\u001b[0m\u001b[0;34m.\u001b[0m\u001b[0mjoin\u001b[0m\u001b[0;34m(\u001b[0m\u001b[0mworkingdir\u001b[0m\u001b[0;34m,\u001b[0m \u001b[0mrestored\u001b[0m\u001b[0;34m)\u001b[0m\u001b[0;34m)\u001b[0m\u001b[0;34m\u001b[0m\u001b[0;34m\u001b[0m\u001b[0m\n\u001b[0m\u001b[1;32m    295\u001b[0m \u001b[0;34m\u001b[0m\u001b[0m\n\u001b[1;32m    296\u001b[0m       restored_streamlines = Runner.vtk2streamlines(restored_data['number_of_streamlines'], \n",
      "\u001b[0;32m~/miniconda3/envs/TRAKODEV/lib/python3.6/site-packages/trako-0.2.4.dev9-py3.6.egg/trako/util.py\u001b[0m in \u001b[0;36mloadvtp\u001b[0;34m(a, fromfile)\u001b[0m\n\u001b[1;32m    117\u001b[0m       \u001b[0mpolydata\u001b[0m \u001b[0;34m=\u001b[0m \u001b[0ma\u001b[0m\u001b[0;34m\u001b[0m\u001b[0;34m\u001b[0m\u001b[0m\n\u001b[1;32m    118\u001b[0m \u001b[0;34m\u001b[0m\u001b[0m\n\u001b[0;32m--> 119\u001b[0;31m     \u001b[0mpoints\u001b[0m \u001b[0;34m=\u001b[0m \u001b[0mnumpy_support\u001b[0m\u001b[0;34m.\u001b[0m\u001b[0mvtk_to_numpy\u001b[0m\u001b[0;34m(\u001b[0m\u001b[0mpolydata\u001b[0m\u001b[0;34m.\u001b[0m\u001b[0mGetPoints\u001b[0m\u001b[0;34m(\u001b[0m\u001b[0;34m)\u001b[0m\u001b[0;34m.\u001b[0m\u001b[0mGetData\u001b[0m\u001b[0;34m(\u001b[0m\u001b[0;34m)\u001b[0m\u001b[0;34m)\u001b[0m\u001b[0;34m\u001b[0m\u001b[0;34m\u001b[0m\u001b[0m\n\u001b[0m\u001b[1;32m    120\u001b[0m     \u001b[0mlines\u001b[0m \u001b[0;34m=\u001b[0m \u001b[0mnumpy_support\u001b[0m\u001b[0;34m.\u001b[0m\u001b[0mvtk_to_numpy\u001b[0m\u001b[0;34m(\u001b[0m\u001b[0mpolydata\u001b[0m\u001b[0;34m.\u001b[0m\u001b[0mGetLines\u001b[0m\u001b[0;34m(\u001b[0m\u001b[0;34m)\u001b[0m\u001b[0;34m.\u001b[0m\u001b[0mGetData\u001b[0m\u001b[0;34m(\u001b[0m\u001b[0;34m)\u001b[0m\u001b[0;34m)\u001b[0m\u001b[0;34m\u001b[0m\u001b[0;34m\u001b[0m\u001b[0m\n\u001b[1;32m    121\u001b[0m     \u001b[0mnumber_of_streamlines\u001b[0m \u001b[0;34m=\u001b[0m \u001b[0mpolydata\u001b[0m\u001b[0;34m.\u001b[0m\u001b[0mGetLines\u001b[0m\u001b[0;34m(\u001b[0m\u001b[0;34m)\u001b[0m\u001b[0;34m.\u001b[0m\u001b[0mGetNumberOfCells\u001b[0m\u001b[0;34m(\u001b[0m\u001b[0;34m)\u001b[0m\u001b[0;34m\u001b[0m\u001b[0;34m\u001b[0m\u001b[0m\n",
      "\u001b[0;31mAttributeError\u001b[0m: 'NoneType' object has no attribute 'GetData'"
     ]
    }
   ],
   "source": [
    "config = {\n",
    "    'name':'default',\n",
    "    '*': {\n",
    "        'position':True,\n",
    "        'sequential':True,\n",
    "        'quantization_bits':14,\n",
    "        'compression_level':1,\n",
    "        'quantization_range':-1,\n",
    "        'quantization_origin':None\n",
    "      }\n",
    "}\n",
    "\n",
    "for f in FILES:\n",
    "    \n",
    "    if not f.endswith('vtk'):\n",
    "        continue\n",
    "    \n",
    "    print('-')\n",
    "    print(f)\n",
    "    input = f\n",
    "    compressed = input.replace('vtk','_'+config['name']+'.tko')\n",
    "    restored = input.replace('vtk','_'+config['name']+'_restored.vtp')\n",
    "    stats = runner.Runner.tko(DATA_FOLDER, input, \n",
    "                              compressed=compressed, \n",
    "                              restored=restored, config=config, force=True)\n",
    "\n",
    "    i_poly = TKO.Util.loadvtp(os.path.join(DATA_FOLDER, input))\n",
    "    i_scalars = i_poly['scalars']\n",
    "    i_nscalars = i_poly['scalar_names']\n",
    "    i_properties = i_poly['properties']\n",
    "    i_nproperties = i_poly['property_names']\n",
    "\n",
    "    r_poly = TKO.Util.loadvtp(os.path.join(DATA_FOLDER, restored))\n",
    "    r_scalars = r_poly['scalars']\n",
    "    r_properties = r_poly['properties']\n",
    "\n",
    "    for i,j in enumerate(i_nscalars):\n",
    "        \n",
    "        print(j)\n",
    "        stats = TKO.Util.error(i_scalars[i], r_scalars[i])\n",
    "        print('min', stats[0][0])\n",
    "        print('max', stats[0][1])\n",
    "        print('mean', stats[0][2])\n",
    "        print('std', stats[0][3])"
   ]
  },
  {
   "cell_type": "code",
   "execution_count": 8,
   "metadata": {},
   "outputs": [
    {
     "data": {
      "text/plain": [
       "1.6894161745464833"
      ]
     },
     "execution_count": 8,
     "metadata": {},
     "output_type": "execute_result"
    }
   ],
   "source": [
    "143325 / 84837 # 9"
   ]
  },
  {
   "cell_type": "code",
   "execution_count": 9,
   "metadata": {},
   "outputs": [
    {
     "data": {
      "text/plain": [
       "1.763707432437981"
      ]
     },
     "execution_count": 9,
     "metadata": {},
     "output_type": "execute_result"
    }
   ],
   "source": [
    "214779 / 121777 # 6 "
   ]
  },
  {
   "cell_type": "code",
   "execution_count": 10,
   "metadata": {},
   "outputs": [
    {
     "data": {
      "text/plain": [
       "1.8597802197802198"
      ]
     },
     "execution_count": 10,
     "metadata": {},
     "output_type": "execute_result"
    }
   ],
   "source": [
    "423100 / 227500 # 3"
   ]
  },
  {
   "cell_type": "code",
   "execution_count": null,
   "metadata": {},
   "outputs": [],
   "source": []
  }
 ],
 "metadata": {
  "kernelspec": {
   "display_name": "Python 3",
   "language": "python",
   "name": "python3"
  },
  "language_info": {
   "codemirror_mode": {
    "name": "ipython",
    "version": 3
   },
   "file_extension": ".py",
   "mimetype": "text/x-python",
   "name": "python",
   "nbconvert_exporter": "python",
   "pygments_lexer": "ipython3",
   "version": "3.6.9"
  }
 },
 "nbformat": 4,
 "nbformat_minor": 2
}
