{
 "cells": [
  {
   "cell_type": "code",
   "execution_count": 1,
   "metadata": {},
   "outputs": [
    {
     "name": "stdout",
     "output_type": "stream",
     "text": [
      "Populating the interactive namespace from numpy and matplotlib\n"
     ]
    }
   ],
   "source": [
    "%pylab inline\n",
    "import os\n",
    "import trako as TKO"
   ]
  },
  {
   "cell_type": "code",
   "execution_count": 2,
   "metadata": {},
   "outputs": [],
   "source": [
    "import warnings\n",
    "warnings.filterwarnings(\"ignore\") # hide vtk.util warning"
   ]
  },
  {
   "cell_type": "code",
   "execution_count": 3,
   "metadata": {},
   "outputs": [],
   "source": [
    "DATASETNAME = 'ADHD_STFC_diff_for_Daniel'\n",
    "DATADIR = '/home/d/DATA/Dropbox/'+DATASETNAME+'/'\n",
    "SUBJECTS = ['101','201']\n",
    "GROUP = ['tracts_left_hemisphere']"
   ]
  },
  {
   "cell_type": "markdown",
   "metadata": {},
   "source": [
    "# Tkompare!"
   ]
  },
  {
   "cell_type": "code",
   "execution_count": 16,
   "metadata": {
    "scrolled": true
   },
   "outputs": [
    {
     "name": "stdout",
     "output_type": "stream",
     "text": [
      "Compared cluster_00616.vtp 1.6446598e-05\n",
      "Compared cluster_00483.vtp 1.6179609e-05\n",
      "Compared cluster_00013.vtp 1.6085249e-05\n",
      "Compared cluster_00414.vtp 1.62887e-05\n",
      "Compared cluster_00568.vtp 1.7188742e-05\n",
      "Compared cluster_00497.vtp 1.7043514e-05\n",
      "Compared cluster_00752.vtp 1.8794895e-05\n",
      "Compared cluster_00112.vtp 1.8589617e-05\n",
      "Compared cluster_00450.vtp 1.8884186e-05\n",
      "Compared cluster_00691.vtp 1.8992268e-05\n",
      "Compared cluster_00443.vtp 1.8948385e-05\n",
      "Compared cluster_00620.vtp 1.9004017e-05\n",
      "Did not find Draco compressed data..\n",
      "Compared cluster_00740.vtp 1.9183399e-05\n",
      "Compared cluster_00778.vtp 1.9301533e-05\n",
      "Compared cluster_00779.vtp 1.8858873e-05\n",
      "Compared cluster_00248.vtp 1.8492252e-05\n",
      "Compared cluster_00593.vtp 1.8669878e-05\n",
      "Compared cluster_00429.vtp 1.8841958e-05\n",
      "Compared cluster_00397.vtp 1.8992874e-05\n",
      "Compared cluster_00743.vtp 1.91951e-05\n",
      "Compared cluster_00340.vtp 1.9675508e-05\n",
      "Compared cluster_00150.vtp 1.9280707e-05\n",
      "Compared cluster_00140.vtp 1.9135321e-05\n",
      "Compared cluster_00508.vtp 1.9020346e-05\n",
      "Compared cluster_00544.vtp 1.9181067e-05\n",
      "Compared cluster_00080.vtp 1.9188696e-05\n",
      "Compared cluster_00545.vtp 1.9565725e-05\n",
      "Compared cluster_00380.vtp 1.9435338e-05\n",
      "Compared cluster_00361.vtp 1.9774357e-05\n",
      "Compared cluster_00707.vtp 1.9908235e-05\n",
      "Compared cluster_00220.vtp 2.0025465e-05\n",
      "Compared cluster_00694.vtp 2.009678e-05\n",
      "Compared cluster_00189.vtp 2.023377e-05\n",
      "Compared cluster_00750.vtp 2.0154946e-05\n",
      "Compared cluster_00658.vtp 1.9956311e-05\n",
      "Compared cluster_00357.vtp 2.021664e-05\n",
      "Compared cluster_00201.vtp 2.0016345e-05\n",
      "Compared cluster_00633.vtp 1.9962145e-05\n",
      "Compared cluster_00085.vtp 1.9916271e-05\n",
      "Compared cluster_00027.vtp 1.9892992e-05\n",
      "Compared cluster_00784.vtp 1.9997775e-05\n",
      "Compared cluster_00744.vtp 2.0075331e-05\n",
      "Compared cluster_00258.vtp 2.0290112e-05\n",
      "Compared cluster_00120.vtp 2.0352818e-05\n",
      "Compared cluster_00770.vtp 2.0415931e-05\n",
      "Compared cluster_00383.vtp 2.0498741e-05\n",
      "Compared cluster_00021.vtp 2.0528532e-05\n",
      "Compared cluster_00272.vtp 2.0556086e-05\n",
      "Compared cluster_00462.vtp 2.0484866e-05\n",
      "Compared cluster_00768.vtp 2.0554457e-05\n",
      "Compared cluster_00597.vtp 2.0552327e-05\n",
      "Compared cluster_00228.vtp 2.0563435e-05\n",
      "Compared cluster_00304.vtp 2.0696387e-05\n",
      "Compared cluster_00646.vtp 2.0669822e-05\n",
      "Compared cluster_00754.vtp 2.0770012e-05\n",
      "Compared cluster_00432.vtp 2.082491e-05\n",
      "Compared cluster_00463.vtp 2.0744423e-05\n",
      "Compared cluster_00301.vtp 2.0806903e-05\n",
      "Compared cluster_00192.vtp 2.077019e-05\n",
      "Compared cluster_00581.vtp 2.0757889e-05\n",
      "Compared cluster_00288.vtp 2.0710653e-05\n",
      "Compared cluster_00474.vtp 2.0749329e-05\n",
      "Compared cluster_00800.vtp 2.0886551e-05\n",
      "Compared cluster_00632.vtp 2.0902347e-05\n",
      "Compared cluster_00541.vtp 2.0820093e-05\n",
      "Compared cluster_00382.vtp 2.0827989e-05\n",
      "Compared cluster_00066.vtp 2.0768955e-05\n",
      "Compared cluster_00160.vtp 2.073805e-05\n",
      "Did not find Draco compressed data..\n",
      "Compared cluster_00731.vtp 2.0843234e-05\n",
      "Compared cluster_00286.vtp 2.0840547e-05\n",
      "Compared cluster_00588.vtp 2.0851925e-05\n",
      "Compared cluster_00267.vtp 2.0916179e-05\n",
      "Compared cluster_00498.vtp 2.0894822e-05\n",
      "Compared cluster_00457.vtp 2.0937536e-05\n",
      "Compared cluster_00206.vtp 2.1001206e-05\n",
      "Compared cluster_00735.vtp 2.111047e-05\n",
      "Compared cluster_00142.vtp 2.119768e-05\n",
      "Compared cluster_00711.vtp 2.1203237e-05\n",
      "Compared cluster_00648.vtp 2.1152182e-05\n",
      "Compared cluster_00207.vtp 2.1076135e-05\n",
      "Compared cluster_00608.vtp 2.1010123e-05\n",
      "Compared cluster_00038.vtp 2.0921887e-05\n",
      "Compared cluster_00373.vtp 2.1024594e-05\n",
      "Compared cluster_00456.vtp 2.1073478e-05\n",
      "Compared cluster_00566.vtp 2.1044494e-05\n",
      "Compared cluster_00255.vtp 2.1059139e-05\n",
      "Compared cluster_00094.vtp 2.1046671e-05\n",
      "Compared cluster_00231.vtp 2.0963524e-05\n",
      "Compared cluster_00670.vtp 2.0966669e-05\n",
      "Compared cluster_00550.vtp 2.1026217e-05\n",
      "Compared cluster_00227.vtp 2.1024725e-05\n",
      "Compared cluster_00729.vtp 2.1112408e-05\n",
      "Compared cluster_00359.vtp 2.1200705e-05\n",
      "Compared cluster_00289.vtp 2.1287124e-05\n",
      "Compared cluster_00667.vtp 2.1292237e-05\n",
      "Compared cluster_00117.vtp 2.1328737e-05\n",
      "Compared cluster_00259.vtp 2.13322e-05\n",
      "Compared cluster_00693.vtp 2.1314465e-05\n",
      "Compared cluster_00396.vtp 2.1321208e-05\n",
      "Compared cluster_00534.vtp 2.1274886e-05\n",
      "Compared cluster_00441.vtp 2.1289397e-05\n",
      "Compared cluster_00171.vtp 2.1304426e-05\n",
      "Compared cluster_00400.vtp 2.1382813e-05\n",
      "Compared cluster_00281.vtp 2.14226e-05\n",
      "Compared cluster_00780.vtp 2.1379534e-05\n",
      "Compared cluster_00065.vtp 2.1368873e-05\n",
      "Compared cluster_00478.vtp 2.135819e-05\n",
      "Compared cluster_00610.vtp 2.1405393e-05\n",
      "Compared cluster_00635.vtp 2.1373779e-05\n",
      "Compared cluster_00464.vtp 2.1360429e-05\n",
      "Compared cluster_00073.vtp 2.1334117e-05\n",
      "Compared cluster_00174.vtp 2.1323862e-05\n",
      "Compared cluster_00426.vtp 2.1379012e-05\n",
      "Compared cluster_00594.vtp 2.1443437e-05\n",
      "Compared cluster_00314.vtp 2.1511367e-05\n",
      "Compared cluster_00391.vtp 2.1546095e-05\n",
      "Compared cluster_00226.vtp 2.1492646e-05\n",
      "Compared cluster_00230.vtp 2.1541162e-05\n",
      "Compared cluster_00062.vtp 2.1512955e-05\n",
      "Compared cluster_00503.vtp 2.1539745e-05\n",
      "Compared cluster_00416.vtp 2.1557502e-05\n",
      "Compared cluster_00798.vtp 2.1541191e-05\n",
      "Compared cluster_00346.vtp 2.1588277e-05\n",
      "Compared cluster_00517.vtp 2.1577589e-05\n",
      "Compared cluster_00087.vtp 2.1582828e-05\n",
      "Compared cluster_00368.vtp 2.1644431e-05\n",
      "Compared cluster_00084.vtp 2.1601276e-05\n",
      "Compared cluster_00686.vtp 2.1579403e-05\n",
      "Compared cluster_00331.vtp 2.1640195e-05\n",
      "Compared cluster_00280.vtp 2.1699718e-05\n",
      "Compared cluster_00317.vtp 2.1691907e-05\n",
      "Compared cluster_00409.vtp 2.1749638e-05\n",
      "Compared cluster_00605.vtp 2.171874e-05\n",
      "Compared cluster_00041.vtp 2.1689739e-05\n",
      "Compared cluster_00176.vtp 2.1691152e-05\n",
      "Compared cluster_00664.vtp 2.1709893e-05\n",
      "Compared cluster_00449.vtp 2.1747717e-05\n",
      "Compared cluster_00680.vtp 2.1802356e-05\n",
      "Compared cluster_00782.vtp 2.1845352e-05\n",
      "Compared cluster_00422.vtp 2.181381e-05\n",
      "Compared cluster_00769.vtp 2.1838943e-05\n",
      "Compared cluster_00225.vtp 2.1838709e-05\n",
      "Compared cluster_00742.vtp 2.18208e-05\n",
      "Compared cluster_00240.vtp 2.1770871e-05\n",
      "Compared cluster_00786.vtp 2.178804e-05\n",
      "Compared cluster_00519.vtp 2.1796524e-05\n",
      "Compared cluster_00336.vtp 2.184723e-05\n",
      "Compared cluster_00183.vtp 2.1856715e-05\n",
      "Compared cluster_00371.vtp 2.1906528e-05\n",
      "Compared cluster_00130.vtp 2.1935753e-05\n",
      "Compared cluster_00236.vtp 2.190676e-05\n",
      "Compared cluster_00749.vtp 2.190966e-05\n",
      "Compared cluster_00537.vtp 2.1957241e-05\n",
      "Compared cluster_00559.vtp 2.1911526e-05\n",
      "Compared cluster_00109.vtp 2.187316e-05\n",
      "Compared cluster_00330.vtp 2.1882875e-05\n",
      "Compared cluster_00730.vtp 2.1896094e-05\n",
      "Compared cluster_00494.vtp 2.1856975e-05\n",
      "Compared cluster_00493.vtp 2.185164e-05\n",
      "Compared cluster_00209.vtp 2.1806769e-05\n",
      "Compared cluster_00438.vtp 2.1808619e-05\n",
      "Compared cluster_00105.vtp 2.1802567e-05\n",
      "Compared cluster_00590.vtp 2.1808379e-05\n",
      "Compared cluster_00124.vtp 2.1774726e-05\n",
      "Compared cluster_00374.vtp 2.1817772e-05\n",
      "Compared cluster_00245.vtp 2.176818e-05\n",
      "Compared cluster_00379.vtp 2.1813516e-05\n",
      "Compared cluster_00510.vtp 2.1793692e-05\n",
      "Compared cluster_00312.vtp 2.1838068e-05\n",
      "Compared cluster_00530.vtp 2.183222e-05\n",
      "Compared cluster_00375.vtp 2.1867592e-05\n",
      "Compared cluster_00335.vtp 2.1905345e-05\n",
      "Compared cluster_00461.vtp 2.1910251e-05\n",
      "Compared cluster_00645.vtp 2.1945656e-05\n",
      "Compared cluster_00384.vtp 2.1955293e-05\n",
      "Compared cluster_00776.vtp 2.1956997e-05\n",
      "Compared cluster_00543.vtp 2.1998578e-05\n",
      "Compared cluster_00222.vtp 2.1994512e-05\n",
      "Compared cluster_00003.vtp 2.1994307e-05\n",
      "Compared cluster_00557.vtp 2.2033462e-05\n",
      "Compared cluster_00412.vtp 2.204324e-05\n",
      "Compared cluster_00569.vtp 2.2052767e-05\n",
      "Compared cluster_00341.vtp 2.208205e-05\n",
      "Compared cluster_00783.vtp 2.2091202e-05\n",
      "Compared cluster_00143.vtp 2.2129943e-05\n",
      "Compared cluster_00184.vtp 2.2082184e-05\n",
      "Compared cluster_00233.vtp 2.2109549e-05\n",
      "Compared cluster_00484.vtp 2.210364e-05\n",
      "Compared cluster_00283.vtp 2.2141903e-05\n",
      "Compared cluster_00794.vtp 2.2116803e-05\n",
      "Compared cluster_00215.vtp 2.2133769e-05\n",
      "Compared cluster_00287.vtp 2.2158603e-05\n",
      "Compared cluster_00237.vtp 2.211974e-05\n",
      "Compared cluster_00546.vtp 2.2154287e-05\n",
      "Compared cluster_00068.vtp 2.2107239e-05\n",
      "Compared cluster_00089.vtp 2.2085771e-05\n",
      "Compared cluster_00111.vtp 2.2092378e-05\n",
      "Did not find Draco compressed data..\n",
      "Compared cluster_00299.vtp 2.2086719e-05\n"
     ]
    },
    {
     "name": "stdout",
     "output_type": "stream",
     "text": [
      "Compared cluster_00002.vtp 2.210578e-05\n",
      "Compared cluster_00090.vtp 2.21099e-05\n",
      "Compared cluster_00030.vtp 2.2117689e-05\n",
      "Compared cluster_00020.vtp 2.2116687e-05\n",
      "Compared cluster_00402.vtp 2.2151897e-05\n",
      "Compared cluster_00049.vtp 2.2160639e-05\n",
      "Compared cluster_00732.vtp 2.2159877e-05\n",
      "Compared cluster_00532.vtp 2.2173905e-05\n",
      "Compared cluster_00641.vtp 2.215418e-05\n",
      "Compared cluster_00757.vtp 2.2171878e-05\n",
      "Compared cluster_00063.vtp 2.2160331e-05\n",
      "Compared cluster_00606.vtp 2.2143207e-05\n",
      "Compared cluster_00529.vtp 2.2150101e-05\n",
      "Compared cluster_00032.vtp 2.2174005e-05\n",
      "Compared cluster_00008.vtp 2.2155784e-05\n",
      "Compared cluster_00123.vtp 2.213281e-05\n",
      "Compared cluster_00479.vtp 2.210456e-05\n",
      "Compared cluster_00551.vtp 2.20856e-05\n",
      "Compared cluster_00795.vtp 2.2090308e-05\n",
      "Compared cluster_00574.vtp 2.2065804e-05\n",
      "Compared cluster_00077.vtp 2.2067861e-05\n",
      "Compared cluster_00295.vtp 2.2100894e-05\n",
      "Compared cluster_00269.vtp 2.2122918e-05\n",
      "Compared cluster_00273.vtp 2.2139546e-05\n",
      "Compared cluster_00643.vtp 2.2109554e-05\n",
      "Compared cluster_00306.vtp 2.214198e-05\n",
      "Compared cluster_00043.vtp 2.2116345e-05\n",
      "Compared cluster_00018.vtp 2.2088085e-05\n",
      "Compared cluster_00708.vtp 2.2084361e-05\n",
      "Compared cluster_00549.vtp 2.2099026e-05\n",
      "Compared cluster_00242.vtp 2.2092172e-05\n",
      "Compared cluster_00198.vtp 2.2094397e-05\n",
      "Compared cluster_00690.vtp 2.209351e-05\n",
      "Compared cluster_00561.vtp 2.2090471e-05\n",
      "Compared cluster_00353.vtp 2.2096552e-05\n",
      "Compared cluster_00579.vtp 2.2092969e-05\n",
      "Compared cluster_00199.vtp 2.2104254e-05\n",
      "Compared cluster_00445.vtp 2.2113554e-05\n",
      "Compared cluster_00153.vtp 2.2087608e-05\n",
      "Compared cluster_00354.vtp 2.2118149e-05\n",
      "Compared cluster_00300.vtp 2.2148033e-05\n",
      "Compared cluster_00210.vtp 2.2120546e-05\n",
      "Compared cluster_00793.vtp 2.2097902e-05\n",
      "Compared cluster_00239.vtp 2.2086919e-05\n",
      "Compared cluster_00082.vtp 2.2071274e-05\n",
      "Compared cluster_00490.vtp 2.2095674e-05\n",
      "Compared cluster_00005.vtp 2.2078977e-05\n",
      "Compared cluster_00720.vtp 2.2091399e-05\n",
      "Compared cluster_00401.vtp 2.2100214e-05\n",
      "Compared cluster_00515.vtp 2.2091475e-05\n",
      "Compared cluster_00673.vtp 2.2113783e-05\n",
      "Compared cluster_00539.vtp 2.209765e-05\n",
      "Compared cluster_00100.vtp 2.2113172e-05\n",
      "Compared cluster_00019.vtp 2.2089645e-05\n",
      "Compared cluster_00051.vtp 2.2085878e-05\n",
      "Compared cluster_00249.vtp 2.2055148e-05\n",
      "Compared cluster_00134.vtp 2.203023e-05\n",
      "Compared cluster_00274.vtp 2.2017615e-05\n",
      "Compared cluster_00296.vtp 2.2032495e-05\n",
      "Compared cluster_00455.vtp 2.202842e-05\n",
      "Compared cluster_00211.vtp 2.2056347e-05\n",
      "Compared cluster_00733.vtp 2.2083152e-05\n",
      "Compared cluster_00766.vtp 2.2077362e-05\n",
      "Compared cluster_00023.vtp 2.2105249e-05\n",
      "Compared cluster_00276.vtp 2.2116426e-05\n",
      "Compared cluster_00319.vtp 2.2125672e-05\n",
      "Compared cluster_00394.vtp 2.2107548e-05\n",
      "Compared cluster_00413.vtp 2.2104861e-05\n",
      "Compared cluster_00485.vtp 2.2108556e-05\n",
      "Compared cluster_00428.vtp 2.211192e-05\n",
      "Compared cluster_00501.vtp 2.2114265e-05\n",
      "Compared cluster_00518.vtp 2.2106256e-05\n",
      "Compared cluster_00789.vtp 2.2132741e-05\n",
      "Compared cluster_00224.vtp 2.215663e-05\n",
      "Compared cluster_00736.vtp 2.215626e-05\n",
      "Compared cluster_00624.vtp 2.2146725e-05\n",
      "Compared cluster_00591.vtp 2.2172577e-05\n",
      "Compared cluster_00044.vtp 2.2178181e-05\n",
      "Compared cluster_00164.vtp 2.216591e-05\n",
      "Compared cluster_00097.vtp 2.2178765e-05\n",
      "Compared cluster_00108.vtp 2.2204606e-05\n",
      "Compared cluster_00734.vtp 2.220706e-05\n",
      "Compared cluster_00291.vtp 2.2229455e-05\n",
      "Compared cluster_00571.vtp 2.2226995e-05\n",
      "Compared cluster_00634.vtp 2.220773e-05\n",
      "Compared cluster_00294.vtp 2.2224838e-05\n",
      "Compared cluster_00434.vtp 2.2232667e-05\n",
      "Compared cluster_00398.vtp 2.2234253e-05\n",
      "Compared cluster_00556.vtp 2.2224609e-05\n",
      "Compared cluster_00158.vtp 2.2239006e-05\n",
      "Compared cluster_00282.vtp 2.2241755e-05\n",
      "Compared cluster_00669.vtp 2.2213184e-05\n",
      "Compared cluster_00318.vtp 2.220779e-05\n",
      "Compared cluster_00548.vtp 2.2232587e-05\n",
      "Compared cluster_00496.vtp 2.2224047e-05\n",
      "Compared cluster_00247.vtp 2.2227252e-05\n",
      "Compared cluster_00216.vtp 2.2225518e-05\n",
      "Compared cluster_00683.vtp 2.2249566e-05\n",
      "Compared cluster_00526.vtp 2.2260516e-05\n",
      "Compared cluster_00129.vtp 2.2234726e-05\n",
      "Compared cluster_00266.vtp 2.2245798e-05\n",
      "Compared cluster_00615.vtp 2.224741e-05\n",
      "Compared cluster_00459.vtp 2.2265256e-05\n",
      "Compared cluster_00585.vtp 2.2288546e-05\n",
      "Compared cluster_00107.vtp 2.2306178e-05\n",
      "Compared cluster_00363.vtp 2.232395e-05\n",
      "Compared cluster_00025.vtp 2.2338509e-05\n",
      "Compared cluster_00313.vtp 2.2343485e-05\n",
      "Compared cluster_00763.vtp 2.2352573e-05\n",
      "Compared cluster_00075.vtp 2.2343751e-05\n",
      "Compared cluster_00292.vtp 2.2361464e-05\n",
      "Compared cluster_00408.vtp 2.2375718e-05\n",
      "Compared cluster_00447.vtp 2.2394934e-05\n",
      "Compared cluster_00405.vtp 2.241406e-05\n",
      "Compared cluster_00253.vtp 2.2421938e-05\n",
      "Compared cluster_00351.vtp 2.2443082e-05\n",
      "Compared cluster_00560.vtp 2.2443546e-05\n",
      "Compared cluster_00271.vtp 2.2435395e-05\n",
      "Compared cluster_00630.vtp 2.2420134e-05\n",
      "Compared cluster_00165.vtp 2.2398208e-05\n",
      "Compared cluster_00603.vtp 2.2364982e-05\n",
      "Compared cluster_00307.vtp 2.2374512e-05\n",
      "Did not find Draco compressed data..\n",
      "Compared cluster_00406.vtp 2.2377812e-05\n",
      "Compared cluster_00764.vtp 2.2373486e-05\n",
      "Compared cluster_00168.vtp 2.2359927e-05\n",
      "Compared cluster_00446.vtp 2.2381295e-05\n",
      "Compared cluster_00098.vtp 2.2391267e-05\n",
      "Compared cluster_00179.vtp 2.2398812e-05\n",
      "Compared cluster_00136.vtp 2.2405975e-05\n",
      "Compared cluster_00356.vtp 2.2427086e-05\n",
      "Compared cluster_00326.vtp 2.2433704e-05\n",
      "Compared cluster_00016.vtp 2.242133e-05\n",
      "Compared cluster_00011.vtp 2.2424872e-05\n",
      "Compared cluster_00639.vtp 2.2401571e-05\n",
      "Compared cluster_00033.vtp 2.2390273e-05\n",
      "Compared cluster_00575.vtp 2.2367709e-05\n",
      "Compared cluster_00376.vtp 2.238427e-05\n",
      "Compared cluster_00403.vtp 2.2389464e-05\n",
      "Compared cluster_00188.vtp 2.236802e-05\n",
      "Compared cluster_00775.vtp 2.236358e-05\n",
      "Compared cluster_00118.vtp 2.2370697e-05\n",
      "Compared cluster_00725.vtp 2.2373602e-05\n",
      "Compared cluster_00106.vtp 2.2369139e-05\n",
      "Compared cluster_00470.vtp 2.2379067e-05\n",
      "Compared cluster_00727.vtp 2.2373504e-05\n",
      "Compared cluster_00699.vtp 2.2377968e-05\n",
      "Compared cluster_00649.vtp 2.2358032e-05\n",
      "Compared cluster_00563.vtp 2.2354256e-05\n",
      "Compared cluster_00538.vtp 2.2365022e-05\n",
      "Compared cluster_00115.vtp 2.2347549e-05\n",
      "Compared cluster_00147.vtp 2.2324655e-05\n",
      "Compared cluster_00121.vtp 2.232546e-05\n",
      "Compared cluster_00166.vtp 2.2303664e-05\n",
      "Compared cluster_00126.vtp 2.2297008e-05\n",
      "Compared cluster_00659.vtp 2.2290633e-05\n",
      "Compared cluster_00705.vtp 2.2308022e-05\n",
      "Compared cluster_00349.vtp 2.2311331e-05\n",
      "Compared cluster_00343.vtp 2.2323693e-05\n",
      "Compared cluster_00638.vtp 2.232895e-05\n",
      "Compared cluster_00333.vtp 2.2346974e-05\n",
      "Compared cluster_00444.vtp 2.2366357e-05\n",
      "Compared cluster_00311.vtp 2.2379683e-05\n",
      "Compared cluster_00325.vtp 2.2397455e-05\n",
      "Compared cluster_00728.vtp 2.2387832e-05\n",
      "Compared cluster_00453.vtp 2.2383452e-05\n",
      "Compared cluster_00430.vtp 2.2378668e-05\n",
      "Compared cluster_00265.vtp 2.2386852e-05\n",
      "Compared cluster_00760.vtp 2.2405688e-05\n",
      "Compared cluster_00507.vtp 2.2387814e-05\n",
      "Compared cluster_00001.vtp 2.239275e-05\n",
      "Compared cluster_00440.vtp 2.2402412e-05\n",
      "Compared cluster_00791.vtp 2.2398106e-05\n",
      "Compared cluster_00466.vtp 2.2391485e-05\n",
      "Compared cluster_00420.vtp 2.2405444e-05\n",
      "Compared cluster_00723.vtp 2.2408278e-05\n",
      "Compared cluster_00525.vtp 2.2405642e-05\n",
      "Compared cluster_00323.vtp 2.2423923e-05\n",
      "Compared cluster_00688.vtp 2.2425837e-05\n",
      "Compared cluster_00473.vtp 2.2438615e-05\n",
      "Compared cluster_00741.vtp 2.2438808e-05\n",
      "Compared cluster_00759.vtp 2.2442171e-05\n",
      "Compared cluster_00709.vtp 2.2441325e-05\n",
      "Compared cluster_00623.vtp 2.244402e-05\n",
      "Compared cluster_00042.vtp 2.2460012e-05\n",
      "Compared cluster_00698.vtp 2.2447952e-05\n",
      "Compared cluster_00007.vtp 2.243234e-05\n",
      "Compared cluster_00141.vtp 2.242931e-05\n",
      "Compared cluster_00755.vtp 2.2435415e-05\n",
      "Compared cluster_00139.vtp 2.2441953e-05\n",
      "Compared cluster_00468.vtp 2.2459619e-05\n",
      "Compared cluster_00182.vtp 2.2458767e-05\n",
      "Compared cluster_00650.vtp 2.2434124e-05\n",
      "Compared cluster_00570.vtp 2.2428103e-05\n",
      "Compared cluster_00553.vtp 2.2445309e-05\n",
      "Compared cluster_00262.vtp 2.245677e-05\n",
      "Compared cluster_00200.vtp 2.2427734e-05\n",
      "Compared cluster_00099.vtp 2.243123e-05\n",
      "Compared cluster_00270.vtp 2.2436414e-05\n",
      "Compared cluster_00502.vtp 2.2418604e-05\n",
      "Compared cluster_00180.vtp 2.2421533e-05\n"
     ]
    },
    {
     "name": "stdout",
     "output_type": "stream",
     "text": [
      "Compared cluster_00722.vtp 2.2422653e-05\n",
      "Compared cluster_00061.vtp 2.2409266e-05\n",
      "Compared cluster_00573.vtp 2.238592e-05\n",
      "Compared cluster_00133.vtp 2.2378987e-05\n",
      "Compared cluster_00562.vtp 2.2364804e-05\n",
      "Compared cluster_00774.vtp 2.235257e-05\n",
      "Compared cluster_00415.vtp 2.2369757e-05\n",
      "Compared cluster_00790.vtp 2.2386816e-05\n",
      "Compared cluster_00787.vtp 2.2386252e-05\n",
      "Compared cluster_00125.vtp 2.2380113e-05\n",
      "Compared cluster_00064.vtp 2.2365242e-05\n",
      "Compared cluster_00377.vtp 2.2382204e-05\n",
      "Compared cluster_00076.vtp 2.2360953e-05\n",
      "Compared cluster_00425.vtp 2.2365608e-05\n",
      "Compared cluster_00636.vtp 2.2371654e-05\n",
      "Compared cluster_00321.vtp 2.237884e-05\n",
      "Compared cluster_00572.vtp 2.239541e-05\n",
      "Compared cluster_00256.vtp 2.2393053e-05\n",
      "Compared cluster_00512.vtp 2.237258e-05\n",
      "Compared cluster_00347.vtp 2.237482e-05\n",
      "Compared cluster_00772.vtp 2.2385573e-05\n",
      "Compared cluster_00547.vtp 2.2368231e-05\n",
      "Compared cluster_00622.vtp 2.2344504e-05\n",
      "Compared cluster_00582.vtp 2.2325845e-05\n",
      "Compared cluster_00204.vtp 2.2314467e-05\n",
      "Compared cluster_00101.vtp 2.2295797e-05\n",
      "Compared cluster_00433.vtp 2.2282784e-05\n",
      "Compared cluster_00685.vtp 2.2275657e-05\n",
      "Compared cluster_00437.vtp 2.2279428e-05\n",
      "Compared cluster_00069.vtp 2.2276974e-05\n",
      "Compared cluster_00251.vtp 2.2285165e-05\n",
      "Compared cluster_00476.vtp 2.2289205e-05\n",
      "Compared cluster_00668.vtp 2.2284055e-05\n",
      "Compared cluster_00717.vtp 2.227724e-05\n",
      "Compared cluster_00753.vtp 2.228574e-05\n",
      "Compared cluster_00135.vtp 2.2276858e-05\n",
      "Compared cluster_00614.vtp 2.2293198e-05\n",
      "Compared cluster_00246.vtp 2.2293383e-05\n",
      "Compared cluster_00285.vtp 2.2303773e-05\n",
      "Compared cluster_00628.vtp 2.2288094e-05\n",
      "Compared cluster_00040.vtp 2.2284592e-05\n",
      "Compared cluster_00298.vtp 2.2288861e-05\n",
      "Compared cluster_00369.vtp 2.2304761e-05\n",
      "Compared cluster_00078.vtp 2.229477e-05\n",
      "Compared cluster_00654.vtp 2.2303162e-05\n",
      "Compared cluster_00070.vtp 2.2294367e-05\n",
      "Compared cluster_00676.vtp 2.2281241e-05\n",
      "Compared cluster_00567.vtp 2.226362e-05\n",
      "Compared cluster_00472.vtp 2.2260756e-05\n",
      "Compared cluster_00327.vtp 2.2272234e-05\n",
      "Compared cluster_00552.vtp 2.225434e-05\n",
      "Compared cluster_00527.vtp 2.2260638e-05\n",
      "Compared cluster_00621.vtp 2.2242399e-05\n",
      "Compared cluster_00309.vtp 2.2248154e-05\n",
      "Compared cluster_00767.vtp 2.2247179e-05\n",
      "Compared cluster_00067.vtp 2.224219e-05\n",
      "Compared cluster_00186.vtp 2.2222444e-05\n",
      "Compared cluster_00031.vtp 2.2229995e-05\n",
      "Compared cluster_00460.vtp 2.2237688e-05\n",
      "Compared cluster_00218.vtp 2.2225737e-05\n",
      "Compared cluster_00796.vtp 2.2221322e-05\n",
      "Compared cluster_00250.vtp 2.2229346e-05\n",
      "Compared cluster_00726.vtp 2.2233842e-05\n",
      "Compared cluster_00715.vtp 2.2236589e-05\n",
      "Compared cluster_00697.vtp 2.2226313e-05\n",
      "Compared cluster_00324.vtp 2.2237997e-05\n",
      "Compared cluster_00297.vtp 2.2232833e-05\n",
      "Compared cluster_00411.vtp 2.2236985e-05\n",
      "Compared cluster_00640.vtp 2.2220906e-05\n",
      "Compared cluster_00407.vtp 2.2214961e-05\n",
      "Compared cluster_00163.vtp 2.2216529e-05\n",
      "Compared cluster_00662.vtp 2.2214192e-05\n",
      "Compared cluster_00682.vtp 2.2199687e-05\n",
      "Compared cluster_00393.vtp 2.2214774e-05\n",
      "Compared cluster_00607.vtp 2.2209593e-05\n",
      "Compared cluster_00642.vtp 2.2203481e-05\n",
      "Compared cluster_00091.vtp 2.218445e-05\n",
      "Compared cluster_00048.vtp 2.2180307e-05\n",
      "Compared cluster_00487.vtp 2.2185108e-05\n",
      "Compared cluster_00004.vtp 2.2176138e-05\n",
      "Compared cluster_00338.vtp 2.2189835e-05\n",
      "Compared cluster_00500.vtp 2.2183744e-05\n",
      "Compared cluster_00665.vtp 2.2173028e-05\n",
      "Compared cluster_00721.vtp 2.2178945e-05\n",
      "Compared cluster_00254.vtp 2.2160482e-05\n",
      "Compared cluster_00221.vtp 2.2152824e-05\n",
      "Compared cluster_00522.vtp 2.2143118e-05\n",
      "Compared cluster_00268.vtp 2.2148886e-05\n",
      "Compared cluster_00674.vtp 2.2147065e-05\n",
      "Compared cluster_00452.vtp 2.216171e-05\n",
      "Compared cluster_00303.vtp 2.2162678e-05\n",
      "Compared cluster_00036.vtp 2.2148151e-05\n",
      "Compared cluster_00046.vtp 2.2156199e-05\n",
      "Compared cluster_00024.vtp 2.215652e-05\n",
      "Compared cluster_00352.vtp 2.2171023e-05\n",
      "Compared cluster_00187.vtp 2.2155775e-05\n",
      "Compared cluster_00514.vtp 2.2143731e-05\n",
      "Compared cluster_00257.vtp 2.2139862e-05\n",
      "Compared cluster_00781.vtp 2.2146176e-05\n",
      "Compared cluster_00389.vtp 2.2142396e-05\n",
      "Compared cluster_00261.vtp 2.2156792e-05\n",
      "Compared cluster_00034.vtp 2.2146034e-05\n",
      "Compared cluster_00651.vtp 2.2144299e-05\n",
      "Compared cluster_00148.vtp 2.213529e-05\n",
      "Compared cluster_00516.vtp 2.2123455e-05\n",
      "Compared cluster_00536.vtp 2.2132006e-05\n",
      "Compared cluster_00419.vtp 2.2129909e-05\n",
      "Compared cluster_00706.vtp 2.2133796e-05\n",
      "Compared cluster_00127.vtp 2.2135384e-05\n",
      "Compared cluster_00017.vtp 2.2135562e-05\n",
      "Compared cluster_00777.vtp 2.2141987e-05\n",
      "Compared cluster_00014.vtp 2.2126831e-05\n",
      "Compared cluster_00185.vtp 2.2127651e-05\n",
      "Compared cluster_00523.vtp 2.2120326e-05\n",
      "Compared cluster_00418.vtp 2.21322e-05\n",
      "Compared cluster_00364.vtp 2.214605e-05\n",
      "Compared cluster_00365.vtp 2.2151544e-05\n",
      "Compared cluster_00322.vtp 2.216555e-05\n",
      "Compared cluster_00644.vtp 2.2157064e-05\n",
      "Compared cluster_00540.vtp 2.2147675e-05\n",
      "Did not find Draco compressed data..\n",
      "Compared cluster_00703.vtp 2.2153727e-05\n",
      "Compared cluster_00652.vtp 2.2147693e-05\n",
      "Compared cluster_00696.vtp 2.2136968e-05\n",
      "Compared cluster_00102.vtp 2.2139817e-05\n",
      "Compared cluster_00131.vtp 2.2153567e-05\n",
      "Compared cluster_00439.vtp 2.2157836e-05\n",
      "Compared cluster_00190.vtp 2.2147533e-05\n",
      "Compared cluster_00092.vtp 2.2149245e-05\n",
      "Compared cluster_00119.vtp 2.2151913e-05\n",
      "Compared cluster_00072.vtp 2.216039e-05\n",
      "Compared cluster_00238.vtp 2.216134e-05\n",
      "Compared cluster_00689.vtp 2.216234e-05\n",
      "Compared cluster_00355.vtp 2.2171862e-05\n",
      "Compared cluster_00162.vtp 2.2165501e-05\n",
      "Compared cluster_00600.vtp 2.2172177e-05\n",
      "Compared cluster_00427.vtp 2.2172526e-05\n",
      "Compared cluster_00093.vtp 2.2185162e-05\n",
      "Compared cluster_00053.vtp 2.2190494e-05\n",
      "Compared cluster_00370.vtp 2.22037e-05\n",
      "Compared cluster_00172.vtp 2.2204416e-05\n",
      "Compared cluster_00332.vtp 2.2217662e-05\n",
      "Compared cluster_00679.vtp 2.2207478e-05\n",
      "Compared cluster_00631.vtp 2.2203287e-05\n",
      "Compared cluster_00417.vtp 2.220567e-05\n",
      "Compared cluster_00212.vtp 2.220393e-05\n",
      "Compared cluster_00583.vtp 2.2215809e-05\n",
      "Compared cluster_00122.vtp 2.2216283e-05\n",
      "Compared cluster_00151.vtp 2.2211123e-05\n",
      "Compared cluster_00609.vtp 2.2216776e-05\n",
      "Compared cluster_00738.vtp 2.2220302e-05\n",
      "Compared cluster_00495.vtp 2.221065e-05\n",
      "Compared cluster_00387.vtp 2.2218373e-05\n",
      "Compared cluster_00746.vtp 2.2231257e-05\n",
      "Compared cluster_00424.vtp 2.2236038e-05\n",
      "Compared cluster_00423.vtp 2.2245524e-05\n",
      "Compared cluster_00666.vtp 2.2229347e-05\n",
      "Compared cluster_00252.vtp 2.2242071e-05\n",
      "Compared cluster_00173.vtp 2.2238151e-05\n",
      "Compared cluster_00260.vtp 2.2239336e-05\n",
      "Compared cluster_00482.vtp 2.223282e-05\n",
      "Compared cluster_00613.vtp 2.222292e-05\n",
      "Compared cluster_00435.vtp 2.2226675e-05\n",
      "Compared cluster_00773.vtp 2.2237979e-05\n",
      "Compared cluster_00747.vtp 2.2235987e-05\n",
      "Compared cluster_00079.vtp 2.2248407e-05\n",
      "Compared cluster_00436.vtp 2.2248661e-05\n",
      "Compared cluster_00146.vtp 2.2237908e-05\n",
      "Compared cluster_00193.vtp 2.224507e-05\n",
      "Compared cluster_00535.vtp 2.2249313e-05\n",
      "Compared cluster_00096.vtp 2.2259224e-05\n",
      "Compared cluster_00385.vtp 2.226762e-05\n",
      "Compared cluster_00442.vtp 2.226156e-05\n",
      "Compared cluster_00656.vtp 2.2251428e-05\n",
      "Compared cluster_00154.vtp 2.2261784e-05\n",
      "Compared cluster_00617.vtp 2.2252216e-05\n",
      "Compared cluster_00454.vtp 2.2246119e-05\n",
      "Compared cluster_00159.vtp 2.224389e-05\n",
      "Compared cluster_00191.vtp 2.2241766e-05\n",
      "Compared cluster_00088.vtp 2.2241276e-05\n",
      "Compared cluster_00132.vtp 2.2233693e-05\n",
      "Compared cluster_00714.vtp 2.2234877e-05\n",
      "Compared cluster_00232.vtp 2.22392e-05\n",
      "Compared cluster_00799.vtp 2.2243392e-05\n",
      "Compared cluster_00655.vtp 2.2233644e-05\n",
      "Compared cluster_00234.vtp 2.2229156e-05\n",
      "Compared cluster_00761.vtp 2.2218454e-05\n",
      "Compared cluster_00006.vtp 2.2224827e-05\n",
      "Compared cluster_00149.vtp 2.2215549e-05\n",
      "Compared cluster_00156.vtp 2.2208618e-05\n",
      "Compared cluster_00138.vtp 2.2217666e-05\n",
      "Compared cluster_00308.vtp 2.222965e-05\n",
      "Compared cluster_00710.vtp 2.2231714e-05\n",
      "Compared cluster_00243.vtp 2.2234248e-05\n",
      "Compared cluster_00601.vtp 2.2246411e-05\n",
      "Compared cluster_00350.vtp 2.2258304e-05\n",
      "Compared cluster_00797.vtp 2.2251614e-05\n",
      "Compared cluster_00467.vtp 2.224452e-05\n",
      "Compared cluster_00702.vtp 2.2239667e-05\n",
      "Compared cluster_00471.vtp 2.2245204e-05\n",
      "Compared cluster_00602.vtp 2.223398e-05\n"
     ]
    },
    {
     "name": "stdout",
     "output_type": "stream",
     "text": [
      "Compared cluster_00701.vtp 2.2245802e-05\n",
      "Compared cluster_00244.vtp 2.2252802e-05\n",
      "Did not find Draco compressed data..\n",
      "Compared cluster_00035.vtp 2.224324e-05\n",
      "Compared cluster_00290.vtp 2.2254018e-05\n",
      "Compared cluster_00360.vtp 2.2265582e-05\n",
      "Compared cluster_00116.vtp 2.2257258e-05\n",
      "Compared cluster_00241.vtp 2.2251992e-05\n",
      "Compared cluster_00316.vtp 2.2245607e-05\n",
      "Compared cluster_00378.vtp 2.2255517e-05\n",
      "Compared cluster_00050.vtp 2.2256847e-05\n",
      "Compared cluster_00372.vtp 2.2268498e-05\n",
      "Compared cluster_00637.vtp 2.2259428e-05\n",
      "Compared cluster_00083.vtp 2.2250382e-05\n",
      "Compared cluster_00758.vtp 2.2253098e-05\n",
      "Compared cluster_00059.vtp 2.2248412e-05\n",
      "Compared cluster_00029.vtp 2.224073e-05\n",
      "Compared cluster_00576.vtp 2.2227387e-05\n",
      "Compared cluster_00533.vtp 2.2239094e-05\n",
      "Compared cluster_00339.vtp 2.2250433e-05\n",
      "Compared cluster_00137.vtp 2.224208e-05\n",
      "Compared cluster_00010.vtp 2.2237225e-05\n",
      "Compared cluster_00555.vtp 2.2238297e-05\n",
      "Compared cluster_00598.vtp 2.2240372e-05\n",
      "Compared cluster_00057.vtp 2.2226024e-05\n",
      "Compared cluster_00756.vtp 2.2237513e-05\n",
      "Compared cluster_00052.vtp 2.2231592e-05\n",
      "Compared cluster_00203.vtp 2.2236884e-05\n",
      "Compared cluster_00329.vtp 2.2248201e-05\n",
      "Compared cluster_00009.vtp 2.224476e-05\n",
      "Compared cluster_00647.vtp 2.2254404e-05\n",
      "Compared cluster_00626.vtp 2.2250431e-05\n",
      "Compared cluster_00152.vtp 2.2235e-05\n",
      "Compared cluster_00458.vtp 2.2238672e-05\n",
      "Compared cluster_00334.vtp 2.2234879e-05\n",
      "Compared cluster_00480.vtp 2.2224931e-05\n",
      "Compared cluster_00381.vtp 2.222237e-05\n",
      "Compared cluster_00279.vtp 2.2229175e-05\n",
      "Compared cluster_00026.vtp 2.2222253e-05\n",
      "Compared cluster_00275.vtp 2.221936e-05\n",
      "Compared cluster_00748.vtp 2.2221464e-05\n",
      "Compared cluster_00197.vtp 2.2220236e-05\n",
      "Compared cluster_00213.vtp 2.2225597e-05\n",
      "Compared cluster_00344.vtp 2.2236558e-05\n",
      "Compared cluster_00086.vtp 2.2235701e-05\n",
      "Compared cluster_00175.vtp 2.2229618e-05\n",
      "Compared cluster_00739.vtp 2.2227372e-05\n",
      "Compared cluster_00404.vtp 2.2227621e-05\n",
      "Compared cluster_00465.vtp 2.2238486e-05\n",
      "Compared cluster_00128.vtp 2.2246277e-05\n",
      "Compared cluster_00604.vtp 2.2245244e-05\n",
      "Compared cluster_00345.vtp 2.2256085e-05\n",
      "Compared cluster_00724.vtp 2.2251364e-05\n",
      "Compared cluster_00589.vtp 2.2251534e-05\n",
      "Compared cluster_00489.vtp 2.2244942e-05\n",
      "Compared cluster_00681.vtp 2.2240176e-05\n",
      "Compared cluster_00195.vtp 2.2250897e-05\n",
      "Compared cluster_00214.vtp 2.224394e-05\n",
      "Compared cluster_00045.vtp 2.2247455e-05\n",
      "Compared cluster_00712.vtp 2.2247677e-05\n",
      "Compared cluster_00431.vtp 2.2249134e-05\n",
      "Compared cluster_00202.vtp 2.2259828e-05\n",
      "Compared cluster_00771.vtp 2.225246e-05\n",
      "Compared cluster_00788.vtp 2.2261625e-05\n",
      "Compared cluster_00219.vtp 2.2266338e-05\n",
      "Compared cluster_00277.vtp 2.2264712e-05\n",
      "Compared cluster_00110.vtp 2.2261715e-05\n",
      "Compared cluster_00684.vtp 2.2255403e-05\n",
      "Compared cluster_00492.vtp 2.2248041e-05\n",
      "Compared cluster_00358.vtp 2.2258677e-05\n",
      "Compared cluster_00157.vtp 2.2252421e-05\n",
      "Compared cluster_00675.vtp 2.2243294e-05\n",
      "Compared cluster_00520.vtp 2.2243139e-05\n",
      "Compared cluster_00762.vtp 2.2242699e-05\n",
      "Compared cluster_00264.vtp 2.224118e-05\n",
      "Compared cluster_00337.vtp 2.2251723e-05\n",
      "Compared cluster_00528.vtp 2.2251075e-05\n",
      "Compared cluster_00477.vtp 2.2254719e-05\n",
      "Compared cluster_00558.vtp 2.2255159e-05\n",
      "Compared cluster_00194.vtp 2.2251825e-05\n",
      "Compared cluster_00704.vtp 2.225811e-05\n",
      "Compared cluster_00785.vtp 2.2258318e-05\n",
      "Compared cluster_00499.vtp 2.2265014e-05\n",
      "Compared cluster_00469.vtp 2.2257635e-05\n",
      "Compared cluster_00114.vtp 2.2259806e-05\n",
      "Compared cluster_00022.vtp 2.2258548e-05\n",
      "Compared cluster_00293.vtp 2.225867e-05\n",
      "Compared cluster_00718.vtp 2.2256465e-05\n",
      "Compared cluster_00305.vtp 2.2265729e-05\n",
      "Compared cluster_00315.vtp 2.2265442e-05\n",
      "Compared cluster_00745.vtp 2.22726e-05\n",
      "Compared cluster_00012.vtp 2.2274002e-05\n",
      "Compared cluster_00448.vtp 2.2276621e-05\n",
      "Compared cluster_00421.vtp 2.2281403e-05\n",
      "Compared cluster_00060.vtp 2.2274167e-05\n",
      "Compared cluster_00531.vtp 2.2272237e-05\n",
      "Compared cluster_00037.vtp 2.226907e-05\n",
      "Compared cluster_00506.vtp 2.2272248e-05\n",
      "Compared cluster_00584.vtp 2.2261513e-05\n",
      "Compared cluster_00181.vtp 2.2270398e-05\n",
      "Compared cluster_00713.vtp 2.2273993e-05\n",
      "Compared cluster_00554.vtp 2.227152e-05\n",
      "Compared cluster_00039.vtp 2.2268185e-05\n",
      "Compared cluster_00074.vtp 2.2257504e-05\n",
      "Compared cluster_00521.vtp 2.2255916e-05\n",
      "Compared cluster_00178.vtp 2.2260258e-05\n",
      "Compared cluster_00625.vtp 2.2254313e-05\n",
      "Compared cluster_00486.vtp 2.2253125e-05\n",
      "Compared cluster_00205.vtp 2.2253074e-05\n",
      "Compared cluster_00678.vtp 2.2262693e-05\n",
      "Compared cluster_00196.vtp 2.2253958e-05\n",
      "Compared cluster_00392.vtp 2.2263821e-05\n",
      "Compared cluster_00170.vtp 2.2254708e-05\n",
      "Compared cluster_00169.vtp 2.226233e-05\n",
      "Compared cluster_00054.vtp 2.2261984e-05\n",
      "Compared cluster_00660.vtp 2.2263965e-05\n",
      "Compared cluster_00565.vtp 2.2264214e-05\n",
      "Compared cluster_00677.vtp 2.2257114e-05\n",
      "Compared cluster_00595.vtp 2.2250239e-05\n",
      "Compared cluster_00592.vtp 2.2252225e-05\n",
      "Compared cluster_00653.vtp 2.225187e-05\n",
      "Compared cluster_00542.vtp 2.225419e-05\n",
      "Compared cluster_00672.vtp 2.2249076e-05\n",
      "Compared cluster_00657.vtp 2.2248127e-05\n",
      "Compared cluster_00410.vtp 2.225795e-05\n",
      "Compared cluster_00284.vtp 2.2254648e-05\n",
      "Compared cluster_00599.vtp 2.2259286e-05\n",
      "Compared cluster_00687.vtp 2.2254124e-05\n",
      "Compared cluster_00619.vtp 2.2243608e-05\n",
      "Compared cluster_00362.vtp 2.2253398e-05\n",
      "Compared cluster_00235.vtp 2.2251144e-05\n",
      "Compared cluster_00511.vtp 2.2259304e-05\n",
      "Compared cluster_00695.vtp 2.2254553e-05\n",
      "Compared cluster_00580.vtp 2.2258828e-05\n",
      "Compared cluster_00208.vtp 2.2265047e-05\n",
      "Compared cluster_00488.vtp 2.2257786e-05\n",
      "Compared cluster_00388.vtp 2.2251941e-05\n",
      "Compared cluster_00700.vtp 2.2258537e-05\n",
      "Compared cluster_00223.vtp 2.225692e-05\n",
      "Compared cluster_00395.vtp 2.2257907e-05\n",
      "Compared cluster_00342.vtp 2.2267446e-05\n",
      "Compared cluster_00390.vtp 2.226244e-05\n",
      "Compared cluster_00513.vtp 2.2254404e-05\n",
      "Compared cluster_00145.vtp 2.2249278e-05\n",
      "Compared cluster_00692.vtp 2.22383e-05\n",
      "Compared cluster_00627.vtp 2.2247825e-05\n",
      "Compared cluster_00028.vtp 2.2237706e-05\n",
      "Compared cluster_00095.vtp 2.2237084e-05\n",
      "Compared cluster_00348.vtp 2.224667e-05\n",
      "Compared cluster_00611.vtp 2.2243936e-05\n",
      "Compared cluster_00504.vtp 2.224825e-05\n",
      "Compared cluster_00578.vtp 2.2251967e-05\n",
      "Compared cluster_00671.vtp 2.2244754e-05\n",
      "Compared cluster_00167.vtp 2.2245122e-05\n",
      "Compared cluster_00491.vtp 2.2248982e-05\n",
      "Compared cluster_00661.vtp 2.2240154e-05\n",
      "Compared cluster_00612.vtp 2.2235083e-05\n",
      "Compared cluster_00564.vtp 2.2222928e-05\n",
      "Compared cluster_00481.vtp 2.2216236e-05\n",
      "Compared cluster_00015.vtp 2.2213046e-05\n",
      "Compared cluster_00451.vtp 2.2210432e-05\n",
      "Compared cluster_00103.vtp 2.2202856e-05\n",
      "Compared cluster_00629.vtp 2.219533e-05\n",
      "Compared cluster_00328.vtp 2.2201031e-05\n",
      "Compared cluster_00217.vtp 2.2200531e-05\n",
      "Compared cluster_00751.vtp 2.2204908e-05\n",
      "Compared cluster_00144.vtp 2.220519e-05\n",
      "Compared cluster_00386.vtp 2.2212756e-05\n",
      "Compared cluster_00056.vtp 2.2212991e-05\n",
      "Compared cluster_00310.vtp 2.222224e-05\n",
      "Compared cluster_00719.vtp 2.2226022e-05\n",
      "Compared cluster_00177.vtp 2.2227317e-05\n",
      "Compared cluster_00113.vtp 2.2236587e-05\n",
      "Compared cluster_00618.vtp 2.2231063e-05\n",
      "Compared cluster_00104.vtp 2.2222983e-05\n",
      "Compared cluster_00509.vtp 2.2214985e-05\n",
      "Compared cluster_00587.vtp 2.2211512e-05\n",
      "Compared cluster_00229.vtp 2.2211163e-05\n",
      "Compared cluster_00278.vtp 2.2215476e-05\n",
      "Compared cluster_00577.vtp 2.2209373e-05\n",
      "Compared cluster_00161.vtp 2.2199378e-05\n",
      "Compared cluster_00047.vtp 2.2202443e-05\n",
      "Compared cluster_00263.vtp 2.2209308e-05\n",
      "Compared cluster_00716.vtp 2.2205779e-05\n",
      "Compared cluster_00399.vtp 2.2198803e-05\n",
      "Compared cluster_00737.vtp 2.219978e-05\n",
      "Compared cluster_00155.vtp 2.2193473e-05\n",
      "Compared cluster_00302.vtp 2.2191185e-05\n",
      "Compared cluster_00367.vtp 2.2200247e-05\n",
      "Compared cluster_00663.vtp 2.219154e-05\n",
      "Compared cluster_00792.vtp 2.21872e-05\n",
      "Compared cluster_00055.vtp 2.2187003e-05\n",
      "Compared cluster_00071.vtp 2.2188344e-05\n",
      "Compared cluster_00366.vtp 2.2197397e-05\n",
      "Compared cluster_00320.vtp 2.2199512e-05\n",
      "Compared cluster_00586.vtp 2.21982e-05\n",
      "Compared cluster_00765.vtp 2.219733e-05\n",
      "Compared cluster_00616.vtp 2.2189693e-05\n",
      "Compared cluster_00483.vtp 2.2181304e-05\n",
      "Compared cluster_00013.vtp 2.2170876e-05\n",
      "Compared cluster_00414.vtp 2.2164983e-05\n"
     ]
    },
    {
     "name": "stdout",
     "output_type": "stream",
     "text": [
      "Compared cluster_00568.vtp 2.2161654e-05\n",
      "Compared cluster_00497.vtp 2.2155156e-05\n",
      "Compared cluster_00752.vtp 2.2163631e-05\n",
      "Compared cluster_00112.vtp 2.2157625e-05\n",
      "Compared cluster_00450.vtp 2.2157827e-05\n",
      "Compared cluster_00691.vtp 2.2156451e-05\n",
      "Compared cluster_00443.vtp 2.215101e-05\n",
      "Compared cluster_00620.vtp 2.2149408e-05\n",
      "Did not find Draco compressed data..\n",
      "Compared cluster_00740.vtp 2.2145055e-05\n",
      "Compared cluster_00778.vtp 2.2143264e-05\n",
      "Compared cluster_00779.vtp 2.2136863e-05\n",
      "Compared cluster_00248.vtp 2.212457e-05\n",
      "Compared cluster_00593.vtp 2.2123604e-05\n",
      "Compared cluster_00429.vtp 2.2122618e-05\n",
      "Compared cluster_00397.vtp 2.21256e-05\n",
      "Compared cluster_00743.vtp 2.21282e-05\n",
      "Compared cluster_00340.vtp 2.2137003e-05\n",
      "Compared cluster_00150.vtp 2.2125001e-05\n",
      "Compared cluster_00140.vtp 2.2122525e-05\n",
      "Compared cluster_00508.vtp 2.2114265e-05\n",
      "Compared cluster_00544.vtp 2.2118149e-05\n",
      "Compared cluster_00080.vtp 2.211745e-05\n",
      "Compared cluster_00545.vtp 2.212612e-05\n",
      "Compared cluster_00380.vtp 2.2121807e-05\n",
      "Compared cluster_00361.vtp 2.2129654e-05\n",
      "Compared cluster_00707.vtp 2.2132077e-05\n",
      "Compared cluster_00220.vtp 2.2132888e-05\n",
      "Compared cluster_00694.vtp 2.2132628e-05\n",
      "Compared cluster_00189.vtp 2.213728e-05\n",
      "Compared cluster_00750.vtp 2.2131446e-05\n",
      "Compared cluster_00658.vtp 2.2121585e-05\n",
      "Compared cluster_00357.vtp 2.2128646e-05\n",
      "Compared cluster_00201.vtp 2.2118644e-05\n",
      "Compared cluster_00633.vtp 2.2112701e-05\n",
      "Compared cluster_00085.vtp 2.2109602e-05\n",
      "Compared cluster_00027.vtp 2.2105256e-05\n",
      "Compared cluster_00784.vtp 2.2105327e-05\n",
      "Compared cluster_00744.vtp 2.210741e-05\n",
      "Compared cluster_00258.vtp 2.2116012e-05\n",
      "Compared cluster_00120.vtp 2.2122073e-05\n",
      "Compared cluster_00770.vtp 2.2122162e-05\n",
      "Compared cluster_00383.vtp 2.2125634e-05\n",
      "Compared cluster_00021.vtp 2.2123879e-05\n",
      "Compared cluster_00272.vtp 2.212273e-05\n",
      "Compared cluster_00462.vtp 2.21178e-05\n",
      "Compared cluster_00768.vtp 2.2120465e-05\n",
      "Compared cluster_00597.vtp 2.2117227e-05\n",
      "Compared cluster_00228.vtp 2.2115535e-05\n",
      "Compared cluster_00304.vtp 2.2121627e-05\n",
      "Compared cluster_00646.vtp 2.212067e-05\n",
      "Compared cluster_00754.vtp 2.212507e-05\n",
      "Compared cluster_00432.vtp 2.212579e-05\n",
      "Compared cluster_00463.vtp 2.2123413e-05\n",
      "Compared cluster_00301.vtp 2.212398e-05\n",
      "Compared cluster_00192.vtp 2.2117682e-05\n",
      "Compared cluster_00581.vtp 2.2112476e-05\n",
      "Compared cluster_00288.vtp 2.2107803e-05\n",
      "Compared cluster_00474.vtp 2.2109252e-05\n",
      "Compared cluster_00800.vtp 2.2117583e-05\n",
      "Compared cluster_00632.vtp 2.2115475e-05\n",
      "Compared cluster_00541.vtp 2.2107793e-05\n",
      "Compared cluster_00382.vtp 2.2106813e-05\n",
      "Compared cluster_00066.vtp 2.2100066e-05\n",
      "Compared cluster_00160.vtp 2.209536e-05\n",
      "Compared cluster_00081.vtp 2.2097829e-05\n",
      "Compared cluster_00731.vtp 2.2103986e-05\n",
      "Compared cluster_00286.vtp 2.2106442e-05\n",
      "Compared cluster_00588.vtp 2.210627e-05\n",
      "Compared cluster_00267.vtp 2.2109563e-05\n",
      "Compared cluster_00498.vtp 2.2104967e-05\n",
      "Compared cluster_00457.vtp 2.2109078e-05\n",
      "Compared cluster_00206.vtp 2.2114196e-05\n",
      "Compared cluster_00735.vtp 2.2122449e-05\n",
      "Compared cluster_00142.vtp 2.212969e-05\n",
      "Compared cluster_00711.vtp 2.213159e-05\n",
      "Compared cluster_00648.vtp 2.2126404e-05\n",
      "Compared cluster_00207.vtp 2.2118595e-05\n",
      "Did not find Draco compressed data..\n",
      "Compared cluster_00038.vtp 2.2108028e-05\n",
      "Compared cluster_00373.vtp 2.2116144e-05\n",
      "Compared cluster_00456.vtp 2.211868e-05\n",
      "Compared cluster_00566.vtp 2.2114607e-05\n",
      "Compared cluster_00255.vtp 2.2117476e-05\n",
      "Compared cluster_00094.vtp 2.211345e-05\n",
      "Compared cluster_00231.vtp 2.2102648e-05\n",
      "Compared cluster_00670.vtp 2.2100203e-05\n",
      "Compared cluster_00550.vtp 2.210459e-05\n",
      "Compared cluster_00227.vtp 2.2103863e-05\n",
      "Compared cluster_00729.vtp 2.2111037e-05\n",
      "Compared cluster_00359.vtp 2.211916e-05\n",
      "Compared cluster_00289.vtp 2.2127193e-05\n",
      "Compared cluster_00667.vtp 2.2126726e-05\n",
      "Compared cluster_00117.vtp 2.2129982e-05\n",
      "Compared cluster_00259.vtp 2.2127773e-05\n",
      "Compared cluster_00693.vtp 2.212301e-05\n",
      "Compared cluster_00396.vtp 2.2121016e-05\n",
      "Compared cluster_00534.vtp 2.2115777e-05\n",
      "Compared cluster_00441.vtp 2.2116279e-05\n",
      "Compared cluster_00171.vtp 2.211703e-05\n",
      "Compared cluster_00400.vtp 2.2125118e-05\n",
      "Compared cluster_00281.vtp 2.2126897e-05\n",
      "Compared cluster_00780.vtp 2.2121194e-05\n",
      "Compared cluster_00065.vtp 2.2117081e-05\n",
      "Compared cluster_00478.vtp 2.2116657e-05\n",
      "Compared cluster_00610.vtp 2.21212e-05\n",
      "Compared cluster_00635.vtp 2.211662e-05\n",
      "Compared cluster_00464.vtp 2.2116661e-05\n",
      "Compared cluster_00073.vtp 2.2111188e-05\n",
      "Compared cluster_00174.vtp 2.210661e-05\n",
      "Compared cluster_00426.vtp 2.2112463e-05\n",
      "Compared cluster_00594.vtp 2.2120408e-05\n",
      "Compared cluster_00314.vtp 2.2128344e-05\n",
      "Compared cluster_00391.vtp 2.2131959e-05\n",
      "Compared cluster_00226.vtp 2.2125967e-05\n",
      "Compared cluster_00230.vtp 2.2131688e-05\n",
      "Compared cluster_00062.vtp 2.2125008e-05\n",
      "Compared cluster_00503.vtp 2.2130213e-05\n",
      "Compared cluster_00416.vtp 2.2134507e-05\n",
      "Compared cluster_00798.vtp 2.2131071e-05\n",
      "Compared cluster_00346.vtp 2.2135097e-05\n",
      "Compared cluster_00517.vtp 2.213609e-05\n",
      "Compared cluster_00087.vtp 2.2136745e-05\n",
      "Compared cluster_00368.vtp 2.2144559e-05\n",
      "Compared cluster_00084.vtp 2.2136559e-05\n",
      "Compared cluster_00686.vtp 2.213184e-05\n",
      "Compared cluster_00331.vtp 2.2139679e-05\n",
      "Compared cluster_00280.vtp 2.2147466e-05\n",
      "Compared cluster_00317.vtp 2.2146114e-05\n",
      "Compared cluster_00409.vtp 2.215377e-05\n",
      "Compared cluster_00605.vtp 2.214772e-05\n",
      "Compared cluster_00041.vtp 2.2139844e-05\n",
      "Compared cluster_00176.vtp 2.2141252e-05\n",
      "Compared cluster_00664.vtp 2.2145012e-05\n",
      "Compared cluster_00449.vtp 2.2151002e-05\n",
      "Compared cluster_00680.vtp 2.2158758e-05\n",
      "Compared cluster_00782.vtp 2.2165708e-05\n",
      "Compared cluster_00422.vtp 2.215983e-05\n",
      "Compared cluster_00769.vtp 2.2162512e-05\n",
      "Compared cluster_00225.vtp 2.2162587e-05\n",
      "Compared cluster_00742.vtp 2.2159506e-05\n",
      "Compared cluster_00240.vtp 2.2152324e-05\n",
      "Compared cluster_00786.vtp 2.2154522e-05\n",
      "Compared cluster_00519.vtp 2.2156288e-05\n",
      "Compared cluster_00336.vtp 2.2163862e-05\n",
      "Compared cluster_00183.vtp 2.2165901e-05\n",
      "Compared cluster_00371.vtp 2.2173455e-05\n",
      "Compared cluster_00130.vtp 2.2175924e-05\n",
      "Compared cluster_00236.vtp 2.216841e-05\n",
      "Compared cluster_00749.vtp 2.2167871e-05\n",
      "Compared cluster_00537.vtp 2.2175507e-05\n",
      "Compared cluster_00559.vtp 2.2167933e-05\n",
      "Compared cluster_00109.vtp 2.2161303e-05\n",
      "Compared cluster_00330.vtp 2.2161008e-05\n",
      "Compared cluster_00730.vtp 2.21608e-05\n",
      "Compared cluster_00494.vtp 2.2152628e-05\n",
      "Did not find Draco compressed data..\n",
      "Compared cluster_00209.vtp 2.214366e-05\n",
      "Compared cluster_00438.vtp 2.2144297e-05\n",
      "Compared cluster_00105.vtp 2.214289e-05\n",
      "Compared cluster_00590.vtp 2.2141707e-05\n",
      "Compared cluster_00124.vtp 2.2136901e-05\n",
      "Compared cluster_00374.vtp 2.2144308e-05\n",
      "Compared cluster_00245.vtp 2.2134922e-05\n",
      "Compared cluster_00379.vtp 2.2142422e-05\n",
      "Compared cluster_00510.vtp 2.2137994e-05\n",
      "Compared cluster_00312.vtp 2.2145448e-05\n",
      "Compared cluster_00530.vtp 2.214329e-05\n",
      "Compared cluster_00375.vtp 2.215038e-05\n",
      "Compared cluster_00335.vtp 2.2155724e-05\n",
      "Compared cluster_00461.vtp 2.2156366e-05\n",
      "Compared cluster_00645.vtp 2.216098e-05\n",
      "Compared cluster_00384.vtp 2.2161486e-05\n",
      "Compared cluster_00776.vtp 2.2162258e-05\n",
      "Compared cluster_00543.vtp 2.2169657e-05\n",
      "Compared cluster_00222.vtp 2.2169846e-05\n",
      "Compared cluster_00003.vtp 2.2168364e-05\n",
      "Compared cluster_00557.vtp 2.2175062e-05\n",
      "Compared cluster_00412.vtp 2.2174354e-05\n",
      "Compared cluster_00569.vtp 2.2174834e-05\n",
      "Compared cluster_00341.vtp 2.2177046e-05\n",
      "Compared cluster_00783.vtp 2.2178216e-05\n",
      "Compared cluster_00143.vtp 2.2185564e-05\n",
      "Compared cluster_00184.vtp 2.2177326e-05\n",
      "Compared cluster_00233.vtp 2.2181413e-05\n",
      "Compared cluster_00484.vtp 2.2179223e-05\n",
      "Compared cluster_00283.vtp 2.218531e-05\n",
      "Compared cluster_00794.vtp 2.2182336e-05\n",
      "Compared cluster_00215.vtp 2.2186021e-05\n",
      "Compared cluster_00287.vtp 2.2189015e-05\n",
      "Compared cluster_00237.vtp 2.2180235e-05\n",
      "Compared cluster_00546.vtp 2.2182952e-05\n",
      "Compared cluster_00068.vtp 2.2173856e-05\n",
      "Compared cluster_00089.vtp 2.2169068e-05\n",
      "Compared cluster_00111.vtp 2.2173315e-05\n",
      "Did not find Draco compressed data..\n",
      "Compared cluster_00299.vtp 2.2170783e-05\n",
      "Compared cluster_00002.vtp 2.2171422e-05\n",
      "Compared cluster_00090.vtp 2.2172206e-05\n",
      "Compared cluster_00030.vtp 2.2175433e-05\n",
      "Compared cluster_00020.vtp 2.2173295e-05\n",
      "Compared cluster_00402.vtp 2.2180364e-05\n"
     ]
    },
    {
     "name": "stdout",
     "output_type": "stream",
     "text": [
      "Compared cluster_00049.vtp 2.2179234e-05\n",
      "Compared cluster_00732.vtp 2.217693e-05\n",
      "Compared cluster_00532.vtp 2.2178725e-05\n",
      "Compared cluster_00641.vtp 2.2175345e-05\n",
      "Compared cluster_00757.vtp 2.2179793e-05\n",
      "Compared cluster_00063.vtp 2.2179423e-05\n",
      "Compared cluster_00606.vtp 2.2176479e-05\n",
      "Compared cluster_00529.vtp 2.2179696e-05\n",
      "Compared cluster_00032.vtp 2.2181102e-05\n",
      "Compared cluster_00008.vtp 2.2174523e-05\n",
      "Compared cluster_00123.vtp 2.2169457e-05\n",
      "Compared cluster_00479.vtp 2.2164166e-05\n",
      "Compared cluster_00551.vtp 2.2160091e-05\n",
      "Compared cluster_00795.vtp 2.2162829e-05\n",
      "Compared cluster_00574.vtp 2.215877e-05\n",
      "Compared cluster_00077.vtp 2.2158123e-05\n",
      "Compared cluster_00295.vtp 2.2165235e-05\n",
      "Compared cluster_00269.vtp 2.2170232e-05\n",
      "Compared cluster_00273.vtp 2.2172242e-05\n",
      "Compared cluster_00643.vtp 2.2165052e-05\n",
      "Compared cluster_00306.vtp 2.217209e-05\n",
      "Compared cluster_00043.vtp 2.2165665e-05\n",
      "Compared cluster_00018.vtp 2.2160499e-05\n",
      "Compared cluster_00708.vtp 2.2158345e-05\n",
      "Compared cluster_00549.vtp 2.2161807e-05\n",
      "Compared cluster_00242.vtp 2.2160953e-05\n",
      "Compared cluster_00198.vtp 2.2158729e-05\n",
      "Compared cluster_00690.vtp 2.2159678e-05\n",
      "Compared cluster_00561.vtp 2.215904e-05\n",
      "Compared cluster_00353.vtp 2.21602e-05\n",
      "Compared cluster_00579.vtp 2.2159264e-05\n",
      "Compared cluster_00199.vtp 2.216149e-05\n",
      "Compared cluster_00445.vtp 2.2165832e-05\n",
      "Compared cluster_00153.vtp 2.2160215e-05\n",
      "Compared cluster_00354.vtp 2.2167147e-05\n",
      "Compared cluster_00300.vtp 2.2173992e-05\n",
      "Compared cluster_00210.vtp 2.2167958e-05\n",
      "Compared cluster_00793.vtp 2.2164e-05\n",
      "Compared cluster_00239.vtp 2.2162692e-05\n",
      "Compared cluster_00082.vtp 2.2157725e-05\n",
      "Compared cluster_00490.vtp 2.2164622e-05\n",
      "Compared cluster_00005.vtp 2.2159598e-05\n",
      "Compared cluster_00720.vtp 2.2160664e-05\n",
      "Compared cluster_00401.vtp 2.2163722e-05\n",
      "Compared cluster_00515.vtp 2.2163409e-05\n",
      "Compared cluster_00673.vtp 2.2168164e-05\n",
      "Compared cluster_00539.vtp 2.2163998e-05\n",
      "Compared cluster_00100.vtp 2.2165585e-05\n",
      "Compared cluster_00019.vtp 2.2158873e-05\n",
      "Compared cluster_00051.vtp 2.2157625e-05\n",
      "Compared cluster_00249.vtp 2.2150767e-05\n",
      "Compared cluster_00134.vtp 2.2144497e-05\n",
      "Compared cluster_00274.vtp 2.2141045e-05\n",
      "Compared cluster_00296.vtp 2.2144874e-05\n",
      "Compared cluster_00455.vtp 2.21427e-05\n",
      "Compared cluster_00211.vtp 2.2149545e-05\n",
      "Compared cluster_00733.vtp 2.21535e-05\n",
      "Compared cluster_00766.vtp 2.2148357e-05\n",
      "Compared cluster_00023.vtp 2.2155215e-05\n",
      "Compared cluster_00276.vtp 2.2158007e-05\n",
      "Compared cluster_00319.vtp 2.2163193e-05\n",
      "Compared cluster_00394.vtp 2.215922e-05\n",
      "Compared cluster_00413.vtp 2.2161741e-05\n",
      "Compared cluster_00485.vtp 2.2162134e-05\n",
      "Compared cluster_00428.vtp 2.2162481e-05\n",
      "Compared cluster_00501.vtp 2.2164271e-05\n",
      "Compared cluster_00518.vtp 2.2161275e-05\n",
      "Compared cluster_00789.vtp 2.2168013e-05\n",
      "Compared cluster_00224.vtp 2.2174816e-05\n",
      "Compared cluster_00736.vtp 2.2171798e-05\n",
      "Compared cluster_00624.vtp 2.2170123e-05\n",
      "Compared cluster_00591.vtp 2.2176804e-05\n",
      "Compared cluster_00044.vtp 2.2182581e-05\n",
      "Compared cluster_00164.vtp 2.2180131e-05\n",
      "Compared cluster_00097.vtp 2.2183582e-05\n",
      "Compared cluster_00108.vtp 2.2190334e-05\n",
      "Compared cluster_00734.vtp 2.2190812e-05\n",
      "Compared cluster_00291.vtp 2.2194472e-05\n",
      "Compared cluster_00571.vtp 2.2194276e-05\n",
      "Compared cluster_00634.vtp 2.2187343e-05\n",
      "Compared cluster_00294.vtp 2.2192324e-05\n",
      "Compared cluster_00434.vtp 2.219485e-05\n",
      "Compared cluster_00398.vtp 2.219783e-05\n",
      "Compared cluster_00556.vtp 2.2197191e-05\n",
      "Compared cluster_00158.vtp 2.2202094e-05\n",
      "Compared cluster_00282.vtp 2.2201933e-05\n",
      "Compared cluster_00669.vtp 2.2193153e-05\n",
      "Compared cluster_00318.vtp 2.2190658e-05\n",
      "Compared cluster_00548.vtp 2.2197164e-05\n",
      "Compared cluster_00496.vtp 2.219619e-05\n",
      "Compared cluster_00247.vtp 2.2196113e-05\n",
      "Compared cluster_00216.vtp 2.2195125e-05\n",
      "Compared cluster_00683.vtp 2.2201713e-05\n",
      "Compared cluster_00526.vtp 2.2201953e-05\n",
      "Compared cluster_00129.vtp 2.2194685e-05\n",
      "Compared cluster_00266.vtp 2.2198701e-05\n",
      "Compared cluster_00615.vtp 2.219753e-05\n",
      "Compared cluster_00459.vtp 2.2202457e-05\n",
      "Compared cluster_00585.vtp 2.2208973e-05\n",
      "Compared cluster_00107.vtp 2.2210408e-05\n",
      "Compared cluster_00363.vtp 2.2214894e-05\n",
      "Compared cluster_00025.vtp 2.221886e-05\n",
      "Compared cluster_00313.vtp 2.2219689e-05\n",
      "Compared cluster_00763.vtp 2.2222122e-05\n",
      "Compared cluster_00075.vtp 2.221861e-05\n",
      "Compared cluster_00292.vtp 2.2225113e-05\n",
      "Compared cluster_00408.vtp 2.2231512e-05\n",
      "Compared cluster_00447.vtp 2.2234763e-05\n",
      "Compared cluster_00405.vtp 2.2240685e-05\n",
      "Compared cluster_00253.vtp 2.2241406e-05\n",
      "Compared cluster_00351.vtp 2.2246097e-05\n",
      "Compared cluster_00560.vtp 2.2247184e-05\n",
      "Compared cluster_00271.vtp 2.2244501e-05\n",
      "Compared cluster_00630.vtp 2.224171e-05\n",
      "Compared cluster_00165.vtp 2.223693e-05\n",
      "Compared cluster_00603.vtp 2.2228489e-05\n",
      "Compared cluster_00307.vtp 2.2230615e-05\n",
      "Compared cluster_00058.vtp 2.2225473e-05\n",
      "Compared cluster_00406.vtp 2.2224487e-05\n",
      "Compared cluster_00764.vtp 2.2222908e-05\n",
      "Compared cluster_00168.vtp 2.2218654e-05\n",
      "Compared cluster_00446.vtp 2.222491e-05\n",
      "Compared cluster_00098.vtp 2.2226368e-05\n",
      "Compared cluster_00179.vtp 2.2229862e-05\n",
      "Compared cluster_00136.vtp 2.2235014e-05\n",
      "Compared cluster_00356.vtp 2.2241338e-05\n",
      "Compared cluster_00326.vtp 2.2240758e-05\n",
      "Compared cluster_00016.vtp 2.2236789e-05\n",
      "Compared cluster_00011.vtp 2.2237105e-05\n",
      "Compared cluster_00639.vtp 2.2231365e-05\n",
      "Compared cluster_00033.vtp 2.2226888e-05\n",
      "Compared cluster_00575.vtp 2.2220285e-05\n",
      "Compared cluster_00376.vtp 2.2225446e-05\n",
      "Compared cluster_00403.vtp 2.2226981e-05\n",
      "Compared cluster_00188.vtp 2.2219527e-05\n",
      "Compared cluster_00775.vtp 2.22189e-05\n",
      "Compared cluster_00118.vtp 2.2219821e-05\n",
      "Compared cluster_00725.vtp 2.2221055e-05\n",
      "Compared cluster_00106.vtp 2.2221271e-05\n",
      "Compared cluster_00470.vtp 2.2227443e-05\n",
      "Compared cluster_00727.vtp 2.2225417e-05\n",
      "Compared cluster_00699.vtp 2.222594e-05\n",
      "Compared cluster_00649.vtp 2.2221155e-05\n",
      "Compared cluster_00563.vtp 2.2221644e-05\n",
      "Compared cluster_00538.vtp 2.2223681e-05\n",
      "Compared cluster_00115.vtp 2.2218901e-05\n",
      "Compared cluster_00147.vtp 2.2214634e-05\n",
      "Compared cluster_00121.vtp 2.2216704e-05\n",
      "Compared cluster_00166.vtp 2.2209611e-05\n",
      "Compared cluster_00126.vtp 2.22089e-05\n",
      "Compared cluster_00659.vtp 2.2207592e-05\n",
      "Compared cluster_00705.vtp 2.2212307e-05\n",
      "Compared cluster_00349.vtp 2.2213722e-05\n",
      "Compared cluster_00343.vtp 2.2215989e-05\n",
      "Compared cluster_00638.vtp 2.2218366e-05\n",
      "Compared cluster_00333.vtp 2.2222623e-05\n",
      "Compared cluster_00444.vtp 2.2228693e-05\n",
      "Compared cluster_00311.vtp 2.223376e-05\n",
      "Compared cluster_00325.vtp 2.2238795e-05\n",
      "Compared cluster_00728.vtp 2.2236063e-05\n",
      "Compared cluster_00453.vtp 2.223543e-05\n",
      "Compared cluster_00430.vtp 2.2233553e-05\n",
      "Compared cluster_00265.vtp 2.2234497e-05\n",
      "Compared cluster_00760.vtp 2.2240647e-05\n",
      "Compared cluster_00507.vtp 2.2235232e-05\n",
      "Compared cluster_00001.vtp 2.2235134e-05\n",
      "Compared cluster_00440.vtp 2.2237831e-05\n",
      "Compared cluster_00791.vtp 2.2236569e-05\n",
      "Compared cluster_00466.vtp 2.2233422e-05\n",
      "Compared cluster_00420.vtp 2.2236887e-05\n",
      "Compared cluster_00723.vtp 2.22362e-05\n",
      "Compared cluster_00525.vtp 2.223746e-05\n",
      "Compared cluster_00323.vtp 2.2242204e-05\n",
      "Compared cluster_00688.vtp 2.2242935e-05\n",
      "Compared cluster_00473.vtp 2.224791e-05\n",
      "Compared cluster_00741.vtp 2.2247434e-05\n",
      "Compared cluster_00759.vtp 2.2248025e-05\n",
      "Compared cluster_00709.vtp 2.2247028e-05\n",
      "Compared cluster_00623.vtp 2.2248807e-05\n",
      "Compared cluster_00042.vtp 2.2253405e-05\n",
      "Compared cluster_00698.vtp 2.2249722e-05\n",
      "Compared cluster_00007.vtp 2.2242508e-05\n",
      "Compared cluster_00141.vtp 2.2241713e-05\n",
      "Compared cluster_00755.vtp 2.2242257e-05\n",
      "Compared cluster_00139.vtp 2.224518e-05\n",
      "Compared cluster_00468.vtp 2.2251146e-05\n",
      "Compared cluster_00182.vtp 2.2251497e-05\n",
      "Compared cluster_00650.vtp 2.2243696e-05\n",
      "Compared cluster_00570.vtp 2.2241922e-05\n",
      "Compared cluster_00553.vtp 2.2247357e-05\n",
      "Compared cluster_00262.vtp 2.2250184e-05\n",
      "Compared cluster_00200.vtp 2.224083e-05\n",
      "Compared cluster_00099.vtp 2.2243963e-05\n",
      "Compared cluster_00270.vtp 2.2244527e-05\n",
      "Compared cluster_00502.vtp 2.2239263e-05\n",
      "Compared cluster_00180.vtp 2.2240303e-05\n",
      "Compared cluster_00722.vtp 2.224004e-05\n",
      "Compared cluster_00061.vtp 2.223588e-05\n",
      "Compared cluster_00573.vtp 2.222775e-05\n",
      "Compared cluster_00133.vtp 2.2225166e-05\n",
      "Compared cluster_00562.vtp 2.2220567e-05\n"
     ]
    },
    {
     "name": "stdout",
     "output_type": "stream",
     "text": [
      "Compared cluster_00774.vtp 2.2216886e-05\n",
      "Compared cluster_00415.vtp 2.222278e-05\n",
      "Compared cluster_00790.vtp 2.2228718e-05\n",
      "Compared cluster_00787.vtp 2.2229466e-05\n",
      "Compared cluster_00125.vtp 2.2225708e-05\n",
      "Compared cluster_00064.vtp 2.2221677e-05\n",
      "Compared cluster_00377.vtp 2.222762e-05\n",
      "Compared cluster_00076.vtp 2.2221035e-05\n",
      "Compared cluster_00425.vtp 2.222545e-05\n",
      "Compared cluster_00636.vtp 2.2230246e-05\n",
      "Compared cluster_00321.vtp 2.223407e-05\n",
      "Compared cluster_00572.vtp 2.2236522e-05\n",
      "Compared cluster_00256.vtp 2.2235676e-05\n",
      "Compared cluster_00512.vtp 2.2229773e-05\n",
      "Compared cluster_00347.vtp 2.2228598e-05\n",
      "Compared cluster_00772.vtp 2.222829e-05\n",
      "Compared cluster_00547.vtp 2.2222273e-05\n",
      "Compared cluster_00622.vtp 2.2213004e-05\n",
      "Compared cluster_00582.vtp 2.2205668e-05\n",
      "Compared cluster_00204.vtp 2.2199672e-05\n",
      "Compared cluster_00101.vtp 2.2194406e-05\n",
      "Compared cluster_00433.vtp 2.2188944e-05\n",
      "Compared cluster_00685.vtp 2.218408e-05\n",
      "Compared cluster_00437.vtp 2.218594e-05\n",
      "Compared cluster_00069.vtp 2.2182625e-05\n",
      "Compared cluster_00251.vtp 2.2184537e-05\n",
      "Compared cluster_00476.vtp 2.2186921e-05\n",
      "Compared cluster_00668.vtp 2.2184322e-05\n",
      "Compared cluster_00717.vtp 2.2179589e-05\n",
      "Compared cluster_00753.vtp 2.2183858e-05\n",
      "Compared cluster_00135.vtp 2.2180451e-05\n",
      "Compared cluster_00614.vtp 2.218623e-05\n",
      "Compared cluster_00246.vtp 2.2184313e-05\n",
      "Compared cluster_00285.vtp 2.2187318e-05\n",
      "Compared cluster_00628.vtp 2.218301e-05\n",
      "Compared cluster_00040.vtp 2.2182321e-05\n",
      "Compared cluster_00298.vtp 2.2185728e-05\n",
      "Compared cluster_00369.vtp 2.2191509e-05\n",
      "Compared cluster_00078.vtp 2.2187023e-05\n",
      "Compared cluster_00654.vtp 2.2188866e-05\n",
      "Compared cluster_00070.vtp 2.218591e-05\n",
      "Compared cluster_00676.vtp 2.21818e-05\n",
      "Compared cluster_00567.vtp 2.2175536e-05\n",
      "Compared cluster_00472.vtp 2.2174754e-05\n",
      "Compared cluster_00327.vtp 2.2177805e-05\n",
      "Compared cluster_00552.vtp 2.217183e-05\n",
      "Compared cluster_00527.vtp 2.217238e-05\n",
      "Compared cluster_00621.vtp 2.2166418e-05\n",
      "Compared cluster_00309.vtp 2.216794e-05\n",
      "Compared cluster_00767.vtp 2.2167045e-05\n",
      "Compared cluster_00067.vtp 2.2165974e-05\n",
      "Compared cluster_00186.vtp 2.2160084e-05\n",
      "Compared cluster_00031.vtp 2.2163045e-05\n",
      "Compared cluster_00460.vtp 2.2166301e-05\n",
      "Compared cluster_00218.vtp 2.2164093e-05\n",
      "Compared cluster_00796.vtp 2.2159675e-05\n",
      "Compared cluster_00250.vtp 2.2161303e-05\n",
      "Compared cluster_00726.vtp 2.2161968e-05\n",
      "Compared cluster_00715.vtp 2.216246e-05\n",
      "Compared cluster_00697.vtp 2.2157308e-05\n",
      "Compared cluster_00324.vtp 2.2161765e-05\n",
      "Compared cluster_00297.vtp 2.21587e-05\n",
      "Compared cluster_00411.vtp 2.2160948e-05\n",
      "Compared cluster_00640.vtp 2.2153781e-05\n",
      "Compared cluster_00407.vtp 2.2151575e-05\n",
      "Compared cluster_00163.vtp 2.2151085e-05\n",
      "Compared cluster_00662.vtp 2.2148386e-05\n",
      "Compared cluster_00682.vtp 2.2143331e-05\n",
      "Compared cluster_00393.vtp 2.2147928e-05\n",
      "Compared cluster_00607.vtp 2.2146998e-05\n",
      "Compared cluster_00642.vtp 2.2144604e-05\n",
      "Compared cluster_00091.vtp 2.2137747e-05\n",
      "Compared cluster_00048.vtp 2.2136383e-05\n",
      "Compared cluster_00487.vtp 2.2138516e-05\n",
      "Compared cluster_00004.vtp 2.2133745e-05\n",
      "Compared cluster_00338.vtp 2.2139377e-05\n",
      "Compared cluster_00500.vtp 2.2137467e-05\n",
      "Compared cluster_00665.vtp 2.21323e-05\n",
      "Compared cluster_00721.vtp 2.2134893e-05\n",
      "Compared cluster_00254.vtp 2.2128206e-05\n",
      "Compared cluster_00221.vtp 2.2126698e-05\n",
      "Compared cluster_00522.vtp 2.2123351e-05\n",
      "Compared cluster_00268.vtp 2.2125376e-05\n",
      "Compared cluster_00674.vtp 2.2124805e-05\n",
      "Compared cluster_00452.vtp 2.2130398e-05\n",
      "Compared cluster_00303.vtp 2.2132082e-05\n",
      "Compared cluster_00036.vtp 2.2124768e-05\n",
      "Compared cluster_00046.vtp 2.213031e-05\n",
      "Compared cluster_00024.vtp 2.2130625e-05\n",
      "Compared cluster_00352.vtp 2.2136202e-05\n",
      "Compared cluster_00187.vtp 2.2131713e-05\n",
      "Compared cluster_00514.vtp 2.2127922e-05\n",
      "Compared cluster_00257.vtp 2.2125914e-05\n",
      "Compared cluster_00781.vtp 2.2127026e-05\n",
      "Compared cluster_00389.vtp 2.212722e-05\n",
      "Compared cluster_00261.vtp 2.2132763e-05\n",
      "Compared cluster_00034.vtp 2.2129701e-05\n",
      "Compared cluster_00651.vtp 2.2128923e-05\n",
      "Compared cluster_00148.vtp 2.2125349e-05\n",
      "Compared cluster_00516.vtp 2.2120666e-05\n",
      "Compared cluster_00536.vtp 2.212378e-05\n",
      "Compared cluster_00419.vtp 2.2125316e-05\n",
      "Compared cluster_00706.vtp 2.2126045e-05\n",
      "Compared cluster_00127.vtp 2.2126977e-05\n",
      "Compared cluster_00017.vtp 2.2126538e-05\n",
      "Compared cluster_00777.vtp 2.2129412e-05\n",
      "Compared cluster_00014.vtp 2.212256e-05\n",
      "Compared cluster_00185.vtp 2.2124193e-05\n",
      "Compared cluster_00523.vtp 2.2121027e-05\n",
      "Compared cluster_00418.vtp 2.2124446e-05\n",
      "Compared cluster_00364.vtp 2.212997e-05\n",
      "Compared cluster_00365.vtp 2.2131702e-05\n",
      "Compared cluster_00322.vtp 2.2137177e-05\n",
      "Compared cluster_00644.vtp 2.2133197e-05\n",
      "Compared cluster_00540.vtp 2.212854e-05\n",
      "Compared cluster_00475.vtp 2.2131624e-05\n",
      "Compared cluster_00703.vtp 2.213408e-05\n",
      "Compared cluster_00652.vtp 2.2130276e-05\n",
      "Compared cluster_00696.vtp 2.212616e-05\n",
      "Compared cluster_00102.vtp 2.2123955e-05\n",
      "Compared cluster_00131.vtp 2.2127606e-05\n",
      "Compared cluster_00439.vtp 2.2129825e-05\n",
      "Compared cluster_00190.vtp 2.2124685e-05\n",
      "Compared cluster_00092.vtp 2.212582e-05\n",
      "Compared cluster_00119.vtp 2.2127908e-05\n",
      "Compared cluster_00072.vtp 2.2132022e-05\n",
      "Compared cluster_00238.vtp 2.2131568e-05\n",
      "Compared cluster_00689.vtp 2.2132177e-05\n",
      "Compared cluster_00355.vtp 2.2134382e-05\n",
      "Compared cluster_00162.vtp 2.21295e-05\n",
      "Compared cluster_00600.vtp 2.2132861e-05\n",
      "Compared cluster_00427.vtp 2.2132002e-05\n",
      "Compared cluster_00093.vtp 2.2137412e-05\n",
      "Compared cluster_00053.vtp 2.2139e-05\n",
      "Compared cluster_00370.vtp 2.2144375e-05\n",
      "Compared cluster_00172.vtp 2.2142769e-05\n",
      "Compared cluster_00332.vtp 2.2148157e-05\n",
      "Compared cluster_00679.vtp 2.2144917e-05\n",
      "Compared cluster_00631.vtp 2.2145081e-05\n",
      "Compared cluster_00417.vtp 2.2142885e-05\n",
      "Compared cluster_00212.vtp 2.2143417e-05\n",
      "Compared cluster_00583.vtp 2.2148757e-05\n",
      "Compared cluster_00122.vtp 2.2149483e-05\n",
      "Compared cluster_00151.vtp 2.2147771e-05\n",
      "Compared cluster_00609.vtp 2.2150312e-05\n",
      "Compared cluster_00738.vtp 2.2150845e-05\n",
      "Compared cluster_00495.vtp 2.2147233e-05\n",
      "Compared cluster_00387.vtp 2.215108e-05\n",
      "Compared cluster_00746.vtp 2.2156364e-05\n",
      "Compared cluster_00424.vtp 2.2157712e-05\n",
      "Compared cluster_00423.vtp 2.2161634e-05\n",
      "Compared cluster_00666.vtp 2.2153903e-05\n",
      "Compared cluster_00252.vtp 2.2159213e-05\n",
      "Compared cluster_00173.vtp 2.2154782e-05\n",
      "Compared cluster_00260.vtp 2.2153756e-05\n",
      "Compared cluster_00482.vtp 2.2151422e-05\n",
      "Compared cluster_00613.vtp 2.2146425e-05\n",
      "Compared cluster_00435.vtp 2.2148286e-05\n",
      "Compared cluster_00773.vtp 2.2152924e-05\n",
      "Compared cluster_00747.vtp 2.2149788e-05\n",
      "Compared cluster_00079.vtp 2.2155129e-05\n",
      "Compared cluster_00436.vtp 2.2154984e-05\n",
      "Compared cluster_00146.vtp 2.2150849e-05\n",
      "Compared cluster_00193.vtp 2.2152402e-05\n",
      "Compared cluster_00535.vtp 2.2155291e-05\n",
      "Compared cluster_00096.vtp 2.2160577e-05\n",
      "Compared cluster_00385.vtp 2.2164693e-05\n",
      "Compared cluster_00442.vtp 2.2161339e-05\n",
      "Compared cluster_00656.vtp 2.2156742e-05\n",
      "Compared cluster_00154.vtp 2.216045e-05\n",
      "Compared cluster_00617.vtp 2.2156213e-05\n",
      "Compared cluster_00454.vtp 2.2154314e-05\n",
      "Compared cluster_00159.vtp 2.2152568e-05\n",
      "Compared cluster_00191.vtp 2.2151777e-05\n",
      "Compared cluster_00088.vtp 2.2151306e-05\n",
      "Compared cluster_00132.vtp 2.2146836e-05\n",
      "Compared cluster_00714.vtp 2.21463e-05\n",
      "Compared cluster_00232.vtp 2.2147246e-05\n",
      "Compared cluster_00799.vtp 2.214938e-05\n",
      "Compared cluster_00655.vtp 2.2148282e-05\n",
      "Compared cluster_00234.vtp 2.2145467e-05\n",
      "Compared cluster_00761.vtp 2.2144228e-05\n",
      "Compared cluster_00006.vtp 2.2147453e-05\n",
      "Compared cluster_00149.vtp 2.2142762e-05\n",
      "Compared cluster_00156.vtp 2.2139706e-05\n",
      "Compared cluster_00138.vtp 2.2143804e-05\n",
      "Compared cluster_00308.vtp 2.2145174e-05\n",
      "Compared cluster_00710.vtp 2.2145496e-05\n",
      "Compared cluster_00243.vtp 2.2146276e-05\n",
      "Compared cluster_00601.vtp 2.21512e-05\n",
      "Compared cluster_00350.vtp 2.2156333e-05\n",
      "Compared cluster_00797.vtp 2.215222e-05\n",
      "Compared cluster_00467.vtp 2.2150572e-05\n",
      "Compared cluster_00702.vtp 2.2147571e-05\n",
      "Compared cluster_00471.vtp 2.2148473e-05\n",
      "Compared cluster_00602.vtp 2.2143433e-05\n",
      "Compared cluster_00701.vtp 2.2148597e-05\n",
      "Compared cluster_00244.vtp 2.2148128e-05\n",
      "Compared cluster_00596.vtp 2.2148517e-05\n",
      "Compared cluster_00035.vtp 2.2144282e-05\n",
      "Compared cluster_00290.vtp 2.2148362e-05\n"
     ]
    },
    {
     "name": "stdout",
     "output_type": "stream",
     "text": [
      "Compared cluster_00360.vtp 2.21535e-05\n",
      "Compared cluster_00116.vtp 2.2149516e-05\n",
      "Compared cluster_00241.vtp 2.2146245e-05\n",
      "Compared cluster_00316.vtp 2.214368e-05\n",
      "Compared cluster_00378.vtp 2.2147686e-05\n",
      "Compared cluster_00050.vtp 2.2148819e-05\n",
      "Compared cluster_00372.vtp 2.2153898e-05\n",
      "Compared cluster_00637.vtp 2.2150754e-05\n",
      "Compared cluster_00083.vtp 2.2148031e-05\n",
      "Compared cluster_00758.vtp 2.2149432e-05\n",
      "Compared cluster_00059.vtp 2.2147158e-05\n",
      "Compared cluster_00029.vtp 2.2142302e-05\n",
      "Compared cluster_00576.vtp 2.2136135e-05\n",
      "Compared cluster_00533.vtp 2.2141236e-05\n",
      "Compared cluster_00339.vtp 2.214623e-05\n",
      "Compared cluster_00137.vtp 2.2143056e-05\n",
      "Compared cluster_00010.vtp 2.2139324e-05\n",
      "Compared cluster_00555.vtp 2.2141887e-05\n",
      "Compared cluster_00598.vtp 2.214266e-05\n",
      "Compared cluster_00057.vtp 2.2136786e-05\n",
      "Compared cluster_00756.vtp 2.2141852e-05\n",
      "Compared cluster_00052.vtp 2.2139277e-05\n",
      "Compared cluster_00203.vtp 2.2140892e-05\n",
      "Compared cluster_00329.vtp 2.2145969e-05\n",
      "Compared cluster_00009.vtp 2.214368e-05\n",
      "Compared cluster_00647.vtp 2.2145747e-05\n",
      "Compared cluster_00626.vtp 2.2144344e-05\n",
      "Compared cluster_00152.vtp 2.213823e-05\n",
      "Compared cluster_00458.vtp 2.214075e-05\n",
      "Compared cluster_00334.vtp 2.2137701e-05\n",
      "Compared cluster_00480.vtp 2.2133905e-05\n",
      "Compared cluster_00381.vtp 2.2133981e-05\n",
      "Compared cluster_00279.vtp 2.2135042e-05\n",
      "Compared cluster_00026.vtp 2.2130274e-05\n",
      "Compared cluster_00275.vtp 2.2129447e-05\n",
      "Compared cluster_00748.vtp 2.2130433e-05\n",
      "Compared cluster_00197.vtp 2.2129223e-05\n",
      "Compared cluster_00213.vtp 2.2130622e-05\n",
      "Compared cluster_00344.vtp 2.2135655e-05\n",
      "Compared cluster_00086.vtp 2.2134476e-05\n",
      "Compared cluster_00175.vtp 2.213099e-05\n",
      "Compared cluster_00739.vtp 2.2129303e-05\n",
      "Compared cluster_00404.vtp 2.2129794e-05\n",
      "Compared cluster_00465.vtp 2.2134782e-05\n",
      "Compared cluster_00128.vtp 2.2136925e-05\n",
      "Compared cluster_00604.vtp 2.2136293e-05\n",
      "Compared cluster_00345.vtp 2.2141223e-05\n",
      "Compared cluster_00724.vtp 2.214188e-05\n",
      "Compared cluster_00589.vtp 2.2142147e-05\n",
      "Compared cluster_00489.vtp 2.2140777e-05\n",
      "Compared cluster_00681.vtp 2.2138984e-05\n",
      "Compared cluster_00195.vtp 2.2143928e-05\n",
      "Compared cluster_00214.vtp 2.2140255e-05\n",
      "Compared cluster_00045.vtp 2.214153e-05\n",
      "Compared cluster_00712.vtp 2.2141536e-05\n",
      "Compared cluster_00431.vtp 2.2141865e-05\n",
      "Compared cluster_00202.vtp 2.2146036e-05\n",
      "Compared cluster_00771.vtp 2.2143498e-05\n",
      "Compared cluster_00788.vtp 2.2145068e-05\n",
      "Compared cluster_00219.vtp 2.2147526e-05\n",
      "Compared cluster_00277.vtp 2.214666e-05\n",
      "Compared cluster_00110.vtp 2.2144044e-05\n",
      "Compared cluster_00684.vtp 2.2143227e-05\n",
      "Compared cluster_00492.vtp 2.2140079e-05\n",
      "Compared cluster_00358.vtp 2.2144884e-05\n",
      "Compared cluster_00157.vtp 2.2142227e-05\n",
      "Compared cluster_00675.vtp 2.2138442e-05\n",
      "Compared cluster_00520.vtp 2.2143102e-05\n",
      "Compared cluster_00762.vtp 2.2142887e-05\n",
      "Compared cluster_00264.vtp 2.2140799e-05\n",
      "Compared cluster_00337.vtp 2.2145205e-05\n",
      "Compared cluster_00528.vtp 2.2145568e-05\n",
      "Compared cluster_00477.vtp 2.2147036e-05\n",
      "Compared cluster_00558.vtp 2.2149165e-05\n",
      "Compared cluster_00194.vtp 2.214752e-05\n",
      "Compared cluster_00704.vtp 2.21502e-05\n",
      "Compared cluster_00785.vtp 2.2151748e-05\n",
      "Compared cluster_00499.vtp 2.2151899e-05\n",
      "Compared cluster_00469.vtp 2.2149037e-05\n",
      "Compared cluster_00114.vtp 2.2150763e-05\n",
      "Compared cluster_00022.vtp 2.2150787e-05\n",
      "Compared cluster_00293.vtp 2.2150476e-05\n",
      "Compared cluster_00718.vtp 2.2149175e-05\n",
      "Compared cluster_00305.vtp 2.215134e-05\n",
      "Compared cluster_00315.vtp 2.2150132e-05\n",
      "Compared cluster_00745.vtp 2.2152331e-05\n",
      "Compared cluster_00012.vtp 2.2152017e-05\n",
      "Compared cluster_00448.vtp 2.2154312e-05\n",
      "Compared cluster_00421.vtp 2.2156573e-05\n",
      "Compared cluster_00060.vtp 2.215255e-05\n",
      "Compared cluster_00531.vtp 2.2152068e-05\n",
      "Compared cluster_00037.vtp 2.2150643e-05\n",
      "Compared cluster_00506.vtp 2.2149705e-05\n",
      "Compared cluster_00584.vtp 2.2144659e-05\n",
      "Compared cluster_00181.vtp 2.2149256e-05\n",
      "Compared cluster_00713.vtp 2.215045e-05\n",
      "Compared cluster_00554.vtp 2.214805e-05\n",
      "Compared cluster_00039.vtp 2.2145558e-05\n",
      "Compared cluster_00074.vtp 2.2140704e-05\n",
      "Compared cluster_00521.vtp 2.2140173e-05\n",
      "Compared cluster_00178.vtp 2.2143397e-05\n",
      "Compared cluster_00625.vtp 2.2138709e-05\n",
      "Compared cluster_00486.vtp 2.2139855e-05\n",
      "Compared cluster_00205.vtp 2.2139073e-05\n",
      "Compared cluster_00678.vtp 2.2142494e-05\n",
      "Compared cluster_00196.vtp 2.2138121e-05\n",
      "Compared cluster_00392.vtp 2.2142884e-05\n",
      "Compared cluster_00170.vtp 2.2137565e-05\n",
      "Compared cluster_00169.vtp 2.214225e-05\n",
      "Compared cluster_00054.vtp 2.2143347e-05\n",
      "Compared cluster_00660.vtp 2.214321e-05\n",
      "Compared cluster_00565.vtp 2.214389e-05\n",
      "Compared cluster_00677.vtp 2.2141054e-05\n",
      "Compared cluster_00595.vtp 2.2138725e-05\n",
      "Compared cluster_00592.vtp 2.2141672e-05\n",
      "Compared cluster_00653.vtp 2.214033e-05\n",
      "Compared cluster_00542.vtp 2.2140863e-05\n",
      "Compared cluster_00672.vtp 2.2138314e-05\n",
      "Compared cluster_00657.vtp 2.2136795e-05\n",
      "Compared cluster_00410.vtp 2.214155e-05\n",
      "Compared cluster_00284.vtp 2.2140492e-05\n",
      "Compared cluster_00599.vtp 2.2142982e-05\n",
      "Compared cluster_00687.vtp 2.2141372e-05\n",
      "Compared cluster_00619.vtp 2.2135684e-05\n",
      "Compared cluster_00362.vtp 2.2140377e-05\n",
      "Compared cluster_00235.vtp 2.2139204e-05\n",
      "Compared cluster_00511.vtp 2.2137485e-05\n",
      "Compared cluster_00695.vtp 2.2136715e-05\n",
      "Compared cluster_00580.vtp 2.2138616e-05\n",
      "Compared cluster_00208.vtp 2.214104e-05\n",
      "Compared cluster_00488.vtp 2.2137712e-05\n",
      "Compared cluster_00388.vtp 2.2135144e-05\n",
      "Compared cluster_00700.vtp 2.213679e-05\n",
      "Compared cluster_00223.vtp 2.2135358e-05\n",
      "Compared cluster_00395.vtp 2.2136617e-05\n",
      "Compared cluster_00342.vtp 2.2140823e-05\n",
      "Compared cluster_00390.vtp 2.213621e-05\n",
      "Compared cluster_00513.vtp 2.2133094e-05\n",
      "Compared cluster_00145.vtp 2.2128912e-05\n",
      "Compared cluster_00692.vtp 2.212465e-05\n",
      "Compared cluster_00627.vtp 2.212933e-05\n",
      "Compared cluster_00028.vtp 2.21237e-05\n",
      "Compared cluster_00095.vtp 2.2122069e-05\n",
      "Compared cluster_00348.vtp 2.2126736e-05\n",
      "Compared cluster_00611.vtp 2.212525e-05\n",
      "Compared cluster_00504.vtp 2.2128454e-05\n",
      "Compared cluster_00578.vtp 2.21313e-05\n",
      "Compared cluster_00671.vtp 2.2127655e-05\n",
      "Compared cluster_00167.vtp 2.2127013e-05\n",
      "Compared cluster_00491.vtp 2.2129052e-05\n",
      "Compared cluster_00661.vtp 2.2125983e-05\n",
      "Compared cluster_00612.vtp 2.2123375e-05\n",
      "Compared cluster_00564.vtp 2.2120303e-05\n",
      "Compared cluster_00481.vtp 2.2116395e-05\n",
      "Compared cluster_00015.vtp 2.2113652e-05\n",
      "Compared cluster_00451.vtp 2.2112683e-05\n",
      "Compared cluster_00103.vtp 2.2107359e-05\n",
      "Did not find Draco compressed data..\n",
      "Compared cluster_00328.vtp 2.2111883e-05\n",
      "Compared cluster_00217.vtp 2.21128e-05\n",
      "Compared cluster_00751.vtp 2.2115255e-05\n",
      "Compared cluster_00144.vtp 2.2117203e-05\n",
      "Compared cluster_00386.vtp 2.2120683e-05\n",
      "Compared cluster_00056.vtp 2.2120343e-05\n",
      "Compared cluster_00310.vtp 2.2124965e-05\n",
      "Compared cluster_00719.vtp 2.2127482e-05\n",
      "Compared cluster_00177.vtp 2.2128268e-05\n",
      "Compared cluster_00113.vtp 2.2132846e-05\n",
      "Compared cluster_00618.vtp 2.2129832e-05\n",
      "Compared cluster_00104.vtp 2.2125996e-05\n",
      "Compared cluster_00509.vtp 2.2122204e-05\n",
      "Compared cluster_00587.vtp 2.211879e-05\n",
      "Compared cluster_00229.vtp 2.2117727e-05\n",
      "Compared cluster_00278.vtp 2.211894e-05\n",
      "Did not find Draco compressed data..\n",
      "Compared cluster_00161.vtp 2.2113518e-05\n",
      "Compared cluster_00047.vtp 2.2114216e-05\n",
      "Compared cluster_00263.vtp 2.2117505e-05\n",
      "Compared cluster_00716.vtp 2.2114873e-05\n",
      "Compared cluster_00399.vtp 2.2112612e-05\n",
      "Compared cluster_00737.vtp 2.2111222e-05\n",
      "Compared cluster_00155.vtp 2.2107482e-05\n",
      "Compared cluster_00302.vtp 2.2106482e-05\n",
      "Compared cluster_00367.vtp 2.2111037e-05\n",
      "Compared cluster_00663.vtp 2.2105603e-05\n",
      "Compared cluster_00792.vtp 2.2102804e-05\n",
      "Compared cluster_00055.vtp 2.2096468e-05\n",
      "Compared cluster_00071.vtp 2.2097945e-05\n",
      "Compared cluster_00366.vtp 2.2102524e-05\n",
      "Compared cluster_00320.vtp 2.2104823e-05\n",
      "Compared cluster_00586.vtp 2.2103432e-05\n",
      "Compared cluster_00765.vtp 2.2102964e-05\n"
     ]
    }
   ],
   "source": [
    "OUTPUTDIR = '/home/d/DATA/Dropbox/'+DATASETNAME+'_TKO/'\n",
    "diffs = {}\n",
    "for S in SUBJECTS:\n",
    "    for G in GROUP:\n",
    "        CURRENTDIR = os.path.join(DATADIR, S, G)\n",
    "        CURRENTOUTDIR = os.path.join(OUTPUTDIR, S, G)\n",
    "        files = os.listdir(CURRENTDIR)\n",
    "        \n",
    "        for f in files:\n",
    "            if not f.endswith('vtp'):\n",
    "                continue\n",
    "            \n",
    "            vtpfile = os.path.join(CURRENTDIR, f)\n",
    "            tkofile = os.path.join(CURRENTOUTDIR, f.replace('vtp', 'tko'))\n",
    "            \n",
    "            # load original\n",
    "            poly_a = TKO.Util.loadvtp(vtpfile)\n",
    "            \n",
    "            try:\n",
    "                # untrakofy TKO file\n",
    "                poly_b = TKO.Util.loadvtp(TKO.Decoder.toVtp(tkofile, verbose=False), fromfile=False)\n",
    "            except:\n",
    "                continue\n",
    "                \n",
    "            # compare points and lines\n",
    "            (min_a, max_a, mean_a, std_a), dist_a = TKO.Util.normalized_error(poly_a['points'], \n",
    "                                                                   poly_b['points'])\n",
    "            if not 'points' in diffs:\n",
    "                diffs['points'] = []\n",
    "            diffs['points'].append(mean_a)\n",
    "            \n",
    "            (min_a, max_a, mean_a, std_a), dist_a = TKO.Util.normalized_error(poly_a['lines'], \n",
    "                                                                   poly_b['lines'])\n",
    "            if not 'lines' in diffs:\n",
    "                diffs['lines'] = []\n",
    "            diffs['lines'].append(mean_a)\n",
    "            \n",
    "            # compare scalars\n",
    "            for i,s in enumerate(poly_a['scalar_names']):\n",
    "                (min_a, max_a, mean_a, std_a), dist_a = TKO.Util.normalized_error(poly_a['scalars'][i], \n",
    "                                                                       poly_b['scalars'][i])\n",
    "                if not s in diffs:\n",
    "                    diffs[s] = []\n",
    "                diffs[s].append(mean_a)\n",
    "                \n",
    "            # compare properties\n",
    "            for i,p in enumerate(poly_a['property_names']):\n",
    "                (min_a, max_a, mean_a, std_a), dist_a = TKO.Util.normalized_error(poly_a['properties'][i], \n",
    "                                                                       poly_b['properties'][i])\n",
    "                if not p in diffs:\n",
    "                    diffs[p] = []\n",
    "                diffs[p].append(mean_a)\n",
    "                \n",
    "            \n",
    "            print('Compared', f, np.mean(diffs['points']))\n",
    "            "
   ]
  },
  {
   "cell_type": "markdown",
   "metadata": {},
   "source": [
    "# Plots"
   ]
  },
  {
   "cell_type": "code",
   "execution_count": 17,
   "metadata": {},
   "outputs": [],
   "source": [
    "def reject_outliers(data, m=2):\n",
    "    data = np.array(data)\n",
    "    return data[abs(data - np.mean(data)) < m * np.std(data)]"
   ]
  },
  {
   "cell_type": "code",
   "execution_count": 52,
   "metadata": {},
   "outputs": [],
   "source": [
    "import plotly.graph_objects as go"
   ]
  },
  {
   "cell_type": "code",
   "execution_count": 61,
   "metadata": {},
   "outputs": [
    {
     "data": {
      "application/vnd.plotly.v1+json": {
       "config": {
        "plotlyServerURL": "https://plot.ly"
       },
       "data": [
        {
         "error_x": {
          "array": [
           4.587996500049485e-06,
           0,
           6.177538125484716e-08,
           1.2784855130121286e-07,
           3.0571936804335564e-07,
           1.7136528640548931e-07,
           1.370066513572965e-07,
           1.2615011257821607e-07,
           9.27105219261648e-08,
           8.959194985891372e-08,
           8.812948237846285e-08,
           6.739944069522608e-07,
           0,
           0.0016351616920617055,
           7.649725830560783e-07,
           8.816833769742516e-07
          ],
          "type": "data"
         },
         "marker": {
          "color": "lightslategray"
         },
         "orientation": "h",
         "type": "bar",
         "x": [
          2.220557325927075e-05,
          0,
          1.5159179383772425e-05,
          1.516097745479783e-05,
          1.5278304999810643e-05,
          1.5265813999576494e-05,
          1.5253634046530351e-05,
          1.5254076060955413e-05,
          1.525769675936317e-05,
          1.5253352103172801e-05,
          1.5261857697623782e-05,
          5.5068529036361724e-05,
          0,
          0.005824939502470496,
          1.5047864508233033e-05,
          1.4986127098381985e-05
         ],
         "y": [
          "points",
          "lines",
          "NormalizedSignalEstimationError",
          "EstimatedUncertainty",
          "RTOP1",
          "RTOP2",
          "RTAP1",
          "RTAP2",
          "RTPP1",
          "RTPP2",
          "SignalMean",
          "EmbeddingCoordinate",
          "ClusterNumber",
          "EmbeddingColor",
          "TotalFiberSimilarity",
          "MeasuredFiberSimilarity"
         ]
        }
       ],
       "layout": {
        "template": {
         "data": {
          "bar": [
           {
            "error_x": {
             "color": "#2a3f5f"
            },
            "error_y": {
             "color": "#2a3f5f"
            },
            "marker": {
             "line": {
              "color": "#E5ECF6",
              "width": 0.5
             }
            },
            "type": "bar"
           }
          ],
          "barpolar": [
           {
            "marker": {
             "line": {
              "color": "#E5ECF6",
              "width": 0.5
             }
            },
            "type": "barpolar"
           }
          ],
          "carpet": [
           {
            "aaxis": {
             "endlinecolor": "#2a3f5f",
             "gridcolor": "white",
             "linecolor": "white",
             "minorgridcolor": "white",
             "startlinecolor": "#2a3f5f"
            },
            "baxis": {
             "endlinecolor": "#2a3f5f",
             "gridcolor": "white",
             "linecolor": "white",
             "minorgridcolor": "white",
             "startlinecolor": "#2a3f5f"
            },
            "type": "carpet"
           }
          ],
          "choropleth": [
           {
            "colorbar": {
             "outlinewidth": 0,
             "ticks": ""
            },
            "type": "choropleth"
           }
          ],
          "contour": [
           {
            "colorbar": {
             "outlinewidth": 0,
             "ticks": ""
            },
            "colorscale": [
             [
              0,
              "#0d0887"
             ],
             [
              0.1111111111111111,
              "#46039f"
             ],
             [
              0.2222222222222222,
              "#7201a8"
             ],
             [
              0.3333333333333333,
              "#9c179e"
             ],
             [
              0.4444444444444444,
              "#bd3786"
             ],
             [
              0.5555555555555556,
              "#d8576b"
             ],
             [
              0.6666666666666666,
              "#ed7953"
             ],
             [
              0.7777777777777778,
              "#fb9f3a"
             ],
             [
              0.8888888888888888,
              "#fdca26"
             ],
             [
              1,
              "#f0f921"
             ]
            ],
            "type": "contour"
           }
          ],
          "contourcarpet": [
           {
            "colorbar": {
             "outlinewidth": 0,
             "ticks": ""
            },
            "type": "contourcarpet"
           }
          ],
          "heatmap": [
           {
            "colorbar": {
             "outlinewidth": 0,
             "ticks": ""
            },
            "colorscale": [
             [
              0,
              "#0d0887"
             ],
             [
              0.1111111111111111,
              "#46039f"
             ],
             [
              0.2222222222222222,
              "#7201a8"
             ],
             [
              0.3333333333333333,
              "#9c179e"
             ],
             [
              0.4444444444444444,
              "#bd3786"
             ],
             [
              0.5555555555555556,
              "#d8576b"
             ],
             [
              0.6666666666666666,
              "#ed7953"
             ],
             [
              0.7777777777777778,
              "#fb9f3a"
             ],
             [
              0.8888888888888888,
              "#fdca26"
             ],
             [
              1,
              "#f0f921"
             ]
            ],
            "type": "heatmap"
           }
          ],
          "heatmapgl": [
           {
            "colorbar": {
             "outlinewidth": 0,
             "ticks": ""
            },
            "colorscale": [
             [
              0,
              "#0d0887"
             ],
             [
              0.1111111111111111,
              "#46039f"
             ],
             [
              0.2222222222222222,
              "#7201a8"
             ],
             [
              0.3333333333333333,
              "#9c179e"
             ],
             [
              0.4444444444444444,
              "#bd3786"
             ],
             [
              0.5555555555555556,
              "#d8576b"
             ],
             [
              0.6666666666666666,
              "#ed7953"
             ],
             [
              0.7777777777777778,
              "#fb9f3a"
             ],
             [
              0.8888888888888888,
              "#fdca26"
             ],
             [
              1,
              "#f0f921"
             ]
            ],
            "type": "heatmapgl"
           }
          ],
          "histogram": [
           {
            "marker": {
             "colorbar": {
              "outlinewidth": 0,
              "ticks": ""
             }
            },
            "type": "histogram"
           }
          ],
          "histogram2d": [
           {
            "colorbar": {
             "outlinewidth": 0,
             "ticks": ""
            },
            "colorscale": [
             [
              0,
              "#0d0887"
             ],
             [
              0.1111111111111111,
              "#46039f"
             ],
             [
              0.2222222222222222,
              "#7201a8"
             ],
             [
              0.3333333333333333,
              "#9c179e"
             ],
             [
              0.4444444444444444,
              "#bd3786"
             ],
             [
              0.5555555555555556,
              "#d8576b"
             ],
             [
              0.6666666666666666,
              "#ed7953"
             ],
             [
              0.7777777777777778,
              "#fb9f3a"
             ],
             [
              0.8888888888888888,
              "#fdca26"
             ],
             [
              1,
              "#f0f921"
             ]
            ],
            "type": "histogram2d"
           }
          ],
          "histogram2dcontour": [
           {
            "colorbar": {
             "outlinewidth": 0,
             "ticks": ""
            },
            "colorscale": [
             [
              0,
              "#0d0887"
             ],
             [
              0.1111111111111111,
              "#46039f"
             ],
             [
              0.2222222222222222,
              "#7201a8"
             ],
             [
              0.3333333333333333,
              "#9c179e"
             ],
             [
              0.4444444444444444,
              "#bd3786"
             ],
             [
              0.5555555555555556,
              "#d8576b"
             ],
             [
              0.6666666666666666,
              "#ed7953"
             ],
             [
              0.7777777777777778,
              "#fb9f3a"
             ],
             [
              0.8888888888888888,
              "#fdca26"
             ],
             [
              1,
              "#f0f921"
             ]
            ],
            "type": "histogram2dcontour"
           }
          ],
          "mesh3d": [
           {
            "colorbar": {
             "outlinewidth": 0,
             "ticks": ""
            },
            "type": "mesh3d"
           }
          ],
          "parcoords": [
           {
            "line": {
             "colorbar": {
              "outlinewidth": 0,
              "ticks": ""
             }
            },
            "type": "parcoords"
           }
          ],
          "pie": [
           {
            "automargin": true,
            "type": "pie"
           }
          ],
          "scatter": [
           {
            "marker": {
             "colorbar": {
              "outlinewidth": 0,
              "ticks": ""
             }
            },
            "type": "scatter"
           }
          ],
          "scatter3d": [
           {
            "line": {
             "colorbar": {
              "outlinewidth": 0,
              "ticks": ""
             }
            },
            "marker": {
             "colorbar": {
              "outlinewidth": 0,
              "ticks": ""
             }
            },
            "type": "scatter3d"
           }
          ],
          "scattercarpet": [
           {
            "marker": {
             "colorbar": {
              "outlinewidth": 0,
              "ticks": ""
             }
            },
            "type": "scattercarpet"
           }
          ],
          "scattergeo": [
           {
            "marker": {
             "colorbar": {
              "outlinewidth": 0,
              "ticks": ""
             }
            },
            "type": "scattergeo"
           }
          ],
          "scattergl": [
           {
            "marker": {
             "colorbar": {
              "outlinewidth": 0,
              "ticks": ""
             }
            },
            "type": "scattergl"
           }
          ],
          "scattermapbox": [
           {
            "marker": {
             "colorbar": {
              "outlinewidth": 0,
              "ticks": ""
             }
            },
            "type": "scattermapbox"
           }
          ],
          "scatterpolar": [
           {
            "marker": {
             "colorbar": {
              "outlinewidth": 0,
              "ticks": ""
             }
            },
            "type": "scatterpolar"
           }
          ],
          "scatterpolargl": [
           {
            "marker": {
             "colorbar": {
              "outlinewidth": 0,
              "ticks": ""
             }
            },
            "type": "scatterpolargl"
           }
          ],
          "scatterternary": [
           {
            "marker": {
             "colorbar": {
              "outlinewidth": 0,
              "ticks": ""
             }
            },
            "type": "scatterternary"
           }
          ],
          "surface": [
           {
            "colorbar": {
             "outlinewidth": 0,
             "ticks": ""
            },
            "colorscale": [
             [
              0,
              "#0d0887"
             ],
             [
              0.1111111111111111,
              "#46039f"
             ],
             [
              0.2222222222222222,
              "#7201a8"
             ],
             [
              0.3333333333333333,
              "#9c179e"
             ],
             [
              0.4444444444444444,
              "#bd3786"
             ],
             [
              0.5555555555555556,
              "#d8576b"
             ],
             [
              0.6666666666666666,
              "#ed7953"
             ],
             [
              0.7777777777777778,
              "#fb9f3a"
             ],
             [
              0.8888888888888888,
              "#fdca26"
             ],
             [
              1,
              "#f0f921"
             ]
            ],
            "type": "surface"
           }
          ],
          "table": [
           {
            "cells": {
             "fill": {
              "color": "#EBF0F8"
             },
             "line": {
              "color": "white"
             }
            },
            "header": {
             "fill": {
              "color": "#C8D4E3"
             },
             "line": {
              "color": "white"
             }
            },
            "type": "table"
           }
          ]
         },
         "layout": {
          "annotationdefaults": {
           "arrowcolor": "#2a3f5f",
           "arrowhead": 0,
           "arrowwidth": 1
          },
          "coloraxis": {
           "colorbar": {
            "outlinewidth": 0,
            "ticks": ""
           }
          },
          "colorscale": {
           "diverging": [
            [
             0,
             "#8e0152"
            ],
            [
             0.1,
             "#c51b7d"
            ],
            [
             0.2,
             "#de77ae"
            ],
            [
             0.3,
             "#f1b6da"
            ],
            [
             0.4,
             "#fde0ef"
            ],
            [
             0.5,
             "#f7f7f7"
            ],
            [
             0.6,
             "#e6f5d0"
            ],
            [
             0.7,
             "#b8e186"
            ],
            [
             0.8,
             "#7fbc41"
            ],
            [
             0.9,
             "#4d9221"
            ],
            [
             1,
             "#276419"
            ]
           ],
           "sequential": [
            [
             0,
             "#0d0887"
            ],
            [
             0.1111111111111111,
             "#46039f"
            ],
            [
             0.2222222222222222,
             "#7201a8"
            ],
            [
             0.3333333333333333,
             "#9c179e"
            ],
            [
             0.4444444444444444,
             "#bd3786"
            ],
            [
             0.5555555555555556,
             "#d8576b"
            ],
            [
             0.6666666666666666,
             "#ed7953"
            ],
            [
             0.7777777777777778,
             "#fb9f3a"
            ],
            [
             0.8888888888888888,
             "#fdca26"
            ],
            [
             1,
             "#f0f921"
            ]
           ],
           "sequentialminus": [
            [
             0,
             "#0d0887"
            ],
            [
             0.1111111111111111,
             "#46039f"
            ],
            [
             0.2222222222222222,
             "#7201a8"
            ],
            [
             0.3333333333333333,
             "#9c179e"
            ],
            [
             0.4444444444444444,
             "#bd3786"
            ],
            [
             0.5555555555555556,
             "#d8576b"
            ],
            [
             0.6666666666666666,
             "#ed7953"
            ],
            [
             0.7777777777777778,
             "#fb9f3a"
            ],
            [
             0.8888888888888888,
             "#fdca26"
            ],
            [
             1,
             "#f0f921"
            ]
           ]
          },
          "colorway": [
           "#636efa",
           "#EF553B",
           "#00cc96",
           "#ab63fa",
           "#FFA15A",
           "#19d3f3",
           "#FF6692",
           "#B6E880",
           "#FF97FF",
           "#FECB52"
          ],
          "font": {
           "color": "#2a3f5f"
          },
          "geo": {
           "bgcolor": "white",
           "lakecolor": "white",
           "landcolor": "#E5ECF6",
           "showlakes": true,
           "showland": true,
           "subunitcolor": "white"
          },
          "hoverlabel": {
           "align": "left"
          },
          "hovermode": "closest",
          "mapbox": {
           "style": "light"
          },
          "paper_bgcolor": "white",
          "plot_bgcolor": "#E5ECF6",
          "polar": {
           "angularaxis": {
            "gridcolor": "white",
            "linecolor": "white",
            "ticks": ""
           },
           "bgcolor": "#E5ECF6",
           "radialaxis": {
            "gridcolor": "white",
            "linecolor": "white",
            "ticks": ""
           }
          },
          "scene": {
           "xaxis": {
            "backgroundcolor": "#E5ECF6",
            "gridcolor": "white",
            "gridwidth": 2,
            "linecolor": "white",
            "showbackground": true,
            "ticks": "",
            "zerolinecolor": "white"
           },
           "yaxis": {
            "backgroundcolor": "#E5ECF6",
            "gridcolor": "white",
            "gridwidth": 2,
            "linecolor": "white",
            "showbackground": true,
            "ticks": "",
            "zerolinecolor": "white"
           },
           "zaxis": {
            "backgroundcolor": "#E5ECF6",
            "gridcolor": "white",
            "gridwidth": 2,
            "linecolor": "white",
            "showbackground": true,
            "ticks": "",
            "zerolinecolor": "white"
           }
          },
          "shapedefaults": {
           "line": {
            "color": "#2a3f5f"
           }
          },
          "ternary": {
           "aaxis": {
            "gridcolor": "white",
            "linecolor": "white",
            "ticks": ""
           },
           "baxis": {
            "gridcolor": "white",
            "linecolor": "white",
            "ticks": ""
           },
           "bgcolor": "#E5ECF6",
           "caxis": {
            "gridcolor": "white",
            "linecolor": "white",
            "ticks": ""
           }
          },
          "title": {
           "x": 0.05
          },
          "xaxis": {
           "automargin": true,
           "gridcolor": "white",
           "linecolor": "white",
           "ticks": "",
           "title": {
            "standoff": 15
           },
           "zerolinecolor": "white",
           "zerolinewidth": 2
          },
          "yaxis": {
           "automargin": true,
           "gridcolor": "white",
           "linecolor": "white",
           "ticks": "",
           "title": {
            "standoff": 15
           },
           "zerolinecolor": "white",
           "zerolinewidth": 2
          }
         }
        },
        "xaxis": {
         "tickangle": 45,
         "tickformat": ".5f",
         "title": {
          "text": "Mean Relative Loss per Value"
         },
         "type": "log"
        },
        "yaxis": {
         "title": {
          "text": "per-vertex / per-fiber Data"
         }
        }
       }
      },
      "text/html": [
       "<div>\n",
       "        \n",
       "        \n",
       "            <div id=\"0aab792a-85ad-439a-87ae-d9f0aae63927\" class=\"plotly-graph-div\" style=\"height:525px; width:100%;\"></div>\n",
       "            <script type=\"text/javascript\">\n",
       "                require([\"plotly\"], function(Plotly) {\n",
       "                    window.PLOTLYENV=window.PLOTLYENV || {};\n",
       "                    \n",
       "                if (document.getElementById(\"0aab792a-85ad-439a-87ae-d9f0aae63927\")) {\n",
       "                    Plotly.newPlot(\n",
       "                        '0aab792a-85ad-439a-87ae-d9f0aae63927',\n",
       "                        [{\"error_x\": {\"array\": [4.587996500049485e-06, 0.0, 6.177538125484716e-08, 1.2784855130121286e-07, 3.0571936804335564e-07, 1.7136528640548931e-07, 1.370066513572965e-07, 1.2615011257821607e-07, 9.27105219261648e-08, 8.959194985891372e-08, 8.812948237846285e-08, 6.739944069522608e-07, 0.0, 0.0016351616920617055, 7.649725830560783e-07, 8.816833769742516e-07], \"type\": \"data\"}, \"marker\": {\"color\": \"lightslategray\"}, \"orientation\": \"h\", \"type\": \"bar\", \"x\": [2.220557325927075e-05, 0.0, 1.5159179383772425e-05, 1.516097745479783e-05, 1.5278304999810643e-05, 1.5265813999576494e-05, 1.5253634046530351e-05, 1.5254076060955413e-05, 1.525769675936317e-05, 1.5253352103172801e-05, 1.5261857697623782e-05, 5.5068529036361724e-05, 0.0, 0.005824939502470496, 1.5047864508233033e-05, 1.4986127098381985e-05], \"y\": [\"points\", \"lines\", \"NormalizedSignalEstimationError\", \"EstimatedUncertainty\", \"RTOP1\", \"RTOP2\", \"RTAP1\", \"RTAP2\", \"RTPP1\", \"RTPP2\", \"SignalMean\", \"EmbeddingCoordinate\", \"ClusterNumber\", \"EmbeddingColor\", \"TotalFiberSimilarity\", \"MeasuredFiberSimilarity\"]}],\n",
       "                        {\"template\": {\"data\": {\"bar\": [{\"error_x\": {\"color\": \"#2a3f5f\"}, \"error_y\": {\"color\": \"#2a3f5f\"}, \"marker\": {\"line\": {\"color\": \"#E5ECF6\", \"width\": 0.5}}, \"type\": \"bar\"}], \"barpolar\": [{\"marker\": {\"line\": {\"color\": \"#E5ECF6\", \"width\": 0.5}}, \"type\": \"barpolar\"}], \"carpet\": [{\"aaxis\": {\"endlinecolor\": \"#2a3f5f\", \"gridcolor\": \"white\", \"linecolor\": \"white\", \"minorgridcolor\": \"white\", \"startlinecolor\": \"#2a3f5f\"}, \"baxis\": {\"endlinecolor\": \"#2a3f5f\", \"gridcolor\": \"white\", \"linecolor\": \"white\", \"minorgridcolor\": \"white\", \"startlinecolor\": \"#2a3f5f\"}, \"type\": \"carpet\"}], \"choropleth\": [{\"colorbar\": {\"outlinewidth\": 0, \"ticks\": \"\"}, \"type\": \"choropleth\"}], \"contour\": [{\"colorbar\": {\"outlinewidth\": 0, \"ticks\": \"\"}, \"colorscale\": [[0.0, \"#0d0887\"], [0.1111111111111111, \"#46039f\"], [0.2222222222222222, \"#7201a8\"], [0.3333333333333333, \"#9c179e\"], [0.4444444444444444, \"#bd3786\"], [0.5555555555555556, \"#d8576b\"], [0.6666666666666666, \"#ed7953\"], [0.7777777777777778, \"#fb9f3a\"], [0.8888888888888888, \"#fdca26\"], [1.0, \"#f0f921\"]], \"type\": \"contour\"}], \"contourcarpet\": [{\"colorbar\": {\"outlinewidth\": 0, \"ticks\": \"\"}, \"type\": \"contourcarpet\"}], \"heatmap\": [{\"colorbar\": {\"outlinewidth\": 0, \"ticks\": \"\"}, \"colorscale\": [[0.0, \"#0d0887\"], [0.1111111111111111, \"#46039f\"], [0.2222222222222222, \"#7201a8\"], [0.3333333333333333, \"#9c179e\"], [0.4444444444444444, \"#bd3786\"], [0.5555555555555556, \"#d8576b\"], [0.6666666666666666, \"#ed7953\"], [0.7777777777777778, \"#fb9f3a\"], [0.8888888888888888, \"#fdca26\"], [1.0, \"#f0f921\"]], \"type\": \"heatmap\"}], \"heatmapgl\": [{\"colorbar\": {\"outlinewidth\": 0, \"ticks\": \"\"}, \"colorscale\": [[0.0, \"#0d0887\"], [0.1111111111111111, \"#46039f\"], [0.2222222222222222, \"#7201a8\"], [0.3333333333333333, \"#9c179e\"], [0.4444444444444444, \"#bd3786\"], [0.5555555555555556, \"#d8576b\"], [0.6666666666666666, \"#ed7953\"], [0.7777777777777778, \"#fb9f3a\"], [0.8888888888888888, \"#fdca26\"], [1.0, \"#f0f921\"]], \"type\": \"heatmapgl\"}], \"histogram\": [{\"marker\": {\"colorbar\": {\"outlinewidth\": 0, \"ticks\": \"\"}}, \"type\": \"histogram\"}], \"histogram2d\": [{\"colorbar\": {\"outlinewidth\": 0, \"ticks\": \"\"}, \"colorscale\": [[0.0, \"#0d0887\"], [0.1111111111111111, \"#46039f\"], [0.2222222222222222, \"#7201a8\"], [0.3333333333333333, \"#9c179e\"], [0.4444444444444444, \"#bd3786\"], [0.5555555555555556, \"#d8576b\"], [0.6666666666666666, \"#ed7953\"], [0.7777777777777778, \"#fb9f3a\"], [0.8888888888888888, \"#fdca26\"], [1.0, \"#f0f921\"]], \"type\": \"histogram2d\"}], \"histogram2dcontour\": [{\"colorbar\": {\"outlinewidth\": 0, \"ticks\": \"\"}, \"colorscale\": [[0.0, \"#0d0887\"], [0.1111111111111111, \"#46039f\"], [0.2222222222222222, \"#7201a8\"], [0.3333333333333333, \"#9c179e\"], [0.4444444444444444, \"#bd3786\"], [0.5555555555555556, \"#d8576b\"], [0.6666666666666666, \"#ed7953\"], [0.7777777777777778, \"#fb9f3a\"], [0.8888888888888888, \"#fdca26\"], [1.0, \"#f0f921\"]], \"type\": \"histogram2dcontour\"}], \"mesh3d\": [{\"colorbar\": {\"outlinewidth\": 0, \"ticks\": \"\"}, \"type\": \"mesh3d\"}], \"parcoords\": [{\"line\": {\"colorbar\": {\"outlinewidth\": 0, \"ticks\": \"\"}}, \"type\": \"parcoords\"}], \"pie\": [{\"automargin\": true, \"type\": \"pie\"}], \"scatter\": [{\"marker\": {\"colorbar\": {\"outlinewidth\": 0, \"ticks\": \"\"}}, \"type\": \"scatter\"}], \"scatter3d\": [{\"line\": {\"colorbar\": {\"outlinewidth\": 0, \"ticks\": \"\"}}, \"marker\": {\"colorbar\": {\"outlinewidth\": 0, \"ticks\": \"\"}}, \"type\": \"scatter3d\"}], \"scattercarpet\": [{\"marker\": {\"colorbar\": {\"outlinewidth\": 0, \"ticks\": \"\"}}, \"type\": \"scattercarpet\"}], \"scattergeo\": [{\"marker\": {\"colorbar\": {\"outlinewidth\": 0, \"ticks\": \"\"}}, \"type\": \"scattergeo\"}], \"scattergl\": [{\"marker\": {\"colorbar\": {\"outlinewidth\": 0, \"ticks\": \"\"}}, \"type\": \"scattergl\"}], \"scattermapbox\": [{\"marker\": {\"colorbar\": {\"outlinewidth\": 0, \"ticks\": \"\"}}, \"type\": \"scattermapbox\"}], \"scatterpolar\": [{\"marker\": {\"colorbar\": {\"outlinewidth\": 0, \"ticks\": \"\"}}, \"type\": \"scatterpolar\"}], \"scatterpolargl\": [{\"marker\": {\"colorbar\": {\"outlinewidth\": 0, \"ticks\": \"\"}}, \"type\": \"scatterpolargl\"}], \"scatterternary\": [{\"marker\": {\"colorbar\": {\"outlinewidth\": 0, \"ticks\": \"\"}}, \"type\": \"scatterternary\"}], \"surface\": [{\"colorbar\": {\"outlinewidth\": 0, \"ticks\": \"\"}, \"colorscale\": [[0.0, \"#0d0887\"], [0.1111111111111111, \"#46039f\"], [0.2222222222222222, \"#7201a8\"], [0.3333333333333333, \"#9c179e\"], [0.4444444444444444, \"#bd3786\"], [0.5555555555555556, \"#d8576b\"], [0.6666666666666666, \"#ed7953\"], [0.7777777777777778, \"#fb9f3a\"], [0.8888888888888888, \"#fdca26\"], [1.0, \"#f0f921\"]], \"type\": \"surface\"}], \"table\": [{\"cells\": {\"fill\": {\"color\": \"#EBF0F8\"}, \"line\": {\"color\": \"white\"}}, \"header\": {\"fill\": {\"color\": \"#C8D4E3\"}, \"line\": {\"color\": \"white\"}}, \"type\": \"table\"}]}, \"layout\": {\"annotationdefaults\": {\"arrowcolor\": \"#2a3f5f\", \"arrowhead\": 0, \"arrowwidth\": 1}, \"coloraxis\": {\"colorbar\": {\"outlinewidth\": 0, \"ticks\": \"\"}}, \"colorscale\": {\"diverging\": [[0, \"#8e0152\"], [0.1, \"#c51b7d\"], [0.2, \"#de77ae\"], [0.3, \"#f1b6da\"], [0.4, \"#fde0ef\"], [0.5, \"#f7f7f7\"], [0.6, \"#e6f5d0\"], [0.7, \"#b8e186\"], [0.8, \"#7fbc41\"], [0.9, \"#4d9221\"], [1, \"#276419\"]], \"sequential\": [[0.0, \"#0d0887\"], [0.1111111111111111, \"#46039f\"], [0.2222222222222222, \"#7201a8\"], [0.3333333333333333, \"#9c179e\"], [0.4444444444444444, \"#bd3786\"], [0.5555555555555556, \"#d8576b\"], [0.6666666666666666, \"#ed7953\"], [0.7777777777777778, \"#fb9f3a\"], [0.8888888888888888, \"#fdca26\"], [1.0, \"#f0f921\"]], \"sequentialminus\": [[0.0, \"#0d0887\"], [0.1111111111111111, \"#46039f\"], [0.2222222222222222, \"#7201a8\"], [0.3333333333333333, \"#9c179e\"], [0.4444444444444444, \"#bd3786\"], [0.5555555555555556, \"#d8576b\"], [0.6666666666666666, \"#ed7953\"], [0.7777777777777778, \"#fb9f3a\"], [0.8888888888888888, \"#fdca26\"], [1.0, \"#f0f921\"]]}, \"colorway\": [\"#636efa\", \"#EF553B\", \"#00cc96\", \"#ab63fa\", \"#FFA15A\", \"#19d3f3\", \"#FF6692\", \"#B6E880\", \"#FF97FF\", \"#FECB52\"], \"font\": {\"color\": \"#2a3f5f\"}, \"geo\": {\"bgcolor\": \"white\", \"lakecolor\": \"white\", \"landcolor\": \"#E5ECF6\", \"showlakes\": true, \"showland\": true, \"subunitcolor\": \"white\"}, \"hoverlabel\": {\"align\": \"left\"}, \"hovermode\": \"closest\", \"mapbox\": {\"style\": \"light\"}, \"paper_bgcolor\": \"white\", \"plot_bgcolor\": \"#E5ECF6\", \"polar\": {\"angularaxis\": {\"gridcolor\": \"white\", \"linecolor\": \"white\", \"ticks\": \"\"}, \"bgcolor\": \"#E5ECF6\", \"radialaxis\": {\"gridcolor\": \"white\", \"linecolor\": \"white\", \"ticks\": \"\"}}, \"scene\": {\"xaxis\": {\"backgroundcolor\": \"#E5ECF6\", \"gridcolor\": \"white\", \"gridwidth\": 2, \"linecolor\": \"white\", \"showbackground\": true, \"ticks\": \"\", \"zerolinecolor\": \"white\"}, \"yaxis\": {\"backgroundcolor\": \"#E5ECF6\", \"gridcolor\": \"white\", \"gridwidth\": 2, \"linecolor\": \"white\", \"showbackground\": true, \"ticks\": \"\", \"zerolinecolor\": \"white\"}, \"zaxis\": {\"backgroundcolor\": \"#E5ECF6\", \"gridcolor\": \"white\", \"gridwidth\": 2, \"linecolor\": \"white\", \"showbackground\": true, \"ticks\": \"\", \"zerolinecolor\": \"white\"}}, \"shapedefaults\": {\"line\": {\"color\": \"#2a3f5f\"}}, \"ternary\": {\"aaxis\": {\"gridcolor\": \"white\", \"linecolor\": \"white\", \"ticks\": \"\"}, \"baxis\": {\"gridcolor\": \"white\", \"linecolor\": \"white\", \"ticks\": \"\"}, \"bgcolor\": \"#E5ECF6\", \"caxis\": {\"gridcolor\": \"white\", \"linecolor\": \"white\", \"ticks\": \"\"}}, \"title\": {\"x\": 0.05}, \"xaxis\": {\"automargin\": true, \"gridcolor\": \"white\", \"linecolor\": \"white\", \"ticks\": \"\", \"title\": {\"standoff\": 15}, \"zerolinecolor\": \"white\", \"zerolinewidth\": 2}, \"yaxis\": {\"automargin\": true, \"gridcolor\": \"white\", \"linecolor\": \"white\", \"ticks\": \"\", \"title\": {\"standoff\": 15}, \"zerolinecolor\": \"white\", \"zerolinewidth\": 2}}}, \"xaxis\": {\"tickangle\": 45, \"tickformat\": \".5f\", \"title\": {\"text\": \"Mean Relative Loss per Value\"}, \"type\": \"log\"}, \"yaxis\": {\"title\": {\"text\": \"per-vertex / per-fiber Data\"}}},\n",
       "                        {\"responsive\": true}\n",
       "                    ).then(function(){\n",
       "                            \n",
       "var gd = document.getElementById('0aab792a-85ad-439a-87ae-d9f0aae63927');\n",
       "var x = new MutationObserver(function (mutations, observer) {{\n",
       "        var display = window.getComputedStyle(gd).display;\n",
       "        if (!display || display === 'none') {{\n",
       "            console.log([gd, 'removed!']);\n",
       "            Plotly.purge(gd);\n",
       "            observer.disconnect();\n",
       "        }}\n",
       "}});\n",
       "\n",
       "// Listen for the removal of the full notebook cells\n",
       "var notebookContainer = gd.closest('#notebook-container');\n",
       "if (notebookContainer) {{\n",
       "    x.observe(notebookContainer, {childList: true});\n",
       "}}\n",
       "\n",
       "// Listen for the clearing of the current output cell\n",
       "var outputEl = gd.closest('.output');\n",
       "if (outputEl) {{\n",
       "    x.observe(outputEl, {childList: true});\n",
       "}}\n",
       "\n",
       "                        })\n",
       "                };\n",
       "                });\n",
       "            </script>\n",
       "        </div>"
      ]
     },
     "metadata": {},
     "output_type": "display_data"
    }
   ],
   "source": [
    "fig = go.Figure()\n",
    "\n",
    "data = []\n",
    "errors = []\n",
    "names = []\n",
    "\n",
    "for d in diffs:\n",
    "    \n",
    "    values = reject_outliers(np.nan_to_num(diffs[d]))\n",
    "    data.append(np.nan_to_num(np.mean(values)))\n",
    "    errors.append(np.nan_to_num(np.std(values)))\n",
    "    names.append(d)\n",
    "    \n",
    "fig.add_trace(go.Bar(x=data, y=names,\n",
    "                marker_color = 'lightslategray',    orientation='h',\n",
    "                error_x=dict(type='data', array=errors))\n",
    ")\n",
    "\n",
    "fig.update_layout(yaxis_title=\"per-vertex / per-fiber Data\")\n",
    "fig.update_layout(xaxis_title=\"Mean Relative Loss per Value\")\n",
    "    \n",
    "fig.update_layout(xaxis_type=\"log\",xaxis=dict(tickformat=\".5f\"))\n",
    "fig.update_xaxes(tickangle=45)#nticks=4)\n",
    "fig.show()\n",
    "# fig.write_image('/tmp/fig.png')\n"
   ]
  },
  {
   "cell_type": "code",
   "execution_count": null,
   "metadata": {},
   "outputs": [],
   "source": []
  }
 ],
 "metadata": {
  "kernelspec": {
   "display_name": "Python 3",
   "language": "python",
   "name": "python3"
  },
  "language_info": {
   "codemirror_mode": {
    "name": "ipython",
    "version": 3
   },
   "file_extension": ".py",
   "mimetype": "text/x-python",
   "name": "python",
   "nbconvert_exporter": "python",
   "pygments_lexer": "ipython3",
   "version": "3.6.9"
  }
 },
 "nbformat": 4,
 "nbformat_minor": 2
}
