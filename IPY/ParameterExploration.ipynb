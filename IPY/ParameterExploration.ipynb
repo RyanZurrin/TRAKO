{
 "cells": [
  {
   "cell_type": "code",
   "execution_count": 1,
   "metadata": {},
   "outputs": [],
   "source": [
    "import optuna\n",
    "import os\n",
    "import trako as TKO\n",
    "import numpy as np"
   ]
  },
  {
   "cell_type": "code",
   "execution_count": 2,
   "metadata": {},
   "outputs": [],
   "source": [
    "import imp\n",
    "tkompare = imp.load_source('tkompare', '../tkompare')\n",
    "untrakofy = imp.load_source('untrakofy', '../untrakofy')"
   ]
  },
  {
   "cell_type": "code",
   "execution_count": 3,
   "metadata": {},
   "outputs": [],
   "source": [
    "DATASETNAME = 'ADHD_STFC_diff_for_Daniel'\n",
    "DATADIR = '/home/d/DATA/Dropbox/TRAKODATA/'+DATASETNAME+'/'\n",
    "SUBJECTS = ['101','201']\n",
    "GROUP = ['tracts_left_hemisphere']"
   ]
  },
  {
   "cell_type": "code",
   "execution_count": 4,
   "metadata": {},
   "outputs": [],
   "source": [
    "def trakofy_test(trial):\n",
    "    \n",
    "    vtpfile = trial.study.user_attrs['vtpfile']\n",
    "    tkofile = trial.study.user_attrs['tkofile']\n",
    "    \n",
    "    position = trial.suggest_categorical('position', [True, False])\n",
    "    sequential = trial.suggest_categorical('sequential', [True, False])\n",
    "    quantization_bits = trial.suggest_int('quantization_bits', 0, 31)\n",
    "    compression_level = trial.suggest_int('compression_level', 0, 10)\n",
    "#     quantization_bits = trial.suggest_discrete_uniform('quantization_bits', 0, 31, 1)\n",
    "#     compression_level = trial.suggest_discrete_uniform('compression_level', 0, 10, 1)\n",
    "#     quantization_range = \n",
    "#     quantization_origin = \n",
    "    \n",
    "    config = {\n",
    "      '*': { \n",
    "        'position':position,\n",
    "        'sequential':sequential,\n",
    "        'quantization_bits':quantization_bits,\n",
    "        'compression_level':compression_level,\n",
    "        'quantization_range':-1,\n",
    "        'quantization_origin':None\n",
    "      }\n",
    "\n",
    "    }\n",
    "    \n",
    "#     print(config['position'], config['sequential'], config['quantization_bits'], config['compression_level'])\n",
    "    \n",
    "    try:\n",
    "        tkoed = TKO.Encoder.fromVtp(vtpfile, config=config, verbose=False)\n",
    "        tkoed.save(tkofile)\n",
    "    except:\n",
    "        raise optuna.exceptions.TrialPruned()\n",
    "\n",
    "    tkosize = os.path.getsize(tkofile)\n",
    "\n",
    "    try:\n",
    "        restoredfile = '/tmp/restored.vtp'\n",
    "        untrakofy.untrakofy(tkofile, restoredfile, verbose=False)\n",
    "    except:\n",
    "        raise optuna.exceptions.TrialPruned()\n",
    "    \n",
    "    \n",
    "    return tkosize\n",
    "    \n",
    "    "
   ]
  },
  {
   "cell_type": "code",
   "execution_count": null,
   "metadata": {},
   "outputs": [
    {
     "name": "stdout",
     "output_type": "stream",
     "text": [
      "VTP size 1172155\n",
      "TKO default size 377009\n"
     ]
    },
    {
     "name": "stderr",
     "output_type": "stream",
     "text": [
      "[I 2020-01-16 10:40:44,309] Setting status of trial#0 as TrialState.PRUNED. \n",
      "[I 2020-01-16 10:40:53,130] Setting status of trial#1 as TrialState.PRUNED. \n",
      "[I 2020-01-16 10:40:53,395] Setting status of trial#2 as TrialState.PRUNED. \n",
      "[I 2020-01-16 10:40:53,642] Setting status of trial#3 as TrialState.PRUNED. \n",
      "[I 2020-01-16 10:40:53,931] Setting status of trial#4 as TrialState.PRUNED. \n",
      "[I 2020-01-16 10:40:54,521] Setting status of trial#5 as TrialState.PRUNED. \n",
      "[I 2020-01-16 10:40:54,767] Setting status of trial#6 as TrialState.PRUNED. \n",
      "[I 2020-01-16 10:40:55,029] Setting status of trial#7 as TrialState.PRUNED. \n",
      "[I 2020-01-16 10:40:55,462] Setting status of trial#8 as TrialState.PRUNED. \n",
      "[I 2020-01-16 10:40:55,814] Setting status of trial#9 as TrialState.PRUNED. \n",
      "[I 2020-01-16 10:40:56,067] Setting status of trial#10 as TrialState.PRUNED. \n",
      "[I 2020-01-16 10:41:24,066] Setting status of trial#11 as TrialState.PRUNED. \n",
      "[I 2020-01-16 10:41:24,320] Setting status of trial#12 as TrialState.PRUNED. \n",
      "[I 2020-01-16 10:41:33,153] Setting status of trial#13 as TrialState.PRUNED. \n",
      "[I 2020-01-16 10:41:33,419] Setting status of trial#14 as TrialState.PRUNED. \n",
      "[I 2020-01-16 10:41:33,683] Setting status of trial#15 as TrialState.PRUNED. \n",
      "[I 2020-01-16 10:41:33,956] Setting status of trial#16 as TrialState.PRUNED. \n",
      "[I 2020-01-16 10:41:34,214] Setting status of trial#17 as TrialState.PRUNED. \n",
      "[I 2020-01-16 10:41:34,471] Setting status of trial#18 as TrialState.PRUNED. \n",
      "[I 2020-01-16 10:41:34,755] Setting status of trial#19 as TrialState.PRUNED. \n",
      "[I 2020-01-16 10:41:35,022] Setting status of trial#20 as TrialState.PRUNED. \n",
      "[I 2020-01-16 10:41:35,283] Setting status of trial#21 as TrialState.PRUNED. \n",
      "[I 2020-01-16 10:41:35,548] Setting status of trial#22 as TrialState.PRUNED. \n",
      "[I 2020-01-16 10:41:35,817] Setting status of trial#23 as TrialState.PRUNED. \n",
      "[I 2020-01-16 10:41:36,078] Setting status of trial#24 as TrialState.PRUNED. \n",
      "[I 2020-01-16 10:41:36,341] Setting status of trial#25 as TrialState.PRUNED. \n",
      "[I 2020-01-16 10:41:36,610] Setting status of trial#26 as TrialState.PRUNED. \n",
      "[I 2020-01-16 10:41:36,869] Setting status of trial#27 as TrialState.PRUNED. \n",
      "[I 2020-01-16 10:41:37,164] Setting status of trial#28 as TrialState.PRUNED. \n",
      "[I 2020-01-16 10:41:37,476] Setting status of trial#29 as TrialState.PRUNED. \n",
      "[I 2020-01-16 10:41:37,756] Setting status of trial#30 as TrialState.PRUNED. \n",
      "[I 2020-01-16 10:41:38,052] Setting status of trial#31 as TrialState.PRUNED. \n",
      "[I 2020-01-16 10:41:38,364] Setting status of trial#32 as TrialState.PRUNED. \n",
      "[I 2020-01-16 10:41:38,663] Setting status of trial#33 as TrialState.PRUNED. \n",
      "[I 2020-01-16 10:41:38,985] Setting status of trial#34 as TrialState.PRUNED. \n",
      "[I 2020-01-16 10:41:39,264] Setting status of trial#35 as TrialState.PRUNED. \n",
      "[I 2020-01-16 10:41:39,545] Setting status of trial#36 as TrialState.PRUNED. \n",
      "[I 2020-01-16 10:41:39,825] Setting status of trial#37 as TrialState.PRUNED. \n",
      "[I 2020-01-16 10:41:40,106] Setting status of trial#38 as TrialState.PRUNED. \n",
      "[I 2020-01-16 10:41:40,386] Setting status of trial#39 as TrialState.PRUNED. \n",
      "[I 2020-01-16 10:41:40,669] Setting status of trial#40 as TrialState.PRUNED. \n",
      "[I 2020-01-16 10:41:40,943] Setting status of trial#41 as TrialState.PRUNED. \n",
      "[I 2020-01-16 10:41:41,231] Setting status of trial#42 as TrialState.PRUNED. \n",
      "[I 2020-01-16 10:41:41,523] Setting status of trial#43 as TrialState.PRUNED. \n",
      "[I 2020-01-16 10:41:41,801] Setting status of trial#44 as TrialState.PRUNED. \n",
      "[I 2020-01-16 10:41:42,086] Setting status of trial#45 as TrialState.PRUNED. \n",
      "[I 2020-01-16 10:41:42,397] Setting status of trial#46 as TrialState.PRUNED. \n",
      "[I 2020-01-16 10:41:42,690] Setting status of trial#47 as TrialState.PRUNED. \n",
      "[I 2020-01-16 10:41:43,031] Setting status of trial#48 as TrialState.PRUNED. \n",
      "[I 2020-01-16 10:41:43,650] Setting status of trial#49 as TrialState.PRUNED. \n",
      "[I 2020-01-16 10:41:43,968] Setting status of trial#50 as TrialState.PRUNED. \n",
      "[I 2020-01-16 10:41:44,330] Setting status of trial#51 as TrialState.PRUNED. \n",
      "[I 2020-01-16 10:41:44,656] Setting status of trial#52 as TrialState.PRUNED. \n",
      "[I 2020-01-16 10:41:45,033] Setting status of trial#53 as TrialState.PRUNED. \n",
      "[I 2020-01-16 10:41:45,373] Setting status of trial#54 as TrialState.PRUNED. \n",
      "[I 2020-01-16 10:41:45,704] Setting status of trial#55 as TrialState.PRUNED. \n",
      "[I 2020-01-16 10:41:46,044] Setting status of trial#56 as TrialState.PRUNED. \n",
      "[I 2020-01-16 10:41:46,408] Setting status of trial#57 as TrialState.PRUNED. \n"
     ]
    }
   ],
   "source": [
    "OUTPUTDIR = '/tmp/TRAKO_OPTUNA1/'\n",
    "vtpsizes = []\n",
    "tkosizes = []\n",
    "for S in SUBJECTS[0:1]:\n",
    "    for G in GROUP[0:1]:\n",
    "        CURRENTDIR = os.path.join(DATADIR, S, G)\n",
    "        CURRENTOUTDIR = os.path.join(OUTPUTDIR, S, G)\n",
    "        files = os.listdir(CURRENTDIR)[0:1]\n",
    "        \n",
    "        if not os.path.exists(CURRENTOUTDIR):\n",
    "            os.makedirs(CURRENTOUTDIR)\n",
    "        \n",
    "        for f in files:\n",
    "            if not f.endswith('vtp'):\n",
    "                continue\n",
    "            \n",
    "            vtpfile = os.path.join(CURRENTDIR, f)\n",
    "            vtpsize = os.path.getsize(vtpfile)\n",
    "            tkofile = os.path.join(CURRENTOUTDIR, f.replace('vtp', 'tko'))\n",
    "            \n",
    "            print('VTP size', vtpsize)\n",
    "            \n",
    "            tkoed = TKO.Encoder.fromVtp(vtpfile, config=None, verbose=False)\n",
    "            tkoed.save(tkofile)\n",
    "            tkosize = os.path.getsize(tkofile)\n",
    "            \n",
    "            print('TKO default size', tkosize)\n",
    "            \n",
    "            study = optuna.create_study()\n",
    "            study.set_user_attr('vtpfile', vtpfile)\n",
    "            study.set_user_attr('tkofile', tkofile)\n",
    "            study.optimize(trakofy_test, n_trials=100)\n",
    "            "
   ]
  },
  {
   "cell_type": "code",
   "execution_count": null,
   "metadata": {},
   "outputs": [],
   "source": [
    "study.best_trial"
   ]
  },
  {
   "cell_type": "code",
   "execution_count": null,
   "metadata": {},
   "outputs": [],
   "source": [
    "study.best_trial.params"
   ]
  },
  {
   "cell_type": "code",
   "execution_count": null,
   "metadata": {},
   "outputs": [],
   "source": [
    "config = {\n",
    "  '*': { \n",
    "    'position':study.best_trial.params['position'],\n",
    "    'sequential':study.best_trial.params['sequential'],\n",
    "    'quantization_bits':study.best_trial.params['quantization_bits'],\n",
    "    'compression_level':study.best_trial.params['compression_level'],\n",
    "    'quantization_range':-1,\n",
    "    'quantization_origin':None\n",
    "  }\n",
    "\n",
    "}\n",
    "\n",
    "\n",
    "\n",
    "# tkompare.compare(vtpfile, restoredfile)"
   ]
  },
  {
   "cell_type": "code",
   "execution_count": null,
   "metadata": {},
   "outputs": [],
   "source": [
    "tkofile"
   ]
  },
  {
   "cell_type": "code",
   "execution_count": null,
   "metadata": {},
   "outputs": [],
   "source": [
    "vtpfile"
   ]
  },
  {
   "cell_type": "code",
   "execution_count": null,
   "metadata": {},
   "outputs": [],
   "source": []
  },
  {
   "cell_type": "code",
   "execution_count": null,
   "metadata": {},
   "outputs": [],
   "source": []
  }
 ],
 "metadata": {
  "kernelspec": {
   "display_name": "Python 3",
   "language": "python",
   "name": "python3"
  },
  "language_info": {
   "codemirror_mode": {
    "name": "ipython",
    "version": 3
   },
   "file_extension": ".py",
   "mimetype": "text/x-python",
   "name": "python",
   "nbconvert_exporter": "python",
   "pygments_lexer": "ipython3",
   "version": "3.6.9"
  }
 },
 "nbformat": 4,
 "nbformat_minor": 2
}
