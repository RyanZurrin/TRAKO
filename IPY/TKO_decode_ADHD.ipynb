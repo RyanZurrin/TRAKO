{
 "cells": [
  {
   "cell_type": "code",
   "execution_count": 1,
   "metadata": {},
   "outputs": [
    {
     "name": "stdout",
     "output_type": "stream",
     "text": [
      "Populating the interactive namespace from numpy and matplotlib\n"
     ]
    }
   ],
   "source": [
    "%pylab inline\n",
    "import os\n",
    "import trako as TKO\n",
    "\n",
    "%load_ext autoreload\n",
    "%autoreload 2"
   ]
  },
  {
   "cell_type": "code",
   "execution_count": 2,
   "metadata": {},
   "outputs": [],
   "source": [
    "tko_file = '/tmp/test.tko'"
   ]
  },
  {
   "cell_type": "code",
   "execution_count": 3,
   "metadata": {},
   "outputs": [
    {
     "name": "stdout",
     "output_type": "stream",
     "text": [
      "Restored NormalizedSignalEstimationError\n",
      "Restored EstimatedUncertainty\n",
      "Restored RTOP1\n",
      "Restored RTOP2\n",
      "Restored RTAP1\n",
      "Restored RTAP2\n",
      "Restored RTPP1\n",
      "Restored RTPP2\n",
      "Restored SignalMean\n"
     ]
    }
   ],
   "source": [
    "polydata = TKO.Decoder.toVtp(tko_file)"
   ]
  },
  {
   "cell_type": "code",
   "execution_count": 4,
   "metadata": {},
   "outputs": [
    {
     "name": "stdout",
     "output_type": "stream",
     "text": [
      "vtkPolyData (0x55f95145b240)\n",
      "  Debug: Off\n",
      "  Modified Time: 141\n",
      "  Reference Count: 1\n",
      "  Registered Events: (none)\n",
      "  Information: 0x55f9513bde00\n",
      "  Data Released: False\n",
      "  Global Release Data: Off\n",
      "  UpdateTime: 0\n",
      "  Field Data:\n",
      "    Debug: Off\n",
      "    Modified Time: 66\n",
      "    Reference Count: 1\n",
      "    Registered Events: (none)\n",
      "    Number Of Arrays: 0\n",
      "    Number Of Components: 0\n",
      "    Number Of Tuples: 0\n",
      "  Number Of Points: 22585\n",
      "  Number Of Cells: 190\n",
      "  Cell Data:\n",
      "    Debug: Off\n",
      "    Modified Time: 69\n",
      "    Reference Count: 1\n",
      "    Registered Events: \n",
      "      Registered Observers:\n",
      "        vtkObserver (0x55f950c6e250)\n",
      "          Event: 33\n",
      "          EventName: ModifiedEvent\n",
      "          Command: 0x55f9513d76e0\n",
      "          Priority: 0\n",
      "          Tag: 1\n",
      "    Number Of Arrays: 0\n",
      "    Number Of Components: 0\n",
      "    Number Of Tuples: 0\n",
      "    Copy Tuple Flags: ( 1 1 1 1 1 0 1 1 )\n",
      "    Interpolate Flags: ( 1 1 1 1 1 0 0 1 )\n",
      "    Pass Through Flags: ( 1 1 1 1 1 1 1 1 )\n",
      "    Scalars: (none)\n",
      "    Vectors: (none)\n",
      "    Normals: (none)\n",
      "    TCoords: (none)\n",
      "    Tensors: (none)\n",
      "    GlobalIds: (none)\n",
      "    PedigreeIds: (none)\n",
      "    EdgeFlag: (none)\n",
      "  Point Data:\n",
      "    Debug: Off\n",
      "    Modified Time: 132\n",
      "    Reference Count: 1\n",
      "    Registered Events: \n",
      "      Registered Observers:\n",
      "        vtkObserver (0x55f9513cb020)\n",
      "          Event: 33\n",
      "          EventName: ModifiedEvent\n",
      "          Command: 0x55f9513d76e0\n",
      "          Priority: 0\n",
      "          Tag: 1\n",
      "    Number Of Arrays: 9\n",
      "    Array 0 name = NormalizedSignalEstimationError\n",
      "    Array 1 name = EstimatedUncertainty\n",
      "    Array 2 name = RTOP1\n",
      "    Array 3 name = RTOP2\n",
      "    Array 4 name = RTAP1\n",
      "    Array 5 name = RTAP2\n",
      "    Array 6 name = RTPP1\n",
      "    Array 7 name = RTPP2\n",
      "    Array 8 name = SignalMean\n",
      "    Number Of Components: 9\n",
      "    Number Of Tuples: 22584\n",
      "    Copy Tuple Flags: ( 1 1 1 1 1 0 1 1 )\n",
      "    Interpolate Flags: ( 1 1 1 1 1 0 0 1 )\n",
      "    Pass Through Flags: ( 1 1 1 1 1 1 1 1 )\n",
      "    Scalars: (none)\n",
      "    Vectors: (none)\n",
      "    Normals: (none)\n",
      "    TCoords: (none)\n",
      "    Tensors: (none)\n",
      "    GlobalIds: (none)\n",
      "    PedigreeIds: (none)\n",
      "    EdgeFlag: (none)\n",
      "  Bounds: \n",
      "    Xmin,Xmax: (-50.2295, -14.6692)\n",
      "    Ymin,Ymax: (-28.4074, 34.4118)\n",
      "    Zmin,Zmax: (23.6043, 61.4308)\n",
      "  Compute Time: 142\n",
      "  Number Of Points: 22585\n",
      "  Point Coordinates: 0x55f95005b440\n",
      "  Locator: 0\n",
      "  Number Of Vertices: 0\n",
      "  Number Of Lines: 190\n",
      "  Number Of Polygons: 0\n",
      "  Number Of Triangle Strips: 0\n",
      "  Number Of Pieces: 1\n",
      "  Piece: -1\n",
      "  Ghost Level: 0\n",
      "\n",
      "\n"
     ]
    }
   ],
   "source": [
    "print(polydata)"
   ]
  },
  {
   "cell_type": "code",
   "execution_count": 9,
   "metadata": {},
   "outputs": [],
   "source": []
  },
  {
   "cell_type": "code",
   "execution_count": 5,
   "metadata": {},
   "outputs": [],
   "source": [
    "import vtk"
   ]
  },
  {
   "cell_type": "code",
   "execution_count": 4,
   "metadata": {},
   "outputs": [],
   "source": [
    "import vtk\n",
    "from vtk.util import numpy_support\n",
    "DATADIR = '/home/d/DATA/Dropbox/ADHD_STFC_diff_for_Daniel/'\n",
    "SUBJECTS = ['101','201']\n",
    "GROUP = ['tracts_left_hemisphere']\n",
    "files = os.listdir(os.path.join(DATADIR,SUBJECTS[0],GROUP[0]))\n",
    "\n",
    "vtp_file = os.path.join(DATADIR,SUBJECTS[0],GROUP[0],files[0])\n",
    "r = vtk.vtkXMLPolyDataReader()\n",
    "r.SetFileName(vtp_file)\n",
    "r.Update()\n",
    "polydata = r.GetOutput()"
   ]
  },
  {
   "cell_type": "code",
   "execution_count": 5,
   "metadata": {},
   "outputs": [
    {
     "name": "stdout",
     "output_type": "stream",
     "text": [
      "vtkPolyData (0x55813019c3d0)\n",
      "  Debug: Off\n",
      "  Modified Time: 726\n",
      "  Reference Count: 2\n",
      "  Registered Events: (none)\n",
      "  Information: 0x55813019bf60\n",
      "  Data Released: False\n",
      "  Global Release Data: Off\n",
      "  UpdateTime: 749\n",
      "  Field Data:\n",
      "    Debug: Off\n",
      "    Modified Time: 476\n",
      "    Reference Count: 1\n",
      "    Registered Events: (none)\n",
      "    Number Of Arrays: 0\n",
      "    Number Of Components: 0\n",
      "    Number Of Tuples: 0\n",
      "  Number Of Points: 22585\n",
      "  Number Of Cells: 190\n",
      "  Cell Data:\n",
      "    Debug: Off\n",
      "    Modified Time: 721\n",
      "    Reference Count: 1\n",
      "    Registered Events: \n",
      "      Registered Observers:\n",
      "        vtkObserver (0x55813019c920)\n",
      "          Event: 33\n",
      "          EventName: ModifiedEvent\n",
      "          Command: 0x55813019bfb0\n",
      "          Priority: 0\n",
      "          Tag: 1\n",
      "    Number Of Arrays: 5\n",
      "    Array 0 name = EmbeddingCoordinate\n",
      "    Array 1 name = ClusterNumber\n",
      "    Array 2 name = EmbeddingColor\n",
      "    Array 3 name = TotalFiberSimilarity\n",
      "    Array 4 name = MeasuredFiberSimilarity\n",
      "    Number Of Components: 16\n",
      "    Number Of Tuples: 190\n",
      "    Copy Tuple Flags: ( 1 1 1 1 1 0 1 1 )\n",
      "    Interpolate Flags: ( 1 1 1 1 1 0 0 1 )\n",
      "    Pass Through Flags: ( 1 1 1 1 1 1 1 1 )\n",
      "    Scalars: (none)\n",
      "    Vectors: (none)\n",
      "    Normals: (none)\n",
      "    TCoords: (none)\n",
      "    Tensors: (none)\n",
      "    GlobalIds: (none)\n",
      "    PedigreeIds: (none)\n",
      "    EdgeFlag: (none)\n",
      "  Point Data:\n",
      "    Debug: Off\n",
      "    Modified Time: 636\n",
      "    Reference Count: 1\n",
      "    Registered Events: \n",
      "      Registered Observers:\n",
      "        vtkObserver (0x55813019c130)\n",
      "          Event: 33\n",
      "          EventName: ModifiedEvent\n",
      "          Command: 0x55813019bfb0\n",
      "          Priority: 0\n",
      "          Tag: 1\n",
      "    Number Of Arrays: 9\n",
      "    Array 0 name = NormalizedSignalEstimationError\n",
      "    Array 1 name = EstimatedUncertainty\n",
      "    Array 2 name = RTOP1\n",
      "    Array 3 name = RTOP2\n",
      "    Array 4 name = RTAP1\n",
      "    Array 5 name = RTAP2\n",
      "    Array 6 name = RTPP1\n",
      "    Array 7 name = RTPP2\n",
      "    Array 8 name = SignalMean\n",
      "    Number Of Components: 9\n",
      "    Number Of Tuples: 22585\n",
      "    Copy Tuple Flags: ( 1 1 1 1 1 0 1 1 )\n",
      "    Interpolate Flags: ( 1 1 1 1 1 0 0 1 )\n",
      "    Pass Through Flags: ( 1 1 1 1 1 1 1 1 )\n",
      "    Scalars: (none)\n",
      "    Vectors: (none)\n",
      "    Normals: (none)\n",
      "    TCoords: (none)\n",
      "    Tensors: (none)\n",
      "    GlobalIds: (none)\n",
      "    PedigreeIds: (none)\n",
      "    EdgeFlag: (none)\n",
      "  Bounds: \n",
      "    Xmin,Xmax: (-50.2295, -14.6694)\n",
      "    Ymin,Ymax: (-28.4074, 34.4118)\n",
      "    Zmin,Zmax: (23.6043, 61.4305)\n",
      "  Compute Time: 778\n",
      "  Number Of Points: 22585\n",
      "  Point Coordinates: 0x55813019e330\n",
      "  Locator: 0\n",
      "  Number Of Vertices: 0\n",
      "  Number Of Lines: 190\n",
      "  Number Of Polygons: 0\n",
      "  Number Of Triangle Strips: 0\n",
      "  Number Of Pieces: 1\n",
      "  Piece: 0\n",
      "  Ghost Level: 0\n",
      "\n",
      "\n"
     ]
    }
   ],
   "source": [
    "print(polydata)"
   ]
  },
  {
   "cell_type": "code",
   "execution_count": 24,
   "metadata": {},
   "outputs": [
    {
     "name": "stdout",
     "output_type": "stream",
     "text": [
      "vtkCellArray (0x5612d42079e0)\n",
      "  Debug: Off\n",
      "  Modified Time: 816\n",
      "  Reference Count: 2\n",
      "  Registered Events: (none)\n",
      "  Number Of Cells: 190\n",
      "  Insert Location: 22775\n",
      "  Traversal Location: 22775\n",
      "\n",
      "\n"
     ]
    }
   ],
   "source": [
    "print(polydata.GetLines())"
   ]
  },
  {
   "cell_type": "code",
   "execution_count": null,
   "metadata": {},
   "outputs": [],
   "source": []
  }
 ],
 "metadata": {
  "kernelspec": {
   "display_name": "Python 3",
   "language": "python",
   "name": "python3"
  },
  "language_info": {
   "codemirror_mode": {
    "name": "ipython",
    "version": 3
   },
   "file_extension": ".py",
   "mimetype": "text/x-python",
   "name": "python",
   "nbconvert_exporter": "python",
   "pygments_lexer": "ipython3",
   "version": "3.7.1"
  }
 },
 "nbformat": 4,
 "nbformat_minor": 2
}
