{
 "cells": [
  {
   "cell_type": "code",
   "execution_count": 1,
   "metadata": {},
   "outputs": [
    {
     "name": "stdout",
     "output_type": "stream",
     "text": [
      "Populating the interactive namespace from numpy and matplotlib\n"
     ]
    }
   ],
   "source": [
    "%pylab inline\n",
    "import os\n",
    "import trako as TKO\n",
    "import time"
   ]
  },
  {
   "cell_type": "code",
   "execution_count": 2,
   "metadata": {},
   "outputs": [],
   "source": [
    "DATASETNAME = 'ADHD_STFC_diff_for_Daniel'\n",
    "DATADIR = '/home/d/DATA/Dropbox/'+DATASETNAME+'/'\n",
    "SUBJECTS = ['101']\n",
    "GROUP = ['tracts_left_hemisphere']"
   ]
  },
  {
   "cell_type": "markdown",
   "metadata": {},
   "source": [
    "# Trako"
   ]
  },
  {
   "cell_type": "code",
   "execution_count": 3,
   "metadata": {},
   "outputs": [
    {
     "name": "stdout",
     "output_type": "stream",
     "text": [
      "Loading scalar NormalizedSignalEstimationError\n",
      "Loading scalar EstimatedUncertainty\n",
      "Loading scalar RTOP1\n",
      "Loading scalar RTOP2\n",
      "Loading scalar RTAP1\n",
      "Loading scalar RTAP2\n",
      "Loading scalar RTPP1\n",
      "Loading scalar RTPP2\n",
      "Loading scalar SignalMean\n",
      "Loading property EmbeddingCoordinate\n",
      "Loading property ClusterNumber\n",
      "Loading property EmbeddingColor\n",
      "Loading property TotalFiberSimilarity\n",
      "Loading property MeasuredFiberSimilarity\n",
      "Converted cluster_00001.vtp - Ratio: 3.1183248236197803\n",
      "Done after 0.19982457160949707 seconds\n"
     ]
    }
   ],
   "source": [
    "OUTPUTDIR = '/tmp/'\n",
    "vtpsizes = []\n",
    "tkosizes = []\n",
    "for S in SUBJECTS:\n",
    "    for G in GROUP:\n",
    "        CURRENTDIR = os.path.join(DATADIR, S, G)\n",
    "        CURRENTOUTDIR = os.path.join(OUTPUTDIR, S, G)\n",
    "        files = os.listdir(CURRENTDIR)\n",
    "        \n",
    "        # only pick one file\n",
    "        files = ['cluster_00001.vtp']\n",
    "        \n",
    "        if not os.path.exists(CURRENTOUTDIR):\n",
    "            os.makedirs(CURRENTOUTDIR)\n",
    "        \n",
    "        for f in files:\n",
    "            if not f.endswith('vtp'):\n",
    "                continue\n",
    "            \n",
    "            vtpfile = os.path.join(CURRENTDIR, f)\n",
    "            vtpsize = os.path.getsize(vtpfile)\n",
    "            tkofile = os.path.join(CURRENTOUTDIR, f.replace('vtp', 'tko'))\n",
    "            \n",
    "#             if not os.path.exists(tkofile):\n",
    "            t0 = time.time()\n",
    "            tkoed = TKO.Encoder.fromVtp(vtpfile, verbose=True)\n",
    "            t1 = time.time()\n",
    "            tkoed.save(tkofile)\n",
    "                \n",
    "            tkosize = os.path.getsize(tkofile)\n",
    "            print('Converted', f, '- Ratio:', float(vtpsize)/tkosize)\n",
    "            print('Done after',t1-t0,'seconds')\n",
    "            vtpsizes.append(vtpsize)\n",
    "            tkosizes.append(tkosize)\n",
    "            "
   ]
  },
  {
   "cell_type": "code",
   "execution_count": null,
   "metadata": {},
   "outputs": [],
   "source": []
  }
 ],
 "metadata": {
  "kernelspec": {
   "display_name": "Python 3",
   "language": "python",
   "name": "python3"
  },
  "language_info": {
   "codemirror_mode": {
    "name": "ipython",
    "version": 3
   },
   "file_extension": ".py",
   "mimetype": "text/x-python",
   "name": "python",
   "nbconvert_exporter": "python",
   "pygments_lexer": "ipython3",
   "version": "3.6.9"
  }
 },
 "nbformat": 4,
 "nbformat_minor": 2
}
