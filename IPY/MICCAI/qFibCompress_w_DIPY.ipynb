{
 "cells": [
  {
   "cell_type": "code",
   "execution_count": 1,
   "metadata": {},
   "outputs": [
    {
     "name": "stdout",
     "output_type": "stream",
     "text": [
      "Populating the interactive namespace from numpy and matplotlib\n"
     ]
    }
   ],
   "source": [
    "%pylab inline\n",
    "import os, time"
   ]
  },
  {
   "cell_type": "code",
   "execution_count": 2,
   "metadata": {},
   "outputs": [],
   "source": [
    "import pickle\n",
    "import nibabel as nib\n",
    "from dipy.tracking.streamline import compress_streamlines\n",
    "from dipy.io.dpy import Dpy\n",
    "import trako as TKO"
   ]
  },
  {
   "cell_type": "code",
   "execution_count": 3,
   "metadata": {},
   "outputs": [],
   "source": [
    "DATAFOLDER = '/home/d/Dropbox/TRAKODATA/qfib-data/'"
   ]
  },
  {
   "cell_type": "code",
   "execution_count": 4,
   "metadata": {},
   "outputs": [
    {
     "name": "stdout",
     "output_type": "stream",
     "text": [
      "compressing tracto60kSD_STREAM1.tck\n",
      "stored /home/d/Dropbox/TRAKODATA/qfib-data/tracto60kSD_STREAM1.DPYstats.p\n",
      "stored /home/d/Dropbox/TRAKODATA/qfib-data/tracto60kSD_STREAM1.level9.DPYstats.p\n",
      "compressing tracto60kiFOD10.5.tck\n",
      "stored /home/d/Dropbox/TRAKODATA/qfib-data/tracto60kiFOD10.5.DPYstats.p\n",
      "stored /home/d/Dropbox/TRAKODATA/qfib-data/tracto60kiFOD10.5.level9.DPYstats.p\n",
      "compressing tracto60kiFOD10.1.tck\n",
      "stored /home/d/Dropbox/TRAKODATA/qfib-data/tracto60kiFOD10.1.DPYstats.p\n",
      "stored /home/d/Dropbox/TRAKODATA/qfib-data/tracto60kiFOD10.1.level9.DPYstats.p\n",
      "compressing tracto60kSD_STREAM0.2.tck\n",
      "stored /home/d/Dropbox/TRAKODATA/qfib-data/tracto60kSD_STREAM0.2.DPYstats.p\n",
      "stored /home/d/Dropbox/TRAKODATA/qfib-data/tracto60kSD_STREAM0.2.level9.DPYstats.p\n",
      "compressing tracto60kSD_STREAM0.5.tck\n",
      "stored /home/d/Dropbox/TRAKODATA/qfib-data/tracto60kSD_STREAM0.5.DPYstats.p\n",
      "stored /home/d/Dropbox/TRAKODATA/qfib-data/tracto60kSD_STREAM0.5.level9.DPYstats.p\n",
      "compressing tracto60kSD_STREAM0.1.tck\n",
      "stored /home/d/Dropbox/TRAKODATA/qfib-data/tracto60kSD_STREAM0.1.DPYstats.p\n",
      "stored /home/d/Dropbox/TRAKODATA/qfib-data/tracto60kSD_STREAM0.1.level9.DPYstats.p\n",
      "compressing tracto60kiFOD11.tck\n",
      "stored /home/d/Dropbox/TRAKODATA/qfib-data/tracto60kiFOD11.DPYstats.p\n",
      "stored /home/d/Dropbox/TRAKODATA/qfib-data/tracto60kiFOD11.level9.DPYstats.p\n",
      "compressing tracto60kiFOD10.2.tck\n",
      "stored /home/d/Dropbox/TRAKODATA/qfib-data/tracto60kiFOD10.2.DPYstats.p\n",
      "stored /home/d/Dropbox/TRAKODATA/qfib-data/tracto60kiFOD10.2.level9.DPYstats.p\n"
     ]
    }
   ],
   "source": [
    "\n",
    "for f in os.listdir(DATAFOLDER):\n",
    "    \n",
    "    if f.endswith('tck'):\n",
    "        \n",
    "        print('compressing',f)\n",
    "        input = os.path.join(DATAFOLDER, f)\n",
    "        \n",
    "        t0 = time.time()\n",
    "        loaded_tck = nib.streamlines.load(input, lazy_load=False)\n",
    "        streamlines = loaded_tck.streamlines\n",
    "        \n",
    "        # parameters from Presseau15\n",
    "        c_streamlines = compress_streamlines(streamlines, \n",
    "                                             tol_error=0.01, \n",
    "                                             max_segment_length=np.inf)\n",
    "        \n",
    "        dpy_file = input.replace('tck','dpy')\n",
    "        dpw = Dpy(dpy_file, mode='w', compression=0)\n",
    "        for c_s in c_streamlines:\n",
    "            dpw.write_track(c_s)\n",
    "#         dpw.write_track(c_streamlines)\n",
    "        dpw.close()\n",
    "        t1 = time.time()-t0\n",
    "        \n",
    "#         error = TKO.Util.error(streamlines, c_streamlines)\n",
    "        \n",
    "        stats = {\n",
    "            'c_time': t1,\n",
    "            'original_size': os.path.getsize(input),\n",
    "            'compressed_size': os.path.getsize(dpy_file),\n",
    "#             'error': error\n",
    "        }\n",
    "        \n",
    "        statsfile = input.replace('tck','DPYstats.p')\n",
    "        with open(statsfile, 'wb') as g:\n",
    "            pickle.dump(stats, g)\n",
    "        print('stored', statsfile)\n",
    "        \n",
    "\n",
    "        t0 = time.time()\n",
    "        loaded_tck = nib.streamlines.load(input, lazy_load=False)\n",
    "        streamlines = loaded_tck.streamlines\n",
    "        \n",
    "        # parameters from Presseau15\n",
    "        c_streamlines = compress_streamlines(streamlines, \n",
    "                                             tol_error=0.01, \n",
    "                                             max_segment_length=np.inf)\n",
    "        \n",
    "        dpy_file = input.replace('tck','level9.dpy')\n",
    "        dpw = Dpy(dpy_file, mode='w', compression=9)\n",
    "        for c_s in c_streamlines:\n",
    "            dpw.write_track(c_s)\n",
    "#         dpw.write_track(c_streamlines)\n",
    "        dpw.close()\n",
    "        t1 = time.time()-t0\n",
    "        \n",
    "#         error = TKO.Util.error(streamlines, c_streamlines)\n",
    "        \n",
    "        stats = {\n",
    "            'c_time': t1,\n",
    "            'original_size': os.path.getsize(input),\n",
    "            'compressed_size': os.path.getsize(dpy_file),\n",
    "#             'error': error\n",
    "        }\n",
    "        \n",
    "        statsfile = input.replace('tck','level9.DPYstats.p')\n",
    "        with open(statsfile, 'wb') as g:\n",
    "            pickle.dump(stats, g)\n",
    "        print('stored', statsfile)"
   ]
  },
  {
   "cell_type": "code",
   "execution_count": 8,
   "metadata": {},
   "outputs": [],
   "source": [
    "workingdir = DATAFOLDER\n",
    "compressed='tracto60kSD_STREAM0.1.dpy'\n",
    "restored_data = Dpy(os.path.join(workingdir, compressed), mode='r')\n",
    "r_streamlines = restored_data.read_tracks()\n",
    "restored_data.close()"
   ]
  },
  {
   "cell_type": "code",
   "execution_count": 9,
   "metadata": {},
   "outputs": [
    {
     "data": {
      "text/plain": [
       "array([[ -3.0839312, -12.259369 ,  63.497364 ],\n",
       "       [ -3.4519176, -12.692922 ,  62.80019  ],\n",
       "       [ -3.6661725, -12.858119 ,  62.380264 ],\n",
       "       [ -4.4140463, -13.233893 ,  61.016853 ],\n",
       "       [ -4.8188076, -13.410923 ,  60.23302  ],\n",
       "       [ -5.032694 , -13.514632 ,  59.682556 ],\n",
       "       [ -5.129734 , -13.551072 ,  59.296597 ],\n",
       "       [ -5.2800183, -13.605012 ,  58.615284 ],\n",
       "       [ -5.5260324, -13.76137  ,  57.659073 ],\n",
       "       [ -5.741371 , -13.829551 ,  56.685173 ],\n",
       "       [ -5.9247985, -13.838192 ,  56.009975 ],\n",
       "       [ -6.381456 , -13.821895 ,  54.68691  ],\n",
       "       [ -6.6215363, -13.83175  ,  53.81983  ],\n",
       "       [ -6.8750157, -13.81277  ,  52.545235 ],\n",
       "       [ -7.1183043, -13.845651 ,  51.679676 ],\n",
       "       [ -7.521379 , -13.897382 ,  50.55079  ],\n",
       "       [ -8.052224 , -13.947511 ,  49.25647  ],\n",
       "       [ -8.362679 , -13.955973 ,  48.629524 ],\n",
       "       [ -8.792652 , -13.978093 ,  47.955605 ],\n",
       "       [ -9.72735  , -14.040106 ,  46.658688 ],\n",
       "       [-10.364601 , -14.081045 ,  45.88942  ],\n",
       "       [-11.326821 , -14.097749 ,  44.87291  ],\n",
       "       [-12.490562 , -14.050082 ,  43.6348   ],\n",
       "       [-13.359318 , -13.958428 ,  42.672348 ],\n",
       "       [-13.991036 , -13.834719 ,  41.907356 ],\n",
       "       [-14.630388 , -13.66116  ,  41.029526 ],\n",
       "       [-15.265399 , -13.435467 ,  40.03691  ],\n",
       "       [-15.779722 , -13.231979 ,  39.086353 ],\n",
       "       [-16.23052  , -13.033484 ,  38.10301  ],\n",
       "       [-16.614948 , -12.840751 ,  37.090755 ],\n",
       "       [-16.876616 , -12.675112 ,  36.24594  ],\n",
       "       [-17.069641 , -12.523304 ,  35.38031  ],\n",
       "       [-17.191206 , -12.392337 ,  34.498505 ],\n",
       "       [-17.26917  , -12.240229 ,  33.31093  ],\n",
       "       [-17.277857 , -12.1143265,  32.218388 ],\n",
       "       [-17.219816 , -12.026058 ,  31.224186 ],\n",
       "       [-17.106838 , -11.968037 ,  30.333414 ],\n",
       "       [-16.960169 , -11.926553 ,  29.650476 ],\n",
       "       [-16.687325 , -11.868749 ,  28.795057 ],\n",
       "       [-16.38532  , -11.830802 ,  28.055527 ],\n",
       "       [-16.014797 , -11.796728 ,  27.34762  ],\n",
       "       [-15.485977 , -11.789686 ,  26.499193 ],\n",
       "       [-15.19178  , -11.812587 ,  25.977137 ],\n",
       "       [-15.056335 , -11.834028 ,  25.60192  ],\n",
       "       [-14.887369 , -11.870975 ,  24.923826 ],\n",
       "       [-14.855548 , -11.87824  ,  24.829304 ]], dtype=float32)"
      ]
     },
     "execution_count": 9,
     "metadata": {},
     "output_type": "execute_result"
    }
   ],
   "source": [
    "r_streamlines"
   ]
  },
  {
   "cell_type": "code",
   "execution_count": null,
   "metadata": {},
   "outputs": [],
   "source": []
  }
 ],
 "metadata": {
  "kernelspec": {
   "display_name": "Python 3",
   "language": "python",
   "name": "python3"
  },
  "language_info": {
   "codemirror_mode": {
    "name": "ipython",
    "version": 3
   },
   "file_extension": ".py",
   "mimetype": "text/x-python",
   "name": "python",
   "nbconvert_exporter": "python",
   "pygments_lexer": "ipython3",
   "version": "3.6.9"
  }
 },
 "nbformat": 4,
 "nbformat_minor": 2
}
