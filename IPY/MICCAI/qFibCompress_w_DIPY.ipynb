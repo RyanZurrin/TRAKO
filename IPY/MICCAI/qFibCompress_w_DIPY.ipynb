{
 "cells": [
  {
   "cell_type": "code",
   "execution_count": 1,
   "metadata": {},
   "outputs": [
    {
     "name": "stdout",
     "output_type": "stream",
     "text": [
      "Populating the interactive namespace from numpy and matplotlib\n"
     ]
    }
   ],
   "source": [
    "%pylab inline\n",
    "import os, time"
   ]
  },
  {
   "cell_type": "code",
   "execution_count": 2,
   "metadata": {},
   "outputs": [],
   "source": [
    "import pickle\n",
    "import nibabel as nib\n",
    "from dipy.tracking.streamline import compress_streamlines\n",
    "from dipy.io.dpy import Dpy\n",
    "import trako as TKO"
   ]
  },
  {
   "cell_type": "code",
   "execution_count": 3,
   "metadata": {},
   "outputs": [],
   "source": [
    "DATAFOLDER = '/home/d/Dropbox/TRAKODATA/qfib-data/'"
   ]
  },
  {
   "cell_type": "code",
   "execution_count": 4,
   "metadata": {},
   "outputs": [
    {
     "name": "stdout",
     "output_type": "stream",
     "text": [
      "compressing tracto60kSD_STREAM1.tck\n",
      "stored /home/d/Dropbox/TRAKODATA/qfib-data/tracto60kSD_STREAM1.DPYstats.p\n",
      "stored /home/d/Dropbox/TRAKODATA/qfib-data/tracto60kSD_STREAM1.level9.DPYstats.p\n",
      "compressing tracto60kiFOD10.5.tck\n",
      "stored /home/d/Dropbox/TRAKODATA/qfib-data/tracto60kiFOD10.5.DPYstats.p\n",
      "stored /home/d/Dropbox/TRAKODATA/qfib-data/tracto60kiFOD10.5.level9.DPYstats.p\n",
      "compressing tracto60kiFOD10.1.tck\n",
      "stored /home/d/Dropbox/TRAKODATA/qfib-data/tracto60kiFOD10.1.DPYstats.p\n",
      "stored /home/d/Dropbox/TRAKODATA/qfib-data/tracto60kiFOD10.1.level9.DPYstats.p\n",
      "compressing tracto60kSD_STREAM0.2.tck\n",
      "stored /home/d/Dropbox/TRAKODATA/qfib-data/tracto60kSD_STREAM0.2.DPYstats.p\n",
      "stored /home/d/Dropbox/TRAKODATA/qfib-data/tracto60kSD_STREAM0.2.level9.DPYstats.p\n",
      "compressing tracto60kSD_STREAM0.5.tck\n",
      "stored /home/d/Dropbox/TRAKODATA/qfib-data/tracto60kSD_STREAM0.5.DPYstats.p\n",
      "stored /home/d/Dropbox/TRAKODATA/qfib-data/tracto60kSD_STREAM0.5.level9.DPYstats.p\n",
      "compressing tracto60kSD_STREAM0.1.tck\n",
      "stored /home/d/Dropbox/TRAKODATA/qfib-data/tracto60kSD_STREAM0.1.DPYstats.p\n",
      "stored /home/d/Dropbox/TRAKODATA/qfib-data/tracto60kSD_STREAM0.1.level9.DPYstats.p\n",
      "compressing tracto60kiFOD11.tck\n",
      "stored /home/d/Dropbox/TRAKODATA/qfib-data/tracto60kiFOD11.DPYstats.p\n",
      "stored /home/d/Dropbox/TRAKODATA/qfib-data/tracto60kiFOD11.level9.DPYstats.p\n",
      "compressing tracto60kiFOD10.2.tck\n",
      "stored /home/d/Dropbox/TRAKODATA/qfib-data/tracto60kiFOD10.2.DPYstats.p\n",
      "stored /home/d/Dropbox/TRAKODATA/qfib-data/tracto60kiFOD10.2.level9.DPYstats.p\n"
     ]
    }
   ],
   "source": [
    "\n",
    "for f in os.listdir(DATAFOLDER):\n",
    "    \n",
    "    if f.endswith('tck'):\n",
    "        \n",
    "        print('compressing',f)\n",
    "        input = os.path.join(DATAFOLDER, f)\n",
    "        \n",
    "        t0 = time.time()\n",
    "        loaded_tck = nib.streamlines.load(input, lazy_load=False)\n",
    "        streamlines = loaded_tck.streamlines\n",
    "        \n",
    "        # parameters from Presseau15\n",
    "        c_streamlines = compress_streamlines(streamlines, \n",
    "                                             tol_error=0.01, \n",
    "                                             max_segment_length=np.inf)\n",
    "        \n",
    "        dpy_file = input.replace('tck','dpy')\n",
    "        dpw = Dpy(dpy_file, mode='w', compression=0)\n",
    "        for c_s in c_streamlines:\n",
    "            dpw.write_track(c_s)\n",
    "#         dpw.write_track(c_streamlines)\n",
    "        dpw.close()\n",
    "        t1 = time.time()-t0\n",
    "        \n",
    "#         error = TKO.Util.error(streamlines, c_streamlines)\n",
    "        \n",
    "        stats = {\n",
    "            'c_time': t1,\n",
    "            'original_size': os.path.getsize(input),\n",
    "            'compressed_size': os.path.getsize(dpy_file),\n",
    "#             'error': error\n",
    "        }\n",
    "        \n",
    "        statsfile = input.replace('tck','DPYstats.p')\n",
    "        with open(statsfile, 'wb') as g:\n",
    "            pickle.dump(stats, g)\n",
    "        print('stored', statsfile)\n",
    "        \n",
    "\n",
    "        t0 = time.time()\n",
    "        loaded_tck = nib.streamlines.load(input, lazy_load=False)\n",
    "        streamlines = loaded_tck.streamlines\n",
    "        \n",
    "        # parameters from Presseau15\n",
    "        c_streamlines = compress_streamlines(streamlines, \n",
    "                                             tol_error=0.01, \n",
    "                                             max_segment_length=np.inf)\n",
    "        \n",
    "        dpy_file = input.replace('tck','level9.dpy')\n",
    "        dpw = Dpy(dpy_file, mode='w', compression=9)\n",
    "        for c_s in c_streamlines:\n",
    "            dpw.write_track(c_s)\n",
    "#         dpw.write_track(c_streamlines)\n",
    "        dpw.close()\n",
    "        t1 = time.time()-t0\n",
    "        \n",
    "#         error = TKO.Util.error(streamlines, c_streamlines)\n",
    "        \n",
    "        stats = {\n",
    "            'c_time': t1,\n",
    "            'original_size': os.path.getsize(input),\n",
    "            'compressed_size': os.path.getsize(dpy_file),\n",
    "#             'error': error\n",
    "        }\n",
    "        \n",
    "        statsfile = input.replace('tck','level9.DPYstats.p')\n",
    "        with open(statsfile, 'wb') as g:\n",
    "            pickle.dump(stats, g)\n",
    "        print('stored', statsfile)"
   ]
  },
  {
   "cell_type": "code",
   "execution_count": null,
   "metadata": {},
   "outputs": [],
   "source": []
  }
 ],
 "metadata": {
  "kernelspec": {
   "display_name": "Python 3",
   "language": "python",
   "name": "python3"
  },
  "language_info": {
   "codemirror_mode": {
    "name": "ipython",
    "version": 3
   },
   "file_extension": ".py",
   "mimetype": "text/x-python",
   "name": "python",
   "nbconvert_exporter": "python",
   "pygments_lexer": "ipython3",
   "version": "3.6.9"
  }
 },
 "nbformat": 4,
 "nbformat_minor": 2
}
