{
 "cells": [
  {
   "cell_type": "code",
   "execution_count": 1,
   "metadata": {},
   "outputs": [
    {
     "name": "stdout",
     "output_type": "stream",
     "text": [
      "Populating the interactive namespace from numpy and matplotlib\n"
     ]
    }
   ],
   "source": [
    "%pylab inline\n",
    "%load_ext autoreload\n",
    "%autoreload 2"
   ]
  },
  {
   "cell_type": "code",
   "execution_count": 2,
   "metadata": {},
   "outputs": [],
   "source": [
    "import runner"
   ]
  },
  {
   "cell_type": "code",
   "execution_count": 39,
   "metadata": {},
   "outputs": [],
   "source": [
    "qfib_dir = '/home/d/Dropbox/TRAKODATA/ISMRM2015/ISMRM_2015_Tracto_challenge_ground_truth_bundles_TCK_v2/'\n",
    "qfib_ext = '.tck'\n",
    "tko_dir = '/home/d/Dropbox/TRAKODATA/ISMRM2015/ISMRM_2015_Tracto_challenge_ground_truth_bundles_VTK_v2/'\n",
    "tko_ext = '.vtk'\n",
    "\n",
    "files = []#['CA', 'CC', 'CP']\n",
    "for f in os.listdir()\n",
    "\n",
    "qfib_files = [(qfib_dir, f+qfib_ext) for f in files]\n",
    "qfib_bits = [8, 16]\n",
    "tko_files = [(tko_dir, f+tko_ext) for f in files]\n",
    "tko_bits = [9,10,11,12,13,14]\n"
   ]
  },
  {
   "cell_type": "code",
   "execution_count": 40,
   "metadata": {},
   "outputs": [],
   "source": [
    "qfib_sizes = [0]*len(qfib_bits)\n",
    "qfib_errors = [0]*len(qfib_bits)\n",
    "qfib_stds = [0]*len(qfib_bits)\n",
    "for f in qfib_files:\n",
    "    for i,b in enumerate(qfib_bits):\n",
    "        rundata = runner.Runner.qfib(f[0], f[1], bits=b, force=False)\n",
    "        c_time = rundata[0]\n",
    "        d_time = rundata[1]\n",
    "        sizestats = rundata[2]\n",
    "        compressedsize = sizestats[1]\n",
    "        meanerror = rundata[3][2]\n",
    "        stderror = rundata[3][3]\n",
    "        \n",
    "        if meanerror > 2:\n",
    "            continue\n",
    "        qfib_sizes[i] += compressedsize\n",
    "        qfib_errors[i] += meanerror\n",
    "        qfib_stds[i] += stderror\n",
    "#         qfib_sizes.append(compressedsize)\n",
    "#         qfib_errors.append(meanerror)\n",
    "#         qfib_stds.append(stderror)\n",
    "for i,b in enumerate(qfib_bits):\n",
    "    qfib_sizes[i] /= len(qfib_files)\n",
    "    qfib_errors[i] /= len(qfib_files)\n",
    "    qfib_stds[i] /= len(qfib_files)"
   ]
  },
  {
   "cell_type": "code",
   "execution_count": 41,
   "metadata": {},
   "outputs": [],
   "source": [
    "tko_sizes = [0]*len(tko_bits)\n",
    "tko_errors = [0]*len(tko_bits)\n",
    "tko_stds = [0]*len(tko_bits)\n",
    "fails = [len(tko_files)]*len(tko_bits)\n",
    "for j,f in enumerate(tko_files):\n",
    "    for i,b in enumerate(tko_bits):\n",
    "\n",
    "        config = {\n",
    "            '*': {\n",
    "                'position':True,\n",
    "                'sequential':True,\n",
    "                'quantization_bits':b,\n",
    "                'compression_level':10,\n",
    "                'quantization_range':-1,\n",
    "                'quantization_origin':None\n",
    "            },\n",
    "            'name': 'qb'+str(b)\n",
    "        }\n",
    "        \n",
    "        try:\n",
    "            rundata = runner.Runner.tko(f[0], f[1], config=config, coords_only=True, force=False)\n",
    "        except:\n",
    "            fails[i] -= 1\n",
    "            continue\n",
    "        c_time = rundata[0]\n",
    "        d_time = rundata[1]\n",
    "        sizestats = rundata[2]\n",
    "        compressedsize = sizestats[1]\n",
    "        meanerror = rundata[3][2]\n",
    "        stderror = rundata[3][3]\n",
    "        tko_sizes[i] += compressedsize\n",
    "        tko_errors[i] += meanerror\n",
    "        tko_stds[i] += stderror\n",
    "#         tko_sizes.append(compressedsize)\n",
    "#         tko_errors.append(meanerror)\n",
    "#         tko_stds.append(stderror)\n",
    "for i,b in enumerate(tko_bits):\n",
    "    tko_sizes[i] /= fails[i]#len(tko_files)\n",
    "    tko_errors[i] /= fails[i]#len(tko_files)\n",
    "    tko_stds[i] /= fails[i]#len(tko_files)"
   ]
  },
  {
   "cell_type": "code",
   "execution_count": 42,
   "metadata": {},
   "outputs": [
    {
     "data": {
      "image/png": "[encoded data removed]",
      "text/plain": [
       "<Figure size 640x480 with 1 Axes>"
      ]
     },
     "metadata": {},
     "output_type": "display_data"
    }
   ],
   "source": [
    "figure(num=None, figsize=(8, 6), dpi=80, facecolor='w', edgecolor='k')\n",
    "\n",
    "x = qfib_errors + tko_errors\n",
    "y = qfib_sizes + tko_sizes\n",
    "area = qfib_stds + tko_stds\n",
    "areaL = np.array(area)*1000\n",
    "colors = [0]*len(qfib_errors) + [1]*len(tko_errors)\n",
    "\n",
    "plt.xlabel('Data Size')\n",
    "plt.ylabel('Error')\n",
    "plt.scatter(y, x, s=areaL, c=colors, alpha=.9)\n",
    "plt.show()"
   ]
  },
  {
   "cell_type": "code",
   "execution_count": null,
   "metadata": {},
   "outputs": [],
   "source": [
    "figure(num=None, figsize=(8, 6), dpi=80, facecolor='w', edgecolor='k')\n",
    "\n",
    "plt.scatter(y, x, s = 20)\n",
    "e = area\n",
    "plt.errorbar(y, x, yerr = e, fmt = 'o')\n",
    "plt.show()"
   ]
  },
  {
   "cell_type": "code",
   "execution_count": null,
   "metadata": {},
   "outputs": [],
   "source": []
  }
 ],
 "metadata": {
  "kernelspec": {
   "display_name": "Python 3",
   "language": "python",
   "name": "python3"
  },
  "language_info": {
   "codemirror_mode": {
    "name": "ipython",
    "version": 3
   },
   "file_extension": ".py",
   "mimetype": "text/x-python",
   "name": "python",
   "nbconvert_exporter": "python",
   "pygments_lexer": "ipython3",
   "version": "3.6.9"
  }
 },
 "nbformat": 4,
 "nbformat_minor": 2
}
