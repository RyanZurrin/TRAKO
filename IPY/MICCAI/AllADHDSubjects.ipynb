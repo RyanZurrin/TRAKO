{
 "cells": [
  {
   "cell_type": "code",
   "execution_count": 1,
   "metadata": {},
   "outputs": [],
   "source": [
    "import os"
   ]
  },
  {
   "cell_type": "code",
   "execution_count": 2,
   "metadata": {},
   "outputs": [],
   "source": [
    "DATAFOLDER = '/home/fan/ADHD/cluster_atlas_01_00002_remove_outliers/'\n",
    "STATSFOLDER = DATAFOLDER[:-1]+'_STATS/'\n",
    "subjects = sorted(os.listdir(DATAFOLDER))\n"
   ]
  },
  {
   "cell_type": "code",
   "execution_count": 3,
   "metadata": {},
   "outputs": [],
   "source": [
    "# from https://stackoverflow.com/a/312464\n",
    "def chunks(lst, n):\n",
    "    \"\"\"Yield successive n-sized chunks from lst.\"\"\"\n",
    "    for i in range(0, len(lst), n):\n",
    "        yield lst[i:i + n]"
   ]
  },
  {
   "cell_type": "code",
   "execution_count": 4,
   "metadata": {},
   "outputs": [
    {
     "name": "stdout",
     "output_type": "stream",
     "text": [
      "skipping 103_reg_reg_outlier_removed\n",
      "Next group!\n",
      "Next group!\n",
      "Next group!\n",
      "Next group!\n",
      "Next group!\n",
      "Next group!\n",
      "Next group!\n"
     ]
    }
   ],
   "source": [
    "GROUPS = chunks(subjects,10)\n",
    "for GROUP in GROUPS:\n",
    "    for S in GROUP:\n",
    "        if os.path.exists(STATSFOLDER+S+'.p'):\n",
    "            print('skipping', S)\n",
    "            continue\n",
    "            \n",
    "        os.system('./singleADHD.py '+S+' > '+STATSFOLDER+S+'.log &')\n",
    "    # wait until next group\n",
    "    running = True\n",
    "    while running:\n",
    "        for S in GROUP:\n",
    "            if os.path.exists(STATSFOLDER+S+'.p'):\n",
    "                running=False\n",
    "            else:\n",
    "                running=True\n",
    "    print('Next group!')"
   ]
  },
  {
   "cell_type": "code",
   "execution_count": null,
   "metadata": {},
   "outputs": [],
   "source": []
  }
 ],
 "metadata": {
  "kernelspec": {
   "display_name": "Python 3",
   "language": "python",
   "name": "python3"
  },
  "language_info": {
   "codemirror_mode": {
    "name": "ipython",
    "version": 3
   },
   "file_extension": ".py",
   "mimetype": "text/x-python",
   "name": "python",
   "nbconvert_exporter": "python",
   "pygments_lexer": "ipython3",
   "version": "3.6.9"
  }
 },
 "nbformat": 4,
 "nbformat_minor": 2
}
