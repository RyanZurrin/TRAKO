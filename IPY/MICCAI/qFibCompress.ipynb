{
 "cells": [
  {
   "cell_type": "code",
   "execution_count": 1,
   "metadata": {},
   "outputs": [
    {
     "name": "stdout",
     "output_type": "stream",
     "text": [
      "Populating the interactive namespace from numpy and matplotlib\n"
     ]
    }
   ],
   "source": [
    "%pylab inline\n",
    "import os, time"
   ]
  },
  {
   "cell_type": "code",
   "execution_count": 4,
   "metadata": {},
   "outputs": [],
   "source": [
    "DATAFOLDER = '/home/d/Dropbox/TRAKODATA/qfib-data/'"
   ]
  },
  {
   "cell_type": "code",
   "execution_count": 5,
   "metadata": {},
   "outputs": [],
   "source": [
    "QFIB = '/home/d/Projects/qfib/qfib'"
   ]
  },
  {
   "cell_type": "code",
   "execution_count": null,
   "metadata": {},
   "outputs": [],
   "source": []
  },
  {
   "cell_type": "code",
   "execution_count": 14,
   "metadata": {},
   "outputs": [],
   "source": [
    "point1 = np.array([1,2,3])"
   ]
  },
  {
   "cell_type": "code",
   "execution_count": 15,
   "metadata": {},
   "outputs": [],
   "source": [
    "point2 = np.array([2,3,4])"
   ]
  },
  {
   "cell_type": "code",
   "execution_count": 16,
   "metadata": {},
   "outputs": [
    {
     "data": {
      "text/plain": [
       "1.7320508075688772"
      ]
     },
     "execution_count": 16,
     "metadata": {},
     "output_type": "execute_result"
    }
   ],
   "source": [
    "np.linalg.norm(point1[0:3]-point2[0:3])"
   ]
  },
  {
   "cell_type": "code",
   "execution_count": 17,
   "metadata": {},
   "outputs": [
    {
     "data": {
      "text/plain": [
       "1.0"
      ]
     },
     "execution_count": 17,
     "metadata": {},
     "output_type": "execute_result"
    }
   ],
   "source": [
    "np.linalg.norm(point1[0]-point2[0])"
   ]
  },
  {
   "cell_type": "code",
   "execution_count": 18,
   "metadata": {},
   "outputs": [
    {
     "data": {
      "text/plain": [
       "1.0"
      ]
     },
     "execution_count": 18,
     "metadata": {},
     "output_type": "execute_result"
    }
   ],
   "source": [
    "np.linalg.norm(point1[1]-point2[1])"
   ]
  },
  {
   "cell_type": "code",
   "execution_count": 19,
   "metadata": {},
   "outputs": [
    {
     "data": {
      "text/plain": [
       "1.0"
      ]
     },
     "execution_count": 19,
     "metadata": {},
     "output_type": "execute_result"
    }
   ],
   "source": [
    "np.linalg.norm(point1[2]-point2[2])"
   ]
  },
  {
   "cell_type": "code",
   "execution_count": null,
   "metadata": {},
   "outputs": [],
   "source": []
  },
  {
   "cell_type": "code",
   "execution_count": null,
   "metadata": {},
   "outputs": [],
   "source": []
  },
  {
   "cell_type": "code",
   "execution_count": null,
   "metadata": {},
   "outputs": [],
   "source": []
  },
  {
   "cell_type": "code",
   "execution_count": null,
   "metadata": {},
   "outputs": [],
   "source": []
  },
  {
   "cell_type": "code",
   "execution_count": 6,
   "metadata": {},
   "outputs": [
    {
     "name": "stdout",
     "output_type": "stream",
     "text": [
      "compress tracto60kSD_STREAM1.tck\n",
      "skipping tracto60kSD_STREAM1.8bit.qfib\n",
      "skipping tracto60kSD_STREAM1.16bit.qfib\n",
      "compress tracto60kiFOD10.5.tck\n",
      "skipping tracto60kiFOD10.5.8bit.qfib\n",
      "skipping tracto60kiFOD10.5.16bit.qfib\n",
      "compress tracto60kiFOD10.1.tck\n",
      "skipping tracto60kiFOD10.1.8bit.qfib\n",
      "skipping tracto60kiFOD10.1.16bit.qfib\n",
      "compress tracto60kSD_STREAM0.2.tck\n",
      "skipping tracto60kSD_STREAM0.2.8bit.qfib\n",
      "skipping tracto60kSD_STREAM0.2.16bit.qfib\n",
      "compress tracto60kSD_STREAM0.5.tck\n",
      "skipping tracto60kSD_STREAM0.5.8bit.qfib\n",
      "skipping tracto60kSD_STREAM0.5.16bit.qfib\n",
      "compress tracto60kSD_STREAM0.1.tck\n",
      "skipping tracto60kSD_STREAM0.1.8bit.qfib\n",
      "skipping tracto60kSD_STREAM0.1.16bit.qfib\n",
      "compress tracto60kiFOD11.tck\n",
      "skipping tracto60kiFOD11.8bit.qfib\n",
      "skipping tracto60kiFOD11.16bit.qfib\n",
      "compress tracto60kiFOD10.2.tck\n",
      "skipping tracto60kiFOD10.2.8bit.qfib\n",
      "skipping tracto60kiFOD10.2.16bit.qfib\n"
     ]
    }
   ],
   "source": [
    "\n",
    "for f in os.listdir(DATAFOLDER):\n",
    "    \n",
    "    if f.endswith('tck'):\n",
    "        \n",
    "        print('compress',f)\n",
    "        # compress with qfib (8 bits)\n",
    "        qfib_file = f.replace('tck','8bit.qfib')\n",
    "        if os.path.exists(DATAFOLDER+qfib_file):\n",
    "            print('skipping', qfib_file)\n",
    "        else:\n",
    "            qfib_log = qfib_file.replace('.qfib','.log')\n",
    "            cmd = QFIB+' '+f+' '+qfib_file+' -d -c -e > '+qfib_log\n",
    "            os.system('cd '+DATAFOLDER+'; '+cmd)\n",
    "\n",
    "        # restore\n",
    "        restored_file = f.replace('tck', 'restored.8bit.tck')\n",
    "        if os.path.exists(DATAFOLDER+restored_file):\n",
    "            print('skipping', restored_file)\n",
    "        else:\n",
    "            cmd = QFIB+' '+qfib_file+' '+restored_file\n",
    "            os.system('cd '+DATAFOLDER+'; '+cmd)\n",
    "        \n",
    "        # compress with qfib (16 bits)\n",
    "        qfib_file = f.replace('tck','16bit.qfib')\n",
    "        if os.path.exists(DATAFOLDER+qfib_file):\n",
    "            print('skipping', qfib_file)\n",
    "        else:\n",
    "            qfib_log = qfib_file.replace('.qfib','.log')\n",
    "            cmd = QFIB+' '+f+' '+qfib_file+' -b -d -c -e > '+qfib_log\n",
    "            os.system('cd '+DATAFOLDER+'; '+cmd)\n",
    "        \n",
    "        # restore\n",
    "        restored_file = f.replace('tck', 'restored.16bit.tck')\n",
    "        if os.path.exists(DATAFOLDER+restored_file):\n",
    "            print('skipping', restored_file)\n",
    "        else:\n",
    "            cmd = QFIB+' '+qfib_file+' '+restored_file\n",
    "            os.system('cd '+DATAFOLDER+'; '+cmd)\n",
    "        "
   ]
  },
  {
   "cell_type": "code",
   "execution_count": null,
   "metadata": {},
   "outputs": [],
   "source": []
  },
  {
   "cell_type": "code",
   "execution_count": null,
   "metadata": {},
   "outputs": [],
   "source": []
  },
  {
   "cell_type": "code",
   "execution_count": 5,
   "metadata": {},
   "outputs": [
    {
     "name": "stdout",
     "output_type": "stream",
     "text": [
      "compress tracto60kSD_STREAM1.tck\n",
      "compress tracto60kSD_STREAM1.restored.16bit.tck\n",
      "compress tracto60kiFOD10.5.tck\n",
      "compress tracto60kiFOD10.1.tck\n",
      "compress tracto60kSD_STREAM0.2.tck\n",
      "compress tracto60kSD_STREAM1.restored.8bit.tck\n",
      "compress tracto60kSD_STREAM0.5.tck\n",
      "compress tracto60kSD_STREAM0.1.tck\n",
      "compress tracto60kiFOD11.tck\n",
      "compress tracto60kiFOD10.2.tck\n"
     ]
    }
   ],
   "source": [
    "#\n",
    "# TIMINGS ONLY\n",
    "#\n",
    "c_times = []\n",
    "c_times_16 = []\n",
    "d_times = []\n",
    "d_times_16 = []\n",
    "\n",
    "for f in os.listdir(DATAFOLDER):\n",
    "    \n",
    "    if f.endswith('tck'):\n",
    "        \n",
    "        print('compress',f)\n",
    "        # compress with qfib (8 bits)\n",
    "        t0 = time.time()\n",
    "        qfib_file = '/tmp/sth.qfib'\n",
    "        cmd = QFIB+' '+f+' '+qfib_file+' -c'\n",
    "        os.system('cd '+DATAFOLDER+'; '+cmd)\n",
    "        t1 = time.time()-t0\n",
    "        c_times.append(t1)\n",
    "    \n",
    "        # and directly decompress\n",
    "        t0 = time.time()\n",
    "        qfib_file = '/tmp/sth.qfib'\n",
    "        tck_file = '/tmp/sth.tck'\n",
    "        cmd = QFIB+' '+qfib_file+' '+tck_file+''\n",
    "        os.system('cd '+DATAFOLDER+'; '+cmd)\n",
    "        t1 = time.time()-t0\n",
    "        d_times.append(t1)\n",
    "        \n",
    "        # compress with qfib (16 bits)\n",
    "        t0 = time.time()\n",
    "        qfib_file = '/tmp/sth.qfib'\n",
    "        cmd = QFIB+' '+f+' '+qfib_file+' -b -c > '\n",
    "        os.system('cd '+DATAFOLDER+'; '+cmd)\n",
    "        t1 = time.time()-t0\n",
    "        c_times_16.append(t1)\n",
    "        \n",
    "        # and directly decompress\n",
    "        t0 = time.time()\n",
    "        qfib_file = '/tmp/sth.qfib'\n",
    "        tck_file = '/tmp/sth.tck'\n",
    "        cmd = QFIB+' '+qfib_file+' '+tck_file+''\n",
    "        os.system('cd '+DATAFOLDER+'; '+cmd)\n",
    "        t1 = time.time()-t0\n",
    "        d_times_16.append(t1)\n",
    "        "
   ]
  },
  {
   "cell_type": "code",
   "execution_count": 6,
   "metadata": {},
   "outputs": [
    {
     "data": {
      "text/plain": [
       "0.17021708488464354"
      ]
     },
     "execution_count": 6,
     "metadata": {},
     "output_type": "execute_result"
    }
   ],
   "source": [
    "np.mean(d_times)"
   ]
  },
  {
   "cell_type": "code",
   "execution_count": 7,
   "metadata": {},
   "outputs": [
    {
     "ename": "NameError",
     "evalue": "name 'DATAFOLDERAFOLDER' is not defined",
     "output_type": "error",
     "traceback": [
      "\u001b[0;31m---------------------------------------------------------------------------\u001b[0m",
      "\u001b[0;31mNameError\u001b[0m                                 Traceback (most recent call last)",
      "\u001b[0;32m<ipython-input-7-530c904d224a>\u001b[0m in \u001b[0;36m<module>\u001b[0;34m\u001b[0m\n\u001b[1;32m      1\u001b[0m \u001b[0;32mimport\u001b[0m \u001b[0mpickle\u001b[0m\u001b[0;34m\u001b[0m\u001b[0;34m\u001b[0m\u001b[0m\n\u001b[0;32m----> 2\u001b[0;31m \u001b[0;32mwith\u001b[0m \u001b[0mopen\u001b[0m\u001b[0;34m(\u001b[0m\u001b[0mDATAFOLDERAFOLDER\u001b[0m\u001b[0;34m+\u001b[0m\u001b[0;34m'qfib_timings.p'\u001b[0m\u001b[0;34m,\u001b[0m \u001b[0;34m'wb'\u001b[0m\u001b[0;34m)\u001b[0m \u001b[0;32mas\u001b[0m \u001b[0mf\u001b[0m\u001b[0;34m:\u001b[0m\u001b[0;34m\u001b[0m\u001b[0;34m\u001b[0m\u001b[0m\n\u001b[0m\u001b[1;32m      3\u001b[0m     pickle.dump({'c_times':c_times,\n\u001b[1;32m      4\u001b[0m                  \u001b[0;34m'd_times'\u001b[0m\u001b[0;34m:\u001b[0m\u001b[0md_times\u001b[0m\u001b[0;34m,\u001b[0m\u001b[0;34m\u001b[0m\u001b[0;34m\u001b[0m\u001b[0m\n\u001b[1;32m      5\u001b[0m                  \u001b[0;34m'c_times_16'\u001b[0m\u001b[0;34m:\u001b[0m\u001b[0mc_times_16\u001b[0m\u001b[0;34m,\u001b[0m\u001b[0;34m\u001b[0m\u001b[0;34m\u001b[0m\u001b[0m\n",
      "\u001b[0;31mNameError\u001b[0m: name 'DATAFOLDERAFOLDER' is not defined"
     ]
    }
   ],
   "source": [
    "import pickle\n",
    "with open(DATAFOLDERAFOLDER+'qfib_timings.p', 'wb') as f:\n",
    "    pickle.dump({'c_times':c_times,\n",
    "                 'd_times':d_times,\n",
    "                 'c_times_16':c_times_16,\n",
    "                 'd_times_16':d_times_16}, f)"
   ]
  },
  {
   "cell_type": "code",
   "execution_count": null,
   "metadata": {},
   "outputs": [],
   "source": []
  }
 ],
 "metadata": {
  "kernelspec": {
   "display_name": "Python 3",
   "language": "python",
   "name": "python3"
  },
  "language_info": {
   "codemirror_mode": {
    "name": "ipython",
    "version": 3
   },
   "file_extension": ".py",
   "mimetype": "text/x-python",
   "name": "python",
   "nbconvert_exporter": "python",
   "pygments_lexer": "ipython3",
   "version": "3.6.9"
  }
 },
 "nbformat": 4,
 "nbformat_minor": 2
}
