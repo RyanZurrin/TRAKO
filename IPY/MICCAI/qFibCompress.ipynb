{
 "cells": [
  {
   "cell_type": "code",
   "execution_count": 13,
   "metadata": {},
   "outputs": [
    {
     "name": "stdout",
     "output_type": "stream",
     "text": [
      "Populating the interactive namespace from numpy and matplotlib\n"
     ]
    },
    {
     "name": "stderr",
     "output_type": "stream",
     "text": [
      "/home/d/miniconda3/envs/TRAKODEV/lib/python3.6/site-packages/IPython/core/magics/pylab.py:160: UserWarning: pylab import has clobbered these variables: ['f']\n",
      "`%matplotlib` prevents importing * from pylab and numpy\n",
      "  \"\\n`%matplotlib` prevents importing * from pylab and numpy\"\n"
     ]
    }
   ],
   "source": [
    "%pylab inline\n",
    "import os, time"
   ]
  },
  {
   "cell_type": "code",
   "execution_count": 7,
   "metadata": {},
   "outputs": [],
   "source": [
    "DATAFOLDER = '/home/d/Dropbox/TRAKODATA/qfib-data/'"
   ]
  },
  {
   "cell_type": "code",
   "execution_count": 8,
   "metadata": {},
   "outputs": [],
   "source": [
    "QFIB = '/home/d/Projects/qfib/qfib'"
   ]
  },
  {
   "cell_type": "code",
   "execution_count": 14,
   "metadata": {},
   "outputs": [
    {
     "name": "stdout",
     "output_type": "stream",
     "text": [
      "compress tracto60kSD_STREAM1.tck\n",
      "skipping tracto60kSD_STREAM1.16bit.qfib\n",
      "compress tracto60kiFOD10.5.tck\n",
      "skipping tracto60kiFOD10.5.16bit.qfib\n",
      "compress tracto60kiFOD10.1.tck\n",
      "skipping tracto60kiFOD10.1.16bit.qfib\n",
      "compress tracto60kSD_STREAM0.2.tck\n",
      "skipping tracto60kSD_STREAM0.2.16bit.qfib\n",
      "compress tracto60kSD_STREAM0.5.tck\n",
      "skipping tracto60kSD_STREAM0.5.16bit.qfib\n",
      "compress tracto60kSD_STREAM0.1.tck\n",
      "skipping tracto60kSD_STREAM0.1.16bit.qfib\n",
      "compress tracto60kiFOD11.tck\n",
      "skipping tracto60kiFOD11.16bit.qfib\n",
      "compress tracto60kiFOD10.2.tck\n",
      "skipping tracto60kiFOD10.2.16bit.qfib\n"
     ]
    }
   ],
   "source": [
    "\n",
    "for f in os.listdir(DATAFOLDER):\n",
    "    \n",
    "    if f.endswith('tck'):\n",
    "        \n",
    "        print('compress',f)\n",
    "        # compress with qfib (8 bits)\n",
    "        qfib_file = f.replace('tck','8bit.qfib')\n",
    "        if os.path.exists(DATAFOLDER+qfib_file):\n",
    "            print('skipping', qfib_file)\n",
    "            continue\n",
    "        qfib_log = qfib_file.replace('.qfib','.log')\n",
    "        cmd = QFIB+' '+f+' '+qfib_file+' -d -c -e > '+qfib_log\n",
    "        os.system('cd '+DATAFOLDER+'; '+cmd)\n",
    "        \n",
    "        # compress with qfib (16 bits)\n",
    "        qfib_file = f.replace('tck','16bit.qfib')\n",
    "        if os.path.exists(DATAFOLDER+qfib_file):\n",
    "            print('skipping', qfib_file)\n",
    "            continue\n",
    "        qfib_log = qfib_file.replace('.qfib','.log')\n",
    "        cmd = QFIB+' '+f+' '+qfib_file+' -b -d -c -e > '+qfib_log\n",
    "        os.system('cd '+DATAFOLDER+'; '+cmd)\n",
    "        \n",
    "        \n",
    "        "
   ]
  },
  {
   "cell_type": "code",
   "execution_count": 15,
   "metadata": {},
   "outputs": [
    {
     "name": "stdout",
     "output_type": "stream",
     "text": [
      "compress tracto60kSD_STREAM1.tck\n",
      "compress tracto60kiFOD10.5.tck\n",
      "compress tracto60kiFOD10.1.tck\n",
      "compress tracto60kSD_STREAM0.2.tck\n",
      "compress tracto60kSD_STREAM0.5.tck\n",
      "compress tracto60kSD_STREAM0.1.tck\n",
      "compress tracto60kiFOD11.tck\n",
      "compress tracto60kiFOD10.2.tck\n"
     ]
    }
   ],
   "source": [
    "#\n",
    "# TIMINGS ONLY\n",
    "#\n",
    "c_times = []\n",
    "c_times_16 = []\n",
    "d_times = []\n",
    "d_times_16 = []\n",
    "\n",
    "for f in os.listdir(DATAFOLDER):\n",
    "    \n",
    "    if f.endswith('tck'):\n",
    "        \n",
    "        print('compress',f)\n",
    "        # compress with qfib (8 bits)\n",
    "        t0 = time.time()\n",
    "        qfib_file = '/tmp/sth.qfib'\n",
    "        cmd = QFIB+' '+f+' '+qfib_file+' -c'\n",
    "        os.system('cd '+DATAFOLDER+'; '+cmd)\n",
    "        t1 = time.time()-t0\n",
    "        c_times.append(t1)\n",
    "    \n",
    "        # and directly decompress\n",
    "        t0 = time.time()\n",
    "        qfib_file = '/tmp/sth.qfib'\n",
    "        tck_file = '/tmp/sth.tck'\n",
    "        cmd = QFIB+' '+qfib_file+' '+tck_file+''\n",
    "        os.system('cd '+DATAFOLDER+'; '+cmd)\n",
    "        t1 = time.time()-t0\n",
    "        d_times.append(t1)\n",
    "        \n",
    "        # compress with qfib (16 bits)\n",
    "        t0 = time.time()\n",
    "        qfib_file = '/tmp/sth.qfib'\n",
    "        cmd = QFIB+' '+f+' '+qfib_file+' -b -c > '\n",
    "        os.system('cd '+DATAFOLDER+'; '+cmd)\n",
    "        t1 = time.time()-t0\n",
    "        c_times_16.append(t1)\n",
    "        \n",
    "        # and directly decompress\n",
    "        t0 = time.time()\n",
    "        qfib_file = '/tmp/sth.qfib'\n",
    "        tck_file = '/tmp/sth.tck'\n",
    "        cmd = QFIB+' '+qfib_file+' '+tck_file+''\n",
    "        os.system('cd '+DATAFOLDER+'; '+cmd)\n",
    "        t1 = time.time()-t0\n",
    "        d_times_16.append(t1)\n",
    "        "
   ]
  },
  {
   "cell_type": "code",
   "execution_count": 18,
   "metadata": {},
   "outputs": [
    {
     "data": {
      "text/plain": [
       "47.51650986075401"
      ]
     },
     "execution_count": 18,
     "metadata": {},
     "output_type": "execute_result"
    }
   ],
   "source": [
    "np.mean(d_times)"
   ]
  },
  {
   "cell_type": "code",
   "execution_count": 17,
   "metadata": {},
   "outputs": [],
   "source": [
    "import pickle\n",
    "with open(DATAFOLDERAFOLDER+'qfib_timings.p', 'wb') as f:\n",
    "    pickle.dump({'c_times':c_times,\n",
    "                 'd_times':d_times,\n",
    "                 'c_times_16':c_times_16,\n",
    "                 'd_times_16':d_times_16}, f)"
   ]
  },
  {
   "cell_type": "code",
   "execution_count": null,
   "metadata": {},
   "outputs": [],
   "source": []
  }
 ],
 "metadata": {
  "kernelspec": {
   "display_name": "Python 3",
   "language": "python",
   "name": "python3"
  },
  "language_info": {
   "codemirror_mode": {
    "name": "ipython",
    "version": 3
   },
   "file_extension": ".py",
   "mimetype": "text/x-python",
   "name": "python",
   "nbconvert_exporter": "python",
   "pygments_lexer": "ipython3",
   "version": "3.6.9"
  }
 },
 "nbformat": 4,
 "nbformat_minor": 2
}
