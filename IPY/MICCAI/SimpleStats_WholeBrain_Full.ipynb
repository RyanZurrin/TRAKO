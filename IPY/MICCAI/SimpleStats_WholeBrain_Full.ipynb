{
 "cells": [
  {
   "cell_type": "code",
   "execution_count": 1,
   "metadata": {},
   "outputs": [
    {
     "name": "stdout",
     "output_type": "stream",
     "text": [
      "Populating the interactive namespace from numpy and matplotlib\n"
     ]
    }
   ],
   "source": [
    "%pylab inline\n",
    "%load_ext autoreload\n",
    "%autoreload 2"
   ]
  },
  {
   "cell_type": "code",
   "execution_count": 2,
   "metadata": {},
   "outputs": [],
   "source": [
    "import os\n",
    "import sprinter\n",
    "import getpass"
   ]
  },
  {
   "cell_type": "code",
   "execution_count": 3,
   "metadata": {},
   "outputs": [
    {
     "name": "stdout",
     "output_type": "stream",
     "text": [
      "/home/haehn/Dropbox/TRAKODATA/WholeBrain_VTK/RealTractDataIncludingTensorsAndScalars.vtk 187084312\n"
     ]
    }
   ],
   "source": [
    "qfib_dir = '/home/'+getpass.getuser()+'/Dropbox/TRAKODATA/WholeBrain_TCK/'\n",
    "qfib_ext = '.tck'\n",
    "dpy_dir = '/home/'+getpass.getuser()+'/Dropbox/TRAKODATA/WholeBrain_TCK/'\n",
    "dpy_ext = '.tck'\n",
    "tko_dir = '/home/'+getpass.getuser()+'/Dropbox/TRAKODATA/WholeBrain_VTK/'\n",
    "tko_ext = '.vtk'\n",
    "\n",
    "files = []#['CA', 'CC', 'CP']\n",
    "for f in os.listdir(tko_dir):\n",
    "    if f.endswith('vtk'):\n",
    "        files.append(f.split('.')[0])\n",
    "        \n",
    "# files = files[0:2]\n",
    "\n",
    "input_size = 0\n",
    "for f in files:\n",
    "    print(os.path.join(tko_dir, f+tko_ext), os.path.getsize(os.path.join(tko_dir, f+tko_ext)))\n",
    "    input_size += os.path.getsize(os.path.join(tko_dir, f+tko_ext))\n",
    "input_size /= float(len(files))\n",
    "\n",
    "qfib_files = [(qfib_dir, f+qfib_ext) for f in files]\n",
    "qfib_bits = [8, 16]\n",
    "tko_files = [(tko_dir, f+tko_ext) for f in files]\n",
    "tko_bits = [9,10]\n",
    "dpy_files =  [(dpy_dir, f+dpy_ext) for f in files]\n"
   ]
  },
  {
   "cell_type": "code",
   "execution_count": 4,
   "metadata": {},
   "outputs": [
    {
     "data": {
      "text/plain": [
       "['RealTractDataIncludingTensorsAndScalars']"
      ]
     },
     "execution_count": 4,
     "metadata": {},
     "output_type": "execute_result"
    }
   ],
   "source": [
    "files"
   ]
  },
  {
   "cell_type": "code",
   "execution_count": null,
   "metadata": {},
   "outputs": [],
   "source": [
    "dpy_sizes, dpy_errors, dpy_stds, dpy_advstats = sprinter.Sprinter.run_dpy(qfib_files)"
   ]
  },
  {
   "cell_type": "code",
   "execution_count": null,
   "metadata": {},
   "outputs": [],
   "source": [
    "qfib_sizes, qfib_errors, qfib_stds, qfib_advstats = sprinter.Sprinter.run_qfib(qfib_files, qfib_bits)"
   ]
  },
  {
   "cell_type": "code",
   "execution_count": null,
   "metadata": {},
   "outputs": [],
   "source": [
    "runs = {}"
   ]
  },
  {
   "cell_type": "code",
   "execution_count": null,
   "metadata": {},
   "outputs": [],
   "source": []
  },
  {
   "cell_type": "code",
   "execution_count": null,
   "metadata": {},
   "outputs": [],
   "source": [
    "config = {\n",
    "    'POSITION': {\n",
    "        'position':True,\n",
    "        'sequential':True,\n",
    "        'quantization_bits':None,\n",
    "        'compression_level':10,\n",
    "        'quantization_range':-1,\n",
    "        'quantization_origin':None\n",
    "    },\n",
    "    'INDICES': {\n",
    "        'position':False,\n",
    "        'sequential':True,\n",
    "        'quantization_bits':None,\n",
    "        'compression_level':10,\n",
    "        'quantization_range':-1,\n",
    "        'quantization_origin':None\n",
    "    },\n",
    "    'name': 'qbi{bits}'\n",
    "}\n",
    "tko_sizes, tko_errors, tko_stds, tko_advstats = sprinter.Sprinter.run_trako(config, tko_files, tko_bits, binary=False)\n",
    "runs[config['name']] = [tko_sizes, tko_errors, tko_stds, tko_advstats]"
   ]
  },
  {
   "cell_type": "code",
   "execution_count": null,
   "metadata": {},
   "outputs": [],
   "source": [
    "config = {\n",
    "    'POSITION': {\n",
    "        'position':True,\n",
    "        'sequential':True,\n",
    "        'quantization_bits':None,\n",
    "        'compression_level':10,\n",
    "        'quantization_range':-1,\n",
    "        'quantization_origin':None\n",
    "    },\n",
    "    'INDICES': {\n",
    "        'position':False,\n",
    "        'sequential':True,\n",
    "        'quantization_bits':None,\n",
    "        'compression_level':10,\n",
    "        'quantization_range':-1,\n",
    "        'quantization_origin':None\n",
    "    },\n",
    "    'name': 'qbi{bits}_binary'\n",
    "}\n",
    "tko_sizes, tko_errors, tko_stds, tko_advstats = sprinter.Sprinter.run_trako(config, tko_files, tko_bits, binary=True)\n",
    "runs[config['name']] = [tko_sizes, tko_errors, tko_stds, tko_advstats]"
   ]
  },
  {
   "cell_type": "code",
   "execution_count": null,
   "metadata": {},
   "outputs": [],
   "source": []
  },
  {
   "cell_type": "code",
   "execution_count": null,
   "metadata": {},
   "outputs": [],
   "source": [
    "# sprinter.Sprinter.bitsplot(plt, tkoruns=runs, qfibruns=[qfib_sizes, qfib_errors, qfib_stds], ylim=(0,1), filename='/tmp/out.pdf')\n",
    "sprinter.Sprinter.bitsplot(plt, tkoruns=runs, ylim=(-.05,.68), filename='/tmp/WholeBrain_Full.pdf')"
   ]
  },
  {
   "cell_type": "code",
   "execution_count": null,
   "metadata": {},
   "outputs": [],
   "source": [
    "print(input_size/1000000)"
   ]
  },
  {
   "cell_type": "code",
   "execution_count": null,
   "metadata": {},
   "outputs": [],
   "source": [
    "qfib_sizes, qfib_errors, qfib_stds, qfib_advstats = sprinter.Sprinter.run_qfib(qfib_files, qfib_bits)"
   ]
  },
  {
   "cell_type": "code",
   "execution_count": null,
   "metadata": {},
   "outputs": [],
   "source": [
    "sprinter.Sprinter.createtable('qfib-data', input_size, {'qfib': [qfib_sizes, qfib_errors, qfib_stds, qfib_advstats]}, selector=1)"
   ]
  },
  {
   "cell_type": "code",
   "execution_count": null,
   "metadata": {},
   "outputs": [],
   "source": [
    "sprinter.Sprinter.createtable('qfib-data', input_size, {'dpy': [dpy_sizes, dpy_errors, dpy_stds, dpy_advstats]}, selector=0)"
   ]
  },
  {
   "cell_type": "code",
   "execution_count": null,
   "metadata": {},
   "outputs": [],
   "source": [
    "sprinter.Sprinter.createtable('qfib-data', input_size, runs, selector=4)"
   ]
  },
  {
   "cell_type": "code",
   "execution_count": null,
   "metadata": {},
   "outputs": [],
   "source": []
  }
 ],
 "metadata": {
  "kernelspec": {
   "display_name": "Python 3",
   "language": "python",
   "name": "python3"
  },
  "language_info": {
   "codemirror_mode": {
    "name": "ipython",
    "version": 3
   },
   "file_extension": ".py",
   "mimetype": "text/x-python",
   "name": "python",
   "nbconvert_exporter": "python",
   "pygments_lexer": "ipython3",
   "version": "3.6.9"
  }
 },
 "nbformat": 4,
 "nbformat_minor": 2
}
