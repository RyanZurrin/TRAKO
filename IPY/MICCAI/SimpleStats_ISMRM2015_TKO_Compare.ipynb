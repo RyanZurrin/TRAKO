{
 "cells": [
  {
   "cell_type": "code",
   "execution_count": 1,
   "metadata": {},
   "outputs": [
    {
     "name": "stdout",
     "output_type": "stream",
     "text": [
      "Populating the interactive namespace from numpy and matplotlib\n"
     ]
    }
   ],
   "source": [
    "%pylab inline\n",
    "%load_ext autoreload\n",
    "%autoreload 2"
   ]
  },
  {
   "cell_type": "code",
   "execution_count": 2,
   "metadata": {},
   "outputs": [],
   "source": [
    "import os\n",
    "import sprinter"
   ]
  },
  {
   "cell_type": "code",
   "execution_count": 4,
   "metadata": {},
   "outputs": [],
   "source": [
    "qfib_dir = '/home/d/Dropbox/TRAKODATA/ISMRM2015/ISMRM_2015_Tracto_challenge_ground_truth_bundles_TCK_v2/'\n",
    "qfib_ext = '.tck'\n",
    "tko_dir = '/home/d/Dropbox/TRAKODATA/ISMRM2015/ISMRM_2015_Tracto_challenge_ground_truth_bundles_VTK_v2/'\n",
    "tko_ext = '.vtk'\n",
    "\n",
    "files = []#['CA', 'CC', 'CP']\n",
    "for f in os.listdir(tko_dir):\n",
    "    if f.endswith('vtk'):\n",
    "        files.append(f.split('.')[0])\n",
    "        \n",
    "files = files[0:3]\n",
    "\n",
    "qfib_files = [(qfib_dir, f+qfib_ext) for f in files]\n",
    "qfib_bits = [8, 16]\n",
    "tko_files = [(tko_dir, f+tko_ext) for f in files]\n",
    "tko_bits = [6,7,8,9,10,11,12,13,14]\n"
   ]
  },
  {
   "cell_type": "code",
   "execution_count": 5,
   "metadata": {},
   "outputs": [],
   "source": [
    "qfib_sizes, qfib_errors, qfib_stds = sprinter.Sprinter.run_qfib(qfib_files, qfib_bits)"
   ]
  },
  {
   "cell_type": "code",
   "execution_count": 6,
   "metadata": {},
   "outputs": [
    {
     "data": {
      "text/plain": [
       "[2044695.3333333333, 3693824.3333333335]"
      ]
     },
     "execution_count": 6,
     "metadata": {},
     "output_type": "execute_result"
    }
   ],
   "source": [
    "qfib_sizes"
   ]
  },
  {
   "cell_type": "code",
   "execution_count": 7,
   "metadata": {},
   "outputs": [],
   "source": [
    "runs = {}"
   ]
  },
  {
   "cell_type": "code",
   "execution_count": 8,
   "metadata": {},
   "outputs": [],
   "source": [
    "config = {\n",
    "    'name': 'default'\n",
    "}\n",
    "tko_sizes, tko_errors, tko_stds = sprinter.Sprinter.run_trako(config, tko_files, [14])\n",
    "runs[config['name']] = [tko_sizes, tko_errors, tko_stds]"
   ]
  },
  {
   "cell_type": "code",
   "execution_count": null,
   "metadata": {},
   "outputs": [
    {
     "name": "stderr",
     "output_type": "stream",
     "text": [
      "/home/d/miniconda3/envs/TRAKODEV/lib/python3.6/site-packages/vtk-8.1.2-py3.6-linux-x86_64.egg/vtk/util/numpy_support.py:137: FutureWarning:\n",
      "\n",
      "Conversion of the second argument of issubdtype from `complex` to `np.complexfloating` is deprecated. In future, it will be treated as `np.complex128 == np.dtype(complex).type`.\n",
      "\n",
      "/home/d/miniconda3/envs/TRAKODEV/lib/python3.6/site-packages/vtk-8.1.2-py3.6-linux-x86_64.egg/vtk/util/numpy_support.py:137: FutureWarning:\n",
      "\n",
      "Conversion of the second argument of issubdtype from `complex` to `np.complexfloating` is deprecated. In future, it will be treated as `np.complex128 == np.dtype(complex).type`.\n",
      "\n",
      "/home/d/miniconda3/envs/TRAKODEV/lib/python3.6/site-packages/vtk-8.1.2-py3.6-linux-x86_64.egg/vtk/util/numpy_support.py:137: FutureWarning:\n",
      "\n",
      "Conversion of the second argument of issubdtype from `complex` to `np.complexfloating` is deprecated. In future, it will be treated as `np.complex128 == np.dtype(complex).type`.\n",
      "\n",
      "/home/d/miniconda3/envs/TRAKODEV/lib/python3.6/site-packages/vtk-8.1.2-py3.6-linux-x86_64.egg/vtk/util/numpy_support.py:137: FutureWarning:\n",
      "\n",
      "Conversion of the second argument of issubdtype from `complex` to `np.complexfloating` is deprecated. In future, it will be treated as `np.complex128 == np.dtype(complex).type`.\n",
      "\n",
      "/home/d/miniconda3/envs/TRAKODEV/lib/python3.6/site-packages/vtk-8.1.2-py3.6-linux-x86_64.egg/vtk/util/numpy_support.py:137: FutureWarning:\n",
      "\n",
      "Conversion of the second argument of issubdtype from `complex` to `np.complexfloating` is deprecated. In future, it will be treated as `np.complex128 == np.dtype(complex).type`.\n",
      "\n",
      "/home/d/miniconda3/envs/TRAKODEV/lib/python3.6/site-packages/vtk-8.1.2-py3.6-linux-x86_64.egg/vtk/util/numpy_support.py:137: FutureWarning:\n",
      "\n",
      "Conversion of the second argument of issubdtype from `complex` to `np.complexfloating` is deprecated. In future, it will be treated as `np.complex128 == np.dtype(complex).type`.\n",
      "\n",
      "/home/d/miniconda3/envs/TRAKODEV/lib/python3.6/site-packages/vtk-8.1.2-py3.6-linux-x86_64.egg/vtk/util/numpy_support.py:137: FutureWarning:\n",
      "\n",
      "Conversion of the second argument of issubdtype from `complex` to `np.complexfloating` is deprecated. In future, it will be treated as `np.complex128 == np.dtype(complex).type`.\n",
      "\n",
      "/home/d/miniconda3/envs/TRAKODEV/lib/python3.6/site-packages/vtk-8.1.2-py3.6-linux-x86_64.egg/vtk/util/numpy_support.py:137: FutureWarning:\n",
      "\n",
      "Conversion of the second argument of issubdtype from `complex` to `np.complexfloating` is deprecated. In future, it will be treated as `np.complex128 == np.dtype(complex).type`.\n",
      "\n",
      "/home/d/miniconda3/envs/TRAKODEV/lib/python3.6/site-packages/vtk-8.1.2-py3.6-linux-x86_64.egg/vtk/util/numpy_support.py:137: FutureWarning:\n",
      "\n",
      "Conversion of the second argument of issubdtype from `complex` to `np.complexfloating` is deprecated. In future, it will be treated as `np.complex128 == np.dtype(complex).type`.\n",
      "\n",
      "/home/d/miniconda3/envs/TRAKODEV/lib/python3.6/site-packages/vtk-8.1.2-py3.6-linux-x86_64.egg/vtk/util/numpy_support.py:137: FutureWarning:\n",
      "\n",
      "Conversion of the second argument of issubdtype from `complex` to `np.complexfloating` is deprecated. In future, it will be treated as `np.complex128 == np.dtype(complex).type`.\n",
      "\n",
      "/home/d/miniconda3/envs/TRAKODEV/lib/python3.6/site-packages/vtk-8.1.2-py3.6-linux-x86_64.egg/vtk/util/numpy_support.py:137: FutureWarning:\n",
      "\n",
      "Conversion of the second argument of issubdtype from `complex` to `np.complexfloating` is deprecated. In future, it will be treated as `np.complex128 == np.dtype(complex).type`.\n",
      "\n",
      "/home/d/miniconda3/envs/TRAKODEV/lib/python3.6/site-packages/vtk-8.1.2-py3.6-linux-x86_64.egg/vtk/util/numpy_support.py:137: FutureWarning:\n",
      "\n",
      "Conversion of the second argument of issubdtype from `complex` to `np.complexfloating` is deprecated. In future, it will be treated as `np.complex128 == np.dtype(complex).type`.\n",
      "\n",
      "/home/d/miniconda3/envs/TRAKODEV/lib/python3.6/site-packages/vtk-8.1.2-py3.6-linux-x86_64.egg/vtk/util/numpy_support.py:137: FutureWarning:\n",
      "\n",
      "Conversion of the second argument of issubdtype from `complex` to `np.complexfloating` is deprecated. In future, it will be treated as `np.complex128 == np.dtype(complex).type`.\n",
      "\n",
      "/home/d/miniconda3/envs/TRAKODEV/lib/python3.6/site-packages/vtk-8.1.2-py3.6-linux-x86_64.egg/vtk/util/numpy_support.py:137: FutureWarning:\n",
      "\n",
      "Conversion of the second argument of issubdtype from `complex` to `np.complexfloating` is deprecated. In future, it will be treated as `np.complex128 == np.dtype(complex).type`.\n",
      "\n"
     ]
    }
   ],
   "source": [
    "config = {\n",
    "    'POSITION': {\n",
    "        'position':True,\n",
    "        'sequential':True,\n",
    "        'quantization_bits':None,\n",
    "        'compression_level':10,\n",
    "        'quantization_range':-1,\n",
    "        'quantization_origin':None\n",
    "    },\n",
    "    'name': 'qbponly{bits}'\n",
    "}\n",
    "tko_sizes, tko_errors, tko_stds = sprinter.Sprinter.run_trako(config, tko_files, tko_bits)\n",
    "runs[config['name']] = [tko_sizes, tko_errors, tko_stds]"
   ]
  },
  {
   "cell_type": "code",
   "execution_count": null,
   "metadata": {},
   "outputs": [],
   "source": []
  },
  {
   "cell_type": "code",
   "execution_count": null,
   "metadata": {},
   "outputs": [],
   "source": [
    "config = {\n",
    "    'POSITION': {\n",
    "        'position':True,\n",
    "        'sequential':True,\n",
    "        'quantization_bits':None,\n",
    "        'compression_level':10,\n",
    "        'quantization_range':-1,\n",
    "        'quantization_origin':None\n",
    "    },\n",
    "    'INDICES': {\n",
    "        'position':False,\n",
    "        'sequential':True,\n",
    "        'quantization_bits':None,\n",
    "        'compression_level':10,\n",
    "        'quantization_range':-1,\n",
    "        'quantization_origin':None\n",
    "    },\n",
    "    'name': 'qbi{bits}'\n",
    "}\n",
    "tko_sizes, tko_errors, tko_stds = sprinter.Sprinter.run_trako(config, tko_files, tko_bits)\n",
    "runs[config['name']] = [tko_sizes, tko_errors, tko_stds]"
   ]
  },
  {
   "cell_type": "code",
   "execution_count": null,
   "metadata": {},
   "outputs": [],
   "source": [
    "config = {\n",
    "    'POSITION': {\n",
    "        'position':True,\n",
    "        'sequential':True,\n",
    "        'quantization_bits':None,\n",
    "        'compression_level':0,\n",
    "        'quantization_range':-1,\n",
    "        'quantization_origin':None\n",
    "    },\n",
    "    'INDICES': {\n",
    "        'position':False,\n",
    "        'sequential':True,\n",
    "        'quantization_bits':None,\n",
    "        'compression_level':0,\n",
    "        'quantization_range':-1,\n",
    "        'quantization_origin':None\n",
    "    },\n",
    "    'name': 'qbi_CL0_{bits}'\n",
    "}\n",
    "tko_sizes, tko_errors, tko_stds = sprinter.Sprinter.run_trako(config, tko_files, tko_bits)\n",
    "runs[config['name']] = [tko_sizes, tko_errors, tko_stds]"
   ]
  },
  {
   "cell_type": "code",
   "execution_count": null,
   "metadata": {},
   "outputs": [],
   "source": []
  },
  {
   "cell_type": "code",
   "execution_count": null,
   "metadata": {},
   "outputs": [],
   "source": []
  },
  {
   "cell_type": "code",
   "execution_count": null,
   "metadata": {},
   "outputs": [],
   "source": []
  },
  {
   "cell_type": "code",
   "execution_count": null,
   "metadata": {},
   "outputs": [],
   "source": [
    "runs"
   ]
  },
  {
   "cell_type": "code",
   "execution_count": null,
   "metadata": {},
   "outputs": [],
   "source": [
    "figure(num=None, figsize=(8, 6), dpi=240, facecolor='w', edgecolor='k')\n",
    "\n",
    "\n",
    "\n",
    "for r in runs.keys():\n",
    "    \n",
    "#     if r != 'default':\n",
    "#         continue\n",
    "    \n",
    "    tko_sizes = runs[r][0]\n",
    "    tko_errors = runs[r][1]\n",
    "    tko_stds = runs[r][2]\n",
    "    \n",
    "    if 0 in tko_sizes:\n",
    "        tko_sizes.remove(0)\n",
    "    if 0 in tko_errors:\n",
    "        tko_errors.remove(0)\n",
    "    if 0 in tko_stds:\n",
    "        tko_stds.remove(0)\n",
    "            \n",
    "    \n",
    "    tko_sizes_ = np.array(tko_sizes) / 1000000\n",
    "#     plt.scatter(tko_sizes_, tko_errors, s = np.array(tko_stds)*1000, alpha=1, label='TRAKO ('+r+')')\n",
    "    plt.scatter(tko_sizes_, tko_errors, s = 10, alpha=1, label='TRAKO ('+r+')')\n",
    "    plt.errorbar(tko_sizes_, tko_errors, tko_stds, fmt='|', alpha=.5)\n",
    "\n",
    "# qfib_sizes_ = np.array(qfib_sizes) / 1000000\n",
    "# plt.scatter(qfib_sizes_, qfib_errors, s = np.array(qfib_stds)*1000, color='red', alpha=1, label='QFib')\n",
    "# plt.errorbar(qfib_sizes_, qfib_errors, qfib_stds, fmt='|', color='red', alpha=.5)\n",
    "# plt.ticklabel_format(style='plain', axis='both', scilimits=(0, 0))\n",
    "import matplotlib.ticker as mticker    \n",
    "plt.gca().xaxis.set_major_formatter(mticker.FormatStrFormatter('%d MB'))\n",
    "\n",
    "plt.ylim(0,0.3)\n",
    "\n",
    "plt.xlabel('Data Size')\n",
    "plt.ylabel('Error')\n",
    "plt.legend()\n",
    "plt.show()"
   ]
  },
  {
   "cell_type": "code",
   "execution_count": null,
   "metadata": {},
   "outputs": [],
   "source": []
  }
 ],
 "metadata": {
  "kernelspec": {
   "display_name": "Python 3",
   "language": "python",
   "name": "python3"
  },
  "language_info": {
   "codemirror_mode": {
    "name": "ipython",
    "version": 3
   },
   "file_extension": ".py",
   "mimetype": "text/x-python",
   "name": "python",
   "nbconvert_exporter": "python",
   "pygments_lexer": "ipython3",
   "version": "3.6.9"
  }
 },
 "nbformat": 4,
 "nbformat_minor": 2
}
