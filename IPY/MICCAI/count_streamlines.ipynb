{
 "cells": [
  {
   "cell_type": "code",
   "execution_count": 1,
   "metadata": {},
   "outputs": [
    {
     "name": "stdout",
     "output_type": "stream",
     "text": [
      "Populating the interactive namespace from numpy and matplotlib\n"
     ]
    }
   ],
   "source": [
    "%pylab inline\n",
    "import os, time"
   ]
  },
  {
   "cell_type": "code",
   "execution_count": 2,
   "metadata": {},
   "outputs": [],
   "source": [
    "import nibabel as nib"
   ]
  },
  {
   "cell_type": "code",
   "execution_count": 3,
   "metadata": {},
   "outputs": [],
   "source": [
    "import trako as TKO"
   ]
  },
  {
   "cell_type": "code",
   "execution_count": 9,
   "metadata": {},
   "outputs": [],
   "source": [
    "DATAFOLDER = '/home/d/Dropbox/TRAKODATA/ISMRM2015/ISMRM_2015_Tracto_challenge_ground_truth_bundles_TCK_v2/'\n",
    "total_fibers = 0\n",
    "for f in os.listdir(DATAFOLDER):\n",
    "    \n",
    "    if f.endswith('tck'):\n",
    "        \n",
    "        input = os.path.join(DATAFOLDER,f)\n",
    "    \n",
    "        loaded_tck = nib.streamlines.load(input, lazy_load=False)\n",
    "        streamlines = loaded_tck.streamlines\n",
    "        total_fibers += len(streamlines)\n",
    "print(total_fibers)"
   ]
  },
  {
   "cell_type": "code",
   "execution_count": 13,
   "metadata": {},
   "outputs": [
    {
     "name": "stdout",
     "output_type": "stream",
     "text": [
      "7410\n"
     ]
    }
   ],
   "source": [
    "DATAFOLDER = '/home/d/Dropbox/TRAKODATA/AnatomicalTracts/'\n",
    "total_fibers = 0\n",
    "for f in os.listdir(DATAFOLDER):\n",
    "    \n",
    "    if f.endswith('vtp'):\n",
    "        \n",
    "        input = os.path.join(DATAFOLDER,f)\n",
    "    \n",
    "        stats = TKO.Util.loadvtp(input)\n",
    "        total_fibers += stats['number_of_streamlines']\n",
    "print(total_fibers)"
   ]
  },
  {
   "cell_type": "code",
   "execution_count": 16,
   "metadata": {},
   "outputs": [
    {
     "name": "stdout",
     "output_type": "stream",
     "text": [
      "153537\n"
     ]
    }
   ],
   "source": [
    "DATAFOLDER = '/home/d/Dropbox/TRAKODATA/WholeBrain/'\n",
    "total_fibers = 0\n",
    "for f in os.listdir(DATAFOLDER):\n",
    "    \n",
    "    if f.endswith('vtk'):\n",
    "        \n",
    "        input = os.path.join(DATAFOLDER,f)\n",
    "    \n",
    "        stats = TKO.Util.loadvtp(input)\n",
    "        total_fibers += stats['number_of_streamlines']\n",
    "print(total_fibers)"
   ]
  },
  {
   "cell_type": "code",
   "execution_count": 4,
   "metadata": {},
   "outputs": [
    {
     "name": "stdout",
     "output_type": "stream",
     "text": [
      "199240\n"
     ]
    }
   ],
   "source": [
    "DATAFOLDER = '/home/d/Dropbox/TRAKODATA/ADHD_Single_VTK/'\n",
    "total_fibers = 0\n",
    "for f in os.listdir(DATAFOLDER):\n",
    "    \n",
    "    if f.endswith('vtk'):\n",
    "        \n",
    "        input = os.path.join(DATAFOLDER,f)\n",
    "    \n",
    "        stats = TKO.Util.loadvtp(input)\n",
    "        total_fibers += stats['number_of_streamlines']\n",
    "print(total_fibers)"
   ]
  },
  {
   "cell_type": "code",
   "execution_count": 9,
   "metadata": {},
   "outputs": [
    {
     "name": "stdout",
     "output_type": "stream",
     "text": [
      "19898754\n",
      "2971986861\n"
     ]
    }
   ],
   "source": [
    "DATAFOLDER = '/home/fan/ADHD/cluster_atlas_01_00002_remove_outliers/'\n",
    "total_fibers = 0\n",
    "total_vertices = 0\n",
    "for root, dirs, files in os.walk(DATAFOLDER):\n",
    "    for name in files:\n",
    "        \n",
    "        if name.endswith('.vtp'):\n",
    "            \n",
    "            input = os.path.join(root, name)\n",
    "            \n",
    "            stats = TKO.Util.loadvtp(input)\n",
    "            total_fibers += stats['number_of_streamlines']\n",
    "            total_vertices += len(stats['points'])\n",
    "print(total_fibers)\n",
    "print(total_vertices)"
   ]
  },
  {
   "cell_type": "code",
   "execution_count": null,
   "metadata": {},
   "outputs": [],
   "source": []
  }
 ],
 "metadata": {
  "kernelspec": {
   "display_name": "Python 3",
   "language": "python",
   "name": "python3"
  },
  "language_info": {
   "codemirror_mode": {
    "name": "ipython",
    "version": 3
   },
   "file_extension": ".py",
   "mimetype": "text/x-python",
   "name": "python",
   "nbconvert_exporter": "python",
   "pygments_lexer": "ipython3",
   "version": "3.6.9"
  }
 },
 "nbformat": 4,
 "nbformat_minor": 2
}
