{
 "cells": [
  {
   "cell_type": "code",
   "execution_count": 1,
   "metadata": {},
   "outputs": [
    {
     "name": "stdout",
     "output_type": "stream",
     "text": [
      "Populating the interactive namespace from numpy and matplotlib\n"
     ]
    }
   ],
   "source": [
    "%pylab inline\n",
    "import os, time"
   ]
  },
  {
   "cell_type": "code",
   "execution_count": 6,
   "metadata": {},
   "outputs": [],
   "source": [
    "import nibabel as nib"
   ]
  },
  {
   "cell_type": "code",
   "execution_count": 11,
   "metadata": {},
   "outputs": [],
   "source": [
    "import trako as TKO"
   ]
  },
  {
   "cell_type": "code",
   "execution_count": 9,
   "metadata": {},
   "outputs": [],
   "source": [
    "DATAFOLDER = '/home/d/Dropbox/TRAKODATA/ISMRM2015/ISMRM_2015_Tracto_challenge_ground_truth_bundles_TCK_v2/'\n",
    "total_fibers = 0\n",
    "for f in os.listdir(DATAFOLDER):\n",
    "    \n",
    "    if f.endswith('tck'):\n",
    "        \n",
    "        input = os.path.join(DATAFOLDER,f)\n",
    "    \n",
    "        loaded_tck = nib.streamlines.load(input, lazy_load=False)\n",
    "        streamlines = loaded_tck.streamlines\n",
    "        total_fibers += len(streamlines)\n",
    "print(total_fibers)"
   ]
  },
  {
   "cell_type": "code",
   "execution_count": 13,
   "metadata": {},
   "outputs": [
    {
     "name": "stdout",
     "output_type": "stream",
     "text": [
      "7410\n"
     ]
    }
   ],
   "source": [
    "DATAFOLDER = '/home/d/Dropbox/TRAKODATA/AnatomicalTracts/'\n",
    "total_fibers = 0\n",
    "for f in os.listdir(DATAFOLDER):\n",
    "    \n",
    "    if f.endswith('vtp'):\n",
    "        \n",
    "        input = os.path.join(DATAFOLDER,f)\n",
    "    \n",
    "        stats = TKO.Util.loadvtp(input)\n",
    "        total_fibers += stats['number_of_streamlines']\n",
    "print(total_fibers)"
   ]
  },
  {
   "cell_type": "code",
   "execution_count": 16,
   "metadata": {},
   "outputs": [
    {
     "name": "stdout",
     "output_type": "stream",
     "text": [
      "153537\n"
     ]
    }
   ],
   "source": [
    "DATAFOLDER = '/home/d/Dropbox/TRAKODATA/WholeBrain/'\n",
    "total_fibers = 0\n",
    "for f in os.listdir(DATAFOLDER):\n",
    "    \n",
    "    if f.endswith('vtk'):\n",
    "        \n",
    "        input = os.path.join(DATAFOLDER,f)\n",
    "    \n",
    "        stats = TKO.Util.loadvtp(input)\n",
    "        total_fibers += stats['number_of_streamlines']\n",
    "print(total_fibers)"
   ]
  },
  {
   "cell_type": "code",
   "execution_count": null,
   "metadata": {},
   "outputs": [],
   "source": []
  }
 ],
 "metadata": {
  "kernelspec": {
   "display_name": "Python 3",
   "language": "python",
   "name": "python3"
  },
  "language_info": {
   "codemirror_mode": {
    "name": "ipython",
    "version": 3
   },
   "file_extension": ".py",
   "mimetype": "text/x-python",
   "name": "python",
   "nbconvert_exporter": "python",
   "pygments_lexer": "ipython3",
   "version": "3.6.9"
  }
 },
 "nbformat": 4,
 "nbformat_minor": 2
}
