{
 "cells": [
  {
   "cell_type": "code",
   "execution_count": 2,
   "metadata": {},
   "outputs": [
    {
     "name": "stdout",
     "output_type": "stream",
     "text": [
      "Populating the interactive namespace from numpy and matplotlib\n"
     ]
    }
   ],
   "source": [
    "%pylab inline\n",
    "import os, time"
   ]
  },
  {
   "cell_type": "code",
   "execution_count": 3,
   "metadata": {},
   "outputs": [],
   "source": [
    "import trako as TKO"
   ]
  },
  {
   "cell_type": "code",
   "execution_count": 15,
   "metadata": {},
   "outputs": [
    {
     "name": "stdout",
     "output_type": "stream",
     "text": [
      "EstimatedUncertainty (779,)\n",
      "tensor2 (779, 9)\n",
      "HemisphereLocataion (779,)\n",
      "cluster_idx (779,)\n",
      "tensor1 (779, 9)\n",
      "EmbeddingCoordinate (23, 10)\n",
      "ClusterNumber (23,)\n",
      "EmbeddingColor (23, 3)\n",
      "TotalFiberSimilarity (23,)\n",
      "MeasuredFiberSimilarity (23,)\n"
     ]
    }
   ],
   "source": [
    "DATAFOLDER = '/home/d/Dropbox/TRAKODATA/AnatomicalTracts/'\n",
    "for f in os.listdir(DATAFOLDER):\n",
    "    \n",
    "    if f.endswith('vtp'):\n",
    "        \n",
    "        input = os.path.join(DATAFOLDER,f)\n",
    "    \n",
    "        stats = TKO.Util.loadvtp(input)\n",
    "#         total_fibers += stats['number_of_streamlines']\n",
    "#         print(stats['scalar_names'])\n",
    "        if len(stats['scalars']) > 0:\n",
    "            for i,s in enumerate(stats['scalars']):\n",
    "                print(stats['scalar_names'][i], s.shape)\n",
    "            \n",
    "        if len(stats['properties']) > 0:\n",
    "            for i,s in enumerate(stats['properties']):\n",
    "                print(stats['property_names'][i], s.shape)\n",
    "            \n",
    "            \n",
    "        break"
   ]
  },
  {
   "cell_type": "code",
   "execution_count": 17,
   "metadata": {},
   "outputs": [
    {
     "name": "stdout",
     "output_type": "stream",
     "text": [
      "FreeWater (5650084,)\n",
      "tensor2 (5650084, 9)\n",
      "tensor1 (5650084, 9)\n",
      "EstimatedUncertainty (5650084,)\n"
     ]
    }
   ],
   "source": [
    "DATAFOLDER = '/home/d/Dropbox/TRAKODATA/WholeBrain//'\n",
    "for f in os.listdir(DATAFOLDER):\n",
    "    \n",
    "    if f.endswith('vtk'):\n",
    "        \n",
    "        input = os.path.join(DATAFOLDER,f)\n",
    "    \n",
    "        stats = TKO.Util.loadvtp(input)\n",
    "#         total_fibers += stats['number_of_streamlines']\n",
    "#         print(stats['scalar_names'])\n",
    "        if len(stats['scalars']) > 0:\n",
    "            for i,s in enumerate(stats['scalars']):\n",
    "                print(stats['scalar_names'][i], s.shape)\n",
    "            \n",
    "        if len(stats['properties']) > 0:\n",
    "            for i,s in enumerate(stats['properties']):\n",
    "                print(stats['property_names'][i], s.shape)\n",
    "            \n",
    "            \n",
    "        break"
   ]
  },
  {
   "cell_type": "code",
   "execution_count": 22,
   "metadata": {},
   "outputs": [
    {
     "name": "stdout",
     "output_type": "stream",
     "text": [
      "(22585, 3)\n",
      "NormalizedSignalEstimationError (22585,)\n",
      "EstimatedUncertainty (22585,)\n",
      "RTOP1 (22585,)\n",
      "RTOP2 (22585,)\n",
      "RTAP1 (22585,)\n",
      "RTAP2 (22585,)\n",
      "RTPP1 (22585,)\n",
      "RTPP2 (22585,)\n",
      "SignalMean (22585,)\n",
      "\n",
      "EmbeddingCoordinate (190, 10)\n",
      "ClusterNumber (190,)\n",
      "EmbeddingColor (190, 3)\n",
      "TotalFiberSimilarity (190,)\n",
      "MeasuredFiberSimilarity (190,)\n"
     ]
    }
   ],
   "source": [
    "DATAFOLDER = '/home/d/Dropbox/TRAKODATA/ADHD_STFC_diff_for_Daniel/101/tracts_left_hemisphere/'\n",
    "for f in os.listdir(DATAFOLDER):\n",
    "    \n",
    "    if f.endswith('vtp'):\n",
    "        \n",
    "        input = os.path.join(DATAFOLDER,f)\n",
    "    \n",
    "        stats = TKO.Util.loadvtp(input)\n",
    "#         total_fibers += stats['number_of_streamlines']\n",
    "#         print(stats['scalar_names'])\n",
    "        print(stats['points'].shape)\n",
    "        if len(stats['scalars']) > 0:\n",
    "            for i,s in enumerate(stats['scalars']):\n",
    "                print(stats['scalar_names'][i], s.shape)\n",
    "        print()\n",
    "        if len(stats['properties']) > 0:\n",
    "            for i,s in enumerate(stats['properties']):\n",
    "                print(stats['property_names'][i], s.shape)\n",
    "            \n",
    "            \n",
    "        break"
   ]
  },
  {
   "cell_type": "code",
   "execution_count": null,
   "metadata": {},
   "outputs": [],
   "source": []
  }
 ],
 "metadata": {
  "kernelspec": {
   "display_name": "Python 3",
   "language": "python",
   "name": "python3"
  },
  "language_info": {
   "codemirror_mode": {
    "name": "ipython",
    "version": 3
   },
   "file_extension": ".py",
   "mimetype": "text/x-python",
   "name": "python",
   "nbconvert_exporter": "python",
   "pygments_lexer": "ipython3",
   "version": "3.6.9"
  }
 },
 "nbformat": 4,
 "nbformat_minor": 2
}
