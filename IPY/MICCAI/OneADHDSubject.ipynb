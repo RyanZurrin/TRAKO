{
 "cells": [
  {
   "cell_type": "code",
   "execution_count": 1,
   "metadata": {},
   "outputs": [
    {
     "name": "stdout",
     "output_type": "stream",
     "text": [
      "Populating the interactive namespace from numpy and matplotlib\n"
     ]
    }
   ],
   "source": [
    "%pylab inline\n",
    "%load_ext autoreload\n",
    "%autoreload 2\n",
    "import os\n",
    "import pickle"
   ]
  },
  {
   "cell_type": "code",
   "execution_count": 2,
   "metadata": {},
   "outputs": [],
   "source": [
    "import trakomagic as M"
   ]
  },
  {
   "cell_type": "code",
   "execution_count": 3,
   "metadata": {},
   "outputs": [],
   "source": [
    "SUBJECT = '103_reg_reg_outlier_removed/'\n",
    "BLACKLIST = 'tracts_commissural'\n",
    "DATAFOLDER = '/home/fan/ADHD/cluster_atlas_01_00002_remove_outliers/'\n",
    "# DATAFOLDER = '/home/haehn/Dropbox/TKOTEST/'\n",
    "DATAFOLDER_TKO = DATAFOLDER[:-1]+'_TKO/'\n",
    "DATAFOLDER_RESTORED = DATAFOLDER[:-1]+'_RESTORED/'\n",
    "STATSFOLDER = DATAFOLDER[:-1]+'_STATS/'\n",
    "DATAFOLDER += SUBJECT\n",
    "DATAFOLDER_TKO += SUBJECT\n",
    "DATAFOLDER_RESTORED += SUBJECT\n",
    "STATSFILE = STATSFOLDER+SUBJECT[:-1]+'.p'"
   ]
  },
  {
   "cell_type": "code",
   "execution_count": null,
   "metadata": {
    "scrolled": true
   },
   "outputs": [
    {
     "name": "stdout",
     "output_type": "stream",
     "text": [
      "/home/fan/ADHD/cluster_atlas_01_00002_remove_outliers/103_reg_reg_outlier_removed/tracts_commissural/cluster_00341.vtp done\n",
      "/home/fan/ADHD/cluster_atlas_01_00002_remove_outliers/103_reg_reg_outlier_removed/tracts_commissural/cluster_00729.vtp done\n",
      "/home/fan/ADHD/cluster_atlas_01_00002_remove_outliers/103_reg_reg_outlier_removed/tracts_commissural/cluster_00378.vtp done\n",
      "/home/fan/ADHD/cluster_atlas_01_00002_remove_outliers/103_reg_reg_outlier_removed/tracts_commissural/cluster_00060.vtp done\n",
      "/home/fan/ADHD/cluster_atlas_01_00002_remove_outliers/103_reg_reg_outlier_removed/tracts_commissural/cluster_00769.vtp done\n",
      "/home/fan/ADHD/cluster_atlas_01_00002_remove_outliers/103_reg_reg_outlier_removed/tracts_commissural/cluster_00470.vtp done\n"
     ]
    },
    {
     "name": "stderr",
     "output_type": "stream",
     "text": [
      "/home/haehn/miniconda3/envs/TRAKODEV/lib/python3.6/site-packages/vtk-8.1.2-py3.6-linux-x86_64.egg/vtk/util/numpy_support.py:137: FutureWarning: Conversion of the second argument of issubdtype from `complex` to `np.complexfloating` is deprecated. In future, it will be treated as `np.complex128 == np.dtype(complex).type`.\n",
      "  assert not numpy.issubdtype(z.dtype, complex), \\\n"
     ]
    },
    {
     "name": "stdout",
     "output_type": "stream",
     "text": [
      "/home/fan/ADHD/cluster_atlas_01_00002_remove_outliers/103_reg_reg_outlier_removed/tracts_commissural/cluster_00013.vtp done\n"
     ]
    }
   ],
   "source": [
    "originalsize = []\n",
    "compressedsize = []\n",
    "number_of_streamlines = []\n",
    "c_time = []\n",
    "d_time = []\n",
    "\n",
    "t0 = time.time()\n",
    "for root, dirs, files in os.walk(DATAFOLDER):\n",
    "    for name in files:\n",
    "        \n",
    "        if name.endswith('.vtp'):\n",
    "            input = os.path.join(root, name)\n",
    "#             if BLACKLIST in input:\n",
    "#                 continue\n",
    "#             print(input)\n",
    "            compressed = input.replace(DATAFOLDER, DATAFOLDER_TKO).replace('.vtp','.tko')\n",
    "            restored = input.replace(DATAFOLDER, DATAFOLDER_RESTORED)\n",
    "            \n",
    "            if not os.path.exists(os.path.dirname(compressed)):\n",
    "                os.makedirs(os.path.dirname(compressed))\n",
    "            if not os.path.exists(os.path.dirname(restored)):\n",
    "                os.makedirs(os.path.dirname(restored))\n",
    "\n",
    "#             try:\n",
    "            stats = M.trakomagic(input, compressed, restored, config=None)\n",
    "            originalsize.append(stats['originalsize'])\n",
    "            compressedsize.append(stats['compressedsize'])\n",
    "            number_of_streamlines.append(stats['number_of_streamlines'])\n",
    "            c_time.append(stats['c_time'])\n",
    "            d_time.append(stats['d_time'])\n",
    "#             except:\n",
    "#                 print('skipping', input)\n",
    "#                 continue\n",
    "            \n",
    "            print(input,'done')\n",
    "        \n",
    "print('All set after',time.time()-t0,'seconds.')\n",
    "\n",
    "if not os.path.exists(STATSFOLDER):\n",
    "    os.makedirs(STATSFOLDER)\n",
    "with open(STATSFILE, 'wb') as f:\n",
    "    pickle.dump({'originalsize':originalsize,\n",
    "                 'compressedsize':compressedsize,\n",
    "                 'number_of_streamlines':number_of_streamlines,\n",
    "                 'c_time':c_time,\n",
    "                 'd_time':d_time}, f)"
   ]
  },
  {
   "cell_type": "code",
   "execution_count": null,
   "metadata": {},
   "outputs": [],
   "source": [
    "np.sum(originalsize)"
   ]
  },
  {
   "cell_type": "code",
   "execution_count": null,
   "metadata": {},
   "outputs": [],
   "source": [
    "np.sum(compressedsize)"
   ]
  },
  {
   "cell_type": "code",
   "execution_count": null,
   "metadata": {},
   "outputs": [],
   "source": [
    "np.mean(c_time)"
   ]
  },
  {
   "cell_type": "code",
   "execution_count": null,
   "metadata": {},
   "outputs": [],
   "source": [
    "np.mean(d_time)"
   ]
  },
  {
   "cell_type": "code",
   "execution_count": null,
   "metadata": {},
   "outputs": [],
   "source": [
    "np.mean(number_of_streamlines)"
   ]
  },
  {
   "cell_type": "code",
   "execution_count": null,
   "metadata": {},
   "outputs": [],
   "source": [
    "np.sum(number_of_streamlines)"
   ]
  }
 ],
 "metadata": {
  "kernelspec": {
   "display_name": "Python 3",
   "language": "python",
   "name": "python3"
  },
  "language_info": {
   "codemirror_mode": {
    "name": "ipython",
    "version": 3
   },
   "file_extension": ".py",
   "mimetype": "text/x-python",
   "name": "python",
   "nbconvert_exporter": "python",
   "pygments_lexer": "ipython3",
   "version": "3.6.9"
  }
 },
 "nbformat": 4,
 "nbformat_minor": 2
}
