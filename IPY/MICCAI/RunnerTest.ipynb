{
 "cells": [
  {
   "cell_type": "code",
   "execution_count": 1,
   "metadata": {},
   "outputs": [
    {
     "name": "stdout",
     "output_type": "stream",
     "text": [
      "Populating the interactive namespace from numpy and matplotlib\n"
     ]
    }
   ],
   "source": [
    "%pylab inline\n",
    "%load_ext autoreload\n",
    "%autoreload 2"
   ]
  },
  {
   "cell_type": "code",
   "execution_count": 2,
   "metadata": {},
   "outputs": [],
   "source": [
    "import runner"
   ]
  },
  {
   "cell_type": "code",
   "execution_count": 3,
   "metadata": {},
   "outputs": [
    {
     "name": "stdout",
     "output_type": "stream",
     "text": [
      "compression done.\n",
      "restoring done.\n",
      "Times 0.7353744506835938 0.1644878387451172\n",
      "Size Stats (529771, 54065, 89.7946471211146, 9.798779247202441)\n",
      "Error 0.0 3.4224513 0.19119114 0.09530261\n",
      "Endpoint Error 0.0 3.4224513 0.16015305 0.16015305\n"
     ]
    },
    {
     "data": {
      "text/plain": [
       "[0.7353744506835938,\n",
       " 0.1644878387451172,\n",
       " (529771, 54065, 89.7946471211146, 9.798779247202441),\n",
       " (0.0, 3.4224513, 0.19119114, 0.09530261),\n",
       " (0.0, 3.4224513, 0.16015305, 0.16015305)]"
      ]
     },
     "execution_count": 3,
     "metadata": {},
     "output_type": "execute_result"
    }
   ],
   "source": [
    "runner.Runner.qfib('/home/d/Dropbox/TRAKODATA/ISMRM2015/ISMRM_2015_Tracto_challenge_ground_truth_bundles_TCK_v2/', 'CA.tck', force=True)"
   ]
  },
  {
   "cell_type": "code",
   "execution_count": 4,
   "metadata": {},
   "outputs": [
    {
     "name": "stdout",
     "output_type": "stream",
     "text": [
      "Times 0.7353744506835938 0.1644878387451172\n",
      "Size Stats (529771, 54065, 89.7946471211146, 9.798779247202441)\n",
      "Error 0.0 3.4224513 0.19119114 0.09530261\n",
      "Endpoint Error 0.0 3.4224513 0.16015305 0.16015305\n"
     ]
    },
    {
     "data": {
      "text/plain": [
       "[0.7353744506835938,\n",
       " 0.1644878387451172,\n",
       " (529771, 54065, 89.7946471211146, 9.798779247202441),\n",
       " (0.0, 3.4224513, 0.19119114, 0.09530261),\n",
       " (0.0, 3.4224513, 0.16015305, 0.16015305)]"
      ]
     },
     "execution_count": 4,
     "metadata": {},
     "output_type": "execute_result"
    }
   ],
   "source": [
    "runner.Runner.qfib('/home/d/Dropbox/TRAKODATA/ISMRM2015/ISMRM_2015_Tracto_challenge_ground_truth_bundles_TCK_v2/', 'CA.tck')"
   ]
  },
  {
   "cell_type": "code",
   "execution_count": 5,
   "metadata": {},
   "outputs": [
    {
     "name": "stdout",
     "output_type": "stream",
     "text": [
      "compression done.\n",
      "restoring done.\n",
      "Times 0.8236870765686035 0.20798158645629883\n",
      "Size Stats (529771, 96913, 81.70662418290166, 5.466459608102112)\n",
      "Error 0.0 3.390597 0.09119994 0.05079102\n",
      "Endpoint Error 0.0 3.390597 0.08013893 0.08013893\n"
     ]
    },
    {
     "data": {
      "text/plain": [
       "[0.8236870765686035,\n",
       " 0.20798158645629883,\n",
       " (529771, 96913, 81.70662418290166, 5.466459608102112),\n",
       " (0.0, 3.390597, 0.09119994, 0.05079102),\n",
       " (0.0, 3.390597, 0.08013893, 0.08013893)]"
      ]
     },
     "execution_count": 5,
     "metadata": {},
     "output_type": "execute_result"
    }
   ],
   "source": [
    "runner.Runner.qfib('/home/d/Dropbox/TRAKODATA/ISMRM2015/ISMRM_2015_Tracto_challenge_ground_truth_bundles_TCK_v2/', 'CA.tck', bits=16, force=True)"
   ]
  },
  {
   "cell_type": "code",
   "execution_count": 6,
   "metadata": {},
   "outputs": [
    {
     "name": "stdout",
     "output_type": "stream",
     "text": [
      "Loading scalar FIBER_COLORS\n",
      "Loading property FIBER_WEIGHTS\n",
      "Type not supported! 5121\n",
      "compression done.\n"
     ]
    },
    {
     "name": "stderr",
     "output_type": "stream",
     "text": [
      "/home/d/miniconda3/envs/TRAKODEV/lib/python3.6/site-packages/vtk-8.1.2-py3.6-linux-x86_64.egg/vtk/util/numpy_support.py:137: FutureWarning:\n",
      "\n",
      "Conversion of the second argument of issubdtype from `complex` to `np.complexfloating` is deprecated. In future, it will be treated as `np.complex128 == np.dtype(complex).type`.\n",
      "\n"
     ]
    },
    {
     "name": "stdout",
     "output_type": "stream",
     "text": [
      "restoring done.\n",
      "Times 0.14928388595581055 0.19042611122131348\n",
      "Size Stats (877877, 464127, 47.130748385024326, 1.8914585878434136)\n",
      "Error 4.3827535e-05 0.003999593 0.0022175596 0.0006353851\n",
      "Endpoint Error 0.00026163374 0.003999593 0.0022248034 0.0003558975\n"
     ]
    },
    {
     "data": {
      "text/plain": [
       "[0.14928388595581055,\n",
       " 0.19042611122131348,\n",
       " (877877, 464127, 47.130748385024326, 1.8914585878434136),\n",
       " (4.3827535e-05, 0.003999593, 0.0022175596, 0.0006353851),\n",
       " (0.00026163374, 0.003999593, 0.0022248034, 0.0003558975)]"
      ]
     },
     "execution_count": 6,
     "metadata": {},
     "output_type": "execute_result"
    }
   ],
   "source": [
    "runner.Runner.tko('/home/d/Dropbox/TRAKODATA/ISMRM2015/ISMRM_2015_Tracto_challenge_ground_truth_bundles_VTK_v2/', 'CA.vtk', config=None, force=True)"
   ]
  },
  {
   "cell_type": "code",
   "execution_count": 7,
   "metadata": {},
   "outputs": [
    {
     "name": "stdout",
     "output_type": "stream",
     "text": [
      "Times 0.14928388595581055 0.19042611122131348\n",
      "Size Stats (877877, 464127, 47.130748385024326, 1.8914585878434136)\n",
      "Error 4.3827535e-05 0.003999593 0.0022175596 0.0006353851\n",
      "Endpoint Error 0.00026163374 0.003999593 0.0022248034 0.0003558975\n"
     ]
    },
    {
     "data": {
      "text/plain": [
       "[0.14928388595581055,\n",
       " 0.19042611122131348,\n",
       " (877877, 464127, 47.130748385024326, 1.8914585878434136),\n",
       " (4.3827535e-05, 0.003999593, 0.0022175596, 0.0006353851),\n",
       " (0.00026163374, 0.003999593, 0.0022248034, 0.0003558975)]"
      ]
     },
     "execution_count": 7,
     "metadata": {},
     "output_type": "execute_result"
    }
   ],
   "source": [
    "runner.Runner.tko('/home/d/Dropbox/TRAKODATA/ISMRM2015/ISMRM_2015_Tracto_challenge_ground_truth_bundles_VTK_v2/', 'CA.vtk', config=None)"
   ]
  },
  {
   "cell_type": "code",
   "execution_count": 8,
   "metadata": {},
   "outputs": [],
   "source": [
    "config = {\n",
    "    '*': {\n",
    "    'position':False,\n",
    "    'sequential':True,\n",
    "    'quantization_bits':11,\n",
    "    'compression_level':1,\n",
    "    'quantization_range':-1,\n",
    "    'quantization_origin':None\n",
    "    },\n",
    "    'name': 'qb11'\n",
    "}"
   ]
  },
  {
   "cell_type": "code",
   "execution_count": 9,
   "metadata": {},
   "outputs": [
    {
     "name": "stdout",
     "output_type": "stream",
     "text": [
      "Loading scalar FIBER_COLORS\n",
      "Loading property FIBER_WEIGHTS\n",
      "Using custom configuration for Draco.\n",
      "Custom config for POSITION\n",
      "Type not supported! 5121\n",
      "Custom config for FIBER_COLORS\n",
      "Custom config for INDICES\n",
      "Custom config for FIBER_WEIGHTS\n",
      "compression done.\n"
     ]
    },
    {
     "name": "stderr",
     "output_type": "stream",
     "text": [
      "/home/d/miniconda3/envs/TRAKODEV/lib/python3.6/site-packages/vtk-8.1.2-py3.6-linux-x86_64.egg/vtk/util/numpy_support.py:137: FutureWarning:\n",
      "\n",
      "Conversion of the second argument of issubdtype from `complex` to `np.complexfloating` is deprecated. In future, it will be treated as `np.complex128 == np.dtype(complex).type`.\n",
      "\n"
     ]
    },
    {
     "name": "stdout",
     "output_type": "stream",
     "text": [
      "restoring done.\n",
      "Times 0.18396449089050293 0.17927050590515137\n",
      "Size Stats (877877, 502379, 42.77341814399968, 1.7474396819930769)\n",
      "Error 0.0006993704 0.03899921 0.022009281 0.006307968\n",
      "Endpoint Error 0.0018317896 0.03770967 0.021950006 0.003765952\n"
     ]
    },
    {
     "data": {
      "text/plain": [
       "[0.18396449089050293,\n",
       " 0.17927050590515137,\n",
       " (877877, 502379, 42.77341814399968, 1.7474396819930769),\n",
       " (0.0006993704, 0.03899921, 0.022009281, 0.006307968),\n",
       " (0.0018317896, 0.03770967, 0.021950006, 0.003765952)]"
      ]
     },
     "execution_count": 9,
     "metadata": {},
     "output_type": "execute_result"
    }
   ],
   "source": [
    "runner.Runner.tko('/home/d/Dropbox/TRAKODATA/ISMRM2015/ISMRM_2015_Tracto_challenge_ground_truth_bundles_VTK_v2/', 'CA.vtk', config=config, force=True)"
   ]
  },
  {
   "cell_type": "code",
   "execution_count": 66,
   "metadata": {},
   "outputs": [
    {
     "name": "stdout",
     "output_type": "stream",
     "text": [
      "Using custom configuration for Draco.\n",
      "Custom config for POSITION\n",
      "Custom config for INDICES\n",
      "compression done.\n"
     ]
    },
    {
     "name": "stderr",
     "output_type": "stream",
     "text": [
      "/home/d/miniconda3/envs/TRAKODEV/lib/python3.6/site-packages/vtk-8.1.2-py3.6-linux-x86_64.egg/vtk/util/numpy_support.py:137: FutureWarning:\n",
      "\n",
      "Conversion of the second argument of issubdtype from `complex` to `np.complexfloating` is deprecated. In future, it will be treated as `np.complex128 == np.dtype(complex).type`.\n",
      "\n"
     ]
    },
    {
     "name": "stdout",
     "output_type": "stream",
     "text": [
      "restoring done.\n",
      "Times 0.09539198875427246 0.12437701225280762\n",
      "Size Stats (877877, 34612, 96.05730643358922, 25.363371085172773)\n",
      "Error 0.026558327 1.0160452 0.5743788 0.16655254\n",
      "Endpoint Error 0.052665032 0.97215724 0.5808233 0.088222496\n"
     ]
    },
    {
     "data": {
      "text/plain": [
       "[0.09539198875427246,\n",
       " 0.12437701225280762,\n",
       " (877877, 34612, 96.05730643358922, 25.363371085172773),\n",
       " (0.026558327, 1.0160452, 0.5743788, 0.16655254),\n",
       " (0.052665032, 0.97215724, 0.5808233, 0.088222496)]"
      ]
     },
     "execution_count": 66,
     "metadata": {},
     "output_type": "execute_result"
    }
   ],
   "source": [
    "config = {\n",
    "    '*': {\n",
    "    'position':True,\n",
    "    'sequential':True,\n",
    "    'quantization_bits':6,\n",
    "    'compression_level':10,\n",
    "    'quantization_range':-1,\n",
    "    'quantization_origin':None\n",
    "    },\n",
    "    'name': 'qb8'\n",
    "}\n",
    "runner.Runner.tko('/home/d/Dropbox/TRAKODATA/ISMRM2015/ISMRM_2015_Tracto_challenge_ground_truth_bundles_VTK_v2/', 'CA.vtk', config=config, force=True, coords_only=True)"
   ]
  },
  {
   "cell_type": "code",
   "execution_count": 62,
   "metadata": {},
   "outputs": [],
   "source": [
    "config = {\n",
    "    'POSITION': {\n",
    "    'position':True,\n",
    "    'sequential':True,\n",
    "    'quantization_bits':6,\n",
    "    'compression_level':10,\n",
    "    'quantization_range':-1,\n",
    "    'quantization_origin':None\n",
    "    },\n",
    "    'INDICES': {\n",
    "    'position':False,\n",
    "    'sequential':True,\n",
    "    'quantization_bits':6,\n",
    "    'compression_level':10,\n",
    "    'quantization_range':-1,\n",
    "    'quantization_origin':None\n",
    "    },\n",
    "    'name': 'qb8'\n",
    "}"
   ]
  },
  {
   "cell_type": "code",
   "execution_count": 63,
   "metadata": {},
   "outputs": [
    {
     "name": "stdout",
     "output_type": "stream",
     "text": [
      "Using custom configuration for Draco.\n",
      "Custom config for POSITION\n",
      "Custom config for INDICES\n",
      "compression done.\n"
     ]
    },
    {
     "name": "stderr",
     "output_type": "stream",
     "text": [
      "/home/d/miniconda3/envs/TRAKODEV/lib/python3.6/site-packages/vtk-8.1.2-py3.6-linux-x86_64.egg/vtk/util/numpy_support.py:137: FutureWarning:\n",
      "\n",
      "Conversion of the second argument of issubdtype from `complex` to `np.complexfloating` is deprecated. In future, it will be treated as `np.complex128 == np.dtype(complex).type`.\n",
      "\n"
     ]
    },
    {
     "name": "stdout",
     "output_type": "stream",
     "text": [
      "restoring done.\n",
      "Times 0.08657455444335938 0.11379218101501465\n",
      "Size Stats (877877, 34612, 96.05730643358922, 25.363371085172773)\n",
      "Error 0.026558327 1.0160452 0.5743788 0.16655254\n",
      "Endpoint Error 0.052665032 0.97215724 0.5808233 0.088222496\n"
     ]
    },
    {
     "data": {
      "text/plain": [
       "[0.08657455444335938,\n",
       " 0.11379218101501465,\n",
       " (877877, 34612, 96.05730643358922, 25.363371085172773),\n",
       " (0.026558327, 1.0160452, 0.5743788, 0.16655254),\n",
       " (0.052665032, 0.97215724, 0.5808233, 0.088222496)]"
      ]
     },
     "execution_count": 63,
     "metadata": {},
     "output_type": "execute_result"
    }
   ],
   "source": [
    "runner.Runner.tko('/home/d/Dropbox/TRAKODATA/ISMRM2015/ISMRM_2015_Tracto_challenge_ground_truth_bundles_VTK_v2/', 'CA.vtk', config=config, force=True, coords_only=True)"
   ]
  },
  {
   "cell_type": "code",
   "execution_count": null,
   "metadata": {},
   "outputs": [],
   "source": []
  }
 ],
 "metadata": {
  "kernelspec": {
   "display_name": "Python 3",
   "language": "python",
   "name": "python3"
  },
  "language_info": {
   "codemirror_mode": {
    "name": "ipython",
    "version": 3
   },
   "file_extension": ".py",
   "mimetype": "text/x-python",
   "name": "python",
   "nbconvert_exporter": "python",
   "pygments_lexer": "ipython3",
   "version": "3.6.9"
  }
 },
 "nbformat": 4,
 "nbformat_minor": 2
}
