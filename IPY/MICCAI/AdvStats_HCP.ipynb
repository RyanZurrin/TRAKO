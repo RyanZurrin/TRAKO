{
 "cells": [
  {
   "cell_type": "code",
   "execution_count": 1,
   "metadata": {},
   "outputs": [
    {
     "name": "stdout",
     "output_type": "stream",
     "text": [
      "Populating the interactive namespace from numpy and matplotlib\n"
     ]
    }
   ],
   "source": [
    "%pylab inline\n",
    "%load_ext autoreload\n",
    "%autoreload 2"
   ]
  },
  {
   "cell_type": "code",
   "execution_count": 5,
   "metadata": {},
   "outputs": [],
   "source": [
    "import pickle,os\n",
    "import trako as TKO"
   ]
  },
  {
   "cell_type": "code",
   "execution_count": 1,
   "metadata": {},
   "outputs": [],
   "source": [
    "SUBJECT='/'\n",
    "BLACKLIST = 'tracts_commissural'\n",
    "DATAFOLDER = '/home/haehn/Dropbox/TRAKODATA/AnatomicalTracts_VTK//'\n",
    "# DATAFOLDER = '/home/haehn/Dropbox/TKOTEST/'\n",
    "DATAFOLDER_TKO = DATAFOLDER[:-1]+'_TKO/'\n",
    "DATAFOLDER_RESTORED = DATAFOLDER[:-1]+'_RESTORED/'\n",
    "STATSFOLDER = DATAFOLDER[:-1]+'_STATS/'\n",
    "DATAFOLDER += SUBJECT\n",
    "DATAFOLDER_TKO += SUBJECT\n",
    "DATAFOLDER_RESTORED += SUBJECT\n",
    "STATSFILE = STATSFOLDER+SUBJECT[:-1]+'.p'\n",
    "\n",
    "originalsize = []\n",
    "compressedsize = []\n",
    "number_of_streamlines = []\n",
    "c_time = []\n",
    "d_time = []\n"
   ]
  },
  {
   "cell_type": "code",
   "execution_count": 22,
   "metadata": {},
   "outputs": [
    {
     "name": "stdout",
     "output_type": "stream",
     "text": [
      "106.44178652763367\n"
     ]
    }
   ],
   "source": [
    "THRESHOLD = 10\n",
    "scalarstats = {\n",
    "    \n",
    "}\n",
    "propertystats = {\n",
    "    \n",
    "}\n",
    "counter = 0\n",
    "firstrun = True\n",
    "t0 = time.time()\n",
    "for f in os.listdir(DATAFOLDER):\n",
    "\n",
    "        if name.endswith('.vtk'):\n",
    "            input = os.path.join(root, name)\n",
    "            compressed = input.replace('.vtk','.tko')\n",
    "            restored = input.replace('')\n",
    "            \n",
    "            i_poly = TKO.Util.loadvtp(input)\n",
    "            i_scalars = i_poly['scalars']\n",
    "            i_nscalars = i_poly['scalar_names']\n",
    "            i_properties = i_poly['properties']\n",
    "            i_nproperties = i_poly['property_names']\n",
    "            \n",
    "            r_poly = TKO.Util.loadvtp(restored)\n",
    "            r_scalars = r_poly['scalars']\n",
    "            r_properties = r_poly['properties']\n",
    "            \n",
    "#             print(i_poly['points'])\n",
    "#             print(r_poly['points'])\n",
    "#             print(i_scalars)\n",
    "#             print(r_scalars)\n",
    "\n",
    "            if len(i_scalars)==0 or len(r_scalars) == 0:\n",
    "                print('skipped', name)\n",
    "                continue\n",
    "                \n",
    "#             if (np.isnan(np.any(i_scalars))):\n",
    "#                 print('NaN', name, i_scalars)\n",
    "#                 continue\n",
    "                \n",
    "#             if (np.isnan(np.any(r_scalars))):\n",
    "#                 print('NaN2', name, i_scalars)\n",
    "#                 continue\n",
    "            \n",
    "            if firstrun:\n",
    "                for i,s in enumerate(i_nscalars):\n",
    "                    scalarstats[s] = [0,0,0,0,np.inf,-np.inf]\n",
    "#                     print ('reset')\n",
    "                for i,p in enumerate(i_nproperties):\n",
    "                    propertystats[p] = [0,0,0,0,np.inf,-np.inf]\n",
    "                \n",
    "                firstrun = False\n",
    "    \n",
    "    \n",
    "            \n",
    "            for i,s in enumerate(i_scalars):\n",
    "                c_name = i_nscalars[i]\n",
    "            \n",
    "                stats = TKO.Util.error(i_scalars[i], r_scalars[i])\n",
    "#                 print(stats)\n",
    "\n",
    "#                 if (np.isnan(stats[0][0])):\n",
    "#                     print(input, counter, r_scalars)\n",
    "\n",
    "                scalarstats[c_name][0] += stats[0][0]\n",
    "                scalarstats[c_name][1] += stats[0][1]\n",
    "                scalarstats[c_name][2] += stats[0][2]\n",
    "                scalarstats[c_name][3] += stats[0][3]\n",
    "                scalarstats[c_name][4] = min(np.min(i_scalars[i]),scalarstats[c_name][4] )\n",
    "                scalarstats[c_name][5] = max(np.max(i_scalars[i]),scalarstats[c_name][5] )\n",
    "\n",
    "            for i,s in enumerate(i_properties):\n",
    "                c_name = i_nproperties[i]\n",
    "            \n",
    "                stats = TKO.Util.error(i_properties[i], r_properties[i])\n",
    "#                 print(stats)\n",
    "\n",
    "#                 if (np.isnan(stats[0][0])):\n",
    "#                     print(input, counter, r_scalars)\n",
    "\n",
    "                propertystats[c_name][0] += stats[0][0]\n",
    "                propertystats[c_name][1] += stats[0][1]\n",
    "                propertystats[c_name][2] += stats[0][2]\n",
    "                propertystats[c_name][3] += stats[0][3]\n",
    "                propertystats[c_name][4] = min(np.min(i_properties[i]),propertystats[c_name][4] )\n",
    "                propertystats[c_name][5] = max(np.max(i_properties[i]),propertystats[c_name][5] )\n",
    "                \n",
    "            counter += 1\n",
    "        if counter > THRESHOLD:\n",
    "            break\n",
    "            \n",
    "# normalize\n",
    "for s in scalarstats.keys():\n",
    "    for i,v in enumerate(scalarstats[s]):\n",
    "        if i > 3:\n",
    "            continue\n",
    "        scalarstats[s][i] /= counter\n",
    "for s in propertystats.keys():\n",
    "    for i,v in enumerate(propertystats[s]):\n",
    "        if i > 3:\n",
    "            continue\n",
    "        propertystats[s][i] /= counter\n",
    "print(time.time()-t0)"
   ]
  },
  {
   "cell_type": "code",
   "execution_count": 21,
   "metadata": {},
   "outputs": [
    {
     "data": {
      "text/plain": [
       "{'NormalizedSignalEstimationError': [0.0,\n",
       "  1.5172938054258174e-06,\n",
       "  7.513314595929511e-07,\n",
       "  4.3964107279944903e-07,\n",
       "  0.0,\n",
       "  0.004544852470809763],\n",
       " 'EstimatedUncertainty': [0.0,\n",
       "  0.6063787286931818,\n",
       "  0.2999116670001637,\n",
       "  0.1764529672535983,\n",
       "  0.0035208941183306956,\n",
       "  2821.9683948863635],\n",
       " 'RTOP1': [0.0,\n",
       "  0.0783505223014138,\n",
       "  0.03998693310528655,\n",
       "  0.022720706442752005,\n",
       "  0.10258631272749467,\n",
       "  2172.903409090909],\n",
       " 'RTOP2': [0.0,\n",
       "  0.028653058138760654,\n",
       "  0.014421229388310829,\n",
       "  0.008322321659017523,\n",
       "  0.12034710970791904,\n",
       "  786.4951171875],\n",
       " 'RTAP1': [0.0,\n",
       "  0.06340096213600853,\n",
       "  0.03144508278769949,\n",
       "  0.01804910872306209,\n",
       "  -1231.0636541193182,\n",
       "  719.5413707386364],\n",
       " 'RTAP2': [0.0,\n",
       "  0.020645011555064808,\n",
       "  0.010295246726441705,\n",
       "  0.005988844653157602,\n",
       "  0.10087298263203014,\n",
       "  620.0487837357955],\n",
       " 'RTPP1': [0.0,\n",
       "  0.00013278289274735883,\n",
       "  6.654764415130062e-05,\n",
       "  3.83428574754031e-05,\n",
       "  0.06462655826048418,\n",
       "  0.8978890505704012],\n",
       " 'RTPP2': [0.0,\n",
       "  0.00020793351260098544,\n",
       "  0.00010387147234392945,\n",
       "  6.004239102449819e-05,\n",
       "  0.06467722762714732,\n",
       "  1.4510165127840908],\n",
       " 'SignalMean': [0.0,\n",
       "  1.1037019166079434e-06,\n",
       "  5.505837221293901e-07,\n",
       "  3.181477991760899e-07,\n",
       "  6.251396123182282e-07,\n",
       "  0.003315975381569429]}"
      ]
     },
     "execution_count": 21,
     "metadata": {},
     "output_type": "execute_result"
    }
   ],
   "source": [
    "scalarstats"
   ]
  },
  {
   "cell_type": "code",
   "execution_count": 20,
   "metadata": {},
   "outputs": [
    {
     "data": {
      "text/plain": [
       "{'EmbeddingCoordinate': [0.00015848922471791,\n",
       "  0.0003186018888796256,\n",
       "  0.00024061065579933876,\n",
       "  3.267314109094018e-05,\n",
       "  -0.28866897929798474,\n",
       "  0.4480217153375799],\n",
       " 'ClusterNumber': [0.0, 0.0, 0.0, 0.0, 1.0909090909090908, 69.81818181818181],\n",
       " 'EmbeddingColor': [0.0,\n",
       "  1.4142135623730956,\n",
       "  0.8690054731679054,\n",
       "  0.5114847917885469,\n",
       "  0.18181818181818182,\n",
       "  16.363636363636363],\n",
       " 'TotalFiberSimilarity': [0.0,\n",
       "  11.502840909090908,\n",
       "  5.598667795007879,\n",
       "  3.3409415700218896,\n",
       "  13625.14346590909,\n",
       "  63300.57386363636],\n",
       " 'MeasuredFiberSimilarity': [0.0,\n",
       "  1.574781807986173e-08,\n",
       "  7.784084568837361e-09,\n",
       "  4.740402414039512e-09,\n",
       "  0.00032631117342547935,\n",
       "  0.0004941430789503185]}"
      ]
     },
     "execution_count": 20,
     "metadata": {},
     "output_type": "execute_result"
    }
   ],
   "source": [
    "propertystats"
   ]
  },
  {
   "cell_type": "code",
   "execution_count": 53,
   "metadata": {},
   "outputs": [
    {
     "name": "stdout",
     "output_type": "stream",
     "text": [
      "NormalizedSignalEstimationError ($N$, range:  0.0-0.05 ) \\\\\n",
      "EstimatedUncertainty ($N$, range:  0.04-31041.65 ) \\\\\n",
      "RTOP1 ($N$, range:  1.13-23901.94 ) \\\\\n",
      "RTOP2 ($N$, range:  1.32-8651.45 ) \\\\\n",
      "RTAP1 ($N$, range:  -13541.7-7914.96 ) \\\\\n",
      "RTAP2 ($N$, range:  1.11-6820.54 ) \\\\\n",
      "RTPP1 ($N$, range:  0.71-9.88 ) \\\\\n",
      "RTPP2 ($N$, range:  0.71-15.96 ) \\\\\n",
      "SignalMean ($N$, range:  0.0-0.04 ) \\\\\n",
      "0.0$\\pm$0.0 \\\\\n",
      "0.3$\\pm$0.176 \\\\\n",
      "0.04$\\pm$0.023 \\\\\n",
      "0.014$\\pm$0.008 \\\\\n",
      "0.031$\\pm$0.018 \\\\\n",
      "0.01$\\pm$0.006 \\\\\n",
      "0.0$\\pm$0.0 \\\\\n",
      "0.0$\\pm$0.0 \\\\\n",
      "0.0$\\pm$0.0 \\\\\n"
     ]
    }
   ],
   "source": [
    "for p in scalarstats.keys():\n",
    "    ranger = np.round(scalarstats[p][4],3),np.round(scalarstats[p][5],3)\n",
    "    mean= np.round(scalarstats[p][2],3),np.round(scalarstats[p][3],3)\n",
    "    ranger_str = str(str(np.round(ranger[0],2))+'-'+str(np.round(ranger[1],2)))\n",
    "    mean_str = str(mean[0])+'$\\pm$'+str(mean[1])\n",
    "    print(p, '($N$, range: ',ranger_str, ') \\\\\\\\')\n",
    "for p in scalarstats.keys():\n",
    "    ranger = np.round(scalarstats[p][4],3),np.round(scalarstats[p][5],3)\n",
    "    mean= np.round(scalarstats[p][2],3),np.round(scalarstats[p][3],3)\n",
    "    ranger_str = str(str(np.round(ranger[0],2))+'-'+str(np.round(ranger[1],2)))\n",
    "    mean_str = str(mean[0])+'$\\pm$'+str(mean[1])\n",
    "    print(mean_str , '\\\\\\\\')"
   ]
  },
  {
   "cell_type": "code",
   "execution_count": 54,
   "metadata": {},
   "outputs": [
    {
     "name": "stdout",
     "output_type": "stream",
     "text": [
      "EmbeddingCoordinate ($N$, range:  -3.18-4.93 ) \\\\\n",
      "ClusterNumber ($N$, range:  12-768 ) \\\\\n",
      "EmbeddingColor ($N$, range:  2-180 ) \\\\\n",
      "TotalFiberSimilarity ($N$, range:  149876.58-696306.3 ) \\\\\n",
      "MeasuredFiberSimilarity ($N$, range:  0.0-0.0 ) \\\\\n",
      "0.0$\\pm$0.0 \\\\\n",
      "0.0$\\pm$0.0 \\\\\n",
      "0.869$\\pm$0.511 \\\\\n",
      "5.599$\\pm$3.341 \\\\\n",
      "0.0$\\pm$0.0 \\\\\n"
     ]
    }
   ],
   "source": [
    "for p in propertystats.keys():\n",
    "    ranger = np.round(propertystats[p][4],3),np.round(propertystats[p][5],3)\n",
    "    mean= np.round(propertystats[p][2],3),np.round(propertystats[p][3],3)\n",
    "    ranger_str = str(str(np.round(ranger[0],2))+'-'+str(np.round(ranger[1],2)))\n",
    "    mean_str = str(mean[0])+'$\\pm$'+str(mean[1])\n",
    "    print(p, '($N$, range: ',ranger_str, ') \\\\\\\\')\n",
    "for p in propertystats.keys():\n",
    "    ranger = np.round(propertystats[p][4],3),np.round(propertystats[p][5],3)\n",
    "    mean= np.round(propertystats[p][2],3),np.round(propertystats[p][3],3)\n",
    "    ranger_str = str(str(np.round(ranger[0],2))+'-'+str(np.round(ranger[1],2)))\n",
    "    mean_str = str(mean[0])+'$\\pm$'+str(mean[1])\n",
    "    print(mean_str , '\\\\\\\\')"
   ]
  },
  {
   "cell_type": "code",
   "execution_count": 23,
   "metadata": {},
   "outputs": [],
   "source": [
    "compressedsize = 50462344\n",
    "originalsize = 149677524\n",
    "\n",
    "c_ratio = (1-float(compressedsize)/float(originalsize))*100\n",
    "c_factor = float(originalsize) / float(compressedsize)"
   ]
  },
  {
   "cell_type": "code",
   "execution_count": 30,
   "metadata": {},
   "outputs": [
    {
     "data": {
      "text/plain": [
       "66.286"
      ]
     },
     "execution_count": 30,
     "metadata": {},
     "output_type": "execute_result"
    }
   ],
   "source": [
    "np.round(c_ratio,3)"
   ]
  },
  {
   "cell_type": "code",
   "execution_count": 31,
   "metadata": {},
   "outputs": [
    {
     "data": {
      "text/plain": [
       "2.966"
      ]
     },
     "execution_count": 31,
     "metadata": {},
     "output_type": "execute_result"
    }
   ],
   "source": [
    "np.round(c_factor,3)"
   ]
  },
  {
   "cell_type": "code",
   "execution_count": 29,
   "metadata": {},
   "outputs": [
    {
     "data": {
      "text/plain": [
       "50462.34"
      ]
     },
     "execution_count": 29,
     "metadata": {},
     "output_type": "execute_result"
    }
   ],
   "source": [
    "np.round(compressedsize/1000,2)"
   ]
  },
  {
   "cell_type": "code",
   "execution_count": null,
   "metadata": {},
   "outputs": [],
   "source": []
  }
 ],
 "metadata": {
  "kernelspec": {
   "display_name": "Python 3",
   "language": "python",
   "name": "python3"
  },
  "language_info": {
   "codemirror_mode": {
    "name": "ipython",
    "version": 3
   },
   "file_extension": ".py",
   "mimetype": "text/x-python",
   "name": "python",
   "nbconvert_exporter": "python",
   "pygments_lexer": "ipython3",
   "version": "3.6.9"
  }
 },
 "nbformat": 4,
 "nbformat_minor": 2
}
