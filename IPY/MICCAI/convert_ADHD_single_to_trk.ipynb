{
 "cells": [
  {
   "cell_type": "code",
   "execution_count": 6,
   "metadata": {},
   "outputs": [
    {
     "name": "stdout",
     "output_type": "stream",
     "text": [
      "Populating the interactive namespace from numpy and matplotlib\n"
     ]
    }
   ],
   "source": [
    "%pylab inline\n",
    "%load_ext autoreload\n",
    "%autoreload 2"
   ]
  },
  {
   "cell_type": "code",
   "execution_count": 33,
   "metadata": {},
   "outputs": [],
   "source": [
    "import os, sys\n",
    "sys.path.append('../../EXTRAS/')\n",
    "import vtp2tck\n",
    "import tck2vtk"
   ]
  },
  {
   "cell_type": "code",
   "execution_count": 32,
   "metadata": {},
   "outputs": [],
   "source": [
    "DATAFOLDER = '/home/d/Dropbox/TRAKODATA/ADHD_STFC_diff_for_Daniel/101/tracts_left_hemisphere/'\n",
    "OUTPUTFOLDER = '/home/d/Dropbox/TRAKODATA/ADHD_Single_TCK/'\n",
    "VTKOUTPUTFOLDER = '/home/d/Dropbox/TRAKODATA/ADHD_Single_VTK/'"
   ]
  },
  {
   "cell_type": "code",
   "execution_count": 21,
   "metadata": {},
   "outputs": [],
   "source": [
    "if not os.path.exists(OUTPUTFOLDER):\n",
    "    os.makedirs(OUTPUTFOLDER)\n",
    "inputs = os.listdir(DATAFOLDER)"
   ]
  },
  {
   "cell_type": "code",
   "execution_count": 31,
   "metadata": {},
   "outputs": [],
   "source": [
    "for i in inputs:\n",
    "    if not i.endswith('vtp'):\n",
    "        continue\n",
    "    o = os.path.join(OUTPUTFOLDER, i.replace('vtp','tck'))\n",
    "    i = os.path.join(DATAFOLDER, i)\n",
    "    vtp2tck.convert(i, o)"
   ]
  },
  {
   "cell_type": "code",
   "execution_count": 34,
   "metadata": {},
   "outputs": [],
   "source": [
    "if not os.path.exists(VTKOUTPUTFOLDER):\n",
    "    os.makedirs(VTKOUTPUTFOLDER)\n",
    "inputs = os.listdir(OUTPUTFOLDER)"
   ]
  },
  {
   "cell_type": "code",
   "execution_count": 35,
   "metadata": {},
   "outputs": [],
   "source": [
    "for i in inputs:\n",
    "    if not i.endswith('tck'):\n",
    "        continue\n",
    "    o = os.path.join(VTKOUTPUTFOLDER, i.replace('tck','vtk'))\n",
    "    i = os.path.join(OUTPUTFOLDER, i)\n",
    "    tck2vtk.convert(i, o)"
   ]
  },
  {
   "cell_type": "code",
   "execution_count": null,
   "metadata": {},
   "outputs": [],
   "source": []
  }
 ],
 "metadata": {
  "kernelspec": {
   "display_name": "Python 3",
   "language": "python",
   "name": "python3"
  },
  "language_info": {
   "codemirror_mode": {
    "name": "ipython",
    "version": 3
   },
   "file_extension": ".py",
   "mimetype": "text/x-python",
   "name": "python",
   "nbconvert_exporter": "python",
   "pygments_lexer": "ipython3",
   "version": "3.6.9"
  }
 },
 "nbformat": 4,
 "nbformat_minor": 2
}
