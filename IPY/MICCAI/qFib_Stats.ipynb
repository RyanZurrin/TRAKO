{
 "cells": [
  {
   "cell_type": "code",
   "execution_count": 57,
   "metadata": {},
   "outputs": [
    {
     "name": "stdout",
     "output_type": "stream",
     "text": [
      "Populating the interactive namespace from numpy and matplotlib\n"
     ]
    },
    {
     "name": "stderr",
     "output_type": "stream",
     "text": [
      "/home/d/miniconda3/envs/TRAKODEV/lib/python3.6/site-packages/IPython/core/magics/pylab.py:160: UserWarning:\n",
      "\n",
      "pylab import has clobbered these variables: ['f']\n",
      "`%matplotlib` prevents importing * from pylab and numpy\n",
      "\n"
     ]
    }
   ],
   "source": [
    "%pylab inline\n",
    "import os, time\n",
    "%load_ext autoreload\n",
    "%autoreload 2"
   ]
  },
  {
   "cell_type": "code",
   "execution_count": 19,
   "metadata": {},
   "outputs": [],
   "source": [
    "import pickle\n",
    "import nibabel as nib\n",
    "import trako as TKO"
   ]
  },
  {
   "cell_type": "code",
   "execution_count": 4,
   "metadata": {},
   "outputs": [],
   "source": [
    "DATAFOLDER = '/home/d/Dropbox/TRAKODATA/qfib-data/'"
   ]
  },
  {
   "cell_type": "code",
   "execution_count": 45,
   "metadata": {},
   "outputs": [],
   "source": [
    "def load_qfib_timings(input):\n",
    "    \n",
    "    with open(input, 'rb') as g:\n",
    "        qfib_timings = pickle.load(g)\n",
    "        \n",
    "    return qfib_timings\n",
    "\n",
    "def get_sizes_and_ratios(input,compressed):\n",
    "    \n",
    "    originalsize = os.path.getsize(input)\n",
    "    compressedsize = os.path.getsize(compressed)\n",
    "    \n",
    "    c_ratio = (1-len(compressedsize)/float(originalsize))*100\n",
    "    c_factor = float(originalsize) / float(compressedsize)\n",
    "    \n",
    "    return [originalsize, compressedsize, c_ratio, c_factor]\n",
    "    \n",
    "\n",
    "def compute_qfib_error(input):\n",
    "    \n",
    "    original_file = input\n",
    "    restored_file_8bit = input.replace('tck', 'restored.8bit.tck')\n",
    "    restored_file_16bit = input.replace('tck', 'restored.16bit.tck')\n",
    "\n",
    "    loaded_tck = nib.streamlines.load(original_file, lazy_load=False)\n",
    "    streamlines = loaded_tck.streamlines\n",
    "    streamlines_ravel = []\n",
    "    for s in streamlines:\n",
    "        streamlines_ravel += list(s.ravel())\n",
    "    \n",
    "    loaded_restored_8bit = nib.streamlines.load(restored_file_8bit, lazy_load=False)\n",
    "    streamlines_restored_8bit = loaded_restored_8bit.streamlines\n",
    "    streamlines_restored_8bit_ravel = []\n",
    "    for s in streamlines_restored_8bit:\n",
    "        streamlines_restored_8bit_ravel += list(s.ravel())\n",
    "    \n",
    "    loaded_restored_16bit = nib.streamlines.load(restored_file_16bit, lazy_load=False)\n",
    "    streamlines_restored_16bit = loaded_restored_16bit.streamlines\n",
    "    streamlines_restored_16bit_ravel = []\n",
    "    for s in streamlines_restored_16bit:\n",
    "        streamlines_restored_16bit_ravel += list(s.ravel())\n",
    "    \n",
    "    error8bit = TKO.Util.error(streamlines_ravel, streamlines_restored_8bit_ravel)\n",
    "    error16bit = TKO.Util.error(streamlines_ravel, streamlines_restored_16bit_ravel)\n",
    "    \n",
    "    return [error8bit, error16bit]\n",
    "\n",
    "\n",
    "\n",
    "# def load_qfib_log(input):\n",
    "    \n",
    "#     with open(input, 'r') as g:\n",
    "#         log = g.readlines()\n",
    "        \n",
    "#     max_error = float(log[7].split(' ')[2])\n",
    "#     mean_error = float(log[8].split(' ')[2])\n",
    "#     c_ratio = \n",
    "    \n",
    "#     return [max_error, mean_error]"
   ]
  },
  {
   "cell_type": "code",
   "execution_count": 46,
   "metadata": {},
   "outputs": [],
   "source": [
    "class Stats():\n",
    "    \n",
    "    def __init__(self, method):\n",
    "        self.method = method\n",
    "        self.c_time = []\n",
    "        self.d_time = []\n",
    "        self.min_e = []\n",
    "        self.max_e = []\n",
    "        self.mean_e = []\n",
    "        self.std_e = []\n",
    "        self.originalsize = []\n",
    "        self.compressedsize = []\n",
    "        self.c_ratio = []\n",
    "        self.c_factor = []\n",
    "        "
   ]
  },
  {
   "cell_type": "code",
   "execution_count": 9,
   "metadata": {},
   "outputs": [
    {
     "name": "stdout",
     "output_type": "stream",
     "text": [
      "found tracto60kSD_STREAM1.tck\n",
      "found tracto60kSD_STREAM1.TKOstats.p True\n",
      "found tracto60kSD_STREAM1.TKOstats_w_config.p True\n",
      "found tracto60kSD_STREAM1.DPYstats.p True\n",
      "found tracto60kSD_STREAM1.level9.DPYstats.p True\n",
      "--------------------\n",
      "found tracto60kiFOD10.5.tck\n",
      "found tracto60kiFOD10.5.TKOstats.p True\n",
      "found tracto60kiFOD10.5.TKOstats_w_config.p True\n",
      "found tracto60kiFOD10.5.DPYstats.p True\n",
      "found tracto60kiFOD10.5.level9.DPYstats.p True\n",
      "--------------------\n",
      "found tracto60kiFOD10.1.tck\n",
      "found tracto60kiFOD10.1.TKOstats.p True\n",
      "found tracto60kiFOD10.1.TKOstats_w_config.p True\n",
      "found tracto60kiFOD10.1.DPYstats.p True\n",
      "found tracto60kiFOD10.1.level9.DPYstats.p True\n",
      "--------------------\n",
      "found tracto60kSD_STREAM0.2.tck\n",
      "found tracto60kSD_STREAM0.2.TKOstats.p True\n",
      "found tracto60kSD_STREAM0.2.TKOstats_w_config.p True\n",
      "found tracto60kSD_STREAM0.2.DPYstats.p True\n",
      "found tracto60kSD_STREAM0.2.level9.DPYstats.p True\n",
      "--------------------\n",
      "found tracto60kSD_STREAM0.5.tck\n",
      "found tracto60kSD_STREAM0.5.TKOstats.p True\n",
      "found tracto60kSD_STREAM0.5.TKOstats_w_config.p True\n",
      "found tracto60kSD_STREAM0.5.DPYstats.p True\n",
      "found tracto60kSD_STREAM0.5.level9.DPYstats.p True\n",
      "--------------------\n",
      "found tracto60kSD_STREAM0.1.tck\n",
      "found tracto60kSD_STREAM0.1.TKOstats.p True\n",
      "found tracto60kSD_STREAM0.1.TKOstats_w_config.p True\n",
      "found tracto60kSD_STREAM0.1.DPYstats.p True\n",
      "found tracto60kSD_STREAM0.1.level9.DPYstats.p False\n",
      "--------------------\n",
      "found tracto60kiFOD11.tck\n",
      "found tracto60kiFOD11.TKOstats.p True\n",
      "found tracto60kiFOD11.TKOstats_w_config.p True\n",
      "found tracto60kiFOD11.DPYstats.p False\n",
      "found tracto60kiFOD11.level9.DPYstats.p False\n",
      "--------------------\n",
      "found tracto60kiFOD10.2.tck\n",
      "found tracto60kiFOD10.2.TKOstats.p True\n",
      "found tracto60kiFOD10.2.TKOstats_w_config.p True\n",
      "found tracto60kiFOD10.2.DPYstats.p False\n",
      "found tracto60kiFOD10.2.level9.DPYstats.p False\n",
      "--------------------\n"
     ]
    }
   ],
   "source": [
    "qfib8 = Stats('qfib8')\n",
    "qfib16 = Stats('qfib16')\n",
    "trako = Stats('trako')\n",
    "trako_c = Stats('trako_c')\n",
    "\n",
    "for i,f in enumerate(os.listdir(DATAFOLDER)):\n",
    "    \n",
    "        \n",
    "    if f.endswith('tck'):\n",
    "        \n",
    "        print('found', f)\n",
    "        \n",
    "        if not qfib_timings:\n",
    "            qfib_timings = 'qfib_timings.p'\n",
    "            qfib_timings = load_qfib_timings(os.path.exists(DATAFOLDER+qfib_timings))\n",
    "            print('qfib timings loaded')\n",
    "            qfib8.c_time = qfib_timings['c_times']\n",
    "            qfib8.d_time = qfib_timings['d_times']\n",
    "            qfib16.c_time = qfib_timings['c_times_16']\n",
    "            qfib16.d_time = qfib_timings['d_times_16']\n",
    "\n",
    "        qfib_e8, qfib_e16 = compute_qfib_error(os.path.exists(DATAFOLDER+f))\n",
    "        qfib8.min_e += qfib_e8[0]\n",
    "        qfib8.max_e += qfib_e8[1]\n",
    "        qfib8.mean_e += qfib_e8[2]\n",
    "        qfib8.std_e += qfib_e8[3]\n",
    "        qfib16.min_e += qfib_e16[0]\n",
    "        qfib16.max_e += qfib_e16[1]\n",
    "        qfib16.mean_e += qfib_e16[2]\n",
    "        qfib16.std_e += qfib_e16[3]\n",
    "        \n",
    "        \n",
    "        TKOstats1 = f.replace('tck','TKOstats.p')\n",
    "        with open(TKOstats1, 'rb') as f:\n",
    "            TKOstats1 = pickle.load(f)\n",
    "            \n",
    "        \n",
    "        \n",
    "        \n",
    "        TKOstats2 = f.replace('tck','TKOstats_w_config.p')\n",
    "\n",
    "        \n",
    "        \n",
    "        \n",
    "#         DPYstats1 = f.replace('tck','DPYstats.p')\n",
    "#         DPYstats2 = f.replace('tck','level9.DPYstats.p')\n",
    "#         print('found', DPYstats1, os.path.exists(DATAFOLDER+DPYstats1))\n",
    "#         print('found', DPYstats2, os.path.exists(DATAFOLDER+DPYstats2))\n",
    "        \n",
    "        print('--'*10)"
   ]
  },
  {
   "cell_type": "code",
   "execution_count": 10,
   "metadata": {},
   "outputs": [
    {
     "data": {
      "text/plain": [
       "{'c_times': [39.45578384399414,\n",
       "  102.67816185951233,\n",
       "  359.3684813976288,\n",
       "  157.55048966407776,\n",
       "  68.16506767272949,\n",
       "  311.68651366233826,\n",
       "  84.55333042144775,\n",
       "  192.00671887397766],\n",
       " 'd_times': [11.420461654663086,\n",
       "  29.732500791549683,\n",
       "  103.54405474662781,\n",
       "  45.662731647491455,\n",
       "  19.919580221176147,\n",
       "  90.31327795982361,\n",
       "  23.85236167907715,\n",
       "  55.68711018562317],\n",
       " 'c_times_16': [0.011560916900634766,\n",
       "  0.012462854385375977,\n",
       "  0.008034706115722656,\n",
       "  0.011310100555419922,\n",
       "  0.010431528091430664,\n",
       "  0.010534286499023438,\n",
       "  0.012412786483764648,\n",
       "  0.009152650833129883],\n",
       " 'd_times_16': [11.4664785861969,\n",
       "  30.302924156188965,\n",
       "  103.92678427696228,\n",
       "  46.26687145233154,\n",
       "  19.827999114990234,\n",
       "  90.11257719993591,\n",
       "  23.60675072669983,\n",
       "  55.84498429298401]}"
      ]
     },
     "execution_count": 10,
     "metadata": {},
     "output_type": "execute_result"
    }
   ],
   "source": [
    "qfib_timings"
   ]
  },
  {
   "cell_type": "code",
   "execution_count": null,
   "metadata": {},
   "outputs": [],
   "source": []
  },
  {
   "cell_type": "code",
   "execution_count": null,
   "metadata": {},
   "outputs": [],
   "source": []
  },
  {
   "cell_type": "code",
   "execution_count": null,
   "metadata": {},
   "outputs": [],
   "source": []
  },
  {
   "cell_type": "code",
   "execution_count": null,
   "metadata": {},
   "outputs": [],
   "source": []
  }
 ],
 "metadata": {
  "kernelspec": {
   "display_name": "Python 3",
   "language": "python",
   "name": "python3"
  },
  "language_info": {
   "codemirror_mode": {
    "name": "ipython",
    "version": 3
   },
   "file_extension": ".py",
   "mimetype": "text/x-python",
   "name": "python",
   "nbconvert_exporter": "python",
   "pygments_lexer": "ipython3",
   "version": "3.6.9"
  }
 },
 "nbformat": 4,
 "nbformat_minor": 2
}
