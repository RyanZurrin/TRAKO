{
 "cells": [
  {
   "cell_type": "code",
   "execution_count": 2,
   "metadata": {},
   "outputs": [
    {
     "name": "stdout",
     "output_type": "stream",
     "text": [
      "Populating the interactive namespace from numpy and matplotlib\n"
     ]
    }
   ],
   "source": [
    "%pylab inline\n",
    "import os, time"
   ]
  },
  {
   "cell_type": "code",
   "execution_count": 3,
   "metadata": {},
   "outputs": [],
   "source": [
    "import pickle"
   ]
  },
  {
   "cell_type": "code",
   "execution_count": 4,
   "metadata": {},
   "outputs": [],
   "source": [
    "DATAFOLDER = '/home/d/Dropbox/TRAKODATA/qfib-data/'"
   ]
  },
  {
   "cell_type": "code",
   "execution_count": 9,
   "metadata": {},
   "outputs": [
    {
     "name": "stdout",
     "output_type": "stream",
     "text": [
      "found tracto60kSD_STREAM1.tck\n",
      "found tracto60kSD_STREAM1.TKOstats.p True\n",
      "found tracto60kSD_STREAM1.TKOstats_w_config.p True\n",
      "found tracto60kSD_STREAM1.DPYstats.p True\n",
      "found tracto60kSD_STREAM1.level9.DPYstats.p True\n",
      "--------------------\n",
      "found tracto60kiFOD10.5.tck\n",
      "found tracto60kiFOD10.5.TKOstats.p True\n",
      "found tracto60kiFOD10.5.TKOstats_w_config.p True\n",
      "found tracto60kiFOD10.5.DPYstats.p True\n",
      "found tracto60kiFOD10.5.level9.DPYstats.p True\n",
      "--------------------\n",
      "found tracto60kiFOD10.1.tck\n",
      "found tracto60kiFOD10.1.TKOstats.p True\n",
      "found tracto60kiFOD10.1.TKOstats_w_config.p True\n",
      "found tracto60kiFOD10.1.DPYstats.p True\n",
      "found tracto60kiFOD10.1.level9.DPYstats.p True\n",
      "--------------------\n",
      "found tracto60kSD_STREAM0.2.tck\n",
      "found tracto60kSD_STREAM0.2.TKOstats.p True\n",
      "found tracto60kSD_STREAM0.2.TKOstats_w_config.p True\n",
      "found tracto60kSD_STREAM0.2.DPYstats.p True\n",
      "found tracto60kSD_STREAM0.2.level9.DPYstats.p True\n",
      "--------------------\n",
      "found tracto60kSD_STREAM0.5.tck\n",
      "found tracto60kSD_STREAM0.5.TKOstats.p True\n",
      "found tracto60kSD_STREAM0.5.TKOstats_w_config.p True\n",
      "found tracto60kSD_STREAM0.5.DPYstats.p True\n",
      "found tracto60kSD_STREAM0.5.level9.DPYstats.p True\n",
      "--------------------\n",
      "found tracto60kSD_STREAM0.1.tck\n",
      "found tracto60kSD_STREAM0.1.TKOstats.p True\n",
      "found tracto60kSD_STREAM0.1.TKOstats_w_config.p True\n",
      "found tracto60kSD_STREAM0.1.DPYstats.p True\n",
      "found tracto60kSD_STREAM0.1.level9.DPYstats.p False\n",
      "--------------------\n",
      "found tracto60kiFOD11.tck\n",
      "found tracto60kiFOD11.TKOstats.p True\n",
      "found tracto60kiFOD11.TKOstats_w_config.p True\n",
      "found tracto60kiFOD11.DPYstats.p False\n",
      "found tracto60kiFOD11.level9.DPYstats.p False\n",
      "--------------------\n",
      "found tracto60kiFOD10.2.tck\n",
      "found tracto60kiFOD10.2.TKOstats.p True\n",
      "found tracto60kiFOD10.2.TKOstats_w_config.p True\n",
      "found tracto60kiFOD10.2.DPYstats.p False\n",
      "found tracto60kiFOD10.2.level9.DPYstats.p False\n",
      "--------------------\n"
     ]
    }
   ],
   "source": [
    "\n",
    "for i,f in enumerate(os.listdir(DATAFOLDER)):\n",
    "    \n",
    "        \n",
    "    if f.endswith('tck'):\n",
    "        \n",
    "        print('found', f)\n",
    "        \n",
    "        qfib_timings = 'qfib_timings.p'\n",
    "        with open(DATAFOLDER+qfib_timings, 'rb') as g:\n",
    "            qfib_timings = pickle.load(g)\n",
    "        \n",
    "        \n",
    "        TKOstats1 = f.replace('tck','TKOstats.p')\n",
    "        TKOstats2 = f.replace('tck','TKOstats_w_config.p')\n",
    "        print('found', TKOstats1, os.path.exists(DATAFOLDER+TKOstats1))\n",
    "        print('found', TKOstats2, os.path.exists(DATAFOLDER+TKOstats2))\n",
    "        \n",
    "        DPYstats1 = f.replace('tck','DPYstats.p')\n",
    "        DPYstats2 = f.replace('tck','level9.DPYstats.p')\n",
    "        print('found', DPYstats1, os.path.exists(DATAFOLDER+DPYstats1))\n",
    "        print('found', DPYstats2, os.path.exists(DATAFOLDER+DPYstats2))\n",
    "        \n",
    "        print('--'*10)"
   ]
  },
  {
   "cell_type": "code",
   "execution_count": 10,
   "metadata": {},
   "outputs": [
    {
     "data": {
      "text/plain": [
       "{'c_times': [39.45578384399414,\n",
       "  102.67816185951233,\n",
       "  359.3684813976288,\n",
       "  157.55048966407776,\n",
       "  68.16506767272949,\n",
       "  311.68651366233826,\n",
       "  84.55333042144775,\n",
       "  192.00671887397766],\n",
       " 'd_times': [11.420461654663086,\n",
       "  29.732500791549683,\n",
       "  103.54405474662781,\n",
       "  45.662731647491455,\n",
       "  19.919580221176147,\n",
       "  90.31327795982361,\n",
       "  23.85236167907715,\n",
       "  55.68711018562317],\n",
       " 'c_times_16': [0.011560916900634766,\n",
       "  0.012462854385375977,\n",
       "  0.008034706115722656,\n",
       "  0.011310100555419922,\n",
       "  0.010431528091430664,\n",
       "  0.010534286499023438,\n",
       "  0.012412786483764648,\n",
       "  0.009152650833129883],\n",
       " 'd_times_16': [11.4664785861969,\n",
       "  30.302924156188965,\n",
       "  103.92678427696228,\n",
       "  46.26687145233154,\n",
       "  19.827999114990234,\n",
       "  90.11257719993591,\n",
       "  23.60675072669983,\n",
       "  55.84498429298401]}"
      ]
     },
     "execution_count": 10,
     "metadata": {},
     "output_type": "execute_result"
    }
   ],
   "source": [
    "qfib_timings"
   ]
  },
  {
   "cell_type": "code",
   "execution_count": null,
   "metadata": {},
   "outputs": [],
   "source": []
  }
 ],
 "metadata": {
  "kernelspec": {
   "display_name": "Python 3",
   "language": "python",
   "name": "python3"
  },
  "language_info": {
   "codemirror_mode": {
    "name": "ipython",
    "version": 3
   },
   "file_extension": ".py",
   "mimetype": "text/x-python",
   "name": "python",
   "nbconvert_exporter": "python",
   "pygments_lexer": "ipython3",
   "version": "3.6.9"
  }
 },
 "nbformat": 4,
 "nbformat_minor": 2
}
