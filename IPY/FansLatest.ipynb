{
 "cells": [
  {
   "cell_type": "code",
   "execution_count": 1,
   "metadata": {},
   "outputs": [
    {
     "name": "stdout",
     "output_type": "stream",
     "text": [
      "Populating the interactive namespace from numpy and matplotlib\n"
     ]
    }
   ],
   "source": [
    "%pylab inline\n",
    "import os, sys, glob\n",
    "%load_ext autoreload\n",
    "%autoreload 2"
   ]
  },
  {
   "cell_type": "code",
   "execution_count": 2,
   "metadata": {},
   "outputs": [],
   "source": [
    "import trako as TKO\n",
    "sys.path.append('MICCAI/')\n",
    "import runner, sprinter\n",
    "from prettytable import PrettyTable"
   ]
  },
  {
   "cell_type": "code",
   "execution_count": 3,
   "metadata": {},
   "outputs": [],
   "source": [
    "DATA_FOLDER = '/home/d/Dropbox/Fan-test-ADHD/'\n",
    "OUT_FOLDER = DATA_FOLDER\n",
    "input = '111_reg_reg_outlier_removed_cluster_00007_orig.vtp'"
   ]
  },
  {
   "cell_type": "code",
   "execution_count": 7,
   "metadata": {},
   "outputs": [
    {
     "name": "stderr",
     "output_type": "stream",
     "text": [
      "/home/d/miniconda3/envs/TRAKODEV/lib/python3.6/site-packages/vtk-8.1.2-py3.6-linux-x86_64.egg/vtk/util/numpy_support.py:137: FutureWarning:\n",
      "\n",
      "Conversion of the second argument of issubdtype from `complex` to `np.complexfloating` is deprecated. In future, it will be treated as `np.complex128 == np.dtype(complex).type`.\n",
      "\n"
     ]
    },
    {
     "name": "stdout",
     "output_type": "stream",
     "text": [
      "2 RTOP1\n",
      "min 0.0\n",
      "max 6.1910105\n",
      "mean 2.608333\n",
      "std 1.5976366\n",
      "3 RTOP2\n",
      "min 0.0\n",
      "max 0.002978325\n",
      "mean 0.0014863791\n",
      "std 0.0008586092\n"
     ]
    }
   ],
   "source": [
    "config = {\n",
    "    'name':'default'\n",
    "}\n",
    "\n",
    "compressed = input.replace('vtp','_'+config['name']+'.tko')\n",
    "restored = input.replace('vtp','_'+config['name']+'_restored.vtp')\n",
    "stats = runner.Runner.tko(DATA_FOLDER, input, \n",
    "                          compressed=os.path.join(OUT_FOLDER,compressed), \n",
    "                          restored=os.path.join(OUT_FOLDER,restored), config=config, force=True)\n",
    "\n",
    "i_poly = TKO.Util.loadvtp(os.path.join(DATA_FOLDER, input))\n",
    "i_scalars = i_poly['scalars']\n",
    "i_nscalars = i_poly['scalar_names']\n",
    "i_properties = i_poly['properties']\n",
    "i_nproperties = i_poly['property_names']\n",
    "\n",
    "r_poly = TKO.Util.loadvtp(os.path.join(OUT_FOLDER, restored))\n",
    "r_scalars = r_poly['scalars']\n",
    "r_properties = r_poly['properties']\n",
    "\n",
    "for i,j in enumerate(i_nscalars):\n",
    "    if j.startswith('RTOP'):\n",
    "        print(i,j)\n",
    "        stats = TKO.Util.error(i_scalars[i], r_scalars[i])\n",
    "        print('min', stats[0][0])\n",
    "        print('max', stats[0][1])\n",
    "        print('mean', stats[0][2])\n",
    "        print('std', stats[0][3])"
   ]
  },
  {
   "cell_type": "code",
   "execution_count": 37,
   "metadata": {},
   "outputs": [
    {
     "data": {
      "text/plain": [
       "[<matplotlib.lines.Line2D at 0x7fdad46a4ac8>]"
      ]
     },
     "execution_count": 37,
     "metadata": {},
     "output_type": "execute_result"
    },
    {
     "data": {
      "image/png": "[encoded data removed]",
      "text/plain": [
       "<Figure size 432x288 with 1 Axes>"
      ]
     },
     "metadata": {
      "needs_background": "light"
     },
     "output_type": "display_data"
    }
   ],
   "source": [
    "originalRTOP1 = np.sort(i_scalars[2])\n",
    "restoredRTOP1 = np.sort(r_scalars[2])\n",
    "ax = plt.gca()\n",
    "ax.set_ylim(0,100)\n",
    "plt.plot(originalRTOP1, color='blue')\n",
    "plt.plot(restoredRTOP1, color='red')"
   ]
  },
  {
   "cell_type": "code",
   "execution_count": null,
   "metadata": {
    "scrolled": false
   },
   "outputs": [
    {
     "name": "stderr",
     "output_type": "stream",
     "text": [
      "/home/d/miniconda3/envs/TRAKODEV/lib/python3.6/site-packages/vtk-8.1.2-py3.6-linux-x86_64.egg/vtk/util/numpy_support.py:137: FutureWarning:\n",
      "\n",
      "Conversion of the second argument of issubdtype from `complex` to `np.complexfloating` is deprecated. In future, it will be treated as `np.complex128 == np.dtype(complex).type`.\n",
      "\n"
     ]
    },
    {
     "name": "stdout",
     "output_type": "stream",
     "text": [
      "2 RTOP1 bitrate 11\n",
      "min 0.0\n",
      "max 49.542862\n",
      "mean 3.6128905\n",
      "std 4.1455026\n"
     ]
    },
    {
     "name": "stderr",
     "output_type": "stream",
     "text": [
      "/home/d/miniconda3/envs/TRAKODEV/lib/python3.6/site-packages/vtk-8.1.2-py3.6-linux-x86_64.egg/vtk/util/numpy_support.py:137: FutureWarning:\n",
      "\n",
      "Conversion of the second argument of issubdtype from `complex` to `np.complexfloating` is deprecated. In future, it will be treated as `np.complex128 == np.dtype(complex).type`.\n",
      "\n"
     ]
    },
    {
     "name": "stdout",
     "output_type": "stream",
     "text": [
      "2 RTOP1 bitrate 12\n",
      "min 0.0\n",
      "max 24.762447\n",
      "mean 3.468589\n",
      "std 3.3259346\n"
     ]
    },
    {
     "name": "stderr",
     "output_type": "stream",
     "text": [
      "/home/d/miniconda3/envs/TRAKODEV/lib/python3.6/site-packages/vtk-8.1.2-py3.6-linux-x86_64.egg/vtk/util/numpy_support.py:137: FutureWarning:\n",
      "\n",
      "Conversion of the second argument of issubdtype from `complex` to `np.complexfloating` is deprecated. In future, it will be treated as `np.complex128 == np.dtype(complex).type`.\n",
      "\n"
     ]
    },
    {
     "name": "stdout",
     "output_type": "stream",
     "text": [
      "2 RTOP1 bitrate 13\n",
      "min 0.0\n",
      "max 12.381079\n",
      "mean 3.2194397\n",
      "std 2.5608344\n"
     ]
    },
    {
     "name": "stderr",
     "output_type": "stream",
     "text": [
      "/home/d/miniconda3/envs/TRAKODEV/lib/python3.6/site-packages/vtk-8.1.2-py3.6-linux-x86_64.egg/vtk/util/numpy_support.py:137: FutureWarning:\n",
      "\n",
      "Conversion of the second argument of issubdtype from `complex` to `np.complexfloating` is deprecated. In future, it will be treated as `np.complex128 == np.dtype(complex).type`.\n",
      "\n"
     ]
    },
    {
     "name": "stdout",
     "output_type": "stream",
     "text": [
      "2 RTOP1 bitrate 14\n",
      "min 0.0\n",
      "max 6.1910105\n",
      "mean 2.608333\n",
      "std 1.5976366\n"
     ]
    },
    {
     "name": "stderr",
     "output_type": "stream",
     "text": [
      "/home/d/miniconda3/envs/TRAKODEV/lib/python3.6/site-packages/vtk-8.1.2-py3.6-linux-x86_64.egg/vtk/util/numpy_support.py:137: FutureWarning:\n",
      "\n",
      "Conversion of the second argument of issubdtype from `complex` to `np.complexfloating` is deprecated. In future, it will be treated as `np.complex128 == np.dtype(complex).type`.\n",
      "\n"
     ]
    },
    {
     "name": "stdout",
     "output_type": "stream",
     "text": [
      "2 RTOP1 bitrate 15\n",
      "min 0.0\n",
      "max 3.0954099\n",
      "mean 1.6187081\n",
      "std 0.7803165\n"
     ]
    },
    {
     "name": "stderr",
     "output_type": "stream",
     "text": [
      "/home/d/miniconda3/envs/TRAKODEV/lib/python3.6/site-packages/vtk-8.1.2-py3.6-linux-x86_64.egg/vtk/util/numpy_support.py:137: FutureWarning:\n",
      "\n",
      "Conversion of the second argument of issubdtype from `complex` to `np.complexfloating` is deprecated. In future, it will be treated as `np.complex128 == np.dtype(complex).type`.\n",
      "\n"
     ]
    },
    {
     "name": "stdout",
     "output_type": "stream",
     "text": [
      "2 RTOP1 bitrate 16\n"
     ]
    }
   ],
   "source": [
    "bitrates = [11,12,13,14,15,16,17,18,19,20]\n",
    "for b in bitrates:\n",
    "    config = {\n",
    "        'name':str(b)+'bit',\n",
    "        'RTOP1': {\n",
    "            'position':False,\n",
    "            'sequential':True,\n",
    "            'quantization_bits': b,\n",
    "            'compression_level':1,\n",
    "            'quantization_range':-1,\n",
    "            'quantization_origin':None\n",
    "          }\n",
    "    }\n",
    "\n",
    "    compressed = input.replace('vtp','_'+config['name']+'.tko')\n",
    "    restored = input.replace('vtp','_'+config['name']+'_restored.vtp')\n",
    "    stats = runner.Runner.tko(DATA_FOLDER, input, \n",
    "                              compressed=os.path.join(OUT_FOLDER,compressed), \n",
    "                              restored=os.path.join(OUT_FOLDER,restored), config=config, verbose=False,force=True)\n",
    "\n",
    "    i_poly = TKO.Util.loadvtp(os.path.join(DATA_FOLDER, input))\n",
    "    i_scalars = i_poly['scalars']\n",
    "    i_nscalars = i_poly['scalar_names']\n",
    "    i_properties = i_poly['properties']\n",
    "    i_nproperties = i_poly['property_names']\n",
    "\n",
    "    r_poly = TKO.Util.loadvtp(os.path.join(OUT_FOLDER, restored))\n",
    "    r_scalars = r_poly['scalars']\n",
    "    r_properties = r_poly['properties']\n",
    "\n",
    "    for i,j in enumerate(i_nscalars):\n",
    "        if j.startswith('RTOP1'):\n",
    "            print(i,j,'bitrate', b)\n",
    "            stats = TKO.Util.error(i_scalars[i], r_scalars[i])\n",
    "            print('min', stats[0][0])\n",
    "            print('max', stats[0][1])\n",
    "            print('mean', stats[0][2])\n",
    "            print('std', stats[0][3])\n",
    "\n",
    "\n",
    "    plt.figure()\n",
    "    originalRTOP1 = np.sort(i_scalars[2])\n",
    "    restoredRTOP1 = np.sort(r_scalars[2])\n",
    "    ax = plt.gca()\n",
    "    ax.set_ylim(0,100)\n",
    "    plt.title('Subject 111, RTOP1, Encoded with Bitrate '+str(b))\n",
    "    plt.plot(originalRTOP1, color='blue')\n",
    "    plt.plot(restoredRTOP1, color='red')"
   ]
  },
  {
   "cell_type": "code",
   "execution_count": null,
   "metadata": {},
   "outputs": [],
   "source": []
  }
 ],
 "metadata": {
  "kernelspec": {
   "display_name": "Python 3",
   "language": "python",
   "name": "python3"
  },
  "language_info": {
   "codemirror_mode": {
    "name": "ipython",
    "version": 3
   },
   "file_extension": ".py",
   "mimetype": "text/x-python",
   "name": "python",
   "nbconvert_exporter": "python",
   "pygments_lexer": "ipython3",
   "version": "3.6.9"
  }
 },
 "nbformat": 4,
 "nbformat_minor": 2
}
