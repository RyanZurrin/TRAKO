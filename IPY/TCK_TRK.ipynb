{
 "cells": [
  {
   "cell_type": "code",
   "execution_count": 59,
   "metadata": {},
   "outputs": [
    {
     "name": "stdout",
     "output_type": "stream",
     "text": [
      "Populating the interactive namespace from numpy and matplotlib\n"
     ]
    }
   ],
   "source": [
    "import os\n",
    "import nibabel as nib\n",
    "import dipy.io.streamline\n",
    "%pylab inline"
   ]
  },
  {
   "cell_type": "markdown",
   "metadata": {},
   "source": [
    "![](tck2.png)"
   ]
  },
  {
   "cell_type": "code",
   "execution_count": 52,
   "metadata": {},
   "outputs": [],
   "source": [
    "DATA = '/home/d/Dropbox/TRAKODATA/ADHD_STFC_diff_for_Daniel_TRK/101/tracts_left_hemisphere/'"
   ]
  },
  {
   "cell_type": "markdown",
   "metadata": {},
   "source": [
    "## Nibabel"
   ]
  },
  {
   "cell_type": "code",
   "execution_count": 39,
   "metadata": {},
   "outputs": [
    {
     "data": {
      "text/plain": [
       "{'.trk': nibabel.streamlines.trk.TrkFile,\n",
       " '.tck': nibabel.streamlines.tck.TckFile}"
      ]
     },
     "execution_count": 39,
     "metadata": {},
     "output_type": "execute_result"
    }
   ],
   "source": [
    "nib.streamlines.FORMATS"
   ]
  },
  {
   "cell_type": "code",
   "execution_count": 66,
   "metadata": {},
   "outputs": [],
   "source": [
    "trk = os.path.join(DATA,'cluster_00001.trk')\n",
    "trk2 = os.path.join(DATA,'cluster_00002.trk')"
   ]
  },
  {
   "cell_type": "code",
   "execution_count": 54,
   "metadata": {},
   "outputs": [
    {
     "name": "stderr",
     "output_type": "stream",
     "text": [
      "/home/d/miniconda3/envs/TRAKODEV/lib/python3.6/site-packages/nibabel/streamlines/trk.py:629: HeaderWarning: Voxel order is not specified, will assume 'LPS' since it is Trackvis software's default.\n",
      "  warnings.warn(msg, HeaderWarning)\n"
     ]
    }
   ],
   "source": [
    "loaded_trk = nib.streamlines.load(trk, lazy_load=False)"
   ]
  },
  {
   "cell_type": "code",
   "execution_count": 55,
   "metadata": {},
   "outputs": [],
   "source": [
    "loaded_trk.save('/tmp/test1.tck')"
   ]
  },
  {
   "cell_type": "code",
   "execution_count": 56,
   "metadata": {},
   "outputs": [],
   "source": [
    "tck = nib.streamlines.TckFile(loaded_trk.tractogram)"
   ]
  },
  {
   "cell_type": "code",
   "execution_count": 57,
   "metadata": {},
   "outputs": [
    {
     "name": "stderr",
     "output_type": "stream",
     "text": [
      "/home/d/miniconda3/envs/TRAKODEV/lib/python3.6/site-packages/nibabel/streamlines/tck.py:218: DataWarning: TCK format does not support saving additional data alongside streamlines. Dropping: EmbeddingCoordinate, ClusterNumber, EmbeddingColor, TotalFiberSimilarity, MeasuredFiberSimilar\n",
      "  warnings.warn(msg, DataWarning)\n",
      "/home/d/miniconda3/envs/TRAKODEV/lib/python3.6/site-packages/nibabel/streamlines/tck.py:225: DataWarning: TCK format does not support saving additional data alongside points. Dropping: NormalizedSignalEsti, EstimatedUncertainty, RTOP1, RTOP2, RTAP1, RTAP2, RTPP1, RTPP2, SignalMean\n",
      "  warnings.warn(msg, DataWarning)\n"
     ]
    }
   ],
   "source": [
    "tck.save('/tmp/test2.tck')"
   ]
  },
  {
   "cell_type": "markdown",
   "metadata": {},
   "source": [
    "![](tck1.png)"
   ]
  },
  {
   "cell_type": "markdown",
   "metadata": {},
   "source": [
    "## Dipy"
   ]
  },
  {
   "cell_type": "code",
   "execution_count": 60,
   "metadata": {},
   "outputs": [
    {
     "name": "stderr",
     "output_type": "stream",
     "text": [
      "/home/d/miniconda3/envs/TRAKODEV/lib/python3.6/site-packages/nibabel/streamlines/trk.py:629: HeaderWarning: Voxel order is not specified, will assume 'LPS' since it is Trackvis software's default.\n",
      "  warnings.warn(msg, HeaderWarning)\n",
      "WARNING:root:Voxel order must be string/char.\n",
      "WARNING:root:Voxel order does not follow convention.\n",
      "WARNING:root:Voxel order must be string/char.\n",
      "WARNING:root:Voxel order does not follow convention.\n",
      "WARNING:root:Voxel order must be string/char.\n",
      "WARNING:root:Voxel order does not follow convention.\n",
      "WARNING:root:Voxel order must be string/char.\n",
      "WARNING:root:Voxel order does not follow convention.\n",
      "WARNING:root:Voxel order must be string/char.\n",
      "WARNING:root:Voxel order does not follow convention.\n",
      "WARNING:root:Voxel order must be string/char.\n",
      "WARNING:root:Voxel order does not follow convention.\n",
      "WARNING:root:Voxel order must be string/char.\n",
      "WARNING:root:Voxel order does not follow convention.\n",
      "WARNING:root:Voxel order must be string/char.\n",
      "WARNING:root:Voxel order does not follow convention.\n",
      "WARNING:root:Voxel order must be string/char.\n",
      "WARNING:root:Voxel order does not follow convention.\n",
      "ERROR:StatefulTractogram:Voxel space values lower than 0.0\n",
      "ERROR:StatefulTractogram:Voxel space values higher than dimensions\n"
     ]
    },
    {
     "ename": "ValueError",
     "evalue": "Bounding box is not valid in voxel space, cannot load a valid file if some coordinates are invalid.Please set bbox_valid_check to False and then usethe function remove_invalid_streamlines to discardinvalid streamlines.",
     "output_type": "error",
     "traceback": [
      "\u001b[0;31m---------------------------------------------------------------------------\u001b[0m",
      "\u001b[0;31mValueError\u001b[0m                                Traceback (most recent call last)",
      "\u001b[0;32m<ipython-input-60-ce47887cd5b1>\u001b[0m in \u001b[0;36m<module>\u001b[0;34m\u001b[0m\n\u001b[0;32m----> 1\u001b[0;31m \u001b[0mdipy\u001b[0m\u001b[0;34m.\u001b[0m\u001b[0mio\u001b[0m\u001b[0;34m.\u001b[0m\u001b[0mstreamline\u001b[0m\u001b[0;34m.\u001b[0m\u001b[0mload_tractogram\u001b[0m\u001b[0;34m(\u001b[0m\u001b[0mtrk\u001b[0m\u001b[0;34m,\u001b[0m \u001b[0;34m'same'\u001b[0m\u001b[0;34m)\u001b[0m\u001b[0;34m\u001b[0m\u001b[0;34m\u001b[0m\u001b[0m\n\u001b[0m",
      "\u001b[0;32m~/miniconda3/envs/TRAKODEV/lib/python3.6/site-packages/dipy/io/streamline.py\u001b[0m in \u001b[0;36mload_tractogram\u001b[0;34m(filename, reference, to_space, to_origin, bbox_valid_check, trk_header_check)\u001b[0m\n\u001b[1;32m    166\u001b[0m \u001b[0;34m\u001b[0m\u001b[0m\n\u001b[1;32m    167\u001b[0m     \u001b[0;32mif\u001b[0m \u001b[0mbbox_valid_check\u001b[0m \u001b[0;32mand\u001b[0m \u001b[0;32mnot\u001b[0m \u001b[0msft\u001b[0m\u001b[0;34m.\u001b[0m\u001b[0mis_bbox_in_vox_valid\u001b[0m\u001b[0;34m(\u001b[0m\u001b[0;34m)\u001b[0m\u001b[0;34m:\u001b[0m\u001b[0;34m\u001b[0m\u001b[0;34m\u001b[0m\u001b[0m\n\u001b[0;32m--> 168\u001b[0;31m         raise ValueError('Bounding box is not valid in voxel space, cannot '\n\u001b[0m\u001b[1;32m    169\u001b[0m                          \u001b[0;34m'load a valid file if some coordinates are invalid.'\u001b[0m\u001b[0;34m\u001b[0m\u001b[0;34m\u001b[0m\u001b[0m\n\u001b[1;32m    170\u001b[0m                          \u001b[0;34m'Please set bbox_valid_check to False and then use'\u001b[0m\u001b[0;34m\u001b[0m\u001b[0;34m\u001b[0m\u001b[0m\n",
      "\u001b[0;31mValueError\u001b[0m: Bounding box is not valid in voxel space, cannot load a valid file if some coordinates are invalid.Please set bbox_valid_check to False and then usethe function remove_invalid_streamlines to discardinvalid streamlines."
     ]
    }
   ],
   "source": [
    "dipy.io.streamline.load_tractogram(trk, 'same')"
   ]
  },
  {
   "cell_type": "markdown",
   "metadata": {},
   "source": [
    "## Nibabel 2nd TRK"
   ]
  },
  {
   "cell_type": "code",
   "execution_count": 68,
   "metadata": {},
   "outputs": [],
   "source": [
    "loaded_trk = nib.streamlines.load(trk2, lazy_load=False)\n",
    "tck = nib.streamlines.TckFile(loaded_trk.tractogram)\n",
    "tck.save('/tmp/test3.tck')"
   ]
  },
  {
   "cell_type": "markdown",
   "metadata": {},
   "source": [
    "![](tck3.png)"
   ]
  },
  {
   "cell_type": "markdown",
   "metadata": {},
   "source": [
    "## Let's test many TRK files"
   ]
  },
  {
   "cell_type": "code",
   "execution_count": 73,
   "metadata": {},
   "outputs": [
    {
     "name": "stderr",
     "output_type": "stream",
     "text": [
      "/home/d/miniconda3/envs/TRAKODEV/lib/python3.6/site-packages/nibabel/streamlines/trk.py:629: HeaderWarning: Voxel order is not specified, will assume 'LPS' since it is Trackvis software's default.\n",
      "  warnings.warn(msg, HeaderWarning)\n",
      "/home/d/miniconda3/envs/TRAKODEV/lib/python3.6/site-packages/nibabel/streamlines/tck.py:218: DataWarning: TCK format does not support saving additional data alongside streamlines. Dropping: EmbeddingCoordinate, ClusterNumber, EmbeddingColor, TotalFiberSimilarity, MeasuredFiberSimilar\n",
      "  warnings.warn(msg, DataWarning)\n",
      "/home/d/miniconda3/envs/TRAKODEV/lib/python3.6/site-packages/nibabel/streamlines/tck.py:225: DataWarning: TCK format does not support saving additional data alongside points. Dropping: NormalizedSignalEsti, EstimatedUncertainty, RTOP1, RTOP2, RTAP1, RTAP2, RTPP1, RTPP2, SignalMean\n",
      "  warnings.warn(msg, DataWarning)\n"
     ]
    }
   ],
   "source": [
    "all_clusters = os.listdir(DATA)\n",
    "for c in all_clusters:\n",
    "    trk = os.path.join(DATA, c)\n",
    "    loaded_trk = nib.streamlines.load(trk, lazy_load=False)\n",
    "    tck = nib.streamlines.TckFile(loaded_trk.tractogram)\n",
    "    out_tck = '/tmp/'+c.replace('trk','tck')\n",
    "    tck.save(out_tck)\n",
    "    \n",
    "    ret = os.system('/home/d/Projects/qfib/qfib '+out_tck+' '+out_tck.replace('tck', 'qfib'))\n",
    "    if ret == 0:\n",
    "        print('Compressed', out_tck)"
   ]
  },
  {
   "cell_type": "code",
   "execution_count": null,
   "metadata": {},
   "outputs": [],
   "source": []
  }
 ],
 "metadata": {
  "kernelspec": {
   "display_name": "Python 3",
   "language": "python",
   "name": "python3"
  },
  "language_info": {
   "codemirror_mode": {
    "name": "ipython",
    "version": 3
   },
   "file_extension": ".py",
   "mimetype": "text/x-python",
   "name": "python",
   "nbconvert_exporter": "python",
   "pygments_lexer": "ipython3",
   "version": "3.6.9"
  }
 },
 "nbformat": 4,
 "nbformat_minor": 2
}
