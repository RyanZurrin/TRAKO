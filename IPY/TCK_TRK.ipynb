{
 "cells": [
  {
   "cell_type": "code",
   "execution_count": 137,
   "metadata": {},
   "outputs": [
    {
     "name": "stdout",
     "output_type": "stream",
     "text": [
      "Populating the interactive namespace from numpy and matplotlib\n"
     ]
    }
   ],
   "source": [
    "import os\n",
    "import nibabel as nib\n",
    "import dipy.io.streamline\n",
    "import TrakoDracoPy\n",
    "import trako as TKO\n",
    "%pylab inline"
   ]
  },
  {
   "cell_type": "markdown",
   "metadata": {},
   "source": [
    "![](tck2.png)"
   ]
  },
  {
   "cell_type": "code",
   "execution_count": 52,
   "metadata": {},
   "outputs": [],
   "source": [
    "DATA = '/home/d/Dropbox/TRAKODATA/ADHD_STFC_diff_for_Daniel_TRK/101/tracts_left_hemisphere/'"
   ]
  },
  {
   "cell_type": "markdown",
   "metadata": {},
   "source": [
    "## Nibabel"
   ]
  },
  {
   "cell_type": "code",
   "execution_count": 39,
   "metadata": {},
   "outputs": [
    {
     "data": {
      "text/plain": [
       "{'.trk': nibabel.streamlines.trk.TrkFile,\n",
       " '.tck': nibabel.streamlines.tck.TckFile}"
      ]
     },
     "execution_count": 39,
     "metadata": {},
     "output_type": "execute_result"
    }
   ],
   "source": [
    "nib.streamlines.FORMATS"
   ]
  },
  {
   "cell_type": "code",
   "execution_count": 66,
   "metadata": {},
   "outputs": [],
   "source": [
    "trk = os.path.join(DATA,'cluster_00001.trk')\n",
    "trk2 = os.path.join(DATA,'cluster_00002.trk')"
   ]
  },
  {
   "cell_type": "code",
   "execution_count": 54,
   "metadata": {},
   "outputs": [
    {
     "name": "stderr",
     "output_type": "stream",
     "text": [
      "/home/d/miniconda3/envs/TRAKODEV/lib/python3.6/site-packages/nibabel/streamlines/trk.py:629: HeaderWarning: Voxel order is not specified, will assume 'LPS' since it is Trackvis software's default.\n",
      "  warnings.warn(msg, HeaderWarning)\n"
     ]
    }
   ],
   "source": [
    "loaded_trk = nib.streamlines.load(trk, lazy_load=False)"
   ]
  },
  {
   "cell_type": "code",
   "execution_count": 55,
   "metadata": {},
   "outputs": [],
   "source": [
    "loaded_trk.save('/tmp/test1.tck')"
   ]
  },
  {
   "cell_type": "code",
   "execution_count": 56,
   "metadata": {},
   "outputs": [],
   "source": [
    "tck = nib.streamlines.TckFile(loaded_trk.tractogram)"
   ]
  },
  {
   "cell_type": "code",
   "execution_count": 57,
   "metadata": {},
   "outputs": [
    {
     "name": "stderr",
     "output_type": "stream",
     "text": [
      "/home/d/miniconda3/envs/TRAKODEV/lib/python3.6/site-packages/nibabel/streamlines/tck.py:218: DataWarning: TCK format does not support saving additional data alongside streamlines. Dropping: EmbeddingCoordinate, ClusterNumber, EmbeddingColor, TotalFiberSimilarity, MeasuredFiberSimilar\n",
      "  warnings.warn(msg, DataWarning)\n",
      "/home/d/miniconda3/envs/TRAKODEV/lib/python3.6/site-packages/nibabel/streamlines/tck.py:225: DataWarning: TCK format does not support saving additional data alongside points. Dropping: NormalizedSignalEsti, EstimatedUncertainty, RTOP1, RTOP2, RTAP1, RTAP2, RTPP1, RTPP2, SignalMean\n",
      "  warnings.warn(msg, DataWarning)\n"
     ]
    }
   ],
   "source": [
    "tck.save('/tmp/test2.tck')"
   ]
  },
  {
   "cell_type": "markdown",
   "metadata": {},
   "source": [
    "![](tck1.png)"
   ]
  },
  {
   "cell_type": "markdown",
   "metadata": {},
   "source": [
    "## Dipy"
   ]
  },
  {
   "cell_type": "code",
   "execution_count": 60,
   "metadata": {},
   "outputs": [
    {
     "name": "stderr",
     "output_type": "stream",
     "text": [
      "/home/d/miniconda3/envs/TRAKODEV/lib/python3.6/site-packages/nibabel/streamlines/trk.py:629: HeaderWarning: Voxel order is not specified, will assume 'LPS' since it is Trackvis software's default.\n",
      "  warnings.warn(msg, HeaderWarning)\n",
      "WARNING:root:Voxel order must be string/char.\n",
      "WARNING:root:Voxel order does not follow convention.\n",
      "WARNING:root:Voxel order must be string/char.\n",
      "WARNING:root:Voxel order does not follow convention.\n",
      "WARNING:root:Voxel order must be string/char.\n",
      "WARNING:root:Voxel order does not follow convention.\n",
      "WARNING:root:Voxel order must be string/char.\n",
      "WARNING:root:Voxel order does not follow convention.\n",
      "WARNING:root:Voxel order must be string/char.\n",
      "WARNING:root:Voxel order does not follow convention.\n",
      "WARNING:root:Voxel order must be string/char.\n",
      "WARNING:root:Voxel order does not follow convention.\n",
      "WARNING:root:Voxel order must be string/char.\n",
      "WARNING:root:Voxel order does not follow convention.\n",
      "WARNING:root:Voxel order must be string/char.\n",
      "WARNING:root:Voxel order does not follow convention.\n",
      "WARNING:root:Voxel order must be string/char.\n",
      "WARNING:root:Voxel order does not follow convention.\n",
      "ERROR:StatefulTractogram:Voxel space values lower than 0.0\n",
      "ERROR:StatefulTractogram:Voxel space values higher than dimensions\n"
     ]
    },
    {
     "ename": "ValueError",
     "evalue": "Bounding box is not valid in voxel space, cannot load a valid file if some coordinates are invalid.Please set bbox_valid_check to False and then usethe function remove_invalid_streamlines to discardinvalid streamlines.",
     "output_type": "error",
     "traceback": [
      "\u001b[0;31m---------------------------------------------------------------------------\u001b[0m",
      "\u001b[0;31mValueError\u001b[0m                                Traceback (most recent call last)",
      "\u001b[0;32m<ipython-input-60-ce47887cd5b1>\u001b[0m in \u001b[0;36m<module>\u001b[0;34m\u001b[0m\n\u001b[0;32m----> 1\u001b[0;31m \u001b[0mdipy\u001b[0m\u001b[0;34m.\u001b[0m\u001b[0mio\u001b[0m\u001b[0;34m.\u001b[0m\u001b[0mstreamline\u001b[0m\u001b[0;34m.\u001b[0m\u001b[0mload_tractogram\u001b[0m\u001b[0;34m(\u001b[0m\u001b[0mtrk\u001b[0m\u001b[0;34m,\u001b[0m \u001b[0;34m'same'\u001b[0m\u001b[0;34m)\u001b[0m\u001b[0;34m\u001b[0m\u001b[0;34m\u001b[0m\u001b[0m\n\u001b[0m",
      "\u001b[0;32m~/miniconda3/envs/TRAKODEV/lib/python3.6/site-packages/dipy/io/streamline.py\u001b[0m in \u001b[0;36mload_tractogram\u001b[0;34m(filename, reference, to_space, to_origin, bbox_valid_check, trk_header_check)\u001b[0m\n\u001b[1;32m    166\u001b[0m \u001b[0;34m\u001b[0m\u001b[0m\n\u001b[1;32m    167\u001b[0m     \u001b[0;32mif\u001b[0m \u001b[0mbbox_valid_check\u001b[0m \u001b[0;32mand\u001b[0m \u001b[0;32mnot\u001b[0m \u001b[0msft\u001b[0m\u001b[0;34m.\u001b[0m\u001b[0mis_bbox_in_vox_valid\u001b[0m\u001b[0;34m(\u001b[0m\u001b[0;34m)\u001b[0m\u001b[0;34m:\u001b[0m\u001b[0;34m\u001b[0m\u001b[0;34m\u001b[0m\u001b[0m\n\u001b[0;32m--> 168\u001b[0;31m         raise ValueError('Bounding box is not valid in voxel space, cannot '\n\u001b[0m\u001b[1;32m    169\u001b[0m                          \u001b[0;34m'load a valid file if some coordinates are invalid.'\u001b[0m\u001b[0;34m\u001b[0m\u001b[0;34m\u001b[0m\u001b[0m\n\u001b[1;32m    170\u001b[0m                          \u001b[0;34m'Please set bbox_valid_check to False and then use'\u001b[0m\u001b[0;34m\u001b[0m\u001b[0;34m\u001b[0m\u001b[0m\n",
      "\u001b[0;31mValueError\u001b[0m: Bounding box is not valid in voxel space, cannot load a valid file if some coordinates are invalid.Please set bbox_valid_check to False and then usethe function remove_invalid_streamlines to discardinvalid streamlines."
     ]
    }
   ],
   "source": [
    "dipy.io.streamline.load_tractogram(trk, 'same')"
   ]
  },
  {
   "cell_type": "markdown",
   "metadata": {},
   "source": [
    "## Nibabel 2nd TRK"
   ]
  },
  {
   "cell_type": "code",
   "execution_count": 68,
   "metadata": {},
   "outputs": [],
   "source": [
    "loaded_trk = nib.streamlines.load(trk2, lazy_load=False)\n",
    "tck = nib.streamlines.TckFile(loaded_trk.tractogram)\n",
    "tck.save('/tmp/test3.tck')"
   ]
  },
  {
   "cell_type": "markdown",
   "metadata": {},
   "source": [
    "![](tck3.png)"
   ]
  },
  {
   "cell_type": "markdown",
   "metadata": {},
   "source": [
    "## Let's test many TRK files"
   ]
  },
  {
   "cell_type": "code",
   "execution_count": 73,
   "metadata": {},
   "outputs": [
    {
     "name": "stderr",
     "output_type": "stream",
     "text": [
      "/home/d/miniconda3/envs/TRAKODEV/lib/python3.6/site-packages/nibabel/streamlines/trk.py:629: HeaderWarning: Voxel order is not specified, will assume 'LPS' since it is Trackvis software's default.\n",
      "  warnings.warn(msg, HeaderWarning)\n",
      "/home/d/miniconda3/envs/TRAKODEV/lib/python3.6/site-packages/nibabel/streamlines/tck.py:218: DataWarning: TCK format does not support saving additional data alongside streamlines. Dropping: EmbeddingCoordinate, ClusterNumber, EmbeddingColor, TotalFiberSimilarity, MeasuredFiberSimilar\n",
      "  warnings.warn(msg, DataWarning)\n",
      "/home/d/miniconda3/envs/TRAKODEV/lib/python3.6/site-packages/nibabel/streamlines/tck.py:225: DataWarning: TCK format does not support saving additional data alongside points. Dropping: NormalizedSignalEsti, EstimatedUncertainty, RTOP1, RTOP2, RTAP1, RTAP2, RTPP1, RTPP2, SignalMean\n",
      "  warnings.warn(msg, DataWarning)\n"
     ]
    }
   ],
   "source": [
    "all_clusters = os.listdir(DATA)\n",
    "for c in all_clusters:\n",
    "    trk = os.path.join(DATA, c)\n",
    "    loaded_trk = nib.streamlines.load(trk, lazy_load=False)\n",
    "    tck = nib.streamlines.TckFile(loaded_trk.tractogram)\n",
    "    out_tck = '/tmp/'+c.replace('trk','tck')\n",
    "    tck.save(out_tck)\n",
    "    \n",
    "    ret = os.system('/home/d/Projects/qfib/qfib '+out_tck+' '+out_tck.replace('tck', 'qfib'))\n",
    "    if ret == 0:\n",
    "        print('Compressed', out_tck)"
   ]
  },
  {
   "cell_type": "code",
   "execution_count": null,
   "metadata": {},
   "outputs": [],
   "source": []
  },
  {
   "cell_type": "markdown",
   "metadata": {},
   "source": [
    "![](tck4.png)"
   ]
  },
  {
   "cell_type": "markdown",
   "metadata": {},
   "source": [
    "![](tck5.png)"
   ]
  },
  {
   "cell_type": "markdown",
   "metadata": {},
   "source": [
    "![](tck6.png)"
   ]
  },
  {
   "cell_type": "markdown",
   "metadata": {},
   "source": [
    "## TRAKO!"
   ]
  },
  {
   "cell_type": "code",
   "execution_count": 76,
   "metadata": {},
   "outputs": [
    {
     "name": "stderr",
     "output_type": "stream",
     "text": [
      "/home/d/miniconda3/envs/TRAKODEV/lib/python3.6/site-packages/nibabel/streamlines/trk.py:629: HeaderWarning: Voxel order is not specified, will assume 'LPS' since it is Trackvis software's default.\n",
      "  warnings.warn(msg, HeaderWarning)\n"
     ]
    },
    {
     "data": {
      "text/plain": [
       "<nibabel.streamlines.trk.TrkFile at 0x7f1103b13d30>"
      ]
     },
     "execution_count": 76,
     "metadata": {},
     "output_type": "execute_result"
    }
   ],
   "source": [
    "loaded_trk = nib.streamlines.load(os.path.join(DATA,'cluster_00788.trk'), lazy_load=False)"
   ]
  },
  {
   "cell_type": "code",
   "execution_count": 79,
   "metadata": {},
   "outputs": [
    {
     "data": {
      "text/plain": [
       "154"
      ]
     },
     "execution_count": 79,
     "metadata": {},
     "output_type": "execute_result"
    }
   ],
   "source": [
    "len(loaded_trk.streamlines)"
   ]
  },
  {
   "cell_type": "code",
   "execution_count": 86,
   "metadata": {},
   "outputs": [
    {
     "data": {
      "text/plain": [
       "array([ 3.06571960e+02,  2.96181366e+02,  2.52009315e+01,  3.06090759e+02,\n",
       "        2.96120605e+02,  2.50871735e+01,  3.05611206e+02,  2.96059998e+02,\n",
       "        2.49701443e+01,  3.05134094e+02,  2.95997589e+02,  2.48480854e+01,\n",
       "        3.04660828e+02,  2.95930328e+02,  2.47182236e+01,  3.04193695e+02,\n",
       "        2.95853790e+02,  2.45766468e+01,  3.03731384e+02,  2.95770325e+02,\n",
       "        2.44270592e+01,  3.03279266e+02,  2.95671722e+02,  2.42611275e+01,\n",
       "        3.02843628e+02,  2.95549835e+02,  2.40727329e+01,  3.02424927e+02,\n",
       "        2.95405151e+02,  2.38661385e+01,  3.02013611e+02,  2.95252502e+02,\n",
       "        2.36530609e+01,  3.01610291e+02,  2.95092072e+02,  2.34330540e+01,\n",
       "        3.01215240e+02,  2.94924042e+02,  2.32061977e+01,  3.00833466e+02,\n",
       "        2.94742767e+02,  2.29692860e+01,  3.00456360e+02,  2.94556305e+02,\n",
       "        2.27309933e+01,  3.00086884e+02,  2.94359528e+02,  2.24908085e+01,\n",
       "        2.99721832e+02,  2.94157776e+02,  2.22500286e+01,  2.99364441e+02,\n",
       "        2.93947784e+02,  2.20067348e+01,  2.99007690e+02,  2.93736450e+02,\n",
       "        2.17657700e+01,  2.98656616e+02,  2.93524048e+02,  2.15198441e+01,\n",
       "        2.98308319e+02,  2.93313324e+02,  2.12709446e+01,  2.97958923e+02,\n",
       "        2.93106445e+02,  2.10227814e+01,  2.97615417e+02,  2.92902039e+02,\n",
       "        2.07671719e+01,  2.97265198e+02,  2.92703186e+02,  2.05186062e+01,\n",
       "        2.96909088e+02,  2.92507904e+02,  2.02777462e+01,  2.96547791e+02,\n",
       "        2.92314545e+02,  2.00450935e+01,  2.96187927e+02,  2.92119415e+02,\n",
       "        1.98139000e+01,  2.95829254e+02,  2.91920807e+02,  1.95857525e+01,\n",
       "        2.95471924e+02,  2.91716614e+02,  1.93623295e+01,  2.95116058e+02,\n",
       "        2.91504272e+02,  1.91458149e+01,  2.94761169e+02,  2.91281738e+02,\n",
       "        1.89395676e+01,  2.94406921e+02,  2.91047211e+02,  1.87471390e+01,\n",
       "        2.94052704e+02,  2.90799774e+02,  1.85726242e+01,  2.93700195e+02,\n",
       "        2.90538422e+02,  1.84171276e+01,  2.93351868e+02,  2.90262665e+02,\n",
       "        1.82797737e+01,  2.93009979e+02,  2.89972595e+02,  1.81588688e+01,\n",
       "        2.92682892e+02,  2.89656403e+02,  1.80676651e+01,  2.92371399e+02,\n",
       "        2.89319611e+02,  1.80021648e+01,  2.92068756e+02,  2.88974243e+02,\n",
       "        1.79462337e+01,  2.91774353e+02,  2.88621460e+02,  1.78992596e+01,\n",
       "        2.91487335e+02,  2.88262390e+02,  1.78619518e+01,  2.91213165e+02,\n",
       "        2.87892731e+02,  1.78409309e+01,  2.90942749e+02,  2.87520630e+02,\n",
       "        1.78475857e+01,  2.90697845e+02,  2.87131073e+02,  1.78517914e+01,\n",
       "        2.90488525e+02,  2.86720032e+02,  1.78523350e+01,  2.90287628e+02,\n",
       "        2.86304901e+02,  1.78621025e+01,  2.90103760e+02,  2.85881409e+02,\n",
       "        1.78789158e+01,  2.89928345e+02,  2.85454132e+02,  1.78997841e+01,\n",
       "        2.89770874e+02,  2.85019043e+02,  1.79268379e+01,  2.89635040e+02,\n",
       "        2.84574585e+02,  1.79510174e+01,  2.89509827e+02,  2.84125671e+02,\n",
       "        1.79720974e+01,  2.89414368e+02,  2.83666199e+02,  1.79905529e+01,\n",
       "        2.89333313e+02,  2.83202026e+02,  1.80077496e+01,  2.89266876e+02,\n",
       "        2.82733459e+02,  1.80244312e+01,  2.89231873e+02,  2.82257568e+02,\n",
       "        1.80411072e+01,  2.89214355e+02,  2.81778137e+02,  1.80580120e+01,\n",
       "        2.89227417e+02,  2.81294250e+02,  1.80715408e+01,  2.89258484e+02,\n",
       "        2.80808228e+02,  1.80835896e+01,  2.89298401e+02,  2.80320618e+02,\n",
       "        1.80881805e+01,  2.89340088e+02,  2.79831696e+02,  1.80819321e+01,\n",
       "        2.89377838e+02,  2.79341949e+02,  1.80644474e+01,  2.89408203e+02,\n",
       "        2.78851929e+02,  1.80371208e+01,  2.89428162e+02,  2.78362152e+02,\n",
       "        1.80008945e+01,  2.89433807e+02,  2.77873688e+02,  1.79554653e+01,\n",
       "        2.89425415e+02,  2.77387085e+02,  1.79022636e+01,  2.89403351e+02,\n",
       "        2.76902832e+02,  1.78422623e+01,  2.89368713e+02,  2.76421234e+02,\n",
       "        1.77759380e+01,  2.89322754e+02,  2.75942596e+02,  1.77030048e+01,\n",
       "        2.89268768e+02,  2.75466370e+02,  1.76238728e+01,  2.89211578e+02,\n",
       "        2.74991333e+02,  1.75396652e+01,  2.89153290e+02,  2.74516998e+02,\n",
       "        1.74499378e+01,  2.89092499e+02,  2.74045135e+02,  1.73493977e+01,\n",
       "        2.89030548e+02,  2.73575043e+02,  1.72404785e+01,  2.88969208e+02,\n",
       "        2.73106262e+02,  1.71233616e+01,  2.88910736e+02,  2.72638824e+02,\n",
       "        1.69965324e+01,  2.88850769e+02,  2.72175201e+02,  1.68573246e+01,\n",
       "        2.88784119e+02,  2.71723663e+02,  1.66909866e+01,  2.88708893e+02,\n",
       "        2.71279602e+02,  1.65129509e+01,  2.88615112e+02,  2.70854218e+02,\n",
       "        1.63115101e+01,  2.88497864e+02,  2.70465057e+02,  1.60705070e+01,\n",
       "        2.88372131e+02,  2.70084534e+02,  1.58232365e+01,  2.88239197e+02,\n",
       "        2.69712921e+02,  1.55691471e+01,  2.88098511e+02,  2.69349487e+02,\n",
       "        1.53100243e+01,  2.87945892e+02,  2.69004669e+02,  1.50382242e+01,\n",
       "        2.87787567e+02,  2.68668365e+02,  1.47610865e+01,  2.87624146e+02,\n",
       "        2.68350433e+02,  1.44698153e+01,  2.87463989e+02,  2.68050049e+02,\n",
       "        1.41616592e+01,  2.87317505e+02,  2.67765656e+02,  1.38340025e+01,\n",
       "        2.87181763e+02,  2.67487274e+02,  1.34968271e+01,  2.87060272e+02,\n",
       "        2.67212433e+02,  1.31508951e+01,  2.86955200e+02,  2.66938660e+02,\n",
       "        1.27976637e+01,  2.86867279e+02,  2.66663086e+02,  1.24393740e+01,\n",
       "        2.86795776e+02,  2.66383087e+02,  1.20785389e+01,  2.86739014e+02,\n",
       "        2.66097412e+02,  1.17169523e+01,  2.86709229e+02,  2.65801453e+02,\n",
       "        1.13553972e+01,  2.86701691e+02,  2.65498505e+02,  1.09943342e+01,\n",
       "        2.86711243e+02,  2.65191833e+02,  1.06334839e+01,  2.86726349e+02,\n",
       "        2.64884094e+02,  1.02727499e+01,  2.86745697e+02,  2.64575348e+02,\n",
       "        9.91229916e+00,  2.86768799e+02,  2.64265076e+02,  9.55254841e+00,\n",
       "        2.86801056e+02,  2.63950043e+02,  9.19530487e+00,  2.86837982e+02,\n",
       "        2.63632141e+02,  8.83976555e+00,  2.86879486e+02,  2.63311371e+02,\n",
       "        8.48603249e+00,  2.86925262e+02,  2.62988037e+02,  8.13402176e+00,\n",
       "        2.86974701e+02,  2.62662140e+02,  7.78383350e+00,  2.87026825e+02,\n",
       "        2.62333160e+02,  7.43585968e+00,  2.87080292e+02,  2.62000366e+02,\n",
       "        7.09068346e+00,  2.87133667e+02,  2.61663177e+02,  6.74874401e+00,\n",
       "        2.87185547e+02,  2.61321350e+02,  6.41025114e+00,  2.87235168e+02,\n",
       "        2.60974976e+02,  6.07527733e+00,  2.87282410e+02,  2.60624237e+02,\n",
       "        5.74375677e+00,  2.87327728e+02,  2.60269623e+02,  5.41547537e+00,\n",
       "        2.87371948e+02,  2.59911835e+02,  5.08999252e+00,  2.87415863e+02,\n",
       "        2.59551666e+02,  4.76674557e+00,  2.87460114e+02,  2.59190063e+02,\n",
       "        4.44510126e+00,  2.87504883e+02,  2.58827728e+02,  4.12453079e+00,\n",
       "        2.87549805e+02,  2.58465240e+02,  3.80465412e+00,  2.87593872e+02,\n",
       "        2.58102966e+02,  3.48516297e+00,  2.87635681e+02,  2.57741211e+02,\n",
       "        3.16583848e+00,  2.87673492e+02,  2.57380188e+02,  2.84647536e+00,\n",
       "        2.87705841e+02,  2.57020081e+02,  2.52695894e+00,  2.87731903e+02,\n",
       "        2.56661102e+02,  2.20724273e+00,  2.87751678e+02,  2.56303131e+02,\n",
       "        1.88743806e+00,  2.87765991e+02,  2.55945999e+02,  1.56780696e+00,\n",
       "        2.87776001e+02,  2.55589157e+02,  1.24876475e+00,  2.87783112e+02,\n",
       "        2.55232010e+02,  9.30804849e-01,  2.87788208e+02,  2.54874084e+02,\n",
       "        6.14305377e-01,  2.87790955e+02,  2.54515503e+02,  2.99222291e-01,\n",
       "        2.87790100e+02,  2.54156784e+02, -1.47563517e-02,  2.87784424e+02,\n",
       "        2.53798447e+02, -3.27957928e-01,  2.87773132e+02,  2.53440781e+02,\n",
       "       -6.40510976e-01,  2.87756073e+02,  2.53083801e+02, -9.52337146e-01,\n",
       "        2.87733795e+02,  2.52727417e+02, -1.26334453e+00,  2.87707031e+02,\n",
       "        2.52371460e+02, -1.57338417e+00,  2.87676147e+02,  2.52015778e+02,\n",
       "       -1.88232791e+00,  2.87641235e+02,  2.51660309e+02, -2.19008183e+00,\n",
       "        2.87602081e+02,  2.51305069e+02, -2.49658060e+00,  2.87558258e+02,\n",
       "        2.50950073e+02, -2.80173445e+00,  2.87508972e+02,  2.50595200e+02,\n",
       "       -3.10527563e+00,  2.87453094e+02,  2.50240219e+02, -3.40679526e+00,\n",
       "        2.87389435e+02,  2.49884842e+02, -3.70574832e+00,  2.87316498e+02,\n",
       "        2.49528824e+02, -4.00155640e+00,  2.87232758e+02,  2.49172089e+02,\n",
       "       -4.29364014e+00,  2.87136505e+02,  2.48814789e+02, -4.58147430e+00,\n",
       "        2.87026581e+02,  2.48457352e+02, -4.86479855e+00,  2.86902557e+02,\n",
       "        2.48100464e+02, -5.14365721e+00,  2.86764648e+02,  2.47744766e+02,\n",
       "       -5.41820049e+00,  2.86613586e+02,  2.47390579e+02, -5.68857908e+00,\n",
       "        2.86450470e+02,  2.47037979e+02, -5.95484209e+00,  2.86276489e+02,\n",
       "        2.46686829e+02, -6.21702766e+00,  2.86092865e+02,  2.46336929e+02,\n",
       "       -6.47522593e+00,  2.85892670e+02,  2.45989090e+02, -6.72652435e+00,\n",
       "        2.85678131e+02,  2.45642883e+02, -6.97100306e+00,  2.85450745e+02,\n",
       "        2.45297668e+02, -7.20832634e+00,  2.85211304e+02,  2.44952255e+02,\n",
       "       -7.43734407e+00,  2.84966217e+02,  2.44605820e+02, -7.66097736e+00,\n",
       "        2.84716370e+02,  2.44257645e+02, -7.87893105e+00,  2.84462891e+02,\n",
       "        2.43907272e+02, -8.09137535e+00,  2.84203949e+02,  2.43552658e+02,\n",
       "       -8.29471207e+00,  2.83941071e+02,  2.43193619e+02, -8.48952293e+00,\n",
       "        2.83674805e+02,  2.42830383e+02, -8.67614746e+00,  2.83405670e+02,\n",
       "        2.42463272e+02, -8.85501480e+00,  2.83135712e+02,  2.42094391e+02,\n",
       "       -9.02994347e+00,  2.82865417e+02,  2.41724274e+02, -9.20179749e+00,\n",
       "        2.82595398e+02,  2.41353546e+02, -9.37170601e+00,  2.82326355e+02,\n",
       "        2.40983063e+02, -9.54113770e+00,  2.82059021e+02,  2.40613556e+02,\n",
       "       -9.71138954e+00,  2.81793701e+02,  2.40245651e+02, -9.88335419e+00,\n",
       "        2.81534454e+02,  2.39881866e+02, -1.00626869e+01,  2.81276489e+02,\n",
       "        2.39519974e+02, -1.02432051e+01,  2.81018982e+02,  2.39159439e+02,\n",
       "       -1.04236498e+01,  2.80762268e+02,  2.38800140e+02, -1.06040649e+01,\n",
       "        2.80507782e+02,  2.38442810e+02, -1.07862263e+01,  2.80255859e+02,\n",
       "        2.38089539e+02, -1.09725046e+01,  2.80006317e+02,  2.37744034e+02,\n",
       "       -1.11664925e+01,  2.79759766e+02,  2.37410629e+02, -1.13725233e+01,\n",
       "        2.79521637e+02,  2.37103241e+02, -1.16050816e+01,  2.79293854e+02,\n",
       "        2.36817230e+02, -1.18585815e+01,  2.79081207e+02,  2.36553375e+02,\n",
       "       -1.21338396e+01,  2.78878113e+02,  2.36300491e+02, -1.24193563e+01,\n",
       "        2.78694946e+02,  2.36066742e+02, -1.27237034e+01,  2.78533936e+02,\n",
       "        2.35851669e+02, -1.30456429e+01,  2.78396820e+02,  2.35654129e+02,\n",
       "       -1.33833990e+01,  2.78285004e+02,  2.35472214e+02, -1.37347803e+01,\n",
       "        2.78199127e+02,  2.35304962e+02, -1.40980043e+01,  2.78167511e+02,\n",
       "        2.35167297e+02, -1.44814053e+01,  2.78211761e+02,  2.35067505e+02,\n",
       "       -1.48817692e+01,  2.78271820e+02,  2.34974304e+02, -1.52836800e+01,\n",
       "        2.78344696e+02,  2.34885010e+02, -1.56859970e+01,  2.78428345e+02,\n",
       "        2.34797562e+02, -1.60879326e+01,  2.78521637e+02,  2.34710922e+02,\n",
       "       -1.64890594e+01,  2.78632416e+02,  2.34624542e+02, -1.68879185e+01,\n",
       "        2.78762207e+02,  2.34538620e+02, -1.72836971e+01,  2.78902863e+02,\n",
       "        2.34453674e+02, -1.76776180e+01,  2.79054047e+02,  2.34369904e+02,\n",
       "       -1.80695972e+01,  2.79215088e+02,  2.34287720e+02, -1.84597321e+01,\n",
       "        2.79385254e+02,  2.34208130e+02, -1.88484287e+01,  2.79564636e+02,\n",
       "        2.34133209e+02, -1.92363014e+01,  2.79755280e+02,  2.34064743e+02,\n",
       "       -1.96232262e+01,  2.79960083e+02,  2.34003082e+02, -2.00080070e+01,\n",
       "        2.80181641e+02,  2.33946289e+02, -2.03884602e+01,  2.80459198e+02,\n",
       "        2.33884933e+02, -2.07407475e+01,  2.80797485e+02,  2.33789368e+02,\n",
       "       -2.10324764e+01,  2.81133453e+02,  2.33690857e+02, -2.13237572e+01,\n",
       "        2.81465851e+02,  2.33588776e+02, -2.16153889e+01,  2.81790680e+02,\n",
       "        2.33478546e+02, -2.19077950e+01,  2.82107971e+02,  2.33360641e+02,\n",
       "       -2.22011013e+01,  2.82424896e+02,  2.33242905e+02, -2.24946423e+01,\n",
       "        2.82739319e+02,  2.33123932e+02, -2.27893600e+01,  2.83049133e+02,\n",
       "        2.33002121e+02, -2.30859146e+01,  2.83354004e+02,  2.32876984e+02,\n",
       "       -2.33843098e+01], dtype=float32)"
      ]
     },
     "execution_count": 86,
     "metadata": {},
     "output_type": "execute_result"
    }
   ],
   "source": [
    "loaded_trk.streamlines[0].ravel()"
   ]
  },
  {
   "cell_type": "code",
   "execution_count": 127,
   "metadata": {},
   "outputs": [],
   "source": [
    "fiberlengths = []\n",
    "streamlines = np.array([], dtype=np.float32)\n",
    "for s in loaded_trk.streamlines:\n",
    "    fiberlengths.append(len(s))\n",
    "    streamlines = np.append(streamlines, s.ravel())\n",
    "    "
   ]
  },
  {
   "cell_type": "code",
   "execution_count": 157,
   "metadata": {
    "scrolled": false
   },
   "outputs": [
    {
     "name": "stdout",
     "output_type": "stream",
     "text": [
      "================================================================================\n",
      "QB 1\n",
      "Bare minimum Trako Bytesize 1150\n",
      "Max error 53.97984313964844\n",
      "Mean error 36.695523335269954\n",
      "Min error 0.0\n",
      "Compression Ratio 99.718 %\n",
      "Compression Factor 354.6x\n",
      "================================================================================\n",
      "QB 2\n",
      "Bare minimum Trako Bytesize 1460\n",
      "Max error 17.993179321289062\n",
      "Mean error 8.278067536712234\n",
      "Min error 0.0\n",
      "Compression Ratio 99.642 %\n",
      "Compression Factor 279.3x\n",
      "================================================================================\n",
      "QB 3\n",
      "Bare minimum Trako Bytesize 2490\n",
      "Max error 7.7113037109375\n",
      "Mean error 3.5948856211451474\n",
      "Min error 0.0\n",
      "Compression Ratio 99.3894 %\n",
      "Compression Factor 163.8x\n",
      "================================================================================\n",
      "QB 4\n",
      "Bare minimum Trako Bytesize 3999\n",
      "Max error 3.5986385345458984\n",
      "Mean error 1.828188874816907\n",
      "Min error 0.0\n",
      "Compression Ratio 99.0194 %\n",
      "Compression Factor 102.0x\n",
      "================================================================================\n",
      "QB 5\n",
      "Bare minimum Trako Bytesize 6422\n",
      "Max error 1.74127197265625\n",
      "Mean error 0.872993690183086\n",
      "Min error 0.0\n",
      "Compression Ratio 98.4252 %\n",
      "Compression Factor 63.5x\n",
      "================================================================================\n",
      "QB 6\n",
      "Bare minimum Trako Bytesize 10179\n",
      "Max error 0.8568267822265625\n",
      "Mean error 0.42657980979343096\n",
      "Min error 0.0\n",
      "Compression Ratio 97.5039 %\n",
      "Compression Factor 40.1x\n",
      "================================================================================\n",
      "QB 7\n",
      "Bare minimum Trako Bytesize 15600\n",
      "Max error 0.42502784729003906\n",
      "Mean error 0.21265601040120813\n",
      "Min error 0.0\n",
      "Compression Ratio 96.1746 %\n",
      "Compression Factor 26.1x\n",
      "================================================================================\n",
      "QB 8\n",
      "Bare minimum Trako Bytesize 21959\n",
      "Max error 0.211700439453125\n",
      "Mean error 0.10654527521858156\n",
      "Min error 0.0\n",
      "Compression Ratio 94.6152 %\n",
      "Compression Factor 18.6x\n",
      "================================================================================\n",
      "QB 9\n",
      "Bare minimum Trako Bytesize 32599\n",
      "Max error 0.10563337802886963\n",
      "Mean error 0.052483728793951544\n",
      "Min error 0.0\n",
      "Compression Ratio 92.0061 %\n",
      "Compression Factor 12.5x\n",
      "================================================================================\n",
      "QB 10\n",
      "Bare minimum Trako Bytesize 44584\n",
      "Max error 0.052764892578125\n",
      "Mean error 0.02645572827631012\n",
      "Min error 0.0\n",
      "Compression Ratio 89.0671 %\n",
      "Compression Factor 9.1x\n",
      "================================================================================\n",
      "QB 11\n",
      "Bare minimum Trako Bytesize 57056\n",
      "Max error 0.02637195587158203\n",
      "Mean error 0.013204875372125198\n",
      "Min error 0.0\n",
      "Compression Ratio 86.0087 %\n",
      "Compression Factor 7.1x\n",
      "================================================================================\n",
      "QB 12\n",
      "Bare minimum Trako Bytesize 69775\n",
      "Max error 0.013185501098632812\n",
      "Mean error 0.0065770531052293055\n",
      "Min error 0.0\n",
      "Compression Ratio 82.8897 %\n",
      "Compression Factor 5.8x\n",
      "================================================================================\n",
      "QB 13\n",
      "Bare minimum Trako Bytesize 82471\n",
      "Max error 0.0065975189208984375\n",
      "Mean error 0.0032831828585835553\n",
      "Min error 0.0\n",
      "Compression Ratio 79.7764 %\n",
      "Compression Factor 4.9x\n",
      "================================================================================\n",
      "QB 14\n",
      "Bare minimum Trako Bytesize 95363\n",
      "Max error 0.0033054351806640625\n",
      "Mean error 0.0016480343022186677\n",
      "Min error 0.0\n",
      "Compression Ratio 76.615 %\n",
      "Compression Factor 4.3x\n"
     ]
    }
   ],
   "source": [
    "c_fiberlengths = TrakoDracoPy.encode_point_cloud_to_buffer(fiberlengths, position=False, sequential=True, \n",
    "        quantization_bits=14, compression_level=1, quantization_range=-1, quantization_origin=None)\n",
    "\n",
    "for qb in range(1,15):\n",
    "\n",
    "    position = True\n",
    "    sequential = True\n",
    "    # qb=10 #quantization bits\n",
    "    cl=1 #compression level\n",
    "    qrange=-1\n",
    "    qorigin=None\n",
    "    c_streamlines = TrakoDracoPy.encode_point_cloud_to_buffer(streamlines, position=position, sequential=sequential, \n",
    "              quantization_bits=qb, compression_level=cl, quantization_range=qrange, quantization_origin=qorigin)\n",
    "    print('='*80)\n",
    "    print('QB', qb)\n",
    "    print('Bare minimum Trako Bytesize', len(c_fiberlengths+c_streamlines))\n",
    "\n",
    "    # now decode again\n",
    "    r_streamlines = TrakoDracoPy.decode_point_cloud_buffer(c_streamlines).points\n",
    "\n",
    "    stats = TKO.Util.error(streamlines, r_streamlines)[0]\n",
    "    print('Max error', stats[1])\n",
    "    print('Mean error', stats[2])\n",
    "    print('Min error', stats[0])\n",
    "    print('Compression Ratio', round((1-len(c_fiberlengths+c_streamlines)/float(streamlines.nbytes))*100,4), '%')\n",
    "    print('Compression Factor', str(round(float(streamlines.nbytes) / len(c_fiberlengths+c_streamlines),1))+'x')"
   ]
  },
  {
   "cell_type": "code",
   "execution_count": null,
   "metadata": {},
   "outputs": [],
   "source": []
  }
 ],
 "metadata": {
  "kernelspec": {
   "display_name": "Python 3",
   "language": "python",
   "name": "python3"
  },
  "language_info": {
   "codemirror_mode": {
    "name": "ipython",
    "version": 3
   },
   "file_extension": ".py",
   "mimetype": "text/x-python",
   "name": "python",
   "nbconvert_exporter": "python",
   "pygments_lexer": "ipython3",
   "version": "3.6.9"
  }
 },
 "nbformat": 4,
 "nbformat_minor": 2
}
