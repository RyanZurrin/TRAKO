{
 "cells": [
  {
   "cell_type": "code",
   "execution_count": 3,
   "metadata": {},
   "outputs": [
    {
     "name": "stdout",
     "output_type": "stream",
     "text": [
      "Populating the interactive namespace from numpy and matplotlib\n"
     ]
    }
   ],
   "source": [
    "%pylab inline\n",
    "import os\n",
    "import trako as TKO\n",
    "\n",
    "%load_ext autoreload\n",
    "%autoreload 2"
   ]
  },
  {
   "cell_type": "code",
   "execution_count": 4,
   "metadata": {},
   "outputs": [],
   "source": [
    "tko_file = '/tmp/test.tko'"
   ]
  },
  {
   "cell_type": "code",
   "execution_count": 9,
   "metadata": {},
   "outputs": [
    {
     "name": "stdout",
     "output_type": "stream",
     "text": [
      "Restored NormalizedSignalEstimationError\n",
      "Restored EstimatedUncertainty\n",
      "Restored RTOP1\n",
      "Restored RTOP2\n",
      "Restored RTAP1\n",
      "Restored RTAP2\n",
      "Restored RTPP1\n",
      "Restored RTPP2\n",
      "Restored SignalMean\n"
     ]
    }
   ],
   "source": [
    "polydata = TKO.Decoder.toVtp(tko_file)"
   ]
  },
  {
   "cell_type": "code",
   "execution_count": 10,
   "metadata": {},
   "outputs": [
    {
     "name": "stdout",
     "output_type": "stream",
     "text": [
      "vtkPolyData (0x5563b3f57280)\n",
      "  Debug: Off\n",
      "  Modified Time: 206\n",
      "  Reference Count: 1\n",
      "  Registered Events: (none)\n",
      "  Information: 0x5563b3f56870\n",
      "  Data Released: False\n",
      "  Global Release Data: Off\n",
      "  UpdateTime: 0\n",
      "  Field Data:\n",
      "    Debug: Off\n",
      "    Modified Time: 153\n",
      "    Reference Count: 1\n",
      "    Registered Events: (none)\n",
      "    Number Of Arrays: 0\n",
      "    Number Of Components: 0\n",
      "    Number Of Tuples: 0\n",
      "  Number Of Points: 0\n",
      "  Number Of Cells: 0\n",
      "  Cell Data:\n",
      "    Debug: Off\n",
      "    Modified Time: 156\n",
      "    Reference Count: 1\n",
      "    Registered Events: \n",
      "      Registered Observers:\n",
      "        vtkObserver (0x5563b3fcd410)\n",
      "          Event: 33\n",
      "          EventName: ModifiedEvent\n",
      "          Command: 0x5563b3fcfa20\n",
      "          Priority: 0\n",
      "          Tag: 1\n",
      "    Number Of Arrays: 0\n",
      "    Number Of Components: 0\n",
      "    Number Of Tuples: 0\n",
      "    Copy Tuple Flags: ( 1 1 1 1 1 0 1 1 )\n",
      "    Interpolate Flags: ( 1 1 1 1 1 0 0 1 )\n",
      "    Pass Through Flags: ( 1 1 1 1 1 1 1 1 )\n",
      "    Scalars: (none)\n",
      "    Vectors: (none)\n",
      "    Normals: (none)\n",
      "    TCoords: (none)\n",
      "    Tensors: (none)\n",
      "    GlobalIds: (none)\n",
      "    PedigreeIds: (none)\n",
      "    EdgeFlag: (none)\n",
      "  Point Data:\n",
      "    Debug: Off\n",
      "    Modified Time: 206\n",
      "    Reference Count: 1\n",
      "    Registered Events: \n",
      "      Registered Observers:\n",
      "        vtkObserver (0x5563b3f2f3c0)\n",
      "          Event: 33\n",
      "          EventName: ModifiedEvent\n",
      "          Command: 0x5563b3fcfa20\n",
      "          Priority: 0\n",
      "          Tag: 1\n",
      "    Number Of Arrays: 9\n",
      "    Array 0 name = NormalizedSignalEstimationError\n",
      "    Array 1 name = EstimatedUncertainty\n",
      "    Array 2 name = RTOP1\n",
      "    Array 3 name = RTOP2\n",
      "    Array 4 name = RTAP1\n",
      "    Array 5 name = RTAP2\n",
      "    Array 6 name = RTPP1\n",
      "    Array 7 name = RTPP2\n",
      "    Array 8 name = SignalMean\n",
      "    Number Of Components: 9\n",
      "    Number Of Tuples: 22585\n",
      "    Copy Tuple Flags: ( 1 1 1 1 1 0 1 1 )\n",
      "    Interpolate Flags: ( 1 1 1 1 1 0 0 1 )\n",
      "    Pass Through Flags: ( 1 1 1 1 1 1 1 1 )\n",
      "    Scalars: (none)\n",
      "    Vectors: (none)\n",
      "    Normals: (none)\n",
      "    TCoords: (none)\n",
      "    Tensors: (none)\n",
      "    GlobalIds: (none)\n",
      "    PedigreeIds: (none)\n",
      "    EdgeFlag: (none)\n",
      "  Bounds: \n",
      "    Xmin,Xmax: (1, -1)\n",
      "    Ymin,Ymax: (1, -1)\n",
      "    Zmin,Zmax: (1, -1)\n",
      "  Compute Time: 0\n",
      "  Number Of Points: 0\n",
      "  Point Coordinates: 0\n",
      "  Locator: 0\n",
      "  Number Of Vertices: 0\n",
      "  Number Of Lines: 0\n",
      "  Number Of Polygons: 0\n",
      "  Number Of Triangle Strips: 0\n",
      "  Number Of Pieces: 1\n",
      "  Piece: -1\n",
      "  Ghost Level: 0\n",
      "\n",
      "\n"
     ]
    }
   ],
   "source": [
    "print(polydata)"
   ]
  },
  {
   "cell_type": "code",
   "execution_count": null,
   "metadata": {},
   "outputs": [],
   "source": []
  },
  {
   "cell_type": "code",
   "execution_count": null,
   "metadata": {},
   "outputs": [],
   "source": []
  },
  {
   "cell_type": "code",
   "execution_count": null,
   "metadata": {},
   "outputs": [],
   "source": []
  },
  {
   "cell_type": "code",
   "execution_count": null,
   "metadata": {},
   "outputs": [],
   "source": []
  },
  {
   "cell_type": "code",
   "execution_count": 3,
   "metadata": {},
   "outputs": [],
   "source": [
    "import pygltflib\n",
    "from pygltflib import *"
   ]
  },
  {
   "cell_type": "code",
   "execution_count": 6,
   "metadata": {},
   "outputs": [],
   "source": [
    "gltf = pygltflib.GLTF2.load_json(tko_file)"
   ]
  },
  {
   "cell_type": "code",
   "execution_count": 13,
   "metadata": {},
   "outputs": [],
   "source": [
    "m = gltf.meshes[0]"
   ]
  },
  {
   "cell_type": "code",
   "execution_count": 38,
   "metadata": {},
   "outputs": [
    {
     "name": "stdout",
     "output_type": "stream",
     "text": [
      "POSITION 0\n",
      "NORMAL None\n",
      "TANGENT None\n",
      "TEXCOORD_0 None\n",
      "TEXCOORD_1 None\n",
      "COLOR_0 None\n",
      "JOINTS_0 None\n",
      "WEIGHTS_0 None\n",
      "_NormalizedSignalEstimationError 1\n",
      "_EstimatedUncertainty 2\n",
      "_RTOP1 3\n",
      "_RTOP2 4\n",
      "_RTAP1 5\n",
      "_RTAP2 6\n",
      "_RTPP1 7\n",
      "_RTPP2 8\n",
      "_SignalMean 9\n"
     ]
    }
   ],
   "source": [
    "for k,v in m.primitives[0].attributes.__dict__.items():\n",
    "    print(k,v)"
   ]
  },
  {
   "cell_type": "code",
   "execution_count": 31,
   "metadata": {},
   "outputs": [
    {
     "data": {
      "text/plain": [
       "'{\"POSITION\": 0, \"NORMAL\": null, \"TANGENT\": null, \"TEXCOORD_0\": null, \"TEXCOORD_1\": null, \"COLOR_0\": null, \"JOINTS_0\": null, \"WEIGHTS_0\": null, \"_NormalizedSignalEstimationError\": 1, \"_EstimatedUncertainty\": 2, \"_RTOP1\": 3, \"_RTOP2\": 4, \"_RTAP1\": 5, \"_RTAP2\": 6, \"_RTPP1\": 7, \"_RTPP2\": 8, \"_SignalMean\": 9}'"
      ]
     },
     "execution_count": 31,
     "metadata": {},
     "output_type": "execute_result"
    }
   ],
   "source": [
    "m.primitives[0].attributes"
   ]
  },
  {
   "cell_type": "code",
   "execution_count": 118,
   "metadata": {},
   "outputs": [
    {
     "data": {
      "text/plain": [
       "'VEC3'"
      ]
     },
     "execution_count": 118,
     "metadata": {},
     "output_type": "execute_result"
    }
   ],
   "source": [
    "gltf.accessors[0].type"
   ]
  },
  {
   "cell_type": "code",
   "execution_count": 120,
   "metadata": {},
   "outputs": [
    {
     "data": {
      "text/plain": [
       "'VEC3'"
      ]
     },
     "execution_count": 120,
     "metadata": {},
     "output_type": "execute_result"
    }
   ],
   "source": [
    "pygltflib.VEC3"
   ]
  },
  {
   "cell_type": "code",
   "execution_count": 119,
   "metadata": {},
   "outputs": [
    {
     "data": {
      "text/plain": [
       "Accessor(extensions={}, extras={}, bufferView=0, byteOffset=0, componentType=5126, count=22585, type='VEC3', sparse=None, max=[-14.669356346130371, 34.4117546081543, 61.43050003051758], min=[-50.22949981689453, -28.40743064880371, 23.60434913635254], name=None)"
      ]
     },
     "execution_count": 119,
     "metadata": {},
     "output_type": "execute_result"
    }
   ],
   "source": [
    "gltf.accessors[0]"
   ]
  },
  {
   "cell_type": "code",
   "execution_count": 40,
   "metadata": {},
   "outputs": [
    {
     "data": {
      "text/plain": [
       "0"
      ]
     },
     "execution_count": 40,
     "metadata": {},
     "output_type": "execute_result"
    }
   ],
   "source": [
    "gltf.accessors[0].bufferView"
   ]
  },
  {
   "cell_type": "code",
   "execution_count": 125,
   "metadata": {},
   "outputs": [
    {
     "data": {
      "text/plain": [
       "34962"
      ]
     },
     "execution_count": 125,
     "metadata": {},
     "output_type": "execute_result"
    }
   ],
   "source": [
    "gltf.bufferViews[1].target"
   ]
  },
  {
   "cell_type": "code",
   "execution_count": 128,
   "metadata": {},
   "outputs": [
    {
     "data": {
      "text/plain": [
       "<module 'pygltflib' from '/home/d/miniconda3/envs/ABCD/lib/python3.7/site-packages/pygltflib/__init__.py'>"
      ]
     },
     "execution_count": 128,
     "metadata": {},
     "output_type": "execute_result"
    }
   ],
   "source": [
    "pygltflib.\n"
   ]
  },
  {
   "cell_type": "code",
   "execution_count": 121,
   "metadata": {},
   "outputs": [
    {
     "data": {
      "text/plain": [
       "Buffer(extensions={}, extras={}, uri='data:application/octet-stream;base64,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', byteLength=70603)"
      ]
     },
     "execution_count": 121,
     "metadata": {},
     "output_type": "execute_result"
    }
   ],
   "source": [
    "gltf.buffers[0]"
   ]
  },
  {
   "cell_type": "code",
   "execution_count": 48,
   "metadata": {},
   "outputs": [
    {
     "data": {
      "text/plain": [
       "37"
      ]
     },
     "execution_count": 48,
     "metadata": {},
     "output_type": "execute_result"
    }
   ],
   "source": [
    "len('data:application/octet-stream;base64,')"
   ]
  },
  {
   "cell_type": "code",
   "execution_count": 44,
   "metadata": {},
   "outputs": [],
   "source": [
    "import base64"
   ]
  },
  {
   "cell_type": "code",
   "execution_count": 51,
   "metadata": {},
   "outputs": [],
   "source": [
    "bytes = base64.b64decode(gltf.buffers[0].uri[37:])"
   ]
  },
  {
   "cell_type": "code",
   "execution_count": 54,
   "metadata": {},
   "outputs": [
    {
     "data": {
      "text/plain": [
       "True"
      ]
     },
     "execution_count": 54,
     "metadata": {},
     "output_type": "execute_result"
    }
   ],
   "source": [
    "bytes[0:5] == b'DRACO'"
   ]
  },
  {
   "cell_type": "code",
   "execution_count": 55,
   "metadata": {},
   "outputs": [],
   "source": [
    "import DracoPy"
   ]
  },
  {
   "cell_type": "code",
   "execution_count": 110,
   "metadata": {},
   "outputs": [],
   "source": []
  },
  {
   "cell_type": "code",
   "execution_count": 113,
   "metadata": {},
   "outputs": [],
   "source": [
    "draco_points = DracoPy.decode_point_cloud_buffer(bytes).points\n",
    "draco_points_reshaped = np.array(draco_points, dtype=np.float32).reshape(int(len(draco_points)/3), 3)\n",
    "points.SetData(numpy_support.numpy_to_vtk(draco_points_reshaped))"
   ]
  },
  {
   "cell_type": "code",
   "execution_count": 58,
   "metadata": {},
   "outputs": [],
   "source": [
    "import vtk\n",
    "from vtk.util import numpy_support"
   ]
  },
  {
   "cell_type": "code",
   "execution_count": 97,
   "metadata": {},
   "outputs": [],
   "source": [
    "polydata = vtk.vtkPolyData()"
   ]
  },
  {
   "cell_type": "code",
   "execution_count": 103,
   "metadata": {},
   "outputs": [],
   "source": [
    "points = vtk.vtkPoints()"
   ]
  },
  {
   "cell_type": "code",
   "execution_count": 115,
   "metadata": {},
   "outputs": [],
   "source": []
  },
  {
   "cell_type": "code",
   "execution_count": 116,
   "metadata": {},
   "outputs": [
    {
     "name": "stdout",
     "output_type": "stream",
     "text": [
      "vtkPoints (0x5619d09ae660)\n",
      "  Debug: Off\n",
      "  Modified Time: 234\n",
      "  Reference Count: 1\n",
      "  Registered Events: (none)\n",
      "  Data: 0x5619d09c1130\n",
      "  Data Array Name: Points\n",
      "  Number Of Points: 22585\n",
      "  Bounds: \n",
      "    Xmin,Xmax: (-50.2295, -14.6692)\n",
      "    Ymin,Ymax: (-28.4074, 34.4118)\n",
      "    Zmin,Zmax: (23.6043, 61.4308)\n",
      "\n",
      "\n"
     ]
    }
   ],
   "source": [
    "print(points)"
   ]
  },
  {
   "cell_type": "code",
   "execution_count": 90,
   "metadata": {},
   "outputs": [],
   "source": [
    "polydata.SetPoints(points)"
   ]
  },
  {
   "cell_type": "code",
   "execution_count": 96,
   "metadata": {},
   "outputs": [
    {
     "name": "stdout",
     "output_type": "stream",
     "text": [
      "None\n"
     ]
    }
   ],
   "source": [
    "print(polydata.GetPoints())"
   ]
  },
  {
   "cell_type": "code",
   "execution_count": 83,
   "metadata": {},
   "outputs": [
    {
     "data": {
      "text/plain": [
       "array([-45.17191 ,  17.053366,  23.953281, ..., -32.874947, -14.400321,\n",
       "        48.600883], dtype=float32)"
      ]
     },
     "execution_count": 83,
     "metadata": {},
     "output_type": "execute_result"
    }
   ],
   "source": [
    "np.array(, dtype=np.float32).reshape()"
   ]
  },
  {
   "cell_type": "code",
   "execution_count": 109,
   "metadata": {},
   "outputs": [
    {
     "data": {
      "text/plain": [
       "67755"
      ]
     },
     "execution_count": 109,
     "metadata": {},
     "output_type": "execute_result"
    }
   ],
   "source": [
    "len()"
   ]
  },
  {
   "cell_type": "code",
   "execution_count": 114,
   "metadata": {},
   "outputs": [
    {
     "data": {
      "text/plain": [
       "array([[-45.17191 ,  17.053366,  23.953281],\n",
       "       [-44.730953,  17.03036 ,  24.137333],\n",
       "       [-44.289993,  17.011187,  24.321384],\n",
       "       ...,\n",
       "       [-33.028324, -13.852   ,  47.80716 ],\n",
       "       [-32.951637, -14.124244,  48.20594 ],\n",
       "       [-32.874947, -14.400321,  48.600883]], dtype=float32)"
      ]
     },
     "execution_count": 114,
     "metadata": {},
     "output_type": "execute_result"
    }
   ],
   "source": [
    "draco_points_reshaped"
   ]
  },
  {
   "cell_type": "code",
   "execution_count": 129,
   "metadata": {},
   "outputs": [],
   "source": [
    "scalars = vtk.vtkPointData()"
   ]
  },
  {
   "cell_type": "code",
   "execution_count": 130,
   "metadata": {},
   "outputs": [
    {
     "data": {
      "text/plain": [
       "(vtkCommonDataModelPython.vtkPointData)0x7f231d4b6fa8"
      ]
     },
     "execution_count": 130,
     "metadata": {},
     "output_type": "execute_result"
    }
   ],
   "source": [
    "scalars.Set"
   ]
  },
  {
   "cell_type": "code",
   "execution_count": 132,
   "metadata": {},
   "outputs": [],
   "source": [
    "scalars = polydata.GetPointData()"
   ]
  },
  {
   "cell_type": "code",
   "execution_count": 138,
   "metadata": {},
   "outputs": [],
   "source": [
    "aaa = numpy_support.numpy_to_vtk(np.array([1,2,3]))"
   ]
  },
  {
   "cell_type": "code",
   "execution_count": 139,
   "metadata": {},
   "outputs": [],
   "source": [
    "aaa.SetName('hans')"
   ]
  },
  {
   "cell_type": "code",
   "execution_count": 140,
   "metadata": {},
   "outputs": [
    {
     "data": {
      "text/plain": [
       "3"
      ]
     },
     "execution_count": 140,
     "metadata": {},
     "output_type": "execute_result"
    }
   ],
   "source": [
    "scalars.AddArray(aaa)"
   ]
  },
  {
   "cell_type": "code",
   "execution_count": 142,
   "metadata": {},
   "outputs": [
    {
     "name": "stdout",
     "output_type": "stream",
     "text": [
      "vtkPointData (0x5619d074d4e0)\n",
      "  Debug: Off\n",
      "  Modified Time: 253\n",
      "  Reference Count: 2\n",
      "  Registered Events: \n",
      "    Registered Observers:\n",
      "      vtkObserver (0x5619d0b476d0)\n",
      "        Event: 33\n",
      "        EventName: ModifiedEvent\n",
      "        Command: 0x5619d0acda00\n",
      "        Priority: 0\n",
      "        Tag: 1\n",
      "  Number Of Arrays: 4\n",
      "  Array 0 name = nullptr\n",
      "  Array 1 name = nullptr\n",
      "  Array 2 name = nullptr\n",
      "  Array 3 name = hans\n",
      "  Number Of Components: 4\n",
      "  Number Of Tuples: 3\n",
      "  Copy Tuple Flags: ( 1 1 1 1 1 0 1 1 )\n",
      "  Interpolate Flags: ( 1 1 1 1 1 0 0 1 )\n",
      "  Pass Through Flags: ( 1 1 1 1 1 1 1 1 )\n",
      "  Scalars: (none)\n",
      "  Vectors: (none)\n",
      "  Normals: (none)\n",
      "  TCoords: (none)\n",
      "  Tensors: (none)\n",
      "  GlobalIds: (none)\n",
      "  PedigreeIds: (none)\n",
      "  EdgeFlag: (none)\n",
      "\n",
      "\n"
     ]
    }
   ],
   "source": [
    "print(scalars)"
   ]
  },
  {
   "cell_type": "code",
   "execution_count": null,
   "metadata": {},
   "outputs": [],
   "source": []
  }
 ],
 "metadata": {
  "kernelspec": {
   "display_name": "Python 3",
   "language": "python",
   "name": "python3"
  },
  "language_info": {
   "codemirror_mode": {
    "name": "ipython",
    "version": 3
   },
   "file_extension": ".py",
   "mimetype": "text/x-python",
   "name": "python",
   "nbconvert_exporter": "python",
   "pygments_lexer": "ipython3",
   "version": "3.7.1"
  }
 },
 "nbformat": 4,
 "nbformat_minor": 2
}
