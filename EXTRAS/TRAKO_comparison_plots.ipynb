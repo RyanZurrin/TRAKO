{
 "cells": [
  {
   "cell_type": "code",
   "execution_count": 1,
   "metadata": {},
   "outputs": [],
   "source": [
    "import numpy as np\n",
    "import pandas as pd\n",
    "from matplotlib.pyplot import imshow\n",
    "import matplotlib.pyplot as plt\n",
    "%matplotlib inline"
   ]
  },
  {
   "cell_type": "code",
   "execution_count": 2,
   "metadata": {},
   "outputs": [],
   "source": [
    "# Enter raw data\n",
    "# tool, size, C_ratio, C_factor, error (min, max, mean, std), endpoints error (min, max, mean, std)\n",
    "qfibdata= [['qfib(8bit)',    22.9,   96.881, 32.064, 0.0, 0.758, 0.058, 0.023, 0.0, 0.74,  0.038, 0.038],\n",
    "           ['qfib(16bit)',   44.24,  93.975, 16.597, 0.0, 0.019, 0.002, 0.001, 0.0, 0.017, 0.001, 0.001],\n",
    "           ['zfib/DIPY',     118.65, 83.839, 6.188,  0,   0,     0.0,   0.0,   0.0,   0,   0.0,   0.0  ],\n",
    "           ['TRAKO',         46.18,  93.71,  15.899, 0.0, 0.018, 0.01,  0.003, 0.0, 0.018, 0.01,  0.002],\n",
    "           ['TRAKO(Binary)', 34.63,  95.283, 21.199, 0.0, 0.018, 0.01,  0.003, 0.0, 0.018, 0.01,  0.002]]\n",
    "\n",
    "ISMRM2015= [['qfib(8bit)',   0.98, 94.103, 16.957,  0.0, 59.541, 11.686,6.327,  0.0,   59.522, 10.501,  10.501],\n",
    "            ['qfib(16bit)',  1.74, 89.465, 9.492,   0.0, 59.316, 11.61, 6.293,  0.0,   59.296, 10.443,  10.443],\n",
    "            ['zfib/DIPY',    8.69, 47.512, 1.905,   0.0, 0,      0.0,   0.0,    0.0,   0,      0.0,     0.0   ],\n",
    "            ['TRAKO',        1.46, 91.2,   11.364,  0.0, 0.233,  0.092, 0.027,  0.001, 0.229,  0.092,   0.015 ],\n",
    "            ['TRAKO(Binary)',1.09, 93.401, 15.154,  0.0, 0.233,  0.092, 0.027,  0.001, 0.229,  0.092,   0.015 ]]\n",
    "\n",
    "HCPsubset= [['qfib(8bit)',   0.01, 94.442, 17.992, 0.0,  18.687,  0.418, 0.251, 0.0,   18.687,  0.351, 0.351  ],\n",
    "            ['qfib(16bit)',  0.01, 91.362, 11.576, 0.0,  116.186, 0.456, 0.321, 0.0,   116.186, 0.451, 0.451  ],\n",
    "            ['zfib/DIPY',    0.08, 48.524, 1.943,  0.0,  0,       0.0,   0.0,   0.0,   0,       0.0,   0.0    ],\n",
    "            ['TRAKO',        0.01, 91.385, 11.608, 0.001,0.27,    0.097, 0.028, 0.005, 0.247,   0.097, 0.016  ],\n",
    "            ['TRAKO(Binary)',0.01, 91.731, 12.093, 0.001,0.27,    0.097, 0.028, 0.005, 0.247,   0.097, 0.016  ]]\n",
    "\n",
    "ADHDSingle=[['qfib(8bit)',   0.04, 96.38,  27.624, 0.0, 72.832,  1.762, 1.391, 0.0,   71.284, 1.496,  1.496  ],\n",
    "            ['qfib(16bit)',  0.08, 93.286, 14.895, 0.0, 120.936, 4.123, 3.119, 0.0,   120.936, 3.331, 3.331  ],\n",
    "            ['zfib/DIPY',    0.25, 80.058, 5.014,  0,   0,       0.0,   0.0,   0.0,   0,       0.0,   0.0    ],\n",
    "            ['TRAKO',        0.06, 95.349, 21.501, 0.0, 0.276,   0.08,  0.023, 0.001, 0.264,   0.079, 0.013  ],\n",
    "            ['TRAKO(Binary)',0.04, 96.523, 28.76,  0.0, 0.276,   0.08,  0.023, 0.001, 0.264,   0.079, 0.013  ]]\n",
    "\n",
    "Wholebrain=[['qfib(8bit)',   9.33,  95.01,  20.041,  0.0,   53.695, 0.452, 0.235, 0.0,   53.695, 0.282, 0.282],\n",
    "            ['qfib(16bit)',  14.68, 92.154, 12.746,  0.0,   53.381, 0.475, 0.375, 0.0,   53.381, 0.442, 0.442],\n",
    "            ['zfib/DIPY',    73.68, 60.616, 2.539,   0.0,   0,      0.0,   0.0,   0.0,   0,      0.0,   0.0  ],\n",
    "            ['TRAKO',        12.7,  93.213, 14.734,  0.001, 0.273,  0.152, 0.043, 0.005, 0.271,  0.152, 0.025],\n",
    "            ['TRAKO(Binary)',9.52,  94.91,  19.645,  0.001, 0.273,  0.152, 0.043, 0.005, 0.271,  0.152, 0.025]]"
   ]
  },
  {
   "cell_type": "code",
   "execution_count": 3,
   "metadata": {},
   "outputs": [],
   "source": [
    "label = ['qfibdata', 'ISMRM2015', 'HCPsubset', 'ADHDSingle', 'Wholebrain']"
   ]
  },
  {
   "cell_type": "code",
   "execution_count": 4,
   "metadata": {},
   "outputs": [
    {
     "data": {
      "text/plain": [
       "<Figure size 1440x1440 with 0 Axes>"
      ]
     },
     "metadata": {},
     "output_type": "display_data"
    },
    {
     "data": {
      "image/png": "[encoded data removed]",
      "text/plain": [
       "<Figure size 432x288 with 1 Axes>"
      ]
     },
     "metadata": {
      "needs_background": "light"
     },
     "output_type": "display_data"
    }
   ],
   "source": [
    "# Compression factor\n",
    "\n",
    "plt.figure(figsize=(20,20))\n",
    "# x-coordinates of left sides of bars  \n",
    "left = np.array([1, 2, 3, 4, 5])\n",
    "  \n",
    "# heights of bars \n",
    "c = 3\n",
    "r = 0\n",
    "block1 = [qfibdata[r][c], ISMRM2015[r][c], HCPsubset[r][c], ADHDSingle[r][c], Wholebrain[r][c]]\n",
    "r = 1\n",
    "block2 = [qfibdata[r][c], ISMRM2015[r][c], HCPsubset[r][c], ADHDSingle[r][c], Wholebrain[r][c]]\n",
    "r = 2\n",
    "block3 = [qfibdata[r][c], ISMRM2015[r][c], HCPsubset[r][c], ADHDSingle[r][c], Wholebrain[r][c]]\n",
    "r = 3\n",
    "block4 = [qfibdata[r][c], ISMRM2015[r][c], HCPsubset[r][c], ADHDSingle[r][c], Wholebrain[r][c]]\n",
    "r = 4\n",
    "block5 = [qfibdata[r][c], ISMRM2015[r][c], HCPsubset[r][c], ADHDSingle[r][c], Wholebrain[r][c]]\n",
    "\n",
    "# labels for bars \n",
    "tick_label = label\n",
    "  \n",
    "# plotting a bar chart\n",
    "w = 0.1\n",
    "\n",
    "fig, ax=plt.subplots()\n",
    "ax.bar(left, block1, tick_label = tick_label, width = w, color = ['#dcdcdc'])\n",
    "ax.bar(left + w, block2, width = w, color = ['#a9a9a9'])\n",
    "ax.bar(left + w * 2, block3, width = w, color = ['#666666'])\n",
    "ax.bar(left + w * 3, block4, width = w, color = ['#dc133b'])\n",
    "ax.bar(left + w * 4, block5, width = w, color = ['#cd5c5c'])\n",
    "\n",
    "# naming the x-axis\n",
    "plt.xlabel('Datasets') \n",
    "# naming the y-axis \n",
    "plt.ylabel('Compression Factor') \n",
    "\n",
    "leg = plt.legend(('qfib(8bit)', 'qfib(16bit)','zfib/DIPY', 'TRAKO', 'TRAKO (Binary)'), loc='upper left')\n",
    "\n",
    "frm = leg.get_frame()\n",
    "frm.set_edgecolor('#ffffff')\n",
    "frm.set_facecolor('#ffffff')\n",
    "\n",
    "\n",
    "font = {\n",
    "    'family': 'sans-serif',\n",
    "    'size': 9\n",
    "}\n",
    "plt.rc('font', **font)\n",
    "\n",
    "# function to show the plot \n",
    "plt.show() \n",
    "fig.savefig('compressionfactor.pdf', dpi = 300, bbox_inches='tight')"
   ]
  },
  {
   "cell_type": "code",
   "execution_count": 5,
   "metadata": {},
   "outputs": [
    {
     "data": {
      "text/plain": [
       "<Figure size 1440x1440 with 0 Axes>"
      ]
     },
     "metadata": {},
     "output_type": "display_data"
    },
    {
     "data": {
      "image/png": "[encoded data removed]",
      "text/plain": [
       "<Figure size 432x288 with 1 Axes>"
      ]
     },
     "metadata": {
      "needs_background": "light"
     },
     "output_type": "display_data"
    }
   ],
   "source": [
    "# Mean Error\n",
    "\n",
    "plt.figure(figsize=(20,20))\n",
    "# x-coordinates of left sides of bars  \n",
    "left = np.array([1, 2, 3, 4, 5])\n",
    "  \n",
    "# heights of bars \n",
    "c = 7\n",
    "r = 0\n",
    "block1 = [qfibdata[r][c], ISMRM2015[r][c], HCPsubset[r][c], ADHDSingle[r][c], Wholebrain[r][c]]\n",
    "block1_error= [qfibdata[r][8], ISMRM2015[r][8], HCPsubset[r][8], ADHDSingle[r][8], Wholebrain[r][8]]\n",
    "r = 1\n",
    "block2 = [qfibdata[r][c], ISMRM2015[r][c], HCPsubset[r][c], ADHDSingle[r][c], Wholebrain[r][c]]\n",
    "block2_error= [qfibdata[r][8], ISMRM2015[r][8], HCPsubset[r][8], ADHDSingle[r][8], Wholebrain[r][8]]\n",
    "r = 2\n",
    "block3 = [qfibdata[r][c], ISMRM2015[r][c], HCPsubset[r][c], ADHDSingle[r][c], Wholebrain[r][c]]\n",
    "block3_error= [qfibdata[r][8], ISMRM2015[r][8], HCPsubset[r][8], ADHDSingle[r][8], Wholebrain[r][8]]\n",
    "r = 3\n",
    "block4 = [qfibdata[r][c], ISMRM2015[r][c], HCPsubset[r][c], ADHDSingle[r][c], Wholebrain[r][c]]\n",
    "block4_error= [qfibdata[r][8], ISMRM2015[r][8], HCPsubset[r][8], ADHDSingle[r][8], Wholebrain[r][8]]\n",
    "r = 4\n",
    "block5 = [qfibdata[r][c], ISMRM2015[r][c], HCPsubset[r][c], ADHDSingle[r][c], Wholebrain[r][c]]\n",
    "block5_error= [qfibdata[r][8], ISMRM2015[r][8], HCPsubset[r][8], ADHDSingle[r][8], Wholebrain[r][8]]\n",
    "\n",
    "# labels for bars \n",
    "tick_label = label\n",
    "  \n",
    "# plotting a bar chart\n",
    "w = 0.1\n",
    "\n",
    "fig, ax=plt.subplots()\n",
    "ax.bar(left, block1, yerr=block1_error, tick_label = tick_label, width = w, color = ['#dcdcdc'])\n",
    "ax.bar(left + w, block2, yerr=block2_error, width = w, color = ['#a9a9a9'])\n",
    "ax.bar(left + w * 2, block3, yerr=block3_error, width = w, color = ['#666666'])\n",
    "ax.bar(left + w * 3, block4, yerr=block4_error, width = w, color = ['#dc133b'])\n",
    "ax.bar(left + w * 4, block5, yerr=block5_error, width = w, color = ['#cd5c5c'])\n",
    "\n",
    "# naming the x-axis\n",
    "plt.xlabel('Datasets') \n",
    "# naming the y-axis \n",
    "plt.ylabel('Mean Error with Standard Deviation')\n",
    "plt.ylim(0,0.5)\n",
    "\n",
    "leg = plt.legend(('qfib(8bit)', 'qfib(16bit)','zfib/DIPY', 'TRAKO', 'TRAKO (Binary)'), loc='upper left')\n",
    "\n",
    "frm = leg.get_frame()\n",
    "frm.set_edgecolor('#ffffff')\n",
    "frm.set_facecolor('#ffffff')\n",
    "\n",
    "\n",
    "font = {\n",
    "    'family': 'sans-serif',\n",
    "    'size': 9\n",
    "}\n",
    "plt.rc('font', **font)\n",
    "\n",
    "# function to show the plot \n",
    "plt.show() \n",
    "fig.savefig('mean_error.pdf', dpi = 300, bbox_inches='tight')"
   ]
  },
  {
   "cell_type": "code",
   "execution_count": 7,
   "metadata": {},
   "outputs": [
    {
     "data": {
      "text/plain": [
       "<Figure size 1440x1440 with 0 Axes>"
      ]
     },
     "metadata": {},
     "output_type": "display_data"
    },
    {
     "data": {
      "image/png": "[encoded data removed]",
      "text/plain": [
       "<Figure size 432x288 with 1 Axes>"
      ]
     },
     "metadata": {
      "needs_background": "light"
     },
     "output_type": "display_data"
    }
   ],
   "source": [
    "# Mean Endpoint Error\n",
    "\n",
    "plt.figure(figsize=(20,20))\n",
    "# x-coordinates of left sides of bars  \n",
    "left = np.array([1, 2, 3, 4, 5])\n",
    "  \n",
    "# heights of bars \n",
    "c = 10\n",
    "r = 0\n",
    "block1 = [qfibdata[r][c], ISMRM2015[r][c], HCPsubset[r][c], ADHDSingle[r][c], Wholebrain[r][c]]\n",
    "block1_error= [qfibdata[r][11], ISMRM2015[r][11], HCPsubset[r][11], ADHDSingle[r][11], Wholebrain[r][11]]\n",
    "r = 1\n",
    "block2 = [qfibdata[r][c], ISMRM2015[r][c], HCPsubset[r][c], ADHDSingle[r][c], Wholebrain[r][c]]\n",
    "block2_error= [qfibdata[r][11], ISMRM2015[r][11], HCPsubset[r][11], ADHDSingle[r][11], Wholebrain[r][11]]\n",
    "r = 2\n",
    "block3 = [qfibdata[r][c], ISMRM2015[r][c], HCPsubset[r][c], ADHDSingle[r][c], Wholebrain[r][c]]\n",
    "block3_error= [qfibdata[r][11], ISMRM2015[r][11], HCPsubset[r][11], ADHDSingle[r][11], Wholebrain[r][11]]\n",
    "r = 3\n",
    "block4 = [qfibdata[r][c], ISMRM2015[r][c], HCPsubset[r][c], ADHDSingle[r][c], Wholebrain[r][c]]\n",
    "block4_error= [qfibdata[r][11], ISMRM2015[r][11], HCPsubset[r][11], ADHDSingle[r][11], Wholebrain[r][11]]\n",
    "r = 4\n",
    "block5 = [qfibdata[r][c], ISMRM2015[r][c], HCPsubset[r][c], ADHDSingle[r][c], Wholebrain[r][c]]\n",
    "block5_error= [qfibdata[r][11], ISMRM2015[r][11], HCPsubset[r][11], ADHDSingle[r][11], Wholebrain[r][11]]\n",
    "\n",
    "# labels for bars \n",
    "tick_label = label\n",
    "  \n",
    "# plotting a bar chart\n",
    "w = 0.1\n",
    "\n",
    "fig, ax=plt.subplots()\n",
    "ax.bar(left, block1, yerr=block1_error, tick_label = tick_label, width = w, color = ['#dcdcdc'])\n",
    "ax.bar(left + w, block2, yerr=block2_error, width = w, color = ['#a9a9a9'])\n",
    "ax.bar(left + w * 2, block3, yerr=block3_error, width = w, color = ['#666666'])\n",
    "ax.bar(left + w * 3, block4, yerr=block4_error, width = w, color = ['#dc133b'])\n",
    "ax.bar(left + w * 4, block5, yerr=block5_error, width = w, color = ['#cd5c5c'])\n",
    "\n",
    "# naming the x-axis\n",
    "plt.xlabel('Datasets') \n",
    "# naming the y-axis \n",
    "plt.ylabel('Mean Endpoint Error with Standard Deviation')\n",
    "plt.ylim(0,1)\n",
    "\n",
    "leg = plt.legend(('qfib(8bit)', 'qfib(16bit)','zfib/DIPY', 'TRAKO', 'TRAKO (Binary)'), loc='upper left')\n",
    "\n",
    "frm = leg.get_frame()\n",
    "frm.set_edgecolor('#ffffff')\n",
    "frm.set_facecolor('#ffffff')\n",
    "\n",
    "\n",
    "font = {\n",
    "    'family': 'sans-serif',\n",
    "    'size': 9\n",
    "}\n",
    "plt.rc('font', **font)\n",
    "\n",
    "# function to show the plot \n",
    "plt.show() \n",
    "fig.savefig('endpoint_mean_error.pdf', dpi = 300, bbox_inches='tight')"
   ]
  },
  {
   "cell_type": "code",
   "execution_count": null,
   "metadata": {},
   "outputs": [],
   "source": []
  }
 ],
 "metadata": {
  "kernelspec": {
   "display_name": "Python 3",
   "language": "python",
   "name": "python3"
  },
  "language_info": {
   "codemirror_mode": {
    "name": "ipython",
    "version": 3
   },
   "file_extension": ".py",
   "mimetype": "text/x-python",
   "name": "python",
   "nbconvert_exporter": "python",
   "pygments_lexer": "ipython3",
   "version": "3.7.1"
  }
 },
 "nbformat": 4,
 "nbformat_minor": 2
}
